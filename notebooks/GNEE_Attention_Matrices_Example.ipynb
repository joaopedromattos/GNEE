{
  "nbformat": 4,
  "nbformat_minor": 0,
  "metadata": {
    "colab": {
      "name": "GAT - Attention Matrices Example.ipynb",
      "provenance": [],
      "collapsed_sections": [],
      "toc_visible": true
    },
    "kernelspec": {
      "name": "python3",
      "display_name": "Python 3"
    }
  },
  "cells": [
    {
      "cell_type": "markdown",
      "metadata": {
        "id": "DNq4clhCly9v"
      },
      "source": [
        "# GNEE Neural Event Embedding"
      ]
    },
    {
      "cell_type": "markdown",
      "metadata": {
        "id": "hs6EH6Ufysax"
      },
      "source": [
        "## Installing our libraries and required scripts"
      ]
    },
    {
      "cell_type": "code",
      "metadata": {
        "id": "4EuLsjGYmA8w",
        "colab": {
          "base_uri": "https://localhost:8080/"
        },
        "outputId": "50675f3d-925d-46a0-dc08-12ac71412f0f"
      },
      "source": [
        "!git clone https://github.com/joaopedromattos/pyGAT\n",
        "!pip install --quiet spektral"
      ],
      "execution_count": 1,
      "outputs": [
        {
          "output_type": "stream",
          "text": [
            "Cloning into 'pyGAT'...\n",
            "remote: Enumerating objects: 213, done.\u001b[K\n",
            "remote: Total 213 (delta 0), reused 0 (delta 0), pack-reused 213\u001b[K\n",
            "Receiving objects: 100% (213/213), 324.96 KiB | 543.00 KiB/s, done.\n",
            "Resolving deltas: 100% (117/117), done.\n",
            "\u001b[K     |████████████████████████████████| 122kB 5.8MB/s \n",
            "\u001b[?25h"
          ],
          "name": "stdout"
        }
      ]
    },
    {
      "cell_type": "code",
      "metadata": {
        "colab": {
          "base_uri": "https://localhost:8080/"
        },
        "id": "P7J27uDAZzVj",
        "outputId": "f81e6bf3-c50b-4f3f-9151-3225cd535105"
      },
      "source": [
        "!pip install sentence_transformers"
      ],
      "execution_count": 2,
      "outputs": [
        {
          "output_type": "stream",
          "text": [
            "Collecting sentence_transformers\n",
            "\u001b[?25l  Downloading https://files.pythonhosted.org/packages/6a/e2/84d6acfcee2d83164149778a33b6bdd1a74e1bcb59b2b2cd1b861359b339/sentence-transformers-0.4.1.2.tar.gz (64kB)\n",
            "\u001b[K     |████████████████████████████████| 71kB 3.2MB/s \n",
            "\u001b[?25hCollecting transformers<5.0.0,>=3.1.0\n",
            "\u001b[?25l  Downloading https://files.pythonhosted.org/packages/98/87/ef312eef26f5cecd8b17ae9654cdd8d1fae1eb6dbd87257d6d73c128a4d0/transformers-4.3.2-py3-none-any.whl (1.8MB)\n",
            "\u001b[K     |████████████████████████████████| 1.8MB 8.5MB/s \n",
            "\u001b[?25hRequirement already satisfied: tqdm in /usr/local/lib/python3.6/dist-packages (from sentence_transformers) (4.41.1)\n",
            "Requirement already satisfied: torch>=1.6.0 in /usr/local/lib/python3.6/dist-packages (from sentence_transformers) (1.7.0+cu101)\n",
            "Requirement already satisfied: numpy in /usr/local/lib/python3.6/dist-packages (from sentence_transformers) (1.19.5)\n",
            "Requirement already satisfied: scikit-learn in /usr/local/lib/python3.6/dist-packages (from sentence_transformers) (0.22.2.post1)\n",
            "Requirement already satisfied: scipy in /usr/local/lib/python3.6/dist-packages (from sentence_transformers) (1.4.1)\n",
            "Requirement already satisfied: nltk in /usr/local/lib/python3.6/dist-packages (from sentence_transformers) (3.2.5)\n",
            "Collecting sentencepiece\n",
            "\u001b[?25l  Downloading https://files.pythonhosted.org/packages/14/67/e42bd1181472c95c8cda79305df848264f2a7f62740995a46945d9797b67/sentencepiece-0.1.95-cp36-cp36m-manylinux2014_x86_64.whl (1.2MB)\n",
            "\u001b[K     |████████████████████████████████| 1.2MB 42.7MB/s \n",
            "\u001b[?25hRequirement already satisfied: packaging in /usr/local/lib/python3.6/dist-packages (from transformers<5.0.0,>=3.1.0->sentence_transformers) (20.9)\n",
            "Requirement already satisfied: requests in /usr/local/lib/python3.6/dist-packages (from transformers<5.0.0,>=3.1.0->sentence_transformers) (2.23.0)\n",
            "Requirement already satisfied: dataclasses; python_version < \"3.7\" in /usr/local/lib/python3.6/dist-packages (from transformers<5.0.0,>=3.1.0->sentence_transformers) (0.8)\n",
            "Requirement already satisfied: regex!=2019.12.17 in /usr/local/lib/python3.6/dist-packages (from transformers<5.0.0,>=3.1.0->sentence_transformers) (2019.12.20)\n",
            "Collecting sacremoses\n",
            "\u001b[?25l  Downloading https://files.pythonhosted.org/packages/7d/34/09d19aff26edcc8eb2a01bed8e98f13a1537005d31e95233fd48216eed10/sacremoses-0.0.43.tar.gz (883kB)\n",
            "\u001b[K     |████████████████████████████████| 890kB 43.0MB/s \n",
            "\u001b[?25hCollecting tokenizers<0.11,>=0.10.1\n",
            "\u001b[?25l  Downloading https://files.pythonhosted.org/packages/fd/5b/44baae602e0a30bcc53fbdbc60bd940c15e143d252d658dfdefce736ece5/tokenizers-0.10.1-cp36-cp36m-manylinux2010_x86_64.whl (3.2MB)\n",
            "\u001b[K     |████████████████████████████████| 3.2MB 44.3MB/s \n",
            "\u001b[?25hRequirement already satisfied: importlib-metadata; python_version < \"3.8\" in /usr/local/lib/python3.6/dist-packages (from transformers<5.0.0,>=3.1.0->sentence_transformers) (3.4.0)\n",
            "Requirement already satisfied: filelock in /usr/local/lib/python3.6/dist-packages (from transformers<5.0.0,>=3.1.0->sentence_transformers) (3.0.12)\n",
            "Requirement already satisfied: typing-extensions in /usr/local/lib/python3.6/dist-packages (from torch>=1.6.0->sentence_transformers) (3.7.4.3)\n",
            "Requirement already satisfied: future in /usr/local/lib/python3.6/dist-packages (from torch>=1.6.0->sentence_transformers) (0.16.0)\n",
            "Requirement already satisfied: joblib>=0.11 in /usr/local/lib/python3.6/dist-packages (from scikit-learn->sentence_transformers) (1.0.0)\n",
            "Requirement already satisfied: six in /usr/local/lib/python3.6/dist-packages (from nltk->sentence_transformers) (1.15.0)\n",
            "Requirement already satisfied: pyparsing>=2.0.2 in /usr/local/lib/python3.6/dist-packages (from packaging->transformers<5.0.0,>=3.1.0->sentence_transformers) (2.4.7)\n",
            "Requirement already satisfied: certifi>=2017.4.17 in /usr/local/lib/python3.6/dist-packages (from requests->transformers<5.0.0,>=3.1.0->sentence_transformers) (2020.12.5)\n",
            "Requirement already satisfied: urllib3!=1.25.0,!=1.25.1,<1.26,>=1.21.1 in /usr/local/lib/python3.6/dist-packages (from requests->transformers<5.0.0,>=3.1.0->sentence_transformers) (1.24.3)\n",
            "Requirement already satisfied: chardet<4,>=3.0.2 in /usr/local/lib/python3.6/dist-packages (from requests->transformers<5.0.0,>=3.1.0->sentence_transformers) (3.0.4)\n",
            "Requirement already satisfied: idna<3,>=2.5 in /usr/local/lib/python3.6/dist-packages (from requests->transformers<5.0.0,>=3.1.0->sentence_transformers) (2.10)\n",
            "Requirement already satisfied: click in /usr/local/lib/python3.6/dist-packages (from sacremoses->transformers<5.0.0,>=3.1.0->sentence_transformers) (7.1.2)\n",
            "Requirement already satisfied: zipp>=0.5 in /usr/local/lib/python3.6/dist-packages (from importlib-metadata; python_version < \"3.8\"->transformers<5.0.0,>=3.1.0->sentence_transformers) (3.4.0)\n",
            "Building wheels for collected packages: sentence-transformers, sacremoses\n",
            "  Building wheel for sentence-transformers (setup.py) ... \u001b[?25l\u001b[?25hdone\n",
            "  Created wheel for sentence-transformers: filename=sentence_transformers-0.4.1.2-cp36-none-any.whl size=103068 sha256=3a7a42d3494057ae3bb493da61f325a7b9e34b3d33ada2821e61316b3b73b128\n",
            "  Stored in directory: /root/.cache/pip/wheels/3d/33/d1/5703dd56199c09d4a1b41e0c07fb4e7765a84d787cbdc48ac3\n",
            "  Building wheel for sacremoses (setup.py) ... \u001b[?25l\u001b[?25hdone\n",
            "  Created wheel for sacremoses: filename=sacremoses-0.0.43-cp36-none-any.whl size=893261 sha256=0ab2afa6f782787c29906510b9d713852b5b613a970b960c5e7f26daf7429134\n",
            "  Stored in directory: /root/.cache/pip/wheels/29/3c/fd/7ce5c3f0666dab31a50123635e6fb5e19ceb42ce38d4e58f45\n",
            "Successfully built sentence-transformers sacremoses\n",
            "Installing collected packages: sacremoses, tokenizers, transformers, sentencepiece, sentence-transformers\n",
            "Successfully installed sacremoses-0.0.43 sentence-transformers-0.4.1.2 sentencepiece-0.1.95 tokenizers-0.10.1 transformers-4.3.2\n"
          ],
          "name": "stdout"
        }
      ]
    },
    {
      "cell_type": "code",
      "metadata": {
        "id": "7djUzxZiokMc"
      },
      "source": [
        "import os\n",
        "\n",
        "os.chdir('./pyGAT')"
      ],
      "execution_count": 3,
      "outputs": []
    },
    {
      "cell_type": "code",
      "metadata": {
        "id": "IjRxJgFJmK0r"
      },
      "source": [
        "import networkx as nx\n",
        "from tqdm import tqdm\n",
        "import pandas as pd\n",
        "from google.colab import auth\n",
        "from google.cloud import bigquery\n",
        "from google.cloud import bigquery_storage\n",
        "import numpy as np\n",
        "import logging\n",
        "from sklearn.preprocessing import OneHotEncoder, MultiLabelBinarizer, LabelEncoder\n",
        "from event_graph_utils import mount_graph, regularization, process_event_dataset_from_networkx\n",
        "\n",
        "# auth.authenticate_user()\n",
        "# print('Authenticated')"
      ],
      "execution_count": 4,
      "outputs": []
    },
    {
      "cell_type": "markdown",
      "metadata": {
        "id": "r5-euv7HvyYd"
      },
      "source": [
        "# Graph Example"
      ]
    },
    {
      "cell_type": "markdown",
      "metadata": {
        "id": "Wn3karazY0i0"
      },
      "source": [
        "![Toy Example](data:image/png;base64,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)\r\n"
      ]
    },
    {
      "cell_type": "code",
      "metadata": {
        "id": "qysvvsEI5xMQ"
      },
      "source": [
        "edges = '''1;9\r\n",
        "1;13\r\n",
        "1;10\r\n",
        "2;9\r\n",
        "2;14\r\n",
        "3;9\r\n",
        "3;10\r\n",
        "3;14\r\n",
        "4;10\r\n",
        "4;14\r\n",
        "5;11\r\n",
        "5;12\r\n",
        "5;14\r\n",
        "6;11\r\n",
        "6;13\r\n",
        "7;11\r\n",
        "7;12\r\n",
        "7;13\r\n",
        "8;12\r\n",
        "8;13'''.split(\"\\n\");\r\n",
        "G = nx.Graph()\r\n",
        "for e in edges:\r\n",
        "  e= e.split(';')\r\n",
        "  G.add_edge(e[0],e[1])"
      ],
      "execution_count": 5,
      "outputs": []
    },
    {
      "cell_type": "code",
      "metadata": {
        "id": "fcsmUx5ajvsw"
      },
      "source": [
        "G.nodes['1']['label'] = 'a'\r\n",
        "G.nodes['1']['train'] = '1'\r\n",
        "G.nodes['1']['label'] = 'a'\r\n",
        "G.nodes['1']['test'] = '1'\r\n",
        "\r\n",
        "G.nodes['5']['label'] = 'b'\r\n",
        "G.nodes['5']['train'] = '1'\r\n",
        "G.nodes['5']['label'] = 'b'\r\n",
        "G.nodes['5']['test'] = '1'"
      ],
      "execution_count": 6,
      "outputs": []
    },
    {
      "cell_type": "code",
      "metadata": {
        "colab": {
          "base_uri": "https://localhost:8080/"
        },
        "id": "wTAqLC3mizE-",
        "outputId": "4824936f-16e8-40dd-c84a-4c92cba23beb"
      },
      "source": [
        "for e in G.edges():\r\n",
        "  print(e)"
      ],
      "execution_count": 7,
      "outputs": [
        {
          "output_type": "stream",
          "text": [
            "('1', '9')\n",
            "('1', '13')\n",
            "('1', '10')\n",
            "('9', '2')\n",
            "('9', '3')\n",
            "('13', '6')\n",
            "('13', '7')\n",
            "('13', '8')\n",
            "('10', '3')\n",
            "('10', '4')\n",
            "('2', '14')\n",
            "('14', '3')\n",
            "('14', '4')\n",
            "('14', '5')\n",
            "('5', '11')\n",
            "('5', '12')\n",
            "('11', '6')\n",
            "('11', '7')\n",
            "('12', '7')\n",
            "('12', '8')\n"
          ],
          "name": "stdout"
        }
      ]
    },
    {
      "cell_type": "code",
      "metadata": {
        "id": "NsPfvYAvjbAl"
      },
      "source": [
        "for node in G.nodes():\r\n",
        "  G.nodes[node]['id'] = int(node)-1"
      ],
      "execution_count": 8,
      "outputs": []
    },
    {
      "cell_type": "code",
      "metadata": {
        "id": "J99z9VWfjBei"
      },
      "source": [
        "import numpy as np\r\n",
        "from tqdm.notebook import tqdm\r\n",
        "import random\r\n",
        "import networkx as nx\r\n",
        "\r\n",
        "\r\n",
        "def features_by_adj(G):\r\n",
        "\r\n",
        "    nodes = []\r\n",
        "\r\n",
        "    for node in G.nodes():\r\n",
        "        nodes.append(node)\r\n",
        "\r\n",
        "    adj_matrix = nx.adjacency_matrix(G, nodelist=nodes).todense()\r\n",
        "\r\n",
        "    counter = 0\r\n",
        "    for node in nodes:\r\n",
        "      G.nodes[node]['f'] = np.array(adj_matrix[counter].tolist()[0])\r\n",
        "      counter += 1\r\n",
        "\r\n",
        "    return G"
      ],
      "execution_count": 9,
      "outputs": []
    },
    {
      "cell_type": "code",
      "metadata": {
        "colab": {
          "base_uri": "https://localhost:8080/"
        },
        "id": "zzixoPCOjDjp",
        "outputId": "5f22e205-6f45-4881-9b90-e838f6eefe5c"
      },
      "source": [
        "features_by_adj(G)\r\n",
        "\r\n",
        "for n in G.nodes(data=True):\r\n",
        "  print(n)"
      ],
      "execution_count": 10,
      "outputs": [
        {
          "output_type": "stream",
          "text": [
            "('1', {'label': 'a', 'train': '1', 'test': '1', 'id': 0, 'f': array([0, 1, 1, 1, 0, 0, 0, 0, 0, 0, 0, 0, 0, 0])})\n",
            "('9', {'id': 8, 'f': array([1, 0, 0, 0, 1, 0, 1, 0, 0, 0, 0, 0, 0, 0])})\n",
            "('13', {'id': 12, 'f': array([1, 0, 0, 0, 0, 0, 0, 0, 0, 0, 0, 1, 1, 1])})\n",
            "('10', {'id': 9, 'f': array([1, 0, 0, 0, 0, 0, 1, 1, 0, 0, 0, 0, 0, 0])})\n",
            "('2', {'id': 1, 'f': array([0, 1, 0, 0, 0, 1, 0, 0, 0, 0, 0, 0, 0, 0])})\n",
            "('14', {'id': 13, 'f': array([0, 0, 0, 0, 1, 0, 1, 1, 1, 0, 0, 0, 0, 0])})\n",
            "('3', {'id': 2, 'f': array([0, 1, 0, 1, 0, 1, 0, 0, 0, 0, 0, 0, 0, 0])})\n",
            "('4', {'id': 3, 'f': array([0, 0, 0, 1, 0, 1, 0, 0, 0, 0, 0, 0, 0, 0])})\n",
            "('5', {'label': 'b', 'train': '1', 'test': '1', 'id': 4, 'f': array([0, 0, 0, 0, 0, 1, 0, 0, 0, 1, 1, 0, 0, 0])})\n",
            "('11', {'id': 10, 'f': array([0, 0, 0, 0, 0, 0, 0, 0, 1, 0, 0, 1, 1, 0])})\n",
            "('12', {'id': 11, 'f': array([0, 0, 0, 0, 0, 0, 0, 0, 1, 0, 0, 0, 1, 1])})\n",
            "('6', {'id': 5, 'f': array([0, 0, 1, 0, 0, 0, 0, 0, 0, 1, 0, 0, 0, 0])})\n",
            "('7', {'id': 6, 'f': array([0, 0, 1, 0, 0, 0, 0, 0, 0, 1, 1, 0, 0, 0])})\n",
            "('8', {'id': 7, 'f': array([0, 0, 1, 0, 0, 0, 0, 0, 0, 0, 1, 0, 0, 0])})\n"
          ],
          "name": "stdout"
        }
      ]
    },
    {
      "cell_type": "code",
      "metadata": {
        "id": "w5uOBWeVnaKG"
      },
      "source": [
        "import numpy as np\n",
        "import networkx as nx\n",
        "import random\n",
        "from tqdm.notebook import tqdm\n",
        "import pandas as pd\n",
        "from sklearn.preprocessing import OneHotEncoder\n",
        "import logging\n",
        "from sklearn.preprocessing import OneHotEncoder, MultiLabelBinarizer, LabelEncoder\n",
        "from sklearn.model_selection import train_test_split\n",
        "\n",
        "\n",
        "def process_event_dataset_from_networkx(G, features_attr=\"f\"):\n",
        "    \"\"\"\n",
        "    Builds an event graph dataset used in GAT model\n",
        "    Parameters:\n",
        "        G -> Graph representation of the event network (Networkx graph)\n",
        "        df_labels -> user labeled data\n",
        "        features_att -> Feature attribute of each node (str)\n",
        "        random_state -> A random seed to train_test_split\n",
        "    Returns:\n",
        "        adj -> Sparse and symmetric adjacency matrix of our graph.\n",
        "        features -> A NumPy matrix with our graph features.\n",
        "        idx_train -> A NumPy array with the indexes of the training nodes.\n",
        "        idx_val -> A NumPy array with the indexes of the validation nodes.\n",
        "        idx_test -> A NumPy array with the indexes of the test nodes.\n",
        "    \"\"\"\n",
        "\n",
        "    num_nodes = len(G.nodes)\n",
        "\n",
        "    # Organizing our feature matrix...\n",
        "    L_features = []\n",
        "    L_train = []\n",
        "    L_test = []\n",
        "    L_labels = []\n",
        "    label_codes = {}\n",
        "    for node in G.nodes():\n",
        "      L_features.append( (G.nodes[node]['id'], G.nodes[node]['f']) )\n",
        "      if 'train' in G.nodes[node]: L_train.append(G.nodes[node]['id'])\n",
        "      if 'test' in G.nodes[node]: L_test.append(G.nodes[node]['id'])\n",
        "      if 'label' in G.nodes[node]:\n",
        "        if G.nodes[node]['label'] not in label_codes: label_codes[G.nodes[node]['label']] = len(label_codes) \n",
        "        L_labels.append( [G.nodes[node]['id'],G.nodes[node]['label'],label_codes[G.nodes[node]['label']]] )\n",
        "    df_features = pd.DataFrame(L_features)\n",
        "    df_features.columns = ['node_id','embedding']\n",
        "    features = np.array(df_features.sort_values(by=['node_id'])['embedding'].to_list())\n",
        "\n",
        "    idx_train = L_train\n",
        "    idx_test = L_test\n",
        "    labels = [-1]*num_nodes\n",
        "    df_labels = pd.DataFrame(L_labels)\n",
        "    df_labels.columns = ['event_id','label','label_code']\n",
        "    for index,row in df_labels.iterrows():\n",
        "      labels[row['event_id']] = row['label_code']\n",
        "\n",
        "    adj = nx.adjacency_matrix(G)\n",
        "\n",
        "    return adj, features, labels, idx_train, idx_test, df_labels"
      ],
      "execution_count": 11,
      "outputs": []
    },
    {
      "cell_type": "markdown",
      "metadata": {
        "id": "GRFC2tNBwBpR"
      },
      "source": [
        "# Training"
      ]
    },
    {
      "cell_type": "code",
      "metadata": {
        "id": "WBZoIrwm0mbZ"
      },
      "source": [
        "from __future__ import division\n",
        "from __future__ import print_function\n",
        "\n",
        "import os\n",
        "import glob\n",
        "import time\n",
        "import random\n",
        "import argparse\n",
        "import numpy as np\n",
        "import torch\n",
        "import torch.nn as nn\n",
        "import torch.nn.functional as F\n",
        "import torch.optim as optim\n",
        "from torch.autograd import Variable\n",
        "import scipy.sparse as sp\n",
        "\n",
        "\n",
        "from models import GAT, SpGAT\n",
        "\n",
        "\n",
        "def accuracy(output, labels):\n",
        "    preds = output.max(1)[1].type_as(labels)\n",
        "    correct = preds.eq(labels).double()\n",
        "    correct = correct.sum()\n",
        "    return correct / len(labels)\n",
        "\n",
        "\n",
        "def normalize_adj(mx):\n",
        "    \"\"\"Row-normalize sparse matrix\"\"\"\n",
        "    rowsum = np.array(mx.sum(1))\n",
        "    r_inv_sqrt = np.power(rowsum, -0.5).flatten()\n",
        "    r_inv_sqrt[np.isinf(r_inv_sqrt)] = 0.\n",
        "    r_mat_inv_sqrt = sp.diags(r_inv_sqrt)\n",
        "    return mx.dot(r_mat_inv_sqrt).transpose().dot(r_mat_inv_sqrt)\n",
        "\n",
        "class Namespace(object):\n",
        "    def __init__(self, adict):\n",
        "        self.__dict__.update(adict)\n",
        "\n",
        "class GAT_wrapper():\n",
        "    def __init__(self, args={\"alpha\": 0.2, \"cuda\": True, \"dropout\": 0.6, \"epochs\": 10, \"fastmode\": False, \"hidden\": 8, \"lr\": 0.005, \"nb_heads\": 8, \"no_cuda\": False, \"patience\": 100, \"seed\": 72, \"sparse\": False, \"weight_decay\": 0.0005}):\n",
        "\n",
        "        if (type(args) == dict):\n",
        "            args = Namespace(args)\n",
        "\n",
        "        self.args = args\n",
        "\n",
        "        self.model = None\n",
        "\n",
        "        self.loss_test = 0.0\n",
        "        self.acc_test = 0.0\n",
        "\n",
        "        self.adj = None\n",
        "        self.features = None\n",
        "        self.labels = None\n",
        "        self.idx_train = None\n",
        "        self.idx_val = None\n",
        "        self.idx_test = None\n",
        "\n",
        "    def compute_test(self):\n",
        "        self.model.eval()\n",
        "        output = self.model(self.features, self.adj)\n",
        "        loss_test = F.nll_loss(\n",
        "            output[self.idx_test], self.labels[self.idx_test])\n",
        "        acc_test = accuracy(output[self.idx_test], self.labels[self.idx_test])\n",
        "        print(\"Test set results:\",\n",
        "              \"loss= {:.4f}\".format(loss_test.item()),\n",
        "              \"accuracy= {:.4f}\".format(acc_test.item()))\n",
        "\n",
        "        self.loss_test = loss_test\n",
        "        self.acc_test = acc_test\n",
        "\n",
        "        return loss_test, acc_test, output[self.idx_test].max(1)[1]\n",
        "\n",
        "    def train_pipeline(self, adj, features, labels, idx_train, idx_val, idx_test, *args):\n",
        "\n",
        "        adj = normalize_adj(adj + sp.eye(adj.shape[0]))\n",
        "\n",
        "        if (sp.issparse(adj)):\n",
        "            adj = adj.todense()\n",
        "\n",
        "        if (sp.issparse(features)):\n",
        "            features = features.todense()\n",
        "\n",
        "        # With networkx, we no longer need to convert from one-hot encoding...\n",
        "        #labels = np.where(labels)[1]\n",
        "\n",
        "        adj = torch.FloatTensor(adj)\n",
        "        features = torch.FloatTensor(features)\n",
        "        labels = torch.LongTensor(labels)\n",
        "        idx_train = torch.LongTensor(idx_train)\n",
        "        idx_val = torch.LongTensor(idx_val)\n",
        "        idx_test = torch.LongTensor(idx_test)\n",
        "\n",
        "        random.seed(self.args.seed)\n",
        "        np.random.seed(self.args.seed)\n",
        "        torch.manual_seed(self.args.seed)\n",
        "        if self.args.cuda:\n",
        "            torch.cuda.manual_seed(self.args.seed)\n",
        "\n",
        "        # Load data\n",
        "        # adj, features, labels, idx_train, idx_val, idx_test = new_load_data(\n",
        "        #     *args, custom_function=custom_function, function=function)\n",
        "\n",
        "        # Model and optimizer\n",
        "        if self.args.sparse:\n",
        "            model = SpGAT(nfeat=features.shape[1],\n",
        "                          nhid=self.args.hidden,\n",
        "                          nclass=int(labels.max()) + 1,\n",
        "                          dropout=self.args.dropout,\n",
        "                          nheads=self.args.nb_heads,\n",
        "                          alpha=self.args.alpha)\n",
        "        else:\n",
        "            model = GAT(nfeat=features.shape[1],\n",
        "                        nhid=self.args.hidden,\n",
        "                        nclass=int(labels.max()) + 1,\n",
        "                        dropout=self.args.dropout,\n",
        "                        nheads=self.args.nb_heads,\n",
        "                        alpha=self.args.alpha)\n",
        "        optimizer = optim.Adam(model.parameters(),\n",
        "                               lr=self.args.lr,\n",
        "                               weight_decay=self.args.weight_decay)\n",
        "\n",
        "        if self.args.cuda:\n",
        "            model.cuda()\n",
        "            features = features.cuda()\n",
        "            adj = adj.cuda()\n",
        "            labels = labels.cuda()\n",
        "            idx_train = idx_train.cuda()\n",
        "            idx_val = idx_val.cuda()\n",
        "            idx_test = idx_test.cuda()\n",
        "\n",
        "        features, adj, labels = Variable(\n",
        "            features), Variable(adj), Variable(labels)\n",
        "\n",
        "        # TODO: Test if these lines could be written below line 41.\n",
        "        self.adj = adj\n",
        "        self.features = features\n",
        "        self.labels = labels\n",
        "        self.idx_train = idx_train\n",
        "        self.idx_val = idx_val\n",
        "        self.idx_test = idx_test\n",
        "\n",
        "        def train(epoch):\n",
        "            t = time.time()\n",
        "            model.train()\n",
        "            optimizer.zero_grad()\n",
        "            output = model(features, adj)\n",
        "            loss_train = F.nll_loss(output[idx_train], labels[idx_train])\n",
        "            acc_train = accuracy(output[idx_train], labels[idx_train])\n",
        "            loss_train.backward()\n",
        "            optimizer.step()\n",
        "\n",
        "            if not self.args.fastmode:\n",
        "                # Evaluate validation set performance separately,\n",
        "                # deactivates dropout during validation run.\n",
        "                model.eval()\n",
        "                output = model(features, adj)\n",
        "\n",
        "            loss_val = F.nll_loss(output[idx_val], labels[idx_val])\n",
        "            acc_val = accuracy(output[idx_val], labels[idx_val])\n",
        "            print('Epoch: {:04d}'.format(epoch+1),\n",
        "                  'loss_train: {:.4f}'.format(loss_train.data.item()),\n",
        "                  'acc_train: {:.4f}'.format(acc_train.data.item()),\n",
        "                  'loss_val: {:.4f}'.format(loss_val.data.item()),\n",
        "                  'acc_val: {:.4f}'.format(acc_val.data.item()),\n",
        "                  'time: {:.4f}s'.format(time.time() - t))\n",
        "\n",
        "            return loss_val.data.item()\n",
        "\n",
        "        # Train model\n",
        "        t_total = time.time()\n",
        "        loss_values = []\n",
        "        bad_counter = 0\n",
        "        best = self.args.epochs + 1\n",
        "        best_epoch = 0\n",
        "        for epoch in range(self.args.epochs):\n",
        "            loss_values.append(train(epoch))\n",
        "\n",
        "            torch.save(model.state_dict(), '{}.pkl'.format(epoch))\n",
        "            if loss_values[-1] < best:\n",
        "                best = loss_values[-1]\n",
        "                best_epoch = epoch\n",
        "                bad_counter = 0\n",
        "            else:\n",
        "                bad_counter += 1\n",
        "\n",
        "            if bad_counter == self.args.patience:\n",
        "                break\n",
        "\n",
        "            files = glob.glob('*.pkl')\n",
        "            for file in files:\n",
        "                epoch_nb = int(file.split('.')[0])\n",
        "                if epoch_nb < best_epoch:\n",
        "                    os.remove(file)\n",
        "\n",
        "        files = glob.glob('*.pkl')\n",
        "        for file in files:\n",
        "            epoch_nb = int(file.split('.')[0])\n",
        "            if epoch_nb > best_epoch:\n",
        "                os.remove(file)\n",
        "\n",
        "        print(\"Optimization Finished!\")\n",
        "        print(\"Total time elapsed: {:.4f}s\".format(time.time() - t_total))\n",
        "\n",
        "        # Restore best model\n",
        "        print('Loading {}th epoch'.format(best_epoch))\n",
        "        model.load_state_dict(torch.load('{}.pkl'.format(best_epoch)))\n",
        "\n",
        "        self.model = model\n",
        "\n",
        "        return model\n",
        "\n"
      ],
      "execution_count": 12,
      "outputs": []
    },
    {
      "cell_type": "code",
      "metadata": {
        "id": "pxsy4972pyvK",
        "colab": {
          "base_uri": "https://localhost:8080/"
        },
        "outputId": "fa8a0c1e-d2a7-4f8e-f9a2-e9e8dfc87d06"
      },
      "source": [
        "from sklearn.metrics import accuracy_score\n",
        "from sklearn.metrics import f1_score\n",
        "from tqdm.notebook import tqdm\n",
        "\n",
        "adj, features, labels, idx_train, idx_test, df_labels = process_event_dataset_from_networkx(G)\n",
        "print(adj.shape,features.shape,len(idx_train),len(idx_test))"
      ],
      "execution_count": 13,
      "outputs": [
        {
          "output_type": "stream",
          "text": [
            "(14, 14) (14, 14) 2 2\n"
          ],
          "name": "stdout"
        }
      ]
    },
    {
      "cell_type": "code",
      "metadata": {
        "colab": {
          "base_uri": "https://localhost:8080/"
        },
        "id": "HScrd2LeaRr0",
        "outputId": "8b8a9c5f-ab2b-4f63-a8c0-05d9639c15ef"
      },
      "source": [
        "adj"
      ],
      "execution_count": 14,
      "outputs": [
        {
          "output_type": "execute_result",
          "data": {
            "text/plain": [
              "<14x14 sparse matrix of type '<class 'numpy.longlong'>'\n",
              "\twith 40 stored elements in Compressed Sparse Row format>"
            ]
          },
          "metadata": {
            "tags": []
          },
          "execution_count": 14
        }
      ]
    },
    {
      "cell_type": "code",
      "metadata": {
        "colab": {
          "base_uri": "https://localhost:8080/"
        },
        "id": "4qu0lDnwaTWo",
        "outputId": "c1db4c8b-6e30-4ab2-ed40-86535dc9055b"
      },
      "source": [
        "features"
      ],
      "execution_count": 15,
      "outputs": [
        {
          "output_type": "execute_result",
          "data": {
            "text/plain": [
              "array([[0, 1, 1, 1, 0, 0, 0, 0, 0, 0, 0, 0, 0, 0],\n",
              "       [0, 1, 0, 0, 0, 1, 0, 0, 0, 0, 0, 0, 0, 0],\n",
              "       [0, 1, 0, 1, 0, 1, 0, 0, 0, 0, 0, 0, 0, 0],\n",
              "       [0, 0, 0, 1, 0, 1, 0, 0, 0, 0, 0, 0, 0, 0],\n",
              "       [0, 0, 0, 0, 0, 1, 0, 0, 0, 1, 1, 0, 0, 0],\n",
              "       [0, 0, 1, 0, 0, 0, 0, 0, 0, 1, 0, 0, 0, 0],\n",
              "       [0, 0, 1, 0, 0, 0, 0, 0, 0, 1, 1, 0, 0, 0],\n",
              "       [0, 0, 1, 0, 0, 0, 0, 0, 0, 0, 1, 0, 0, 0],\n",
              "       [1, 0, 0, 0, 1, 0, 1, 0, 0, 0, 0, 0, 0, 0],\n",
              "       [1, 0, 0, 0, 0, 0, 1, 1, 0, 0, 0, 0, 0, 0],\n",
              "       [0, 0, 0, 0, 0, 0, 0, 0, 1, 0, 0, 1, 1, 0],\n",
              "       [0, 0, 0, 0, 0, 0, 0, 0, 1, 0, 0, 0, 1, 1],\n",
              "       [1, 0, 0, 0, 0, 0, 0, 0, 0, 0, 0, 1, 1, 1],\n",
              "       [0, 0, 0, 0, 1, 0, 1, 1, 1, 0, 0, 0, 0, 0]])"
            ]
          },
          "metadata": {
            "tags": []
          },
          "execution_count": 15
        }
      ]
    },
    {
      "cell_type": "code",
      "metadata": {
        "colab": {
          "base_uri": "https://localhost:8080/"
        },
        "id": "YuvCUnNFaVOK",
        "outputId": "df70eee0-bfb8-4ccc-afe2-3fdd982b69c6"
      },
      "source": [
        "labels"
      ],
      "execution_count": 16,
      "outputs": [
        {
          "output_type": "execute_result",
          "data": {
            "text/plain": [
              "[0, -1, -1, -1, 1, -1, -1, -1, -1, -1, -1, -1, -1, -1]"
            ]
          },
          "metadata": {
            "tags": []
          },
          "execution_count": 16
        }
      ]
    },
    {
      "cell_type": "code",
      "metadata": {
        "colab": {
          "base_uri": "https://localhost:8080/"
        },
        "id": "vuGTn9BSaYFV",
        "outputId": "ad01ed4b-e6ba-453d-9cc3-6d8d18e410e7"
      },
      "source": [
        "idx_train"
      ],
      "execution_count": 17,
      "outputs": [
        {
          "output_type": "execute_result",
          "data": {
            "text/plain": [
              "[0, 4]"
            ]
          },
          "metadata": {
            "tags": []
          },
          "execution_count": 17
        }
      ]
    },
    {
      "cell_type": "code",
      "metadata": {
        "colab": {
          "base_uri": "https://localhost:8080/"
        },
        "id": "vb7lO6qvaZ8E",
        "outputId": "e2913f44-cbcd-40ca-fe7e-04e81d7cff07"
      },
      "source": [
        "idx_test"
      ],
      "execution_count": 18,
      "outputs": [
        {
          "output_type": "execute_result",
          "data": {
            "text/plain": [
              "[0, 4]"
            ]
          },
          "metadata": {
            "tags": []
          },
          "execution_count": 18
        }
      ]
    },
    {
      "cell_type": "code",
      "metadata": {
        "colab": {
          "base_uri": "https://localhost:8080/"
        },
        "id": "pFEL4D4DnzhT",
        "outputId": "a37f316a-8d94-4130-dbe3-1f4ec4eb7ee3"
      },
      "source": [
        "gat = GAT_wrapper({\"alpha\": 0.2, \"cuda\": False, \"dropout\": 0.0, \"epochs\": 3, \"fastmode\": False, \"hidden\": 2, \"lr\": 0.05, \"nb_heads\": 2, \"no_cuda\": False, \"patience\": 100, \"seed\": 72, \"sparse\": False, \"weight_decay\": 0.0005})\r\n",
        "gat.train_pipeline(adj, features, labels, idx_train, idx_train, idx_test)\r\n",
        "\r\n",
        "att_embedding = gat.model.get_attention_heads_outputs(gat.features,gat.adj).detach().numpy()"
      ],
      "execution_count": 19,
      "outputs": [
        {
          "output_type": "stream",
          "text": [
            "Epoch: 0001 loss_train: 0.8153 acc_train: 0.5000 loss_val: 0.5592 acc_val: 1.0000 time: 0.2518s\n",
            "Epoch: 0002 loss_train: 0.5592 acc_train: 1.0000 loss_val: 0.4619 acc_val: 1.0000 time: 0.0041s\n",
            "Epoch: 0003 loss_train: 0.4619 acc_train: 1.0000 loss_val: 0.3867 acc_val: 1.0000 time: 0.0038s\n",
            "Optimization Finished!\n",
            "Total time elapsed: 0.2653s\n",
            "Loading 2th epoch\n"
          ],
          "name": "stdout"
        }
      ]
    },
    {
      "cell_type": "markdown",
      "metadata": {
        "id": "YRWkVL9JZZDQ"
      },
      "source": [
        "# Event Embeddings from Attention Matrix #1"
      ]
    },
    {
      "cell_type": "code",
      "metadata": {
        "colab": {
          "base_uri": "https://localhost:8080/",
          "height": 266
        },
        "id": "B-MQdAtUZV1M",
        "outputId": "cc3ba43d-4ae2-48df-90ed-47c1dc5545b9"
      },
      "source": [
        "import matplotlib.pyplot as plt\r\n",
        "\r\n",
        "counter = 0\r\n",
        "  \r\n",
        "for node in G.nodes():\r\n",
        "      G.nodes[node]['att_embedding'] = att_embedding[counter]\r\n",
        "      counter += 1\r\n",
        "\r\n",
        "\r\n",
        "y = []\r\n",
        "z = []\r\n",
        "n = []\r\n",
        "for node in G.nodes():\r\n",
        "    if int(node) >= 1 and int(node) <= 8:\r\n",
        "      \r\n",
        "      y.append(G.nodes[node]['att_embedding'][0])\r\n",
        "      z.append(G.nodes[node]['att_embedding'][1])\r\n",
        "      n.append(node)\r\n",
        "\r\n",
        "\r\n",
        "fig, ax = plt.subplots()\r\n",
        "ax.scatter(z, y)\r\n",
        "\r\n",
        "for i, txt in enumerate(n):\r\n",
        "      ax.annotate(txt, (z[i], y[i]))\r\n",
        "\r\n",
        "fig.show()"
      ],
      "execution_count": 20,
      "outputs": [
        {
          "output_type": "display_data",
          "data": {
            "image/png": "[encoded data removed]",
            "text/plain": [
              "<Figure size 432x288 with 1 Axes>"
            ]
          },
          "metadata": {
            "tags": [],
            "needs_background": "light"
          }
        }
      ]
    },
    {
      "cell_type": "markdown",
      "metadata": {
        "id": "3Wo2Bx0VZf3u"
      },
      "source": [
        "# Event Embeddings from Attention Matrix #2"
      ]
    },
    {
      "cell_type": "code",
      "metadata": {
        "colab": {
          "base_uri": "https://localhost:8080/",
          "height": 265
        },
        "id": "_OzKGxnlZT_f",
        "outputId": "6c267da2-841c-4497-ef36-15e1cbe7cbc6"
      },
      "source": [
        "import matplotlib.pyplot as plt\r\n",
        "\r\n",
        "counter = 0\r\n",
        "  \r\n",
        "for node in G.nodes():\r\n",
        "      G.nodes[node]['att_embedding'] = att_embedding[counter]\r\n",
        "      counter += 1\r\n",
        "\r\n",
        "\r\n",
        "y = []\r\n",
        "z = []\r\n",
        "n = []\r\n",
        "for node in G.nodes():\r\n",
        "    if int(node) >= 1 and int(node) <= 8:\r\n",
        "      \r\n",
        "      y.append(G.nodes[node]['att_embedding'][2])\r\n",
        "      z.append(G.nodes[node]['att_embedding'][3])\r\n",
        "      n.append(node)\r\n",
        "\r\n",
        "\r\n",
        "fig, ax = plt.subplots()\r\n",
        "ax.scatter(z, y)\r\n",
        "\r\n",
        "for i, txt in enumerate(n):\r\n",
        "      ax.annotate(txt, (z[i], y[i]))\r\n",
        "\r\n",
        "fig.show()"
      ],
      "execution_count": 21,
      "outputs": [
        {
          "output_type": "display_data",
          "data": {
            "image/png": "[encoded data removed]",
            "text/plain": [
              "<Figure size 432x288 with 1 Axes>"
            ]
          },
          "metadata": {
            "tags": [],
            "needs_background": "light"
          }
        }
      ]
    }
  ]
}