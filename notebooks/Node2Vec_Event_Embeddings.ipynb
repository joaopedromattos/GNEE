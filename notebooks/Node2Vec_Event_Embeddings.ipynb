{
  "nbformat": 4,
  "nbformat_minor": 0,
  "metadata": {
    "colab": {
      "name": "Node2Vec - Event Embeddings.ipynb",
      "provenance": [],
      "toc_visible": true
    },
    "kernelspec": {
      "name": "python3",
      "display_name": "Python 3"
    },
    "widgets": {
      "application/vnd.jupyter.widget-state+json": {
        "41931b0508a648208f298799b3adee42": {
          "model_module": "@jupyter-widgets/controls",
          "model_name": "HBoxModel",
          "state": {
            "_view_name": "HBoxView",
            "_dom_classes": [],
            "_model_name": "HBoxModel",
            "_view_module": "@jupyter-widgets/controls",
            "_model_module_version": "1.5.0",
            "_view_count": null,
            "_view_module_version": "1.5.0",
            "box_style": "",
            "layout": "IPY_MODEL_905b5b98a31948729f5bd91307b97131",
            "_model_module": "@jupyter-widgets/controls",
            "children": [
              "IPY_MODEL_afe1f2dca6cf42799eeb054331a46c02",
              "IPY_MODEL_69a5c3d2443940d0838e13a98856db98"
            ]
          }
        },
        "905b5b98a31948729f5bd91307b97131": {
          "model_module": "@jupyter-widgets/base",
          "model_name": "LayoutModel",
          "state": {
            "_view_name": "LayoutView",
            "grid_template_rows": null,
            "right": null,
            "justify_content": null,
            "_view_module": "@jupyter-widgets/base",
            "overflow": null,
            "_model_module_version": "1.2.0",
            "_view_count": null,
            "flex_flow": null,
            "width": null,
            "min_width": null,
            "border": null,
            "align_items": null,
            "bottom": null,
            "_model_module": "@jupyter-widgets/base",
            "top": null,
            "grid_column": null,
            "overflow_y": null,
            "overflow_x": null,
            "grid_auto_flow": null,
            "grid_area": null,
            "grid_template_columns": null,
            "flex": null,
            "_model_name": "LayoutModel",
            "justify_items": null,
            "grid_row": null,
            "max_height": null,
            "align_content": null,
            "visibility": null,
            "align_self": null,
            "height": null,
            "min_height": null,
            "padding": null,
            "grid_auto_rows": null,
            "grid_gap": null,
            "max_width": null,
            "order": null,
            "_view_module_version": "1.2.0",
            "grid_template_areas": null,
            "object_position": null,
            "object_fit": null,
            "grid_auto_columns": null,
            "margin": null,
            "display": null,
            "left": null
          }
        },
        "afe1f2dca6cf42799eeb054331a46c02": {
          "model_module": "@jupyter-widgets/controls",
          "model_name": "FloatProgressModel",
          "state": {
            "_view_name": "ProgressView",
            "style": "IPY_MODEL_989c5e9f07554aea93e0d03efce6c8f0",
            "_dom_classes": [],
            "description": "100%",
            "_model_name": "FloatProgressModel",
            "bar_style": "success",
            "max": 50,
            "_view_module": "@jupyter-widgets/controls",
            "_model_module_version": "1.5.0",
            "value": 50,
            "_view_count": null,
            "_view_module_version": "1.5.0",
            "orientation": "horizontal",
            "min": 0,
            "description_tooltip": null,
            "_model_module": "@jupyter-widgets/controls",
            "layout": "IPY_MODEL_2790023edc234cac9cb904534c559b18"
          }
        },
        "69a5c3d2443940d0838e13a98856db98": {
          "model_module": "@jupyter-widgets/controls",
          "model_name": "HTMLModel",
          "state": {
            "_view_name": "HTMLView",
            "style": "IPY_MODEL_8946c200da3449df8af1c79e200e477b",
            "_dom_classes": [],
            "description": "",
            "_model_name": "HTMLModel",
            "placeholder": "​",
            "_view_module": "@jupyter-widgets/controls",
            "_model_module_version": "1.5.0",
            "value": " 50/50 [15:53&lt;00:00, 19.06s/it]",
            "_view_count": null,
            "_view_module_version": "1.5.0",
            "description_tooltip": null,
            "_model_module": "@jupyter-widgets/controls",
            "layout": "IPY_MODEL_5b4307ebd6ef44e6a2fde96d9d0567f9"
          }
        },
        "989c5e9f07554aea93e0d03efce6c8f0": {
          "model_module": "@jupyter-widgets/controls",
          "model_name": "ProgressStyleModel",
          "state": {
            "_view_name": "StyleView",
            "_model_name": "ProgressStyleModel",
            "description_width": "initial",
            "_view_module": "@jupyter-widgets/base",
            "_model_module_version": "1.5.0",
            "_view_count": null,
            "_view_module_version": "1.2.0",
            "bar_color": null,
            "_model_module": "@jupyter-widgets/controls"
          }
        },
        "2790023edc234cac9cb904534c559b18": {
          "model_module": "@jupyter-widgets/base",
          "model_name": "LayoutModel",
          "state": {
            "_view_name": "LayoutView",
            "grid_template_rows": null,
            "right": null,
            "justify_content": null,
            "_view_module": "@jupyter-widgets/base",
            "overflow": null,
            "_model_module_version": "1.2.0",
            "_view_count": null,
            "flex_flow": null,
            "width": null,
            "min_width": null,
            "border": null,
            "align_items": null,
            "bottom": null,
            "_model_module": "@jupyter-widgets/base",
            "top": null,
            "grid_column": null,
            "overflow_y": null,
            "overflow_x": null,
            "grid_auto_flow": null,
            "grid_area": null,
            "grid_template_columns": null,
            "flex": null,
            "_model_name": "LayoutModel",
            "justify_items": null,
            "grid_row": null,
            "max_height": null,
            "align_content": null,
            "visibility": null,
            "align_self": null,
            "height": null,
            "min_height": null,
            "padding": null,
            "grid_auto_rows": null,
            "grid_gap": null,
            "max_width": null,
            "order": null,
            "_view_module_version": "1.2.0",
            "grid_template_areas": null,
            "object_position": null,
            "object_fit": null,
            "grid_auto_columns": null,
            "margin": null,
            "display": null,
            "left": null
          }
        },
        "8946c200da3449df8af1c79e200e477b": {
          "model_module": "@jupyter-widgets/controls",
          "model_name": "DescriptionStyleModel",
          "state": {
            "_view_name": "StyleView",
            "_model_name": "DescriptionStyleModel",
            "description_width": "",
            "_view_module": "@jupyter-widgets/base",
            "_model_module_version": "1.5.0",
            "_view_count": null,
            "_view_module_version": "1.2.0",
            "_model_module": "@jupyter-widgets/controls"
          }
        },
        "5b4307ebd6ef44e6a2fde96d9d0567f9": {
          "model_module": "@jupyter-widgets/base",
          "model_name": "LayoutModel",
          "state": {
            "_view_name": "LayoutView",
            "grid_template_rows": null,
            "right": null,
            "justify_content": null,
            "_view_module": "@jupyter-widgets/base",
            "overflow": null,
            "_model_module_version": "1.2.0",
            "_view_count": null,
            "flex_flow": null,
            "width": null,
            "min_width": null,
            "border": null,
            "align_items": null,
            "bottom": null,
            "_model_module": "@jupyter-widgets/base",
            "top": null,
            "grid_column": null,
            "overflow_y": null,
            "overflow_x": null,
            "grid_auto_flow": null,
            "grid_area": null,
            "grid_template_columns": null,
            "flex": null,
            "_model_name": "LayoutModel",
            "justify_items": null,
            "grid_row": null,
            "max_height": null,
            "align_content": null,
            "visibility": null,
            "align_self": null,
            "height": null,
            "min_height": null,
            "padding": null,
            "grid_auto_rows": null,
            "grid_gap": null,
            "max_width": null,
            "order": null,
            "_view_module_version": "1.2.0",
            "grid_template_areas": null,
            "object_position": null,
            "object_fit": null,
            "grid_auto_columns": null,
            "margin": null,
            "display": null,
            "left": null
          }
        }
      }
    }
  },
  "cells": [
    {
      "cell_type": "markdown",
      "metadata": {
        "id": "LUXEb00M7c2D"
      },
      "source": [
        "# Node2Vec"
      ]
    },
    {
      "cell_type": "code",
      "metadata": {
        "id": "x1wdaRfKVDli"
      },
      "source": [
        "%reload_ext autoreload\r\n",
        "%autoreload 2\r\n",
        "%matplotlib inline\r\n",
        "import os\r\n",
        "os.environ[\"CUDA_DEVICE_ORDER\"]=\"PCI_BUS_ID\";\r\n",
        "os.environ[\"CUDA_VISIBLE_DEVICES\"]=\"0\"; "
      ],
      "execution_count": null,
      "outputs": []
    },
    {
      "cell_type": "markdown",
      "metadata": {
        "id": "5o9SfsQ07tFG"
      },
      "source": [
        "## Baixando e instalando bibliotecas"
      ]
    },
    {
      "cell_type": "code",
      "metadata": {
        "id": "XCHBwCmIBm5Z",
        "colab": {
          "base_uri": "https://localhost:8080/"
        },
        "outputId": "d587a22e-9803-48b1-fc76-4f277a6e0141"
      },
      "source": [
        "!git clone https://github.com/shenweichen/GraphEmbedding"
      ],
      "execution_count": null,
      "outputs": [
        {
          "output_type": "stream",
          "text": [
            "Cloning into 'GraphEmbedding'...\n",
            "remote: Enumerating objects: 18, done.\u001b[K\n",
            "remote: Counting objects: 100% (18/18), done.\u001b[K\n",
            "remote: Compressing objects: 100% (17/17), done.\u001b[K\n",
            "remote: Total 164 (delta 4), reused 10 (delta 1), pack-reused 146\u001b[K\n",
            "Receiving objects: 100% (164/164), 669.54 KiB | 20.29 MiB/s, done.\n",
            "Resolving deltas: 100% (69/69), done.\n"
          ],
          "name": "stdout"
        }
      ]
    },
    {
      "cell_type": "code",
      "metadata": {
        "id": "luFJAiMiBy1O",
        "colab": {
          "base_uri": "https://localhost:8080/",
          "height": 777
        },
        "outputId": "d1d34cbf-9fdf-411f-84f3-1f652122b1e8"
      },
      "source": [
        "!pip install tensorflow==1.4.0"
      ],
      "execution_count": null,
      "outputs": [
        {
          "output_type": "stream",
          "text": [
            "Collecting tensorflow==1.4.0\n",
            "\u001b[?25l  Downloading https://files.pythonhosted.org/packages/86/9f/be0165c6eefd841e6928e54d3d083fa174f92d640fdc52f73a33dc9c54d1/tensorflow-1.4.0-cp36-cp36m-manylinux1_x86_64.whl (41.2MB)\n",
            "\u001b[K     |████████████████████████████████| 41.2MB 120kB/s \n",
            "\u001b[?25hRequirement already satisfied: six>=1.10.0 in /usr/local/lib/python3.6/dist-packages (from tensorflow==1.4.0) (1.15.0)\n",
            "Requirement already satisfied: protobuf>=3.3.0 in /usr/local/lib/python3.6/dist-packages (from tensorflow==1.4.0) (3.12.4)\n",
            "Requirement already satisfied: wheel>=0.26 in /usr/local/lib/python3.6/dist-packages (from tensorflow==1.4.0) (0.36.2)\n",
            "Collecting enum34>=1.1.6\n",
            "  Downloading https://files.pythonhosted.org/packages/63/f6/ccb1c83687756aeabbf3ca0f213508fcfb03883ff200d201b3a4c60cedcc/enum34-1.1.10-py3-none-any.whl\n",
            "Requirement already satisfied: numpy>=1.12.1 in /usr/local/lib/python3.6/dist-packages (from tensorflow==1.4.0) (1.19.4)\n",
            "Collecting tensorflow-tensorboard<0.5.0,>=0.4.0rc1\n",
            "\u001b[?25l  Downloading https://files.pythonhosted.org/packages/e9/9f/5845c18f9df5e7ea638ecf3a272238f0e7671e454faa396b5188c6e6fc0a/tensorflow_tensorboard-0.4.0-py3-none-any.whl (1.7MB)\n",
            "\u001b[K     |████████████████████████████████| 1.7MB 39.7MB/s \n",
            "\u001b[?25hRequirement already satisfied: setuptools in /usr/local/lib/python3.6/dist-packages (from protobuf>=3.3.0->tensorflow==1.4.0) (51.0.0)\n",
            "Collecting bleach==1.5.0\n",
            "  Downloading https://files.pythonhosted.org/packages/33/70/86c5fec937ea4964184d4d6c4f0b9551564f821e1c3575907639036d9b90/bleach-1.5.0-py2.py3-none-any.whl\n",
            "Requirement already satisfied: werkzeug>=0.11.10 in /usr/local/lib/python3.6/dist-packages (from tensorflow-tensorboard<0.5.0,>=0.4.0rc1->tensorflow==1.4.0) (1.0.1)\n",
            "Requirement already satisfied: markdown>=2.6.8 in /usr/local/lib/python3.6/dist-packages (from tensorflow-tensorboard<0.5.0,>=0.4.0rc1->tensorflow==1.4.0) (3.3.3)\n",
            "Collecting html5lib==0.9999999\n",
            "\u001b[?25l  Downloading https://files.pythonhosted.org/packages/ae/ae/bcb60402c60932b32dfaf19bb53870b29eda2cd17551ba5639219fb5ebf9/html5lib-0.9999999.tar.gz (889kB)\n",
            "\u001b[K     |████████████████████████████████| 890kB 48.2MB/s \n",
            "\u001b[?25hRequirement already satisfied: importlib-metadata; python_version < \"3.8\" in /usr/local/lib/python3.6/dist-packages (from markdown>=2.6.8->tensorflow-tensorboard<0.5.0,>=0.4.0rc1->tensorflow==1.4.0) (3.3.0)\n",
            "Requirement already satisfied: zipp>=0.5 in /usr/local/lib/python3.6/dist-packages (from importlib-metadata; python_version < \"3.8\"->markdown>=2.6.8->tensorflow-tensorboard<0.5.0,>=0.4.0rc1->tensorflow==1.4.0) (3.4.0)\n",
            "Requirement already satisfied: typing-extensions>=3.6.4; python_version < \"3.8\" in /usr/local/lib/python3.6/dist-packages (from importlib-metadata; python_version < \"3.8\"->markdown>=2.6.8->tensorflow-tensorboard<0.5.0,>=0.4.0rc1->tensorflow==1.4.0) (3.7.4.3)\n",
            "Building wheels for collected packages: html5lib\n",
            "  Building wheel for html5lib (setup.py) ... \u001b[?25l\u001b[?25hdone\n",
            "  Created wheel for html5lib: filename=html5lib-0.9999999-cp36-none-any.whl size=107222 sha256=38ae4041e3df3999176f3df1e5bf741d6ecb64dc76af259b08a327283afe95bb\n",
            "  Stored in directory: /root/.cache/pip/wheels/50/ae/f9/d2b189788efcf61d1ee0e36045476735c838898eef1cad6e29\n",
            "Successfully built html5lib\n",
            "Installing collected packages: enum34, html5lib, bleach, tensorflow-tensorboard, tensorflow\n",
            "  Found existing installation: html5lib 1.0.1\n",
            "    Uninstalling html5lib-1.0.1:\n",
            "      Successfully uninstalled html5lib-1.0.1\n",
            "  Found existing installation: bleach 3.2.1\n",
            "    Uninstalling bleach-3.2.1:\n",
            "      Successfully uninstalled bleach-3.2.1\n",
            "  Found existing installation: tensorflow 2.4.0\n",
            "    Uninstalling tensorflow-2.4.0:\n",
            "      Successfully uninstalled tensorflow-2.4.0\n",
            "Successfully installed bleach-1.5.0 enum34-1.1.10 html5lib-0.9999999 tensorflow-1.4.0 tensorflow-tensorboard-0.4.0\n"
          ],
          "name": "stdout"
        },
        {
          "output_type": "display_data",
          "data": {
            "application/vnd.colab-display-data+json": {
              "pip_warning": {
                "packages": [
                  "enum"
                ]
              }
            }
          },
          "metadata": {
            "tags": []
          }
        }
      ]
    },
    {
      "cell_type": "code",
      "metadata": {
        "id": "mVNT9AxaCn2R"
      },
      "source": [
        "!mv GraphEmbedding/* ."
      ],
      "execution_count": null,
      "outputs": []
    },
    {
      "cell_type": "markdown",
      "metadata": {
        "id": "bzaCy33NDd3w"
      },
      "source": [
        "# Carregando as Redes"
      ]
    },
    {
      "cell_type": "code",
      "metadata": {
        "colab": {
          "base_uri": "https://localhost:8080/"
        },
        "id": "03ON12PtM3My",
        "outputId": "4fab1f20-a489-4311-9d3e-7d039b8d197e"
      },
      "source": [
        "!gdown --id 1RF_bIo5ndxPhu9SJw-T8HBcuHyaGQGL0"
      ],
      "execution_count": null,
      "outputs": [
        {
          "output_type": "stream",
          "text": [
            "Downloading...\n",
            "From: https://drive.google.com/uc?id=1RF_bIo5ndxPhu9SJw-T8HBcuHyaGQGL0\n",
            "To: /content/datasets.tar.gz\n",
            "\r0.00B [00:00, ?B/s]\r4.72MB [00:00, 37.0MB/s]\r17.3MB [00:00, 46.2MB/s]\r22.7MB [00:00, 86.2MB/s]\n"
          ],
          "name": "stdout"
        }
      ]
    },
    {
      "cell_type": "code",
      "metadata": {
        "colab": {
          "base_uri": "https://localhost:8080/"
        },
        "id": "zrzzUlveM7qW",
        "outputId": "c7445113-fc96-4263-d87e-7c7e2b0a1caf"
      },
      "source": [
        "!tar -xzvf datasets.tar.gz"
      ],
      "execution_count": null,
      "outputs": [
        {
          "output_type": "stream",
          "text": [
            "datasets_runs/\n",
            "datasets_runs/run_1_google_news_5w1h_graph_hin.nx\n",
            "datasets_runs/run_6_40er_5w1h_graph_hin.nx\n",
            "datasets_runs/run_4_bbc_5w1h_graph_hin.nx\n",
            "datasets_runs/run_8_gold_standard_5w1h_graph_hin.nx\n",
            "datasets_runs/run_5_bbc_5w1h_graph_hin.nx\n",
            "datasets_runs/run_9_google_news_5w1h_graph_hin.nx\n",
            "datasets_runs/run_5_gold_standard_5w1h_graph_hin.nx\n",
            "datasets_runs/run_2_bbc_5w1h_graph_hin.nx\n",
            "datasets_runs/run_9_news_cluster_5w1h_graph_hin.nx\n",
            "datasets_runs/run_7_40er_5w1h_graph_hin.nx\n",
            "datasets_runs/run_9_gold_standard_5w1h_graph_hin.nx\n",
            "datasets_runs/run_8_google_news_5w1h_graph_hin.nx\n",
            "datasets_runs/run_10_bbc_5w1h_graph_hin.nx\n",
            "datasets_runs/run_8_news_cluster_5w1h_graph_hin.nx\n",
            "datasets_runs/run_2_news_cluster_5w1h_graph_hin.nx\n",
            "datasets_runs/run_8_40er_5w1h_graph_hin.nx\n",
            "datasets_runs/run_6_bbc_5w1h_graph_hin.nx\n",
            "datasets_runs/run_4_google_news_5w1h_graph_hin.nx\n",
            "datasets_runs/run_2_google_news_5w1h_graph_hin.nx\n",
            "datasets_runs/run_7_gold_standard_5w1h_graph_hin.nx\n",
            "datasets_runs/run_4_gold_standard_5w1h_graph_hin.nx\n",
            "datasets_runs/run_5_40er_5w1h_graph_hin.nx\n",
            "datasets_runs/run_3_gold_standard_5w1h_graph_hin.nx\n",
            "datasets_runs/run_4_40er_5w1h_graph_hin.nx\n",
            "datasets_runs/run_5_google_news_5w1h_graph_hin.nx\n",
            "datasets_runs/run_10_news_cluster_5w1h_graph_hin.nx\n",
            "datasets_runs/run_10_40er_5w1h_graph_hin.nx\n",
            "datasets_runs/run_9_40er_5w1h_graph_hin.nx\n",
            "datasets_runs/run_10_google_news_5w1h_graph_hin.nx\n",
            "datasets_runs/run_6_google_news_5w1h_graph_hin.nx\n",
            "datasets_runs/run_1_news_cluster_5w1h_graph_hin.nx\n",
            "datasets_runs/run_3_news_cluster_5w1h_graph_hin.nx\n",
            "datasets_runs/run_5_news_cluster_5w1h_graph_hin.nx\n",
            "datasets_runs/run_4_news_cluster_5w1h_graph_hin.nx\n",
            "datasets_runs/run_7_bbc_5w1h_graph_hin.nx\n",
            "datasets_runs/run_1_gold_standard_5w1h_graph_hin.nx\n",
            "datasets_runs/run_7_google_news_5w1h_graph_hin.nx\n",
            "datasets_runs/run_10_gold_standard_5w1h_graph_hin.nx\n",
            "datasets_runs/run_6_gold_standard_5w1h_graph_hin.nx\n",
            "datasets_runs/run_3_bbc_5w1h_graph_hin.nx\n",
            "datasets_runs/run_1_bbc_5w1h_graph_hin.nx\n",
            "datasets_runs/run_2_gold_standard_5w1h_graph_hin.nx\n",
            "datasets_runs/run_3_google_news_5w1h_graph_hin.nx\n",
            "datasets_runs/run_9_bbc_5w1h_graph_hin.nx\n",
            "datasets_runs/run_2_40er_5w1h_graph_hin.nx\n",
            "datasets_runs/run_8_bbc_5w1h_graph_hin.nx\n",
            "datasets_runs/run_6_news_cluster_5w1h_graph_hin.nx\n",
            "datasets_runs/run_1_40er_5w1h_graph_hin.nx\n",
            "datasets_runs/run_7_news_cluster_5w1h_graph_hin.nx\n",
            "datasets_runs/run_3_40er_5w1h_graph_hin.nx\n"
          ],
          "name": "stdout"
        }
      ]
    },
    {
      "cell_type": "code",
      "metadata": {
        "colab": {
          "base_uri": "https://localhost:8080/"
        },
        "id": "ga_09m2ENBW-",
        "outputId": "494a5de1-5857-48ff-a210-7aebe37bd32f"
      },
      "source": [
        "from os import listdir\r\n",
        "from os.path import isfile, join\r\n",
        "path_datasets = 'datasets_runs/'\r\n",
        "network_files = [f for f in listdir(path_datasets) if isfile(join(path_datasets, f))]\r\n",
        "print(network_files)"
      ],
      "execution_count": null,
      "outputs": [
        {
          "output_type": "stream",
          "text": [
            "['run_1_google_news_5w1h_graph_hin.nx', 'run_6_40er_5w1h_graph_hin.nx', 'run_4_bbc_5w1h_graph_hin.nx', 'run_8_gold_standard_5w1h_graph_hin.nx', 'run_5_bbc_5w1h_graph_hin.nx', 'run_9_google_news_5w1h_graph_hin.nx', 'run_5_gold_standard_5w1h_graph_hin.nx', 'run_2_bbc_5w1h_graph_hin.nx', 'run_9_news_cluster_5w1h_graph_hin.nx', 'run_7_40er_5w1h_graph_hin.nx', 'run_9_gold_standard_5w1h_graph_hin.nx', 'run_8_google_news_5w1h_graph_hin.nx', 'run_10_bbc_5w1h_graph_hin.nx', 'run_8_news_cluster_5w1h_graph_hin.nx', 'run_2_news_cluster_5w1h_graph_hin.nx', 'run_8_40er_5w1h_graph_hin.nx', 'run_6_bbc_5w1h_graph_hin.nx', 'run_4_google_news_5w1h_graph_hin.nx', 'run_2_google_news_5w1h_graph_hin.nx', 'run_7_gold_standard_5w1h_graph_hin.nx', 'run_4_gold_standard_5w1h_graph_hin.nx', 'run_5_40er_5w1h_graph_hin.nx', 'run_3_gold_standard_5w1h_graph_hin.nx', 'run_4_40er_5w1h_graph_hin.nx', 'run_5_google_news_5w1h_graph_hin.nx', 'run_10_news_cluster_5w1h_graph_hin.nx', 'run_10_40er_5w1h_graph_hin.nx', 'run_9_40er_5w1h_graph_hin.nx', 'run_10_google_news_5w1h_graph_hin.nx', 'run_6_google_news_5w1h_graph_hin.nx', 'run_1_news_cluster_5w1h_graph_hin.nx', 'run_3_news_cluster_5w1h_graph_hin.nx', 'run_5_news_cluster_5w1h_graph_hin.nx', 'run_4_news_cluster_5w1h_graph_hin.nx', 'run_7_bbc_5w1h_graph_hin.nx', 'run_1_gold_standard_5w1h_graph_hin.nx', 'run_7_google_news_5w1h_graph_hin.nx', 'run_10_gold_standard_5w1h_graph_hin.nx', 'run_6_gold_standard_5w1h_graph_hin.nx', 'run_3_bbc_5w1h_graph_hin.nx', 'run_1_bbc_5w1h_graph_hin.nx', 'run_2_gold_standard_5w1h_graph_hin.nx', 'run_3_google_news_5w1h_graph_hin.nx', 'run_9_bbc_5w1h_graph_hin.nx', 'run_2_40er_5w1h_graph_hin.nx', 'run_8_bbc_5w1h_graph_hin.nx', 'run_6_news_cluster_5w1h_graph_hin.nx', 'run_1_40er_5w1h_graph_hin.nx', 'run_7_news_cluster_5w1h_graph_hin.nx', 'run_3_40er_5w1h_graph_hin.nx']\n"
          ],
          "name": "stdout"
        }
      ]
    },
    {
      "cell_type": "markdown",
      "metadata": {
        "id": "r30mh1szDjDt"
      },
      "source": [
        "# Treinando e avaliando o Node2Vec"
      ]
    },
    {
      "cell_type": "code",
      "metadata": {
        "id": "fWMXb_98CRpO",
        "colab": {
          "base_uri": "https://localhost:8080/",
          "height": 1000,
          "referenced_widgets": [
            "41931b0508a648208f298799b3adee42",
            "905b5b98a31948729f5bd91307b97131",
            "afe1f2dca6cf42799eeb054331a46c02",
            "69a5c3d2443940d0838e13a98856db98",
            "989c5e9f07554aea93e0d03efce6c8f0",
            "2790023edc234cac9cb904534c559b18",
            "8946c200da3449df8af1c79e200e477b",
            "5b4307ebd6ef44e6a2fde96d9d0567f9"
          ]
        },
        "outputId": "e9e98911-d6c4-42bc-dc61-42b63eb3dd6f"
      },
      "source": [
        "from ge import Node2Vec\n",
        "import numpy as np\n",
        "import networkx as nx\n",
        "from tqdm.notebook import tqdm\n",
        "from sklearn.metrics import accuracy_score\n",
        "from sklearn.metrics import f1_score\n",
        "from sklearn.svm import LinearSVC\n",
        "\n",
        "\n",
        "experimental_results = []\n",
        "emb_sizes = [ 64 ]\n",
        "parameters = [(0.5,1),(1,2),(0.25,0.25)]\n",
        "\n",
        "for network_file in tqdm(network_files):\n",
        "\n",
        "  for emb_size in emb_sizes:\n",
        "\n",
        "    for par in parameters:\n",
        "\n",
        "      p=par[0]\n",
        "      q=par[1]\n",
        "\n",
        "      G = nx.read_gpickle(path_datasets+network_file)\n",
        "      model = Node2Vec(G, walk_length = 10, num_walks = 80, p = p, q = q, workers = 1)\n",
        "      model.train(window_size=5,iter=3,embed_size=emb_size)# train model\n",
        "      embeddings = model.get_embeddings()# get embedding vectors    \n",
        "\n",
        "\n",
        "      # gerando features e classificando\n",
        "      X_train = []\n",
        "      Y_train = []\n",
        "      X_test = []\n",
        "      Y_test = []\n",
        "\n",
        "      for node in G.nodes():\n",
        "        if ':event' in node:\n",
        "          \n",
        "          if 'train' in G.nodes[node]:\n",
        "            X_train.append(embeddings[node])\n",
        "            Y_train.append(G.nodes[node]['label'])\n",
        "          if 'test' in G.nodes[node]:\n",
        "            X_test.append(embeddings[node])\n",
        "            Y_test.append(G.nodes[node]['label'])\n",
        "\n",
        "\n",
        "      X_train = np.array(X_train)\n",
        "      X_test = np.array(X_test)\n",
        "\n",
        "      clf = LinearSVC(tol=1e-5).fit(X_train, Y_train)\n",
        "      y_pred = clf.predict(X_test)\n",
        "\n",
        "\n",
        "      f1_macro = f1_score(Y_test, y_pred, average='macro')\n",
        "      acc = accuracy_score(Y_test, y_pred)\n",
        "\n",
        "      print('--->' ,network_file,emb_size,p,q,'f1_macro',f1_macro,'acc',acc)\n",
        "      experimental_results.append((network_file,emb_size,p,q,'f1_macro',f1_macro,'acc',acc,Y_test,y_pred))\n"
      ],
      "execution_count": null,
      "outputs": [
        {
          "output_type": "display_data",
          "data": {
            "application/vnd.jupyter.widget-view+json": {
              "model_id": "41931b0508a648208f298799b3adee42",
              "version_minor": 0,
              "version_major": 2
            },
            "text/plain": [
              "HBox(children=(FloatProgress(value=0.0, max=50.0), HTML(value='')))"
            ]
          },
          "metadata": {
            "tags": []
          }
        },
        {
          "output_type": "stream",
          "text": [
            "Preprocess transition probs...\n"
          ],
          "name": "stdout"
        },
        {
          "output_type": "stream",
          "text": [
            "[Parallel(n_jobs=1)]: Using backend SequentialBackend with 1 concurrent workers.\n",
            "[Parallel(n_jobs=1)]: Done   1 out of   1 | elapsed:    0.4s finished\n"
          ],
          "name": "stderr"
        },
        {
          "output_type": "stream",
          "text": [
            "Learning embedding vectors...\n",
            "Learning embedding vectors done!\n",
            "---> run_1_google_news_5w1h_graph_hin.nx 64 0.5 1 f1_macro 0.4995076352219209 acc 0.56\n",
            "Preprocess transition probs...\n"
          ],
          "name": "stdout"
        },
        {
          "output_type": "stream",
          "text": [
            "[Parallel(n_jobs=1)]: Using backend SequentialBackend with 1 concurrent workers.\n",
            "[Parallel(n_jobs=1)]: Done   1 out of   1 | elapsed:    0.4s finished\n"
          ],
          "name": "stderr"
        },
        {
          "output_type": "stream",
          "text": [
            "Learning embedding vectors...\n",
            "Learning embedding vectors done!\n",
            "---> run_1_google_news_5w1h_graph_hin.nx 64 1 2 f1_macro 0.6632914704343277 acc 0.68\n",
            "Preprocess transition probs...\n"
          ],
          "name": "stdout"
        },
        {
          "output_type": "stream",
          "text": [
            "[Parallel(n_jobs=1)]: Using backend SequentialBackend with 1 concurrent workers.\n",
            "[Parallel(n_jobs=1)]: Done   1 out of   1 | elapsed:    0.5s finished\n"
          ],
          "name": "stderr"
        },
        {
          "output_type": "stream",
          "text": [
            "Learning embedding vectors...\n",
            "Learning embedding vectors done!\n",
            "---> run_1_google_news_5w1h_graph_hin.nx 64 0.25 0.25 f1_macro 0.6267985982271698 acc 0.72\n",
            "Preprocess transition probs...\n"
          ],
          "name": "stdout"
        },
        {
          "output_type": "stream",
          "text": [
            "[Parallel(n_jobs=1)]: Using backend SequentialBackend with 1 concurrent workers.\n",
            "[Parallel(n_jobs=1)]: Done   1 out of   1 | elapsed:    0.5s finished\n"
          ],
          "name": "stderr"
        },
        {
          "output_type": "stream",
          "text": [
            "Learning embedding vectors...\n",
            "Learning embedding vectors done!\n",
            "---> run_6_40er_5w1h_graph_hin.nx 64 0.5 1 f1_macro 0.7788600288600289 acc 0.84375\n",
            "Preprocess transition probs...\n"
          ],
          "name": "stdout"
        },
        {
          "output_type": "stream",
          "text": [
            "[Parallel(n_jobs=1)]: Using backend SequentialBackend with 1 concurrent workers.\n",
            "[Parallel(n_jobs=1)]: Done   1 out of   1 | elapsed:    0.5s finished\n"
          ],
          "name": "stderr"
        },
        {
          "output_type": "stream",
          "text": [
            "Learning embedding vectors...\n",
            "Learning embedding vectors done!\n",
            "---> run_6_40er_5w1h_graph_hin.nx 64 1 2 f1_macro 0.8042328042328042 acc 0.875\n",
            "Preprocess transition probs...\n"
          ],
          "name": "stdout"
        },
        {
          "output_type": "stream",
          "text": [
            "[Parallel(n_jobs=1)]: Using backend SequentialBackend with 1 concurrent workers.\n",
            "[Parallel(n_jobs=1)]: Done   1 out of   1 | elapsed:    0.5s finished\n"
          ],
          "name": "stderr"
        },
        {
          "output_type": "stream",
          "text": [
            "Learning embedding vectors...\n",
            "Learning embedding vectors done!\n",
            "---> run_6_40er_5w1h_graph_hin.nx 64 0.25 0.25 f1_macro 0.7788600288600289 acc 0.84375\n",
            "Preprocess transition probs...\n"
          ],
          "name": "stdout"
        },
        {
          "output_type": "stream",
          "text": [
            "[Parallel(n_jobs=1)]: Using backend SequentialBackend with 1 concurrent workers.\n",
            "[Parallel(n_jobs=1)]: Done   1 out of   1 | elapsed:    0.8s finished\n"
          ],
          "name": "stderr"
        },
        {
          "output_type": "stream",
          "text": [
            "Learning embedding vectors...\n",
            "Learning embedding vectors done!\n",
            "---> run_4_bbc_5w1h_graph_hin.nx 64 0.5 1 f1_macro 0.34558730158730155 acc 0.3409090909090909\n",
            "Preprocess transition probs...\n"
          ],
          "name": "stdout"
        },
        {
          "output_type": "stream",
          "text": [
            "[Parallel(n_jobs=1)]: Using backend SequentialBackend with 1 concurrent workers.\n",
            "[Parallel(n_jobs=1)]: Done   1 out of   1 | elapsed:    0.8s finished\n"
          ],
          "name": "stderr"
        },
        {
          "output_type": "stream",
          "text": [
            "Learning embedding vectors...\n",
            "Learning embedding vectors done!\n",
            "---> run_4_bbc_5w1h_graph_hin.nx 64 1 2 f1_macro 0.39717460317460324 acc 0.38636363636363635\n",
            "Preprocess transition probs...\n"
          ],
          "name": "stdout"
        },
        {
          "output_type": "stream",
          "text": [
            "[Parallel(n_jobs=1)]: Using backend SequentialBackend with 1 concurrent workers.\n",
            "[Parallel(n_jobs=1)]: Done   1 out of   1 | elapsed:    0.8s finished\n"
          ],
          "name": "stderr"
        },
        {
          "output_type": "stream",
          "text": [
            "Learning embedding vectors...\n",
            "Learning embedding vectors done!\n",
            "---> run_4_bbc_5w1h_graph_hin.nx 64 0.25 0.25 f1_macro 0.35708909370199693 acc 0.3409090909090909\n",
            "Preprocess transition probs...\n"
          ],
          "name": "stdout"
        },
        {
          "output_type": "stream",
          "text": [
            "[Parallel(n_jobs=1)]: Using backend SequentialBackend with 1 concurrent workers.\n",
            "[Parallel(n_jobs=1)]: Done   1 out of   1 | elapsed:    1.2s finished\n"
          ],
          "name": "stderr"
        },
        {
          "output_type": "stream",
          "text": [
            "Learning embedding vectors...\n",
            "Learning embedding vectors done!\n",
            "---> run_8_gold_standard_5w1h_graph_hin.nx 64 0.5 1 f1_macro 0.5336505134299252 acc 0.6578947368421053\n",
            "Preprocess transition probs...\n"
          ],
          "name": "stdout"
        },
        {
          "output_type": "stream",
          "text": [
            "[Parallel(n_jobs=1)]: Using backend SequentialBackend with 1 concurrent workers.\n",
            "[Parallel(n_jobs=1)]: Done   1 out of   1 | elapsed:    1.3s finished\n"
          ],
          "name": "stderr"
        },
        {
          "output_type": "stream",
          "text": [
            "Learning embedding vectors...\n",
            "Learning embedding vectors done!\n",
            "---> run_8_gold_standard_5w1h_graph_hin.nx 64 1 2 f1_macro 0.4792770941318215 acc 0.6578947368421053\n",
            "Preprocess transition probs...\n"
          ],
          "name": "stdout"
        },
        {
          "output_type": "stream",
          "text": [
            "[Parallel(n_jobs=1)]: Using backend SequentialBackend with 1 concurrent workers.\n",
            "[Parallel(n_jobs=1)]: Done   1 out of   1 | elapsed:    1.1s finished\n"
          ],
          "name": "stderr"
        },
        {
          "output_type": "stream",
          "text": [
            "Learning embedding vectors...\n",
            "Learning embedding vectors done!\n",
            "---> run_8_gold_standard_5w1h_graph_hin.nx 64 0.25 0.25 f1_macro 0.5461055148555148 acc 0.6973684210526315\n",
            "Preprocess transition probs...\n"
          ],
          "name": "stdout"
        },
        {
          "output_type": "stream",
          "text": [
            "[Parallel(n_jobs=1)]: Using backend SequentialBackend with 1 concurrent workers.\n",
            "[Parallel(n_jobs=1)]: Done   1 out of   1 | elapsed:    0.9s finished\n"
          ],
          "name": "stderr"
        },
        {
          "output_type": "stream",
          "text": [
            "Learning embedding vectors...\n",
            "Learning embedding vectors done!\n",
            "---> run_5_bbc_5w1h_graph_hin.nx 64 0.5 1 f1_macro 0.4518954248366013 acc 0.45454545454545453\n",
            "Preprocess transition probs...\n"
          ],
          "name": "stdout"
        },
        {
          "output_type": "stream",
          "text": [
            "[Parallel(n_jobs=1)]: Using backend SequentialBackend with 1 concurrent workers.\n",
            "[Parallel(n_jobs=1)]: Done   1 out of   1 | elapsed:    0.8s finished\n"
          ],
          "name": "stderr"
        },
        {
          "output_type": "stream",
          "text": [
            "Learning embedding vectors...\n",
            "Learning embedding vectors done!\n",
            "---> run_5_bbc_5w1h_graph_hin.nx 64 1 2 f1_macro 0.49504329004329006 acc 0.5\n",
            "Preprocess transition probs...\n"
          ],
          "name": "stdout"
        },
        {
          "output_type": "stream",
          "text": [
            "[Parallel(n_jobs=1)]: Using backend SequentialBackend with 1 concurrent workers.\n",
            "[Parallel(n_jobs=1)]: Done   1 out of   1 | elapsed:    0.8s finished\n"
          ],
          "name": "stderr"
        },
        {
          "output_type": "stream",
          "text": [
            "Learning embedding vectors...\n",
            "Learning embedding vectors done!\n",
            "---> run_5_bbc_5w1h_graph_hin.nx 64 0.25 0.25 f1_macro 0.5028571428571429 acc 0.5\n",
            "Preprocess transition probs...\n"
          ],
          "name": "stdout"
        },
        {
          "output_type": "stream",
          "text": [
            "[Parallel(n_jobs=1)]: Using backend SequentialBackend with 1 concurrent workers.\n",
            "[Parallel(n_jobs=1)]: Done   1 out of   1 | elapsed:    0.4s finished\n"
          ],
          "name": "stderr"
        },
        {
          "output_type": "stream",
          "text": [
            "Learning embedding vectors...\n",
            "Learning embedding vectors done!\n",
            "---> run_9_google_news_5w1h_graph_hin.nx 64 0.5 1 f1_macro 0.5543345543345544 acc 0.6\n",
            "Preprocess transition probs...\n"
          ],
          "name": "stdout"
        },
        {
          "output_type": "stream",
          "text": [
            "[Parallel(n_jobs=1)]: Using backend SequentialBackend with 1 concurrent workers.\n",
            "[Parallel(n_jobs=1)]: Done   1 out of   1 | elapsed:    0.4s finished\n"
          ],
          "name": "stderr"
        },
        {
          "output_type": "stream",
          "text": [
            "Learning embedding vectors...\n",
            "Learning embedding vectors done!\n",
            "---> run_9_google_news_5w1h_graph_hin.nx 64 1 2 f1_macro 0.5616082330368045 acc 0.56\n",
            "Preprocess transition probs...\n"
          ],
          "name": "stdout"
        },
        {
          "output_type": "stream",
          "text": [
            "[Parallel(n_jobs=1)]: Using backend SequentialBackend with 1 concurrent workers.\n",
            "[Parallel(n_jobs=1)]: Done   1 out of   1 | elapsed:    0.4s finished\n"
          ],
          "name": "stderr"
        },
        {
          "output_type": "stream",
          "text": [
            "Learning embedding vectors...\n",
            "Learning embedding vectors done!\n",
            "---> run_9_google_news_5w1h_graph_hin.nx 64 0.25 0.25 f1_macro 0.6104720676149248 acc 0.64\n",
            "Preprocess transition probs...\n"
          ],
          "name": "stdout"
        },
        {
          "output_type": "stream",
          "text": [
            "[Parallel(n_jobs=1)]: Using backend SequentialBackend with 1 concurrent workers.\n",
            "[Parallel(n_jobs=1)]: Done   1 out of   1 | elapsed:    1.3s finished\n"
          ],
          "name": "stderr"
        },
        {
          "output_type": "stream",
          "text": [
            "Learning embedding vectors...\n",
            "Learning embedding vectors done!\n",
            "---> run_5_gold_standard_5w1h_graph_hin.nx 64 0.5 1 f1_macro 0.4908380477980383 acc 0.618421052631579\n",
            "Preprocess transition probs...\n"
          ],
          "name": "stdout"
        },
        {
          "output_type": "stream",
          "text": [
            "[Parallel(n_jobs=1)]: Using backend SequentialBackend with 1 concurrent workers.\n",
            "[Parallel(n_jobs=1)]: Done   1 out of   1 | elapsed:    1.2s finished\n"
          ],
          "name": "stderr"
        },
        {
          "output_type": "stream",
          "text": [
            "Learning embedding vectors...\n",
            "Learning embedding vectors done!\n",
            "---> run_5_gold_standard_5w1h_graph_hin.nx 64 1 2 f1_macro 0.5219199015638644 acc 0.631578947368421\n",
            "Preprocess transition probs...\n"
          ],
          "name": "stdout"
        },
        {
          "output_type": "stream",
          "text": [
            "[Parallel(n_jobs=1)]: Using backend SequentialBackend with 1 concurrent workers.\n",
            "[Parallel(n_jobs=1)]: Done   1 out of   1 | elapsed:    1.2s finished\n"
          ],
          "name": "stderr"
        },
        {
          "output_type": "stream",
          "text": [
            "Learning embedding vectors...\n",
            "Learning embedding vectors done!\n",
            "---> run_5_gold_standard_5w1h_graph_hin.nx 64 0.25 0.25 f1_macro 0.5342429792429793 acc 0.6710526315789473\n",
            "Preprocess transition probs...\n"
          ],
          "name": "stdout"
        },
        {
          "output_type": "stream",
          "text": [
            "[Parallel(n_jobs=1)]: Using backend SequentialBackend with 1 concurrent workers.\n",
            "[Parallel(n_jobs=1)]: Done   1 out of   1 | elapsed:    0.7s finished\n"
          ],
          "name": "stderr"
        },
        {
          "output_type": "stream",
          "text": [
            "Learning embedding vectors...\n",
            "Learning embedding vectors done!\n",
            "---> run_2_bbc_5w1h_graph_hin.nx 64 0.5 1 f1_macro 0.2672389529974669 acc 0.29545454545454547\n",
            "Preprocess transition probs...\n"
          ],
          "name": "stdout"
        },
        {
          "output_type": "stream",
          "text": [
            "[Parallel(n_jobs=1)]: Using backend SequentialBackend with 1 concurrent workers.\n",
            "[Parallel(n_jobs=1)]: Done   1 out of   1 | elapsed:    0.8s finished\n"
          ],
          "name": "stderr"
        },
        {
          "output_type": "stream",
          "text": [
            "Learning embedding vectors...\n",
            "Learning embedding vectors done!\n",
            "---> run_2_bbc_5w1h_graph_hin.nx 64 1 2 f1_macro 0.35292284186401834 acc 0.38636363636363635\n",
            "Preprocess transition probs...\n"
          ],
          "name": "stdout"
        },
        {
          "output_type": "stream",
          "text": [
            "[Parallel(n_jobs=1)]: Using backend SequentialBackend with 1 concurrent workers.\n",
            "[Parallel(n_jobs=1)]: Done   1 out of   1 | elapsed:    0.7s finished\n"
          ],
          "name": "stderr"
        },
        {
          "output_type": "stream",
          "text": [
            "Learning embedding vectors...\n",
            "Learning embedding vectors done!\n",
            "---> run_2_bbc_5w1h_graph_hin.nx 64 0.25 0.25 f1_macro 0.38307692307692304 acc 0.4318181818181818\n",
            "Preprocess transition probs...\n"
          ],
          "name": "stdout"
        },
        {
          "output_type": "stream",
          "text": [
            "[Parallel(n_jobs=1)]: Using backend SequentialBackend with 1 concurrent workers.\n",
            "[Parallel(n_jobs=1)]: Done   1 out of   1 | elapsed:    5.1s finished\n"
          ],
          "name": "stderr"
        },
        {
          "output_type": "stream",
          "text": [
            "Learning embedding vectors...\n",
            "Learning embedding vectors done!\n",
            "---> run_9_news_cluster_5w1h_graph_hin.nx 64 0.5 1 f1_macro 0.47073925125143323 acc 0.5882352941176471\n",
            "Preprocess transition probs...\n"
          ],
          "name": "stdout"
        },
        {
          "output_type": "stream",
          "text": [
            "[Parallel(n_jobs=1)]: Using backend SequentialBackend with 1 concurrent workers.\n",
            "[Parallel(n_jobs=1)]: Done   1 out of   1 | elapsed:    5.2s finished\n"
          ],
          "name": "stderr"
        },
        {
          "output_type": "stream",
          "text": [
            "Learning embedding vectors...\n",
            "Learning embedding vectors done!\n",
            "---> run_9_news_cluster_5w1h_graph_hin.nx 64 1 2 f1_macro 0.49068179819978003 acc 0.6013071895424836\n",
            "Preprocess transition probs...\n"
          ],
          "name": "stdout"
        },
        {
          "output_type": "stream",
          "text": [
            "[Parallel(n_jobs=1)]: Using backend SequentialBackend with 1 concurrent workers.\n",
            "[Parallel(n_jobs=1)]: Done   1 out of   1 | elapsed:    5.0s finished\n"
          ],
          "name": "stderr"
        },
        {
          "output_type": "stream",
          "text": [
            "Learning embedding vectors...\n",
            "Learning embedding vectors done!\n",
            "---> run_9_news_cluster_5w1h_graph_hin.nx 64 0.25 0.25 f1_macro 0.4735182293265481 acc 0.5849673202614379\n",
            "Preprocess transition probs...\n"
          ],
          "name": "stdout"
        },
        {
          "output_type": "stream",
          "text": [
            "[Parallel(n_jobs=1)]: Using backend SequentialBackend with 1 concurrent workers.\n",
            "[Parallel(n_jobs=1)]: Done   1 out of   1 | elapsed:    0.5s finished\n"
          ],
          "name": "stderr"
        },
        {
          "output_type": "stream",
          "text": [
            "Learning embedding vectors...\n",
            "Learning embedding vectors done!\n",
            "---> run_7_40er_5w1h_graph_hin.nx 64 0.5 1 f1_macro 0.5912698412698413 acc 0.8125\n",
            "Preprocess transition probs...\n"
          ],
          "name": "stdout"
        },
        {
          "output_type": "stream",
          "text": [
            "[Parallel(n_jobs=1)]: Using backend SequentialBackend with 1 concurrent workers.\n",
            "[Parallel(n_jobs=1)]: Done   1 out of   1 | elapsed:    0.5s finished\n"
          ],
          "name": "stderr"
        },
        {
          "output_type": "stream",
          "text": [
            "Learning embedding vectors...\n",
            "Learning embedding vectors done!\n",
            "---> run_7_40er_5w1h_graph_hin.nx 64 1 2 f1_macro 0.5733005733005733 acc 0.78125\n",
            "Preprocess transition probs...\n"
          ],
          "name": "stdout"
        },
        {
          "output_type": "stream",
          "text": [
            "[Parallel(n_jobs=1)]: Using backend SequentialBackend with 1 concurrent workers.\n",
            "[Parallel(n_jobs=1)]: Done   1 out of   1 | elapsed:    0.5s finished\n"
          ],
          "name": "stderr"
        },
        {
          "output_type": "stream",
          "text": [
            "Learning embedding vectors...\n",
            "Learning embedding vectors done!\n",
            "---> run_7_40er_5w1h_graph_hin.nx 64 0.25 0.25 f1_macro 0.5253968253968254 acc 0.71875\n",
            "Preprocess transition probs...\n"
          ],
          "name": "stdout"
        },
        {
          "output_type": "stream",
          "text": [
            "[Parallel(n_jobs=1)]: Using backend SequentialBackend with 1 concurrent workers.\n",
            "[Parallel(n_jobs=1)]: Done   1 out of   1 | elapsed:    1.2s finished\n"
          ],
          "name": "stderr"
        },
        {
          "output_type": "stream",
          "text": [
            "Learning embedding vectors...\n",
            "Learning embedding vectors done!\n",
            "---> run_9_gold_standard_5w1h_graph_hin.nx 64 0.5 1 f1_macro 0.586621066555277 acc 0.6842105263157895\n",
            "Preprocess transition probs...\n"
          ],
          "name": "stdout"
        },
        {
          "output_type": "stream",
          "text": [
            "[Parallel(n_jobs=1)]: Using backend SequentialBackend with 1 concurrent workers.\n",
            "[Parallel(n_jobs=1)]: Done   1 out of   1 | elapsed:    1.1s finished\n"
          ],
          "name": "stderr"
        },
        {
          "output_type": "stream",
          "text": [
            "Learning embedding vectors...\n",
            "Learning embedding vectors done!\n",
            "---> run_9_gold_standard_5w1h_graph_hin.nx 64 1 2 f1_macro 0.601671458056907 acc 0.6842105263157895\n",
            "Preprocess transition probs...\n"
          ],
          "name": "stdout"
        },
        {
          "output_type": "stream",
          "text": [
            "[Parallel(n_jobs=1)]: Using backend SequentialBackend with 1 concurrent workers.\n",
            "[Parallel(n_jobs=1)]: Done   1 out of   1 | elapsed:    1.2s finished\n"
          ],
          "name": "stderr"
        },
        {
          "output_type": "stream",
          "text": [
            "Learning embedding vectors...\n",
            "Learning embedding vectors done!\n",
            "---> run_9_gold_standard_5w1h_graph_hin.nx 64 0.25 0.25 f1_macro 0.5314523909844224 acc 0.6710526315789473\n",
            "Preprocess transition probs...\n"
          ],
          "name": "stdout"
        },
        {
          "output_type": "stream",
          "text": [
            "[Parallel(n_jobs=1)]: Using backend SequentialBackend with 1 concurrent workers.\n",
            "[Parallel(n_jobs=1)]: Done   1 out of   1 | elapsed:    0.5s finished\n"
          ],
          "name": "stderr"
        },
        {
          "output_type": "stream",
          "text": [
            "Learning embedding vectors...\n",
            "Learning embedding vectors done!\n",
            "---> run_8_google_news_5w1h_graph_hin.nx 64 0.5 1 f1_macro 0.5506081220366935 acc 0.64\n",
            "Preprocess transition probs...\n"
          ],
          "name": "stdout"
        },
        {
          "output_type": "stream",
          "text": [
            "[Parallel(n_jobs=1)]: Using backend SequentialBackend with 1 concurrent workers.\n",
            "[Parallel(n_jobs=1)]: Done   1 out of   1 | elapsed:    0.4s finished\n"
          ],
          "name": "stderr"
        },
        {
          "output_type": "stream",
          "text": [
            "Learning embedding vectors...\n",
            "Learning embedding vectors done!\n",
            "---> run_8_google_news_5w1h_graph_hin.nx 64 1 2 f1_macro 0.6141001855287571 acc 0.64\n",
            "Preprocess transition probs...\n"
          ],
          "name": "stdout"
        },
        {
          "output_type": "stream",
          "text": [
            "[Parallel(n_jobs=1)]: Using backend SequentialBackend with 1 concurrent workers.\n",
            "[Parallel(n_jobs=1)]: Done   1 out of   1 | elapsed:    0.5s finished\n"
          ],
          "name": "stderr"
        },
        {
          "output_type": "stream",
          "text": [
            "Learning embedding vectors...\n",
            "Learning embedding vectors done!\n",
            "---> run_8_google_news_5w1h_graph_hin.nx 64 0.25 0.25 f1_macro 0.5902906617192331 acc 0.68\n",
            "Preprocess transition probs...\n"
          ],
          "name": "stdout"
        },
        {
          "output_type": "stream",
          "text": [
            "[Parallel(n_jobs=1)]: Using backend SequentialBackend with 1 concurrent workers.\n",
            "[Parallel(n_jobs=1)]: Done   1 out of   1 | elapsed:    0.7s finished\n"
          ],
          "name": "stderr"
        },
        {
          "output_type": "stream",
          "text": [
            "Learning embedding vectors...\n",
            "Learning embedding vectors done!\n",
            "---> run_10_bbc_5w1h_graph_hin.nx 64 0.5 1 f1_macro 0.4444444444444445 acc 0.45454545454545453\n",
            "Preprocess transition probs...\n"
          ],
          "name": "stdout"
        },
        {
          "output_type": "stream",
          "text": [
            "[Parallel(n_jobs=1)]: Using backend SequentialBackend with 1 concurrent workers.\n",
            "[Parallel(n_jobs=1)]: Done   1 out of   1 | elapsed:    0.7s finished\n"
          ],
          "name": "stderr"
        },
        {
          "output_type": "stream",
          "text": [
            "Learning embedding vectors...\n",
            "Learning embedding vectors done!\n",
            "---> run_10_bbc_5w1h_graph_hin.nx 64 1 2 f1_macro 0.38114795008912655 acc 0.38636363636363635\n",
            "Preprocess transition probs...\n"
          ],
          "name": "stdout"
        },
        {
          "output_type": "stream",
          "text": [
            "[Parallel(n_jobs=1)]: Using backend SequentialBackend with 1 concurrent workers.\n",
            "[Parallel(n_jobs=1)]: Done   1 out of   1 | elapsed:    0.8s finished\n"
          ],
          "name": "stderr"
        },
        {
          "output_type": "stream",
          "text": [
            "Learning embedding vectors...\n",
            "Learning embedding vectors done!\n",
            "---> run_10_bbc_5w1h_graph_hin.nx 64 0.25 0.25 f1_macro 0.5151253132832081 acc 0.5227272727272727\n",
            "Preprocess transition probs...\n"
          ],
          "name": "stdout"
        },
        {
          "output_type": "stream",
          "text": [
            "[Parallel(n_jobs=1)]: Using backend SequentialBackend with 1 concurrent workers.\n",
            "[Parallel(n_jobs=1)]: Done   1 out of   1 | elapsed:    5.2s finished\n"
          ],
          "name": "stderr"
        },
        {
          "output_type": "stream",
          "text": [
            "Learning embedding vectors...\n",
            "Learning embedding vectors done!\n",
            "---> run_8_news_cluster_5w1h_graph_hin.nx 64 0.5 1 f1_macro 0.4578949822555961 acc 0.5718954248366013\n",
            "Preprocess transition probs...\n"
          ],
          "name": "stdout"
        },
        {
          "output_type": "stream",
          "text": [
            "[Parallel(n_jobs=1)]: Using backend SequentialBackend with 1 concurrent workers.\n",
            "[Parallel(n_jobs=1)]: Done   1 out of   1 | elapsed:    5.3s finished\n"
          ],
          "name": "stderr"
        },
        {
          "output_type": "stream",
          "text": [
            "Learning embedding vectors...\n",
            "Learning embedding vectors done!\n",
            "---> run_8_news_cluster_5w1h_graph_hin.nx 64 1 2 f1_macro 0.4834748149659748 acc 0.5816993464052288\n",
            "Preprocess transition probs...\n"
          ],
          "name": "stdout"
        },
        {
          "output_type": "stream",
          "text": [
            "[Parallel(n_jobs=1)]: Using backend SequentialBackend with 1 concurrent workers.\n",
            "[Parallel(n_jobs=1)]: Done   1 out of   1 | elapsed:    4.8s finished\n"
          ],
          "name": "stderr"
        },
        {
          "output_type": "stream",
          "text": [
            "Learning embedding vectors...\n",
            "Learning embedding vectors done!\n",
            "---> run_8_news_cluster_5w1h_graph_hin.nx 64 0.25 0.25 f1_macro 0.45754652330878287 acc 0.565359477124183\n",
            "Preprocess transition probs...\n"
          ],
          "name": "stdout"
        },
        {
          "output_type": "stream",
          "text": [
            "[Parallel(n_jobs=1)]: Using backend SequentialBackend with 1 concurrent workers.\n",
            "[Parallel(n_jobs=1)]: Done   1 out of   1 | elapsed:    5.3s finished\n"
          ],
          "name": "stderr"
        },
        {
          "output_type": "stream",
          "text": [
            "Learning embedding vectors...\n",
            "Learning embedding vectors done!\n",
            "---> run_2_news_cluster_5w1h_graph_hin.nx 64 0.5 1 f1_macro 0.4736089863365326 acc 0.5784313725490197\n",
            "Preprocess transition probs...\n"
          ],
          "name": "stdout"
        },
        {
          "output_type": "stream",
          "text": [
            "[Parallel(n_jobs=1)]: Using backend SequentialBackend with 1 concurrent workers.\n",
            "[Parallel(n_jobs=1)]: Done   1 out of   1 | elapsed:    5.1s finished\n"
          ],
          "name": "stderr"
        },
        {
          "output_type": "stream",
          "text": [
            "Learning embedding vectors...\n",
            "Learning embedding vectors done!\n",
            "---> run_2_news_cluster_5w1h_graph_hin.nx 64 1 2 f1_macro 0.4848518989722381 acc 0.6045751633986928\n",
            "Preprocess transition probs...\n"
          ],
          "name": "stdout"
        },
        {
          "output_type": "stream",
          "text": [
            "[Parallel(n_jobs=1)]: Using backend SequentialBackend with 1 concurrent workers.\n",
            "[Parallel(n_jobs=1)]: Done   1 out of   1 | elapsed:    5.1s finished\n"
          ],
          "name": "stderr"
        },
        {
          "output_type": "stream",
          "text": [
            "Learning embedding vectors...\n",
            "Learning embedding vectors done!\n",
            "---> run_2_news_cluster_5w1h_graph_hin.nx 64 0.25 0.25 f1_macro 0.4859283918352908 acc 0.6013071895424836\n",
            "Preprocess transition probs...\n"
          ],
          "name": "stdout"
        },
        {
          "output_type": "stream",
          "text": [
            "[Parallel(n_jobs=1)]: Using backend SequentialBackend with 1 concurrent workers.\n",
            "[Parallel(n_jobs=1)]: Done   1 out of   1 | elapsed:    0.5s finished\n"
          ],
          "name": "stderr"
        },
        {
          "output_type": "stream",
          "text": [
            "Learning embedding vectors...\n",
            "Learning embedding vectors done!\n",
            "---> run_8_40er_5w1h_graph_hin.nx 64 0.5 1 f1_macro 0.7744489099987821 acc 0.84375\n",
            "Preprocess transition probs...\n"
          ],
          "name": "stdout"
        },
        {
          "output_type": "stream",
          "text": [
            "[Parallel(n_jobs=1)]: Using backend SequentialBackend with 1 concurrent workers.\n",
            "[Parallel(n_jobs=1)]: Done   1 out of   1 | elapsed:    0.5s finished\n"
          ],
          "name": "stderr"
        },
        {
          "output_type": "stream",
          "text": [
            "Learning embedding vectors...\n",
            "Learning embedding vectors done!\n",
            "---> run_8_40er_5w1h_graph_hin.nx 64 1 2 f1_macro 0.7990620490620491 acc 0.875\n",
            "Preprocess transition probs...\n"
          ],
          "name": "stdout"
        },
        {
          "output_type": "stream",
          "text": [
            "[Parallel(n_jobs=1)]: Using backend SequentialBackend with 1 concurrent workers.\n",
            "[Parallel(n_jobs=1)]: Done   1 out of   1 | elapsed:    0.4s finished\n"
          ],
          "name": "stderr"
        },
        {
          "output_type": "stream",
          "text": [
            "Learning embedding vectors...\n",
            "Learning embedding vectors done!\n",
            "---> run_8_40er_5w1h_graph_hin.nx 64 0.25 0.25 f1_macro 0.8230422603824138 acc 0.90625\n",
            "Preprocess transition probs...\n"
          ],
          "name": "stdout"
        },
        {
          "output_type": "stream",
          "text": [
            "[Parallel(n_jobs=1)]: Using backend SequentialBackend with 1 concurrent workers.\n",
            "[Parallel(n_jobs=1)]: Done   1 out of   1 | elapsed:    0.8s finished\n"
          ],
          "name": "stderr"
        },
        {
          "output_type": "stream",
          "text": [
            "Learning embedding vectors...\n",
            "Learning embedding vectors done!\n",
            "---> run_6_bbc_5w1h_graph_hin.nx 64 0.5 1 f1_macro 0.380245904616614 acc 0.4090909090909091\n",
            "Preprocess transition probs...\n"
          ],
          "name": "stdout"
        },
        {
          "output_type": "stream",
          "text": [
            "[Parallel(n_jobs=1)]: Using backend SequentialBackend with 1 concurrent workers.\n",
            "[Parallel(n_jobs=1)]: Done   1 out of   1 | elapsed:    0.7s finished\n"
          ],
          "name": "stderr"
        },
        {
          "output_type": "stream",
          "text": [
            "Learning embedding vectors...\n",
            "Learning embedding vectors done!\n",
            "---> run_6_bbc_5w1h_graph_hin.nx 64 1 2 f1_macro 0.4229813664596273 acc 0.4772727272727273\n",
            "Preprocess transition probs...\n"
          ],
          "name": "stdout"
        },
        {
          "output_type": "stream",
          "text": [
            "[Parallel(n_jobs=1)]: Using backend SequentialBackend with 1 concurrent workers.\n",
            "[Parallel(n_jobs=1)]: Done   1 out of   1 | elapsed:    0.7s finished\n"
          ],
          "name": "stderr"
        },
        {
          "output_type": "stream",
          "text": [
            "Learning embedding vectors...\n",
            "Learning embedding vectors done!\n",
            "---> run_6_bbc_5w1h_graph_hin.nx 64 0.25 0.25 f1_macro 0.3440931049626702 acc 0.36363636363636365\n",
            "Preprocess transition probs...\n"
          ],
          "name": "stdout"
        },
        {
          "output_type": "stream",
          "text": [
            "[Parallel(n_jobs=1)]: Using backend SequentialBackend with 1 concurrent workers.\n",
            "[Parallel(n_jobs=1)]: Done   1 out of   1 | elapsed:    0.4s finished\n"
          ],
          "name": "stderr"
        },
        {
          "output_type": "stream",
          "text": [
            "Learning embedding vectors...\n",
            "Learning embedding vectors done!\n",
            "---> run_4_google_news_5w1h_graph_hin.nx 64 0.5 1 f1_macro 0.4825396825396825 acc 0.44\n",
            "Preprocess transition probs...\n"
          ],
          "name": "stdout"
        },
        {
          "output_type": "stream",
          "text": [
            "[Parallel(n_jobs=1)]: Using backend SequentialBackend with 1 concurrent workers.\n",
            "[Parallel(n_jobs=1)]: Done   1 out of   1 | elapsed:    0.4s finished\n"
          ],
          "name": "stderr"
        },
        {
          "output_type": "stream",
          "text": [
            "Learning embedding vectors...\n",
            "Learning embedding vectors done!\n",
            "---> run_4_google_news_5w1h_graph_hin.nx 64 1 2 f1_macro 0.5469387755102041 acc 0.52\n",
            "Preprocess transition probs...\n"
          ],
          "name": "stdout"
        },
        {
          "output_type": "stream",
          "text": [
            "[Parallel(n_jobs=1)]: Using backend SequentialBackend with 1 concurrent workers.\n",
            "[Parallel(n_jobs=1)]: Done   1 out of   1 | elapsed:    0.5s finished\n"
          ],
          "name": "stderr"
        },
        {
          "output_type": "stream",
          "text": [
            "Learning embedding vectors...\n",
            "Learning embedding vectors done!\n",
            "---> run_4_google_news_5w1h_graph_hin.nx 64 0.25 0.25 f1_macro 0.5113378684807256 acc 0.52\n",
            "Preprocess transition probs...\n"
          ],
          "name": "stdout"
        },
        {
          "output_type": "stream",
          "text": [
            "[Parallel(n_jobs=1)]: Using backend SequentialBackend with 1 concurrent workers.\n",
            "[Parallel(n_jobs=1)]: Done   1 out of   1 | elapsed:    0.4s finished\n"
          ],
          "name": "stderr"
        },
        {
          "output_type": "stream",
          "text": [
            "Learning embedding vectors...\n",
            "Learning embedding vectors done!\n",
            "---> run_2_google_news_5w1h_graph_hin.nx 64 0.5 1 f1_macro 0.6192022263450835 acc 0.64\n",
            "Preprocess transition probs...\n"
          ],
          "name": "stdout"
        },
        {
          "output_type": "stream",
          "text": [
            "[Parallel(n_jobs=1)]: Using backend SequentialBackend with 1 concurrent workers.\n",
            "[Parallel(n_jobs=1)]: Done   1 out of   1 | elapsed:    0.4s finished\n"
          ],
          "name": "stderr"
        },
        {
          "output_type": "stream",
          "text": [
            "Learning embedding vectors...\n",
            "Learning embedding vectors done!\n",
            "---> run_2_google_news_5w1h_graph_hin.nx 64 1 2 f1_macro 0.575139146567718 acc 0.56\n",
            "Preprocess transition probs...\n"
          ],
          "name": "stdout"
        },
        {
          "output_type": "stream",
          "text": [
            "[Parallel(n_jobs=1)]: Using backend SequentialBackend with 1 concurrent workers.\n",
            "[Parallel(n_jobs=1)]: Done   1 out of   1 | elapsed:    0.4s finished\n"
          ],
          "name": "stderr"
        },
        {
          "output_type": "stream",
          "text": [
            "Learning embedding vectors...\n",
            "Learning embedding vectors done!\n",
            "---> run_2_google_news_5w1h_graph_hin.nx 64 0.25 0.25 f1_macro 0.5781440781440781 acc 0.6\n",
            "Preprocess transition probs...\n"
          ],
          "name": "stdout"
        },
        {
          "output_type": "stream",
          "text": [
            "[Parallel(n_jobs=1)]: Using backend SequentialBackend with 1 concurrent workers.\n",
            "[Parallel(n_jobs=1)]: Done   1 out of   1 | elapsed:    1.2s finished\n"
          ],
          "name": "stderr"
        },
        {
          "output_type": "stream",
          "text": [
            "Learning embedding vectors...\n",
            "Learning embedding vectors done!\n",
            "---> run_7_gold_standard_5w1h_graph_hin.nx 64 0.5 1 f1_macro 0.5001033154879309 acc 0.6447368421052632\n",
            "Preprocess transition probs...\n"
          ],
          "name": "stdout"
        },
        {
          "output_type": "stream",
          "text": [
            "[Parallel(n_jobs=1)]: Using backend SequentialBackend with 1 concurrent workers.\n",
            "[Parallel(n_jobs=1)]: Done   1 out of   1 | elapsed:    1.2s finished\n"
          ],
          "name": "stderr"
        },
        {
          "output_type": "stream",
          "text": [
            "Learning embedding vectors...\n",
            "Learning embedding vectors done!\n",
            "---> run_7_gold_standard_5w1h_graph_hin.nx 64 1 2 f1_macro 0.45902883921770415 acc 0.6052631578947368\n",
            "Preprocess transition probs...\n"
          ],
          "name": "stdout"
        },
        {
          "output_type": "stream",
          "text": [
            "[Parallel(n_jobs=1)]: Using backend SequentialBackend with 1 concurrent workers.\n",
            "[Parallel(n_jobs=1)]: Done   1 out of   1 | elapsed:    1.1s finished\n"
          ],
          "name": "stderr"
        },
        {
          "output_type": "stream",
          "text": [
            "Learning embedding vectors...\n",
            "Learning embedding vectors done!\n",
            "---> run_7_gold_standard_5w1h_graph_hin.nx 64 0.25 0.25 f1_macro 0.5142979827190354 acc 0.618421052631579\n",
            "Preprocess transition probs...\n"
          ],
          "name": "stdout"
        },
        {
          "output_type": "stream",
          "text": [
            "[Parallel(n_jobs=1)]: Using backend SequentialBackend with 1 concurrent workers.\n",
            "[Parallel(n_jobs=1)]: Done   1 out of   1 | elapsed:    1.2s finished\n"
          ],
          "name": "stderr"
        },
        {
          "output_type": "stream",
          "text": [
            "Learning embedding vectors...\n",
            "Learning embedding vectors done!\n",
            "---> run_4_gold_standard_5w1h_graph_hin.nx 64 0.5 1 f1_macro 0.46512993238404043 acc 0.6052631578947368\n",
            "Preprocess transition probs...\n"
          ],
          "name": "stdout"
        },
        {
          "output_type": "stream",
          "text": [
            "[Parallel(n_jobs=1)]: Using backend SequentialBackend with 1 concurrent workers.\n",
            "[Parallel(n_jobs=1)]: Done   1 out of   1 | elapsed:    1.2s finished\n"
          ],
          "name": "stderr"
        },
        {
          "output_type": "stream",
          "text": [
            "Learning embedding vectors...\n",
            "Learning embedding vectors done!\n",
            "---> run_4_gold_standard_5w1h_graph_hin.nx 64 1 2 f1_macro 0.43122917674001265 acc 0.5394736842105263\n",
            "Preprocess transition probs...\n"
          ],
          "name": "stdout"
        },
        {
          "output_type": "stream",
          "text": [
            "[Parallel(n_jobs=1)]: Using backend SequentialBackend with 1 concurrent workers.\n",
            "[Parallel(n_jobs=1)]: Done   1 out of   1 | elapsed:    1.2s finished\n"
          ],
          "name": "stderr"
        },
        {
          "output_type": "stream",
          "text": [
            "Learning embedding vectors...\n",
            "Learning embedding vectors done!\n",
            "---> run_4_gold_standard_5w1h_graph_hin.nx 64 0.25 0.25 f1_macro 0.44031326430707235 acc 0.5657894736842105\n",
            "Preprocess transition probs...\n"
          ],
          "name": "stdout"
        },
        {
          "output_type": "stream",
          "text": [
            "[Parallel(n_jobs=1)]: Using backend SequentialBackend with 1 concurrent workers.\n",
            "[Parallel(n_jobs=1)]: Done   1 out of   1 | elapsed:    0.5s finished\n"
          ],
          "name": "stderr"
        },
        {
          "output_type": "stream",
          "text": [
            "Learning embedding vectors...\n",
            "Learning embedding vectors done!\n",
            "---> run_5_40er_5w1h_graph_hin.nx 64 0.5 1 f1_macro 0.5715854194115063 acc 0.59375\n",
            "Preprocess transition probs...\n"
          ],
          "name": "stdout"
        },
        {
          "output_type": "stream",
          "text": [
            "[Parallel(n_jobs=1)]: Using backend SequentialBackend with 1 concurrent workers.\n",
            "[Parallel(n_jobs=1)]: Done   1 out of   1 | elapsed:    0.5s finished\n"
          ],
          "name": "stderr"
        },
        {
          "output_type": "stream",
          "text": [
            "Learning embedding vectors...\n",
            "Learning embedding vectors done!\n",
            "---> run_5_40er_5w1h_graph_hin.nx 64 1 2 f1_macro 0.6407407407407408 acc 0.6875\n",
            "Preprocess transition probs...\n"
          ],
          "name": "stdout"
        },
        {
          "output_type": "stream",
          "text": [
            "[Parallel(n_jobs=1)]: Using backend SequentialBackend with 1 concurrent workers.\n",
            "[Parallel(n_jobs=1)]: Done   1 out of   1 | elapsed:    0.5s finished\n"
          ],
          "name": "stderr"
        },
        {
          "output_type": "stream",
          "text": [
            "Learning embedding vectors...\n",
            "Learning embedding vectors done!\n",
            "---> run_5_40er_5w1h_graph_hin.nx 64 0.25 0.25 f1_macro 0.5666666666666665 acc 0.59375\n",
            "Preprocess transition probs...\n"
          ],
          "name": "stdout"
        },
        {
          "output_type": "stream",
          "text": [
            "[Parallel(n_jobs=1)]: Using backend SequentialBackend with 1 concurrent workers.\n",
            "[Parallel(n_jobs=1)]: Done   1 out of   1 | elapsed:    1.1s finished\n"
          ],
          "name": "stderr"
        },
        {
          "output_type": "stream",
          "text": [
            "Learning embedding vectors...\n",
            "Learning embedding vectors done!\n",
            "---> run_3_gold_standard_5w1h_graph_hin.nx 64 0.5 1 f1_macro 0.5325663006584059 acc 0.6710526315789473\n",
            "Preprocess transition probs...\n"
          ],
          "name": "stdout"
        },
        {
          "output_type": "stream",
          "text": [
            "[Parallel(n_jobs=1)]: Using backend SequentialBackend with 1 concurrent workers.\n",
            "[Parallel(n_jobs=1)]: Done   1 out of   1 | elapsed:    1.2s finished\n"
          ],
          "name": "stderr"
        },
        {
          "output_type": "stream",
          "text": [
            "Learning embedding vectors...\n",
            "Learning embedding vectors done!\n",
            "---> run_3_gold_standard_5w1h_graph_hin.nx 64 1 2 f1_macro 0.5548753650155251 acc 0.6447368421052632\n",
            "Preprocess transition probs...\n"
          ],
          "name": "stdout"
        },
        {
          "output_type": "stream",
          "text": [
            "[Parallel(n_jobs=1)]: Using backend SequentialBackend with 1 concurrent workers.\n",
            "[Parallel(n_jobs=1)]: Done   1 out of   1 | elapsed:    1.1s finished\n"
          ],
          "name": "stderr"
        },
        {
          "output_type": "stream",
          "text": [
            "Learning embedding vectors...\n",
            "Learning embedding vectors done!\n",
            "---> run_3_gold_standard_5w1h_graph_hin.nx 64 0.25 0.25 f1_macro 0.5276482495832341 acc 0.6842105263157895\n",
            "Preprocess transition probs...\n"
          ],
          "name": "stdout"
        },
        {
          "output_type": "stream",
          "text": [
            "[Parallel(n_jobs=1)]: Using backend SequentialBackend with 1 concurrent workers.\n",
            "[Parallel(n_jobs=1)]: Done   1 out of   1 | elapsed:    0.6s finished\n"
          ],
          "name": "stderr"
        },
        {
          "output_type": "stream",
          "text": [
            "Learning embedding vectors...\n",
            "Learning embedding vectors done!\n",
            "---> run_4_40er_5w1h_graph_hin.nx 64 0.5 1 f1_macro 0.5780476833108412 acc 0.6875\n",
            "Preprocess transition probs...\n"
          ],
          "name": "stdout"
        },
        {
          "output_type": "stream",
          "text": [
            "[Parallel(n_jobs=1)]: Using backend SequentialBackend with 1 concurrent workers.\n",
            "[Parallel(n_jobs=1)]: Done   1 out of   1 | elapsed:    0.5s finished\n"
          ],
          "name": "stderr"
        },
        {
          "output_type": "stream",
          "text": [
            "Learning embedding vectors...\n",
            "Learning embedding vectors done!\n",
            "---> run_4_40er_5w1h_graph_hin.nx 64 1 2 f1_macro 0.5780476833108412 acc 0.6875\n",
            "Preprocess transition probs...\n"
          ],
          "name": "stdout"
        },
        {
          "output_type": "stream",
          "text": [
            "[Parallel(n_jobs=1)]: Using backend SequentialBackend with 1 concurrent workers.\n",
            "[Parallel(n_jobs=1)]: Done   1 out of   1 | elapsed:    0.5s finished\n"
          ],
          "name": "stderr"
        },
        {
          "output_type": "stream",
          "text": [
            "Learning embedding vectors...\n",
            "Learning embedding vectors done!\n",
            "---> run_4_40er_5w1h_graph_hin.nx 64 0.25 0.25 f1_macro 0.6 acc 0.71875\n",
            "Preprocess transition probs...\n"
          ],
          "name": "stdout"
        },
        {
          "output_type": "stream",
          "text": [
            "[Parallel(n_jobs=1)]: Using backend SequentialBackend with 1 concurrent workers.\n",
            "[Parallel(n_jobs=1)]: Done   1 out of   1 | elapsed:    0.4s finished\n"
          ],
          "name": "stderr"
        },
        {
          "output_type": "stream",
          "text": [
            "Learning embedding vectors...\n",
            "Learning embedding vectors done!\n",
            "---> run_5_google_news_5w1h_graph_hin.nx 64 0.5 1 f1_macro 0.6476190476190478 acc 0.76\n",
            "Preprocess transition probs...\n"
          ],
          "name": "stdout"
        },
        {
          "output_type": "stream",
          "text": [
            "[Parallel(n_jobs=1)]: Using backend SequentialBackend with 1 concurrent workers.\n",
            "[Parallel(n_jobs=1)]: Done   1 out of   1 | elapsed:    0.5s finished\n"
          ],
          "name": "stderr"
        },
        {
          "output_type": "stream",
          "text": [
            "Learning embedding vectors...\n",
            "Learning embedding vectors done!\n",
            "---> run_5_google_news_5w1h_graph_hin.nx 64 1 2 f1_macro 0.6419191919191919 acc 0.68\n",
            "Preprocess transition probs...\n"
          ],
          "name": "stdout"
        },
        {
          "output_type": "stream",
          "text": [
            "[Parallel(n_jobs=1)]: Using backend SequentialBackend with 1 concurrent workers.\n",
            "[Parallel(n_jobs=1)]: Done   1 out of   1 | elapsed:    0.4s finished\n"
          ],
          "name": "stderr"
        },
        {
          "output_type": "stream",
          "text": [
            "Learning embedding vectors...\n",
            "Learning embedding vectors done!\n",
            "---> run_5_google_news_5w1h_graph_hin.nx 64 0.25 0.25 f1_macro 0.7893217893217893 acc 0.8\n",
            "Preprocess transition probs...\n"
          ],
          "name": "stdout"
        },
        {
          "output_type": "stream",
          "text": [
            "[Parallel(n_jobs=1)]: Using backend SequentialBackend with 1 concurrent workers.\n",
            "[Parallel(n_jobs=1)]: Done   1 out of   1 | elapsed:    5.2s finished\n"
          ],
          "name": "stderr"
        },
        {
          "output_type": "stream",
          "text": [
            "Learning embedding vectors...\n",
            "Learning embedding vectors done!\n",
            "---> run_10_news_cluster_5w1h_graph_hin.nx 64 0.5 1 f1_macro 0.5453889352029491 acc 0.6372549019607843\n",
            "Preprocess transition probs...\n"
          ],
          "name": "stdout"
        },
        {
          "output_type": "stream",
          "text": [
            "[Parallel(n_jobs=1)]: Using backend SequentialBackend with 1 concurrent workers.\n",
            "[Parallel(n_jobs=1)]: Done   1 out of   1 | elapsed:    5.2s finished\n"
          ],
          "name": "stderr"
        },
        {
          "output_type": "stream",
          "text": [
            "Learning embedding vectors...\n",
            "Learning embedding vectors done!\n",
            "---> run_10_news_cluster_5w1h_graph_hin.nx 64 1 2 f1_macro 0.5367177771242113 acc 0.630718954248366\n",
            "Preprocess transition probs...\n"
          ],
          "name": "stdout"
        },
        {
          "output_type": "stream",
          "text": [
            "[Parallel(n_jobs=1)]: Using backend SequentialBackend with 1 concurrent workers.\n",
            "[Parallel(n_jobs=1)]: Done   1 out of   1 | elapsed:    4.9s finished\n"
          ],
          "name": "stderr"
        },
        {
          "output_type": "stream",
          "text": [
            "Learning embedding vectors...\n",
            "Learning embedding vectors done!\n",
            "---> run_10_news_cluster_5w1h_graph_hin.nx 64 0.25 0.25 f1_macro 0.5077998705502372 acc 0.6045751633986928\n",
            "Preprocess transition probs...\n"
          ],
          "name": "stdout"
        },
        {
          "output_type": "stream",
          "text": [
            "[Parallel(n_jobs=1)]: Using backend SequentialBackend with 1 concurrent workers.\n",
            "[Parallel(n_jobs=1)]: Done   1 out of   1 | elapsed:    0.6s finished\n"
          ],
          "name": "stderr"
        },
        {
          "output_type": "stream",
          "text": [
            "Learning embedding vectors...\n",
            "Learning embedding vectors done!\n",
            "---> run_10_40er_5w1h_graph_hin.nx 64 0.5 1 f1_macro 0.5609536662168241 acc 0.65625\n",
            "Preprocess transition probs...\n"
          ],
          "name": "stdout"
        },
        {
          "output_type": "stream",
          "text": [
            "[Parallel(n_jobs=1)]: Using backend SequentialBackend with 1 concurrent workers.\n",
            "[Parallel(n_jobs=1)]: Done   1 out of   1 | elapsed:    0.5s finished\n"
          ],
          "name": "stderr"
        },
        {
          "output_type": "stream",
          "text": [
            "Learning embedding vectors...\n",
            "Learning embedding vectors done!\n",
            "---> run_10_40er_5w1h_graph_hin.nx 64 1 2 f1_macro 0.606567830384186 acc 0.71875\n",
            "Preprocess transition probs...\n"
          ],
          "name": "stdout"
        },
        {
          "output_type": "stream",
          "text": [
            "[Parallel(n_jobs=1)]: Using backend SequentialBackend with 1 concurrent workers.\n",
            "[Parallel(n_jobs=1)]: Done   1 out of   1 | elapsed:    0.5s finished\n"
          ],
          "name": "stderr"
        },
        {
          "output_type": "stream",
          "text": [
            "Learning embedding vectors...\n",
            "Learning embedding vectors done!\n",
            "---> run_10_40er_5w1h_graph_hin.nx 64 0.25 0.25 f1_macro 0.606567830384186 acc 0.71875\n",
            "Preprocess transition probs...\n"
          ],
          "name": "stdout"
        },
        {
          "output_type": "stream",
          "text": [
            "[Parallel(n_jobs=1)]: Using backend SequentialBackend with 1 concurrent workers.\n",
            "[Parallel(n_jobs=1)]: Done   1 out of   1 | elapsed:    0.5s finished\n"
          ],
          "name": "stderr"
        },
        {
          "output_type": "stream",
          "text": [
            "Learning embedding vectors...\n",
            "Learning embedding vectors done!\n",
            "---> run_9_40er_5w1h_graph_hin.nx 64 0.5 1 f1_macro 0.6911451681566625 acc 0.75\n",
            "Preprocess transition probs...\n"
          ],
          "name": "stdout"
        },
        {
          "output_type": "stream",
          "text": [
            "[Parallel(n_jobs=1)]: Using backend SequentialBackend with 1 concurrent workers.\n",
            "[Parallel(n_jobs=1)]: Done   1 out of   1 | elapsed:    0.5s finished\n"
          ],
          "name": "stderr"
        },
        {
          "output_type": "stream",
          "text": [
            "Learning embedding vectors...\n",
            "Learning embedding vectors done!\n",
            "---> run_9_40er_5w1h_graph_hin.nx 64 1 2 f1_macro 0.6897435897435896 acc 0.75\n",
            "Preprocess transition probs...\n"
          ],
          "name": "stdout"
        },
        {
          "output_type": "stream",
          "text": [
            "[Parallel(n_jobs=1)]: Using backend SequentialBackend with 1 concurrent workers.\n",
            "[Parallel(n_jobs=1)]: Done   1 out of   1 | elapsed:    0.5s finished\n"
          ],
          "name": "stderr"
        },
        {
          "output_type": "stream",
          "text": [
            "Learning embedding vectors...\n",
            "Learning embedding vectors done!\n",
            "---> run_9_40er_5w1h_graph_hin.nx 64 0.25 0.25 f1_macro 0.7395698924731183 acc 0.8125\n",
            "Preprocess transition probs...\n"
          ],
          "name": "stdout"
        },
        {
          "output_type": "stream",
          "text": [
            "[Parallel(n_jobs=1)]: Using backend SequentialBackend with 1 concurrent workers.\n",
            "[Parallel(n_jobs=1)]: Done   1 out of   1 | elapsed:    0.4s finished\n"
          ],
          "name": "stderr"
        },
        {
          "output_type": "stream",
          "text": [
            "Learning embedding vectors...\n",
            "Learning embedding vectors done!\n",
            "---> run_10_google_news_5w1h_graph_hin.nx 64 0.5 1 f1_macro 0.6375957375957376 acc 0.72\n",
            "Preprocess transition probs...\n"
          ],
          "name": "stdout"
        },
        {
          "output_type": "stream",
          "text": [
            "[Parallel(n_jobs=1)]: Using backend SequentialBackend with 1 concurrent workers.\n",
            "[Parallel(n_jobs=1)]: Done   1 out of   1 | elapsed:    0.4s finished\n"
          ],
          "name": "stderr"
        },
        {
          "output_type": "stream",
          "text": [
            "Learning embedding vectors...\n",
            "Learning embedding vectors done!\n",
            "---> run_10_google_news_5w1h_graph_hin.nx 64 1 2 f1_macro 0.6770562770562771 acc 0.68\n",
            "Preprocess transition probs...\n"
          ],
          "name": "stdout"
        },
        {
          "output_type": "stream",
          "text": [
            "[Parallel(n_jobs=1)]: Using backend SequentialBackend with 1 concurrent workers.\n",
            "[Parallel(n_jobs=1)]: Done   1 out of   1 | elapsed:    0.4s finished\n"
          ],
          "name": "stderr"
        },
        {
          "output_type": "stream",
          "text": [
            "Learning embedding vectors...\n",
            "Learning embedding vectors done!\n",
            "---> run_10_google_news_5w1h_graph_hin.nx 64 0.25 0.25 f1_macro 0.6379097093382808 acc 0.64\n",
            "Preprocess transition probs...\n"
          ],
          "name": "stdout"
        },
        {
          "output_type": "stream",
          "text": [
            "[Parallel(n_jobs=1)]: Using backend SequentialBackend with 1 concurrent workers.\n",
            "[Parallel(n_jobs=1)]: Done   1 out of   1 | elapsed:    0.4s finished\n"
          ],
          "name": "stderr"
        },
        {
          "output_type": "stream",
          "text": [
            "Learning embedding vectors...\n",
            "Learning embedding vectors done!\n",
            "---> run_6_google_news_5w1h_graph_hin.nx 64 0.5 1 f1_macro 0.6062049062049061 acc 0.6\n",
            "Preprocess transition probs...\n"
          ],
          "name": "stdout"
        },
        {
          "output_type": "stream",
          "text": [
            "[Parallel(n_jobs=1)]: Using backend SequentialBackend with 1 concurrent workers.\n",
            "[Parallel(n_jobs=1)]: Done   1 out of   1 | elapsed:    0.5s finished\n"
          ],
          "name": "stderr"
        },
        {
          "output_type": "stream",
          "text": [
            "Learning embedding vectors...\n",
            "Learning embedding vectors done!\n",
            "---> run_6_google_news_5w1h_graph_hin.nx 64 1 2 f1_macro 0.5147828362114076 acc 0.56\n",
            "Preprocess transition probs...\n"
          ],
          "name": "stdout"
        },
        {
          "output_type": "stream",
          "text": [
            "[Parallel(n_jobs=1)]: Using backend SequentialBackend with 1 concurrent workers.\n",
            "[Parallel(n_jobs=1)]: Done   1 out of   1 | elapsed:    0.4s finished\n"
          ],
          "name": "stderr"
        },
        {
          "output_type": "stream",
          "text": [
            "Learning embedding vectors...\n",
            "Learning embedding vectors done!\n",
            "---> run_6_google_news_5w1h_graph_hin.nx 64 0.25 0.25 f1_macro 0.5142857142857143 acc 0.6\n",
            "Preprocess transition probs...\n"
          ],
          "name": "stdout"
        },
        {
          "output_type": "stream",
          "text": [
            "[Parallel(n_jobs=1)]: Using backend SequentialBackend with 1 concurrent workers.\n",
            "[Parallel(n_jobs=1)]: Done   1 out of   1 | elapsed:    5.1s finished\n"
          ],
          "name": "stderr"
        },
        {
          "output_type": "stream",
          "text": [
            "Learning embedding vectors...\n",
            "Learning embedding vectors done!\n",
            "---> run_1_news_cluster_5w1h_graph_hin.nx 64 0.5 1 f1_macro 0.5081374161243493 acc 0.6045751633986928\n",
            "Preprocess transition probs...\n"
          ],
          "name": "stdout"
        },
        {
          "output_type": "stream",
          "text": [
            "[Parallel(n_jobs=1)]: Using backend SequentialBackend with 1 concurrent workers.\n",
            "[Parallel(n_jobs=1)]: Done   1 out of   1 | elapsed:    5.1s finished\n"
          ],
          "name": "stderr"
        },
        {
          "output_type": "stream",
          "text": [
            "Learning embedding vectors...\n",
            "Learning embedding vectors done!\n",
            "---> run_1_news_cluster_5w1h_graph_hin.nx 64 1 2 f1_macro 0.5076628900876878 acc 0.6143790849673203\n",
            "Preprocess transition probs...\n"
          ],
          "name": "stdout"
        },
        {
          "output_type": "stream",
          "text": [
            "[Parallel(n_jobs=1)]: Using backend SequentialBackend with 1 concurrent workers.\n",
            "[Parallel(n_jobs=1)]: Done   1 out of   1 | elapsed:    7.2s finished\n"
          ],
          "name": "stderr"
        },
        {
          "output_type": "stream",
          "text": [
            "Learning embedding vectors...\n",
            "Learning embedding vectors done!\n",
            "---> run_1_news_cluster_5w1h_graph_hin.nx 64 0.25 0.25 f1_macro 0.49322905703232583 acc 0.6045751633986928\n",
            "Preprocess transition probs...\n"
          ],
          "name": "stdout"
        },
        {
          "output_type": "stream",
          "text": [
            "[Parallel(n_jobs=1)]: Using backend SequentialBackend with 1 concurrent workers.\n",
            "[Parallel(n_jobs=1)]: Done   1 out of   1 | elapsed:    5.2s finished\n"
          ],
          "name": "stderr"
        },
        {
          "output_type": "stream",
          "text": [
            "Learning embedding vectors...\n",
            "Learning embedding vectors done!\n",
            "---> run_3_news_cluster_5w1h_graph_hin.nx 64 0.5 1 f1_macro 0.5171205154682069 acc 0.6176470588235294\n",
            "Preprocess transition probs...\n"
          ],
          "name": "stdout"
        },
        {
          "output_type": "stream",
          "text": [
            "[Parallel(n_jobs=1)]: Using backend SequentialBackend with 1 concurrent workers.\n",
            "[Parallel(n_jobs=1)]: Done   1 out of   1 | elapsed:    5.3s finished\n"
          ],
          "name": "stderr"
        },
        {
          "output_type": "stream",
          "text": [
            "Learning embedding vectors...\n",
            "Learning embedding vectors done!\n",
            "---> run_3_news_cluster_5w1h_graph_hin.nx 64 1 2 f1_macro 0.5325218024031991 acc 0.6241830065359477\n",
            "Preprocess transition probs...\n"
          ],
          "name": "stdout"
        },
        {
          "output_type": "stream",
          "text": [
            "[Parallel(n_jobs=1)]: Using backend SequentialBackend with 1 concurrent workers.\n",
            "[Parallel(n_jobs=1)]: Done   1 out of   1 | elapsed:    4.9s finished\n"
          ],
          "name": "stderr"
        },
        {
          "output_type": "stream",
          "text": [
            "Learning embedding vectors...\n",
            "Learning embedding vectors done!\n",
            "---> run_3_news_cluster_5w1h_graph_hin.nx 64 0.25 0.25 f1_macro 0.5297609864992855 acc 0.6176470588235294\n",
            "Preprocess transition probs...\n"
          ],
          "name": "stdout"
        },
        {
          "output_type": "stream",
          "text": [
            "[Parallel(n_jobs=1)]: Using backend SequentialBackend with 1 concurrent workers.\n",
            "[Parallel(n_jobs=1)]: Done   1 out of   1 | elapsed:    5.3s finished\n"
          ],
          "name": "stderr"
        },
        {
          "output_type": "stream",
          "text": [
            "Learning embedding vectors...\n",
            "Learning embedding vectors done!\n",
            "---> run_5_news_cluster_5w1h_graph_hin.nx 64 0.5 1 f1_macro 0.5401553019672668 acc 0.6470588235294118\n",
            "Preprocess transition probs...\n"
          ],
          "name": "stdout"
        },
        {
          "output_type": "stream",
          "text": [
            "[Parallel(n_jobs=1)]: Using backend SequentialBackend with 1 concurrent workers.\n",
            "[Parallel(n_jobs=1)]: Done   1 out of   1 | elapsed:    5.1s finished\n"
          ],
          "name": "stderr"
        },
        {
          "output_type": "stream",
          "text": [
            "Learning embedding vectors...\n",
            "Learning embedding vectors done!\n",
            "---> run_5_news_cluster_5w1h_graph_hin.nx 64 1 2 f1_macro 0.5614326790477684 acc 0.6568627450980392\n",
            "Preprocess transition probs...\n"
          ],
          "name": "stdout"
        },
        {
          "output_type": "stream",
          "text": [
            "[Parallel(n_jobs=1)]: Using backend SequentialBackend with 1 concurrent workers.\n",
            "[Parallel(n_jobs=1)]: Done   1 out of   1 | elapsed:    4.9s finished\n"
          ],
          "name": "stderr"
        },
        {
          "output_type": "stream",
          "text": [
            "Learning embedding vectors...\n",
            "Learning embedding vectors done!\n",
            "---> run_5_news_cluster_5w1h_graph_hin.nx 64 0.25 0.25 f1_macro 0.5607054844469032 acc 0.6699346405228758\n",
            "Preprocess transition probs...\n"
          ],
          "name": "stdout"
        },
        {
          "output_type": "stream",
          "text": [
            "[Parallel(n_jobs=1)]: Using backend SequentialBackend with 1 concurrent workers.\n",
            "[Parallel(n_jobs=1)]: Done   1 out of   1 | elapsed:    5.1s finished\n"
          ],
          "name": "stderr"
        },
        {
          "output_type": "stream",
          "text": [
            "Learning embedding vectors...\n",
            "Learning embedding vectors done!\n",
            "---> run_4_news_cluster_5w1h_graph_hin.nx 64 0.5 1 f1_macro 0.4732008165148759 acc 0.5620915032679739\n",
            "Preprocess transition probs...\n"
          ],
          "name": "stdout"
        },
        {
          "output_type": "stream",
          "text": [
            "[Parallel(n_jobs=1)]: Using backend SequentialBackend with 1 concurrent workers.\n",
            "[Parallel(n_jobs=1)]: Done   1 out of   1 | elapsed:    5.3s finished\n"
          ],
          "name": "stderr"
        },
        {
          "output_type": "stream",
          "text": [
            "Learning embedding vectors...\n",
            "Learning embedding vectors done!\n",
            "---> run_4_news_cluster_5w1h_graph_hin.nx 64 1 2 f1_macro 0.461020987993534 acc 0.5490196078431373\n",
            "Preprocess transition probs...\n"
          ],
          "name": "stdout"
        },
        {
          "output_type": "stream",
          "text": [
            "[Parallel(n_jobs=1)]: Using backend SequentialBackend with 1 concurrent workers.\n",
            "[Parallel(n_jobs=1)]: Done   1 out of   1 | elapsed:    4.9s finished\n"
          ],
          "name": "stderr"
        },
        {
          "output_type": "stream",
          "text": [
            "Learning embedding vectors...\n",
            "Learning embedding vectors done!\n",
            "---> run_4_news_cluster_5w1h_graph_hin.nx 64 0.25 0.25 f1_macro 0.49107278706791774 acc 0.5816993464052288\n",
            "Preprocess transition probs...\n"
          ],
          "name": "stdout"
        },
        {
          "output_type": "stream",
          "text": [
            "[Parallel(n_jobs=1)]: Using backend SequentialBackend with 1 concurrent workers.\n",
            "[Parallel(n_jobs=1)]: Done   1 out of   1 | elapsed:    0.9s finished\n"
          ],
          "name": "stderr"
        },
        {
          "output_type": "stream",
          "text": [
            "Learning embedding vectors...\n",
            "Learning embedding vectors done!\n",
            "---> run_7_bbc_5w1h_graph_hin.nx 64 0.5 1 f1_macro 0.4355398986977934 acc 0.45454545454545453\n",
            "Preprocess transition probs...\n"
          ],
          "name": "stdout"
        },
        {
          "output_type": "stream",
          "text": [
            "[Parallel(n_jobs=1)]: Using backend SequentialBackend with 1 concurrent workers.\n",
            "[Parallel(n_jobs=1)]: Done   1 out of   1 | elapsed:    0.7s finished\n"
          ],
          "name": "stderr"
        },
        {
          "output_type": "stream",
          "text": [
            "Learning embedding vectors...\n",
            "Learning embedding vectors done!\n",
            "---> run_7_bbc_5w1h_graph_hin.nx 64 1 2 f1_macro 0.515185520361991 acc 0.5227272727272727\n",
            "Preprocess transition probs...\n"
          ],
          "name": "stdout"
        },
        {
          "output_type": "stream",
          "text": [
            "[Parallel(n_jobs=1)]: Using backend SequentialBackend with 1 concurrent workers.\n",
            "[Parallel(n_jobs=1)]: Done   1 out of   1 | elapsed:    0.7s finished\n"
          ],
          "name": "stderr"
        },
        {
          "output_type": "stream",
          "text": [
            "Learning embedding vectors...\n",
            "Learning embedding vectors done!\n",
            "---> run_7_bbc_5w1h_graph_hin.nx 64 0.25 0.25 f1_macro 0.3880744092508798 acc 0.4318181818181818\n",
            "Preprocess transition probs...\n"
          ],
          "name": "stdout"
        },
        {
          "output_type": "stream",
          "text": [
            "[Parallel(n_jobs=1)]: Using backend SequentialBackend with 1 concurrent workers.\n",
            "[Parallel(n_jobs=1)]: Done   1 out of   1 | elapsed:    1.2s finished\n"
          ],
          "name": "stderr"
        },
        {
          "output_type": "stream",
          "text": [
            "Learning embedding vectors...\n",
            "Learning embedding vectors done!\n",
            "---> run_1_gold_standard_5w1h_graph_hin.nx 64 0.5 1 f1_macro 0.5973814312049606 acc 0.6710526315789473\n",
            "Preprocess transition probs...\n"
          ],
          "name": "stdout"
        },
        {
          "output_type": "stream",
          "text": [
            "[Parallel(n_jobs=1)]: Using backend SequentialBackend with 1 concurrent workers.\n",
            "[Parallel(n_jobs=1)]: Done   1 out of   1 | elapsed:    1.2s finished\n"
          ],
          "name": "stderr"
        },
        {
          "output_type": "stream",
          "text": [
            "Learning embedding vectors...\n",
            "Learning embedding vectors done!\n",
            "---> run_1_gold_standard_5w1h_graph_hin.nx 64 1 2 f1_macro 0.6341276914806326 acc 0.7236842105263158\n",
            "Preprocess transition probs...\n"
          ],
          "name": "stdout"
        },
        {
          "output_type": "stream",
          "text": [
            "[Parallel(n_jobs=1)]: Using backend SequentialBackend with 1 concurrent workers.\n",
            "[Parallel(n_jobs=1)]: Done   1 out of   1 | elapsed:    1.2s finished\n"
          ],
          "name": "stderr"
        },
        {
          "output_type": "stream",
          "text": [
            "Learning embedding vectors...\n",
            "Learning embedding vectors done!\n",
            "---> run_1_gold_standard_5w1h_graph_hin.nx 64 0.25 0.25 f1_macro 0.6662533491657533 acc 0.75\n",
            "Preprocess transition probs...\n"
          ],
          "name": "stdout"
        },
        {
          "output_type": "stream",
          "text": [
            "[Parallel(n_jobs=1)]: Using backend SequentialBackend with 1 concurrent workers.\n",
            "[Parallel(n_jobs=1)]: Done   1 out of   1 | elapsed:    0.4s finished\n"
          ],
          "name": "stderr"
        },
        {
          "output_type": "stream",
          "text": [
            "Learning embedding vectors...\n",
            "Learning embedding vectors done!\n",
            "---> run_7_google_news_5w1h_graph_hin.nx 64 0.5 1 f1_macro 0.41457352171637885 acc 0.44\n",
            "Preprocess transition probs...\n"
          ],
          "name": "stdout"
        },
        {
          "output_type": "stream",
          "text": [
            "[Parallel(n_jobs=1)]: Using backend SequentialBackend with 1 concurrent workers.\n",
            "[Parallel(n_jobs=1)]: Done   1 out of   1 | elapsed:    0.4s finished\n"
          ],
          "name": "stderr"
        },
        {
          "output_type": "stream",
          "text": [
            "Learning embedding vectors...\n",
            "Learning embedding vectors done!\n",
            "---> run_7_google_news_5w1h_graph_hin.nx 64 1 2 f1_macro 0.4581632653061224 acc 0.48\n",
            "Preprocess transition probs...\n"
          ],
          "name": "stdout"
        },
        {
          "output_type": "stream",
          "text": [
            "[Parallel(n_jobs=1)]: Using backend SequentialBackend with 1 concurrent workers.\n",
            "[Parallel(n_jobs=1)]: Done   1 out of   1 | elapsed:    0.5s finished\n"
          ],
          "name": "stderr"
        },
        {
          "output_type": "stream",
          "text": [
            "Learning embedding vectors...\n",
            "Learning embedding vectors done!\n",
            "---> run_7_google_news_5w1h_graph_hin.nx 64 0.25 0.25 f1_macro 0.5357142857142857 acc 0.56\n",
            "Preprocess transition probs...\n"
          ],
          "name": "stdout"
        },
        {
          "output_type": "stream",
          "text": [
            "[Parallel(n_jobs=1)]: Using backend SequentialBackend with 1 concurrent workers.\n",
            "[Parallel(n_jobs=1)]: Done   1 out of   1 | elapsed:    1.1s finished\n"
          ],
          "name": "stderr"
        },
        {
          "output_type": "stream",
          "text": [
            "Learning embedding vectors...\n",
            "Learning embedding vectors done!\n",
            "---> run_10_gold_standard_5w1h_graph_hin.nx 64 0.5 1 f1_macro 0.5440196499407025 acc 0.6578947368421053\n",
            "Preprocess transition probs...\n"
          ],
          "name": "stdout"
        },
        {
          "output_type": "stream",
          "text": [
            "[Parallel(n_jobs=1)]: Using backend SequentialBackend with 1 concurrent workers.\n",
            "[Parallel(n_jobs=1)]: Done   1 out of   1 | elapsed:    1.2s finished\n"
          ],
          "name": "stderr"
        },
        {
          "output_type": "stream",
          "text": [
            "Learning embedding vectors...\n",
            "Learning embedding vectors done!\n",
            "---> run_10_gold_standard_5w1h_graph_hin.nx 64 1 2 f1_macro 0.5730373792873793 acc 0.6842105263157895\n",
            "Preprocess transition probs...\n"
          ],
          "name": "stdout"
        },
        {
          "output_type": "stream",
          "text": [
            "[Parallel(n_jobs=1)]: Using backend SequentialBackend with 1 concurrent workers.\n",
            "[Parallel(n_jobs=1)]: Done   1 out of   1 | elapsed:    1.1s finished\n"
          ],
          "name": "stderr"
        },
        {
          "output_type": "stream",
          "text": [
            "Learning embedding vectors...\n",
            "Learning embedding vectors done!\n",
            "---> run_10_gold_standard_5w1h_graph_hin.nx 64 0.25 0.25 f1_macro 0.5303972133403572 acc 0.6842105263157895\n",
            "Preprocess transition probs...\n"
          ],
          "name": "stdout"
        },
        {
          "output_type": "stream",
          "text": [
            "[Parallel(n_jobs=1)]: Using backend SequentialBackend with 1 concurrent workers.\n",
            "[Parallel(n_jobs=1)]: Done   1 out of   1 | elapsed:    1.3s finished\n"
          ],
          "name": "stderr"
        },
        {
          "output_type": "stream",
          "text": [
            "Learning embedding vectors...\n",
            "Learning embedding vectors done!\n",
            "---> run_6_gold_standard_5w1h_graph_hin.nx 64 0.5 1 f1_macro 0.6019248725131079 acc 0.7631578947368421\n",
            "Preprocess transition probs...\n"
          ],
          "name": "stdout"
        },
        {
          "output_type": "stream",
          "text": [
            "[Parallel(n_jobs=1)]: Using backend SequentialBackend with 1 concurrent workers.\n",
            "[Parallel(n_jobs=1)]: Done   1 out of   1 | elapsed:    1.2s finished\n"
          ],
          "name": "stderr"
        },
        {
          "output_type": "stream",
          "text": [
            "Learning embedding vectors...\n",
            "Learning embedding vectors done!\n",
            "---> run_6_gold_standard_5w1h_graph_hin.nx 64 1 2 f1_macro 0.6561222138428021 acc 0.7631578947368421\n",
            "Preprocess transition probs...\n"
          ],
          "name": "stdout"
        },
        {
          "output_type": "stream",
          "text": [
            "[Parallel(n_jobs=1)]: Using backend SequentialBackend with 1 concurrent workers.\n",
            "[Parallel(n_jobs=1)]: Done   1 out of   1 | elapsed:    1.1s finished\n"
          ],
          "name": "stderr"
        },
        {
          "output_type": "stream",
          "text": [
            "Learning embedding vectors...\n",
            "Learning embedding vectors done!\n",
            "---> run_6_gold_standard_5w1h_graph_hin.nx 64 0.25 0.25 f1_macro 0.5981435343783522 acc 0.75\n",
            "Preprocess transition probs...\n"
          ],
          "name": "stdout"
        },
        {
          "output_type": "stream",
          "text": [
            "[Parallel(n_jobs=1)]: Using backend SequentialBackend with 1 concurrent workers.\n",
            "[Parallel(n_jobs=1)]: Done   1 out of   1 | elapsed:    0.8s finished\n"
          ],
          "name": "stderr"
        },
        {
          "output_type": "stream",
          "text": [
            "Learning embedding vectors...\n",
            "Learning embedding vectors done!\n",
            "---> run_3_bbc_5w1h_graph_hin.nx 64 0.5 1 f1_macro 0.5488319729805797 acc 0.5681818181818182\n",
            "Preprocess transition probs...\n"
          ],
          "name": "stdout"
        },
        {
          "output_type": "stream",
          "text": [
            "[Parallel(n_jobs=1)]: Using backend SequentialBackend with 1 concurrent workers.\n",
            "[Parallel(n_jobs=1)]: Done   1 out of   1 | elapsed:    0.7s finished\n"
          ],
          "name": "stderr"
        },
        {
          "output_type": "stream",
          "text": [
            "Learning embedding vectors...\n",
            "Learning embedding vectors done!\n",
            "---> run_3_bbc_5w1h_graph_hin.nx 64 1 2 f1_macro 0.4495765842568912 acc 0.4772727272727273\n",
            "Preprocess transition probs...\n"
          ],
          "name": "stdout"
        },
        {
          "output_type": "stream",
          "text": [
            "[Parallel(n_jobs=1)]: Using backend SequentialBackend with 1 concurrent workers.\n",
            "[Parallel(n_jobs=1)]: Done   1 out of   1 | elapsed:    0.7s finished\n"
          ],
          "name": "stderr"
        },
        {
          "output_type": "stream",
          "text": [
            "Learning embedding vectors...\n",
            "Learning embedding vectors done!\n",
            "---> run_3_bbc_5w1h_graph_hin.nx 64 0.25 0.25 f1_macro 0.38488888888888895 acc 0.4318181818181818\n",
            "Preprocess transition probs...\n"
          ],
          "name": "stdout"
        },
        {
          "output_type": "stream",
          "text": [
            "[Parallel(n_jobs=1)]: Using backend SequentialBackend with 1 concurrent workers.\n",
            "[Parallel(n_jobs=1)]: Done   1 out of   1 | elapsed:    0.8s finished\n"
          ],
          "name": "stderr"
        },
        {
          "output_type": "stream",
          "text": [
            "Learning embedding vectors...\n",
            "Learning embedding vectors done!\n",
            "---> run_1_bbc_5w1h_graph_hin.nx 64 0.5 1 f1_macro 0.49492481203007516 acc 0.5\n",
            "Preprocess transition probs...\n"
          ],
          "name": "stdout"
        },
        {
          "output_type": "stream",
          "text": [
            "[Parallel(n_jobs=1)]: Using backend SequentialBackend with 1 concurrent workers.\n",
            "[Parallel(n_jobs=1)]: Done   1 out of   1 | elapsed:    0.7s finished\n"
          ],
          "name": "stderr"
        },
        {
          "output_type": "stream",
          "text": [
            "Learning embedding vectors...\n",
            "Learning embedding vectors done!\n",
            "---> run_1_bbc_5w1h_graph_hin.nx 64 1 2 f1_macro 0.47219047619047616 acc 0.45454545454545453\n",
            "Preprocess transition probs...\n"
          ],
          "name": "stdout"
        },
        {
          "output_type": "stream",
          "text": [
            "[Parallel(n_jobs=1)]: Using backend SequentialBackend with 1 concurrent workers.\n",
            "[Parallel(n_jobs=1)]: Done   1 out of   1 | elapsed:    0.7s finished\n"
          ],
          "name": "stderr"
        },
        {
          "output_type": "stream",
          "text": [
            "Learning embedding vectors...\n",
            "Learning embedding vectors done!\n",
            "---> run_1_bbc_5w1h_graph_hin.nx 64 0.25 0.25 f1_macro 0.5093137254901962 acc 0.5\n",
            "Preprocess transition probs...\n"
          ],
          "name": "stdout"
        },
        {
          "output_type": "stream",
          "text": [
            "[Parallel(n_jobs=1)]: Using backend SequentialBackend with 1 concurrent workers.\n",
            "[Parallel(n_jobs=1)]: Done   1 out of   1 | elapsed:    1.2s finished\n"
          ],
          "name": "stderr"
        },
        {
          "output_type": "stream",
          "text": [
            "Learning embedding vectors...\n",
            "Learning embedding vectors done!\n",
            "---> run_2_gold_standard_5w1h_graph_hin.nx 64 0.5 1 f1_macro 0.6669191919191918 acc 0.7368421052631579\n",
            "Preprocess transition probs...\n"
          ],
          "name": "stdout"
        },
        {
          "output_type": "stream",
          "text": [
            "[Parallel(n_jobs=1)]: Using backend SequentialBackend with 1 concurrent workers.\n",
            "[Parallel(n_jobs=1)]: Done   1 out of   1 | elapsed:    1.3s finished\n"
          ],
          "name": "stderr"
        },
        {
          "output_type": "stream",
          "text": [
            "Learning embedding vectors...\n",
            "Learning embedding vectors done!\n",
            "---> run_2_gold_standard_5w1h_graph_hin.nx 64 1 2 f1_macro 0.5656018817783524 acc 0.6973684210526315\n",
            "Preprocess transition probs...\n"
          ],
          "name": "stdout"
        },
        {
          "output_type": "stream",
          "text": [
            "[Parallel(n_jobs=1)]: Using backend SequentialBackend with 1 concurrent workers.\n",
            "[Parallel(n_jobs=1)]: Done   1 out of   1 | elapsed:    1.1s finished\n"
          ],
          "name": "stderr"
        },
        {
          "output_type": "stream",
          "text": [
            "Learning embedding vectors...\n",
            "Learning embedding vectors done!\n",
            "---> run_2_gold_standard_5w1h_graph_hin.nx 64 0.25 0.25 f1_macro 0.6315267335004178 acc 0.7105263157894737\n",
            "Preprocess transition probs...\n"
          ],
          "name": "stdout"
        },
        {
          "output_type": "stream",
          "text": [
            "[Parallel(n_jobs=1)]: Using backend SequentialBackend with 1 concurrent workers.\n",
            "[Parallel(n_jobs=1)]: Done   1 out of   1 | elapsed:    0.4s finished\n"
          ],
          "name": "stderr"
        },
        {
          "output_type": "stream",
          "text": [
            "Learning embedding vectors...\n",
            "Learning embedding vectors done!\n",
            "---> run_3_google_news_5w1h_graph_hin.nx 64 0.5 1 f1_macro 0.6222222222222221 acc 0.64\n",
            "Preprocess transition probs...\n"
          ],
          "name": "stdout"
        },
        {
          "output_type": "stream",
          "text": [
            "[Parallel(n_jobs=1)]: Using backend SequentialBackend with 1 concurrent workers.\n",
            "[Parallel(n_jobs=1)]: Done   1 out of   1 | elapsed:    0.5s finished\n"
          ],
          "name": "stderr"
        },
        {
          "output_type": "stream",
          "text": [
            "Learning embedding vectors...\n",
            "Learning embedding vectors done!\n",
            "---> run_3_google_news_5w1h_graph_hin.nx 64 1 2 f1_macro 0.6496598639455782 acc 0.68\n",
            "Preprocess transition probs...\n"
          ],
          "name": "stdout"
        },
        {
          "output_type": "stream",
          "text": [
            "[Parallel(n_jobs=1)]: Using backend SequentialBackend with 1 concurrent workers.\n",
            "[Parallel(n_jobs=1)]: Done   1 out of   1 | elapsed:    0.4s finished\n"
          ],
          "name": "stderr"
        },
        {
          "output_type": "stream",
          "text": [
            "Learning embedding vectors...\n",
            "Learning embedding vectors done!\n",
            "---> run_3_google_news_5w1h_graph_hin.nx 64 0.25 0.25 f1_macro 0.6815628815628816 acc 0.68\n",
            "Preprocess transition probs...\n"
          ],
          "name": "stdout"
        },
        {
          "output_type": "stream",
          "text": [
            "[Parallel(n_jobs=1)]: Using backend SequentialBackend with 1 concurrent workers.\n",
            "[Parallel(n_jobs=1)]: Done   1 out of   1 | elapsed:    0.8s finished\n"
          ],
          "name": "stderr"
        },
        {
          "output_type": "stream",
          "text": [
            "Learning embedding vectors...\n",
            "Learning embedding vectors done!\n",
            "---> run_9_bbc_5w1h_graph_hin.nx 64 0.5 1 f1_macro 0.502051282051282 acc 0.5\n",
            "Preprocess transition probs...\n"
          ],
          "name": "stdout"
        },
        {
          "output_type": "stream",
          "text": [
            "[Parallel(n_jobs=1)]: Using backend SequentialBackend with 1 concurrent workers.\n",
            "[Parallel(n_jobs=1)]: Done   1 out of   1 | elapsed:    0.8s finished\n"
          ],
          "name": "stderr"
        },
        {
          "output_type": "stream",
          "text": [
            "Learning embedding vectors...\n",
            "Learning embedding vectors done!\n",
            "---> run_9_bbc_5w1h_graph_hin.nx 64 1 2 f1_macro 0.45098039215686275 acc 0.45454545454545453\n",
            "Preprocess transition probs...\n"
          ],
          "name": "stdout"
        },
        {
          "output_type": "stream",
          "text": [
            "[Parallel(n_jobs=1)]: Using backend SequentialBackend with 1 concurrent workers.\n",
            "[Parallel(n_jobs=1)]: Done   1 out of   1 | elapsed:    0.7s finished\n"
          ],
          "name": "stderr"
        },
        {
          "output_type": "stream",
          "text": [
            "Learning embedding vectors...\n",
            "Learning embedding vectors done!\n",
            "---> run_9_bbc_5w1h_graph_hin.nx 64 0.25 0.25 f1_macro 0.41877192982456135 acc 0.4318181818181818\n",
            "Preprocess transition probs...\n"
          ],
          "name": "stdout"
        },
        {
          "output_type": "stream",
          "text": [
            "[Parallel(n_jobs=1)]: Using backend SequentialBackend with 1 concurrent workers.\n",
            "[Parallel(n_jobs=1)]: Done   1 out of   1 | elapsed:    0.5s finished\n"
          ],
          "name": "stderr"
        },
        {
          "output_type": "stream",
          "text": [
            "Learning embedding vectors...\n",
            "Learning embedding vectors done!\n",
            "---> run_2_40er_5w1h_graph_hin.nx 64 0.5 1 f1_macro 0.44534778681120146 acc 0.65625\n",
            "Preprocess transition probs...\n"
          ],
          "name": "stdout"
        },
        {
          "output_type": "stream",
          "text": [
            "[Parallel(n_jobs=1)]: Using backend SequentialBackend with 1 concurrent workers.\n",
            "[Parallel(n_jobs=1)]: Done   1 out of   1 | elapsed:    0.6s finished\n"
          ],
          "name": "stderr"
        },
        {
          "output_type": "stream",
          "text": [
            "Learning embedding vectors...\n",
            "Learning embedding vectors done!\n",
            "---> run_2_40er_5w1h_graph_hin.nx 64 1 2 f1_macro 0.4563953488372093 acc 0.65625\n",
            "Preprocess transition probs...\n"
          ],
          "name": "stdout"
        },
        {
          "output_type": "stream",
          "text": [
            "[Parallel(n_jobs=1)]: Using backend SequentialBackend with 1 concurrent workers.\n",
            "[Parallel(n_jobs=1)]: Done   1 out of   1 | elapsed:    0.4s finished\n"
          ],
          "name": "stderr"
        },
        {
          "output_type": "stream",
          "text": [
            "Learning embedding vectors...\n",
            "Learning embedding vectors done!\n",
            "---> run_2_40er_5w1h_graph_hin.nx 64 0.25 0.25 f1_macro 0.42020202020202024 acc 0.625\n",
            "Preprocess transition probs...\n"
          ],
          "name": "stdout"
        },
        {
          "output_type": "stream",
          "text": [
            "[Parallel(n_jobs=1)]: Using backend SequentialBackend with 1 concurrent workers.\n",
            "[Parallel(n_jobs=1)]: Done   1 out of   1 | elapsed:    0.8s finished\n"
          ],
          "name": "stderr"
        },
        {
          "output_type": "stream",
          "text": [
            "Learning embedding vectors...\n",
            "Learning embedding vectors done!\n",
            "---> run_8_bbc_5w1h_graph_hin.nx 64 0.5 1 f1_macro 0.3940740740740741 acc 0.38636363636363635\n",
            "Preprocess transition probs...\n"
          ],
          "name": "stdout"
        },
        {
          "output_type": "stream",
          "text": [
            "[Parallel(n_jobs=1)]: Using backend SequentialBackend with 1 concurrent workers.\n",
            "[Parallel(n_jobs=1)]: Done   1 out of   1 | elapsed:    0.8s finished\n"
          ],
          "name": "stderr"
        },
        {
          "output_type": "stream",
          "text": [
            "Learning embedding vectors...\n",
            "Learning embedding vectors done!\n",
            "---> run_8_bbc_5w1h_graph_hin.nx 64 1 2 f1_macro 0.4358513931888545 acc 0.4318181818181818\n",
            "Preprocess transition probs...\n"
          ],
          "name": "stdout"
        },
        {
          "output_type": "stream",
          "text": [
            "[Parallel(n_jobs=1)]: Using backend SequentialBackend with 1 concurrent workers.\n",
            "[Parallel(n_jobs=1)]: Done   1 out of   1 | elapsed:    0.7s finished\n"
          ],
          "name": "stderr"
        },
        {
          "output_type": "stream",
          "text": [
            "Learning embedding vectors...\n",
            "Learning embedding vectors done!\n",
            "---> run_8_bbc_5w1h_graph_hin.nx 64 0.25 0.25 f1_macro 0.4326084441873916 acc 0.4318181818181818\n",
            "Preprocess transition probs...\n"
          ],
          "name": "stdout"
        },
        {
          "output_type": "stream",
          "text": [
            "[Parallel(n_jobs=1)]: Using backend SequentialBackend with 1 concurrent workers.\n",
            "[Parallel(n_jobs=1)]: Done   1 out of   1 | elapsed:    5.1s finished\n"
          ],
          "name": "stderr"
        },
        {
          "output_type": "stream",
          "text": [
            "Learning embedding vectors...\n",
            "Learning embedding vectors done!\n",
            "---> run_6_news_cluster_5w1h_graph_hin.nx 64 0.5 1 f1_macro 0.5183370700102624 acc 0.6013071895424836\n",
            "Preprocess transition probs...\n"
          ],
          "name": "stdout"
        },
        {
          "output_type": "stream",
          "text": [
            "[Parallel(n_jobs=1)]: Using backend SequentialBackend with 1 concurrent workers.\n",
            "[Parallel(n_jobs=1)]: Done   1 out of   1 | elapsed:    5.2s finished\n"
          ],
          "name": "stderr"
        },
        {
          "output_type": "stream",
          "text": [
            "Learning embedding vectors...\n",
            "Learning embedding vectors done!\n",
            "---> run_6_news_cluster_5w1h_graph_hin.nx 64 1 2 f1_macro 0.5318543930086003 acc 0.6176470588235294\n",
            "Preprocess transition probs...\n"
          ],
          "name": "stdout"
        },
        {
          "output_type": "stream",
          "text": [
            "[Parallel(n_jobs=1)]: Using backend SequentialBackend with 1 concurrent workers.\n",
            "[Parallel(n_jobs=1)]: Done   1 out of   1 | elapsed:    4.9s finished\n"
          ],
          "name": "stderr"
        },
        {
          "output_type": "stream",
          "text": [
            "Learning embedding vectors...\n",
            "Learning embedding vectors done!\n",
            "---> run_6_news_cluster_5w1h_graph_hin.nx 64 0.25 0.25 f1_macro 0.5248337520145933 acc 0.5947712418300654\n",
            "Preprocess transition probs...\n"
          ],
          "name": "stdout"
        },
        {
          "output_type": "stream",
          "text": [
            "[Parallel(n_jobs=1)]: Using backend SequentialBackend with 1 concurrent workers.\n",
            "[Parallel(n_jobs=1)]: Done   1 out of   1 | elapsed:    0.5s finished\n"
          ],
          "name": "stderr"
        },
        {
          "output_type": "stream",
          "text": [
            "Learning embedding vectors...\n",
            "Learning embedding vectors done!\n",
            "---> run_1_40er_5w1h_graph_hin.nx 64 0.5 1 f1_macro 0.5446775446775446 acc 0.75\n",
            "Preprocess transition probs...\n"
          ],
          "name": "stdout"
        },
        {
          "output_type": "stream",
          "text": [
            "[Parallel(n_jobs=1)]: Using backend SequentialBackend with 1 concurrent workers.\n",
            "[Parallel(n_jobs=1)]: Done   1 out of   1 | elapsed:    0.5s finished\n"
          ],
          "name": "stderr"
        },
        {
          "output_type": "stream",
          "text": [
            "Learning embedding vectors...\n",
            "Learning embedding vectors done!\n",
            "---> run_1_40er_5w1h_graph_hin.nx 64 1 2 f1_macro 0.5446775446775446 acc 0.75\n",
            "Preprocess transition probs...\n"
          ],
          "name": "stdout"
        },
        {
          "output_type": "stream",
          "text": [
            "[Parallel(n_jobs=1)]: Using backend SequentialBackend with 1 concurrent workers.\n",
            "[Parallel(n_jobs=1)]: Done   1 out of   1 | elapsed:    0.4s finished\n"
          ],
          "name": "stderr"
        },
        {
          "output_type": "stream",
          "text": [
            "Learning embedding vectors...\n",
            "Learning embedding vectors done!\n",
            "---> run_1_40er_5w1h_graph_hin.nx 64 0.25 0.25 f1_macro 0.5244755244755245 acc 0.71875\n",
            "Preprocess transition probs...\n"
          ],
          "name": "stdout"
        },
        {
          "output_type": "stream",
          "text": [
            "[Parallel(n_jobs=1)]: Using backend SequentialBackend with 1 concurrent workers.\n",
            "[Parallel(n_jobs=1)]: Done   1 out of   1 | elapsed:    5.1s finished\n"
          ],
          "name": "stderr"
        },
        {
          "output_type": "stream",
          "text": [
            "Learning embedding vectors...\n",
            "Learning embedding vectors done!\n",
            "---> run_7_news_cluster_5w1h_graph_hin.nx 64 0.5 1 f1_macro 0.5060221446535413 acc 0.6339869281045751\n",
            "Preprocess transition probs...\n"
          ],
          "name": "stdout"
        },
        {
          "output_type": "stream",
          "text": [
            "[Parallel(n_jobs=1)]: Using backend SequentialBackend with 1 concurrent workers.\n",
            "[Parallel(n_jobs=1)]: Done   1 out of   1 | elapsed:    5.1s finished\n"
          ],
          "name": "stderr"
        },
        {
          "output_type": "stream",
          "text": [
            "Learning embedding vectors...\n",
            "Learning embedding vectors done!\n",
            "---> run_7_news_cluster_5w1h_graph_hin.nx 64 1 2 f1_macro 0.4702002538236275 acc 0.5915032679738562\n",
            "Preprocess transition probs...\n"
          ],
          "name": "stdout"
        },
        {
          "output_type": "stream",
          "text": [
            "[Parallel(n_jobs=1)]: Using backend SequentialBackend with 1 concurrent workers.\n",
            "[Parallel(n_jobs=1)]: Done   1 out of   1 | elapsed:    5.0s finished\n"
          ],
          "name": "stderr"
        },
        {
          "output_type": "stream",
          "text": [
            "Learning embedding vectors...\n",
            "Learning embedding vectors done!\n",
            "---> run_7_news_cluster_5w1h_graph_hin.nx 64 0.25 0.25 f1_macro 0.47916729787745993 acc 0.5915032679738562\n",
            "Preprocess transition probs...\n"
          ],
          "name": "stdout"
        },
        {
          "output_type": "stream",
          "text": [
            "[Parallel(n_jobs=1)]: Using backend SequentialBackend with 1 concurrent workers.\n",
            "[Parallel(n_jobs=1)]: Done   1 out of   1 | elapsed:    0.5s finished\n"
          ],
          "name": "stderr"
        },
        {
          "output_type": "stream",
          "text": [
            "Learning embedding vectors...\n",
            "Learning embedding vectors done!\n",
            "---> run_3_40er_5w1h_graph_hin.nx 64 0.5 1 f1_macro 0.5935353535353536 acc 0.6875\n",
            "Preprocess transition probs...\n"
          ],
          "name": "stdout"
        },
        {
          "output_type": "stream",
          "text": [
            "[Parallel(n_jobs=1)]: Using backend SequentialBackend with 1 concurrent workers.\n",
            "[Parallel(n_jobs=1)]: Done   1 out of   1 | elapsed:    0.5s finished\n"
          ],
          "name": "stderr"
        },
        {
          "output_type": "stream",
          "text": [
            "Learning embedding vectors...\n",
            "Learning embedding vectors done!\n",
            "---> run_3_40er_5w1h_graph_hin.nx 64 1 2 f1_macro 0.6202020202020201 acc 0.71875\n",
            "Preprocess transition probs...\n"
          ],
          "name": "stdout"
        },
        {
          "output_type": "stream",
          "text": [
            "[Parallel(n_jobs=1)]: Using backend SequentialBackend with 1 concurrent workers.\n",
            "[Parallel(n_jobs=1)]: Done   1 out of   1 | elapsed:    0.5s finished\n"
          ],
          "name": "stderr"
        },
        {
          "output_type": "stream",
          "text": [
            "Learning embedding vectors...\n",
            "Learning embedding vectors done!\n",
            "---> run_3_40er_5w1h_graph_hin.nx 64 0.25 0.25 f1_macro 0.6606060606060606 acc 0.78125\n",
            "\n"
          ],
          "name": "stdout"
        }
      ]
    },
    {
      "cell_type": "code",
      "metadata": {
        "id": "SkJygOKqO805",
        "colab": {
          "base_uri": "https://localhost:8080/",
          "height": 623
        },
        "outputId": "f1b20d3b-904e-4c90-c250-f12c83aedd4d"
      },
      "source": [
        "import pandas as pd\r\n",
        "df_results = pd.DataFrame(experimental_results)\r\n",
        "df_results"
      ],
      "execution_count": null,
      "outputs": [
        {
          "output_type": "execute_result",
          "data": {
            "text/html": [
              "<div>\n",
              "<style scoped>\n",
              "    .dataframe tbody tr th:only-of-type {\n",
              "        vertical-align: middle;\n",
              "    }\n",
              "\n",
              "    .dataframe tbody tr th {\n",
              "        vertical-align: top;\n",
              "    }\n",
              "\n",
              "    .dataframe thead th {\n",
              "        text-align: right;\n",
              "    }\n",
              "</style>\n",
              "<table border=\"1\" class=\"dataframe\">\n",
              "  <thead>\n",
              "    <tr style=\"text-align: right;\">\n",
              "      <th></th>\n",
              "      <th>0</th>\n",
              "      <th>1</th>\n",
              "      <th>2</th>\n",
              "      <th>3</th>\n",
              "      <th>4</th>\n",
              "      <th>5</th>\n",
              "      <th>6</th>\n",
              "      <th>7</th>\n",
              "      <th>8</th>\n",
              "      <th>9</th>\n",
              "    </tr>\n",
              "  </thead>\n",
              "  <tbody>\n",
              "    <tr>\n",
              "      <th>0</th>\n",
              "      <td>run_1_google_news_5w1h_graph_hin.nx</td>\n",
              "      <td>64</td>\n",
              "      <td>0.50</td>\n",
              "      <td>1.00</td>\n",
              "      <td>f1_macro</td>\n",
              "      <td>0.499508</td>\n",
              "      <td>acc</td>\n",
              "      <td>0.560000</td>\n",
              "      <td>[Equifax breach, IPhone-X Green-Line, Star War...</td>\n",
              "      <td>[Vegas Shooting, IPhone-X Green-Line, Zimbabwe...</td>\n",
              "    </tr>\n",
              "    <tr>\n",
              "      <th>1</th>\n",
              "      <td>run_1_google_news_5w1h_graph_hin.nx</td>\n",
              "      <td>64</td>\n",
              "      <td>1.00</td>\n",
              "      <td>2.00</td>\n",
              "      <td>f1_macro</td>\n",
              "      <td>0.663291</td>\n",
              "      <td>acc</td>\n",
              "      <td>0.680000</td>\n",
              "      <td>[Equifax breach, IPhone-X Green-Line, Star War...</td>\n",
              "      <td>[Vegas Shooting, IPhone-X Green-Line, Star War...</td>\n",
              "    </tr>\n",
              "    <tr>\n",
              "      <th>2</th>\n",
              "      <td>run_1_google_news_5w1h_graph_hin.nx</td>\n",
              "      <td>64</td>\n",
              "      <td>0.25</td>\n",
              "      <td>0.25</td>\n",
              "      <td>f1_macro</td>\n",
              "      <td>0.626799</td>\n",
              "      <td>acc</td>\n",
              "      <td>0.720000</td>\n",
              "      <td>[Equifax breach, IPhone-X Green-Line, Star War...</td>\n",
              "      <td>[Zimbabwe, IPhone-X Green-Line, Star Wars: Bat...</td>\n",
              "    </tr>\n",
              "    <tr>\n",
              "      <th>3</th>\n",
              "      <td>run_6_40er_5w1h_graph_hin.nx</td>\n",
              "      <td>64</td>\n",
              "      <td>0.50</td>\n",
              "      <td>1.00</td>\n",
              "      <td>f1_macro</td>\n",
              "      <td>0.778860</td>\n",
              "      <td>acc</td>\n",
              "      <td>0.843750</td>\n",
              "      <td>[business, world, world, business, business, t...</td>\n",
              "      <td>[business, world, world, business, business, w...</td>\n",
              "    </tr>\n",
              "    <tr>\n",
              "      <th>4</th>\n",
              "      <td>run_6_40er_5w1h_graph_hin.nx</td>\n",
              "      <td>64</td>\n",
              "      <td>1.00</td>\n",
              "      <td>2.00</td>\n",
              "      <td>f1_macro</td>\n",
              "      <td>0.804233</td>\n",
              "      <td>acc</td>\n",
              "      <td>0.875000</td>\n",
              "      <td>[business, world, world, business, business, t...</td>\n",
              "      <td>[world, world, world, business, business, worl...</td>\n",
              "    </tr>\n",
              "    <tr>\n",
              "      <th>...</th>\n",
              "      <td>...</td>\n",
              "      <td>...</td>\n",
              "      <td>...</td>\n",
              "      <td>...</td>\n",
              "      <td>...</td>\n",
              "      <td>...</td>\n",
              "      <td>...</td>\n",
              "      <td>...</td>\n",
              "      <td>...</td>\n",
              "      <td>...</td>\n",
              "    </tr>\n",
              "    <tr>\n",
              "      <th>145</th>\n",
              "      <td>run_7_news_cluster_5w1h_graph_hin.nx</td>\n",
              "      <td>64</td>\n",
              "      <td>1.00</td>\n",
              "      <td>2.00</td>\n",
              "      <td>f1_macro</td>\n",
              "      <td>0.470200</td>\n",
              "      <td>acc</td>\n",
              "      <td>0.591503</td>\n",
              "      <td>[harambe, The_New_Infinity_War_Trailer, pittsb...</td>\n",
              "      <td>[harambe, thousands_flee_fireworks_explosion_a...</td>\n",
              "    </tr>\n",
              "    <tr>\n",
              "      <th>146</th>\n",
              "      <td>run_7_news_cluster_5w1h_graph_hin.nx</td>\n",
              "      <td>64</td>\n",
              "      <td>0.25</td>\n",
              "      <td>0.25</td>\n",
              "      <td>f1_macro</td>\n",
              "      <td>0.479167</td>\n",
              "      <td>acc</td>\n",
              "      <td>0.591503</td>\n",
              "      <td>[harambe, The_New_Infinity_War_Trailer, pittsb...</td>\n",
              "      <td>[harambe, thousands_flee_fireworks_explosion_a...</td>\n",
              "    </tr>\n",
              "    <tr>\n",
              "      <th>147</th>\n",
              "      <td>run_3_40er_5w1h_graph_hin.nx</td>\n",
              "      <td>64</td>\n",
              "      <td>0.50</td>\n",
              "      <td>1.00</td>\n",
              "      <td>f1_macro</td>\n",
              "      <td>0.593535</td>\n",
              "      <td>acc</td>\n",
              "      <td>0.687500</td>\n",
              "      <td>[business, world, world, business, technology,...</td>\n",
              "      <td>[world, world, world, business, business, busi...</td>\n",
              "    </tr>\n",
              "    <tr>\n",
              "      <th>148</th>\n",
              "      <td>run_3_40er_5w1h_graph_hin.nx</td>\n",
              "      <td>64</td>\n",
              "      <td>1.00</td>\n",
              "      <td>2.00</td>\n",
              "      <td>f1_macro</td>\n",
              "      <td>0.620202</td>\n",
              "      <td>acc</td>\n",
              "      <td>0.718750</td>\n",
              "      <td>[business, world, world, business, technology,...</td>\n",
              "      <td>[business, world, world, business, world, busi...</td>\n",
              "    </tr>\n",
              "    <tr>\n",
              "      <th>149</th>\n",
              "      <td>run_3_40er_5w1h_graph_hin.nx</td>\n",
              "      <td>64</td>\n",
              "      <td>0.25</td>\n",
              "      <td>0.25</td>\n",
              "      <td>f1_macro</td>\n",
              "      <td>0.660606</td>\n",
              "      <td>acc</td>\n",
              "      <td>0.781250</td>\n",
              "      <td>[business, world, world, business, technology,...</td>\n",
              "      <td>[business, world, world, business, business, w...</td>\n",
              "    </tr>\n",
              "  </tbody>\n",
              "</table>\n",
              "<p>150 rows × 10 columns</p>\n",
              "</div>"
            ],
            "text/plain": [
              "                                        0  ...                                                  9\n",
              "0     run_1_google_news_5w1h_graph_hin.nx  ...  [Vegas Shooting, IPhone-X Green-Line, Zimbabwe...\n",
              "1     run_1_google_news_5w1h_graph_hin.nx  ...  [Vegas Shooting, IPhone-X Green-Line, Star War...\n",
              "2     run_1_google_news_5w1h_graph_hin.nx  ...  [Zimbabwe, IPhone-X Green-Line, Star Wars: Bat...\n",
              "3            run_6_40er_5w1h_graph_hin.nx  ...  [business, world, world, business, business, w...\n",
              "4            run_6_40er_5w1h_graph_hin.nx  ...  [world, world, world, business, business, worl...\n",
              "..                                    ...  ...                                                ...\n",
              "145  run_7_news_cluster_5w1h_graph_hin.nx  ...  [harambe, thousands_flee_fireworks_explosion_a...\n",
              "146  run_7_news_cluster_5w1h_graph_hin.nx  ...  [harambe, thousands_flee_fireworks_explosion_a...\n",
              "147          run_3_40er_5w1h_graph_hin.nx  ...  [world, world, world, business, business, busi...\n",
              "148          run_3_40er_5w1h_graph_hin.nx  ...  [business, world, world, business, world, busi...\n",
              "149          run_3_40er_5w1h_graph_hin.nx  ...  [business, world, world, business, business, w...\n",
              "\n",
              "[150 rows x 10 columns]"
            ]
          },
          "metadata": {
            "tags": []
          },
          "execution_count": 9
        }
      ]
    },
    {
      "cell_type": "code",
      "metadata": {
        "id": "a6C6GpfPUgSQ"
      },
      "source": [
        "df_results.to_excel('node2vec_results_r1.xls')"
      ],
      "execution_count": null,
      "outputs": []
    },
    {
      "cell_type": "code",
      "metadata": {
        "id": "BavYcb1zxzvD"
      },
      "source": [
        ""
      ],
      "execution_count": null,
      "outputs": []
    }
  ]
}