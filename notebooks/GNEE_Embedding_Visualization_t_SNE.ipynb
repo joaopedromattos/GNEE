{
  "nbformat": 4,
  "nbformat_minor": 0,
  "metadata": {
    "colab": {
      "name": "GNEE Embedding Visualization - t-SNE.ipynb",
      "provenance": [],
      "collapsed_sections": []
    },
    "kernelspec": {
      "name": "python3",
      "display_name": "Python 3"
    },
    "widgets": {
      "application/vnd.jupyter.widget-state+json": {
        "52d27ceaf0234b10b1a4a3dee323402f": {
          "model_module": "@jupyter-widgets/controls",
          "model_name": "HBoxModel",
          "state": {
            "_view_name": "HBoxView",
            "_dom_classes": [],
            "_model_name": "HBoxModel",
            "_view_module": "@jupyter-widgets/controls",
            "_model_module_version": "1.5.0",
            "_view_count": null,
            "_view_module_version": "1.5.0",
            "box_style": "",
            "layout": "IPY_MODEL_5e3ddcbb6271457a83e0c93f238ec30f",
            "_model_module": "@jupyter-widgets/controls",
            "children": [
              "IPY_MODEL_7cdd98a3ca0c4d118eaef1f7a192777f",
              "IPY_MODEL_da2866be4874411994d26afd468fd8ec"
            ]
          }
        },
        "5e3ddcbb6271457a83e0c93f238ec30f": {
          "model_module": "@jupyter-widgets/base",
          "model_name": "LayoutModel",
          "state": {
            "_view_name": "LayoutView",
            "grid_template_rows": null,
            "right": null,
            "justify_content": null,
            "_view_module": "@jupyter-widgets/base",
            "overflow": null,
            "_model_module_version": "1.2.0",
            "_view_count": null,
            "flex_flow": null,
            "width": null,
            "min_width": null,
            "border": null,
            "align_items": null,
            "bottom": null,
            "_model_module": "@jupyter-widgets/base",
            "top": null,
            "grid_column": null,
            "overflow_y": null,
            "overflow_x": null,
            "grid_auto_flow": null,
            "grid_area": null,
            "grid_template_columns": null,
            "flex": null,
            "_model_name": "LayoutModel",
            "justify_items": null,
            "grid_row": null,
            "max_height": null,
            "align_content": null,
            "visibility": null,
            "align_self": null,
            "height": null,
            "min_height": null,
            "padding": null,
            "grid_auto_rows": null,
            "grid_gap": null,
            "max_width": null,
            "order": null,
            "_view_module_version": "1.2.0",
            "grid_template_areas": null,
            "object_position": null,
            "object_fit": null,
            "grid_auto_columns": null,
            "margin": null,
            "display": null,
            "left": null
          }
        },
        "7cdd98a3ca0c4d118eaef1f7a192777f": {
          "model_module": "@jupyter-widgets/controls",
          "model_name": "FloatProgressModel",
          "state": {
            "_view_name": "ProgressView",
            "style": "IPY_MODEL_1b9857f669114f898c168d861c6b838f",
            "_dom_classes": [],
            "description": "100%",
            "_model_name": "FloatProgressModel",
            "bar_style": "success",
            "max": 1,
            "_view_module": "@jupyter-widgets/controls",
            "_model_module_version": "1.5.0",
            "value": 1,
            "_view_count": null,
            "_view_module_version": "1.5.0",
            "orientation": "horizontal",
            "min": 0,
            "description_tooltip": null,
            "_model_module": "@jupyter-widgets/controls",
            "layout": "IPY_MODEL_3d45ebfc32b9418d96d68f28a4ca68a1"
          }
        },
        "da2866be4874411994d26afd468fd8ec": {
          "model_module": "@jupyter-widgets/controls",
          "model_name": "HTMLModel",
          "state": {
            "_view_name": "HTMLView",
            "style": "IPY_MODEL_bbb26a7547fc4014986e45dd30a1634f",
            "_dom_classes": [],
            "description": "",
            "_model_name": "HTMLModel",
            "placeholder": "​",
            "_view_module": "@jupyter-widgets/controls",
            "_model_module_version": "1.5.0",
            "value": " 1/1 [00:21&lt;00:00, 21.36s/it]",
            "_view_count": null,
            "_view_module_version": "1.5.0",
            "description_tooltip": null,
            "_model_module": "@jupyter-widgets/controls",
            "layout": "IPY_MODEL_9efa68809c1e4f02a4d1a65ab95b5bfe"
          }
        },
        "1b9857f669114f898c168d861c6b838f": {
          "model_module": "@jupyter-widgets/controls",
          "model_name": "ProgressStyleModel",
          "state": {
            "_view_name": "StyleView",
            "_model_name": "ProgressStyleModel",
            "description_width": "initial",
            "_view_module": "@jupyter-widgets/base",
            "_model_module_version": "1.5.0",
            "_view_count": null,
            "_view_module_version": "1.2.0",
            "bar_color": null,
            "_model_module": "@jupyter-widgets/controls"
          }
        },
        "3d45ebfc32b9418d96d68f28a4ca68a1": {
          "model_module": "@jupyter-widgets/base",
          "model_name": "LayoutModel",
          "state": {
            "_view_name": "LayoutView",
            "grid_template_rows": null,
            "right": null,
            "justify_content": null,
            "_view_module": "@jupyter-widgets/base",
            "overflow": null,
            "_model_module_version": "1.2.0",
            "_view_count": null,
            "flex_flow": null,
            "width": null,
            "min_width": null,
            "border": null,
            "align_items": null,
            "bottom": null,
            "_model_module": "@jupyter-widgets/base",
            "top": null,
            "grid_column": null,
            "overflow_y": null,
            "overflow_x": null,
            "grid_auto_flow": null,
            "grid_area": null,
            "grid_template_columns": null,
            "flex": null,
            "_model_name": "LayoutModel",
            "justify_items": null,
            "grid_row": null,
            "max_height": null,
            "align_content": null,
            "visibility": null,
            "align_self": null,
            "height": null,
            "min_height": null,
            "padding": null,
            "grid_auto_rows": null,
            "grid_gap": null,
            "max_width": null,
            "order": null,
            "_view_module_version": "1.2.0",
            "grid_template_areas": null,
            "object_position": null,
            "object_fit": null,
            "grid_auto_columns": null,
            "margin": null,
            "display": null,
            "left": null
          }
        },
        "bbb26a7547fc4014986e45dd30a1634f": {
          "model_module": "@jupyter-widgets/controls",
          "model_name": "DescriptionStyleModel",
          "state": {
            "_view_name": "StyleView",
            "_model_name": "DescriptionStyleModel",
            "description_width": "",
            "_view_module": "@jupyter-widgets/base",
            "_model_module_version": "1.5.0",
            "_view_count": null,
            "_view_module_version": "1.2.0",
            "_model_module": "@jupyter-widgets/controls"
          }
        },
        "9efa68809c1e4f02a4d1a65ab95b5bfe": {
          "model_module": "@jupyter-widgets/base",
          "model_name": "LayoutModel",
          "state": {
            "_view_name": "LayoutView",
            "grid_template_rows": null,
            "right": null,
            "justify_content": null,
            "_view_module": "@jupyter-widgets/base",
            "overflow": null,
            "_model_module_version": "1.2.0",
            "_view_count": null,
            "flex_flow": null,
            "width": null,
            "min_width": null,
            "border": null,
            "align_items": null,
            "bottom": null,
            "_model_module": "@jupyter-widgets/base",
            "top": null,
            "grid_column": null,
            "overflow_y": null,
            "overflow_x": null,
            "grid_auto_flow": null,
            "grid_area": null,
            "grid_template_columns": null,
            "flex": null,
            "_model_name": "LayoutModel",
            "justify_items": null,
            "grid_row": null,
            "max_height": null,
            "align_content": null,
            "visibility": null,
            "align_self": null,
            "height": null,
            "min_height": null,
            "padding": null,
            "grid_auto_rows": null,
            "grid_gap": null,
            "max_width": null,
            "order": null,
            "_view_module_version": "1.2.0",
            "grid_template_areas": null,
            "object_position": null,
            "object_fit": null,
            "grid_auto_columns": null,
            "margin": null,
            "display": null,
            "left": null
          }
        },
        "eb212a7589b244dbba6e9b8dd8aec4d3": {
          "model_module": "@jupyter-widgets/controls",
          "model_name": "HBoxModel",
          "state": {
            "_view_name": "HBoxView",
            "_dom_classes": [],
            "_model_name": "HBoxModel",
            "_view_module": "@jupyter-widgets/controls",
            "_model_module_version": "1.5.0",
            "_view_count": null,
            "_view_module_version": "1.5.0",
            "box_style": "",
            "layout": "IPY_MODEL_c081b19361a04275ae8fd626157d3a9c",
            "_model_module": "@jupyter-widgets/controls",
            "children": [
              "IPY_MODEL_6f2cc537e636463aa49a4773dbc05e3c",
              "IPY_MODEL_55706ad7e6d34a42b8894a2ac379d7fa"
            ]
          }
        },
        "c081b19361a04275ae8fd626157d3a9c": {
          "model_module": "@jupyter-widgets/base",
          "model_name": "LayoutModel",
          "state": {
            "_view_name": "LayoutView",
            "grid_template_rows": null,
            "right": null,
            "justify_content": null,
            "_view_module": "@jupyter-widgets/base",
            "overflow": null,
            "_model_module_version": "1.2.0",
            "_view_count": null,
            "flex_flow": null,
            "width": null,
            "min_width": null,
            "border": null,
            "align_items": null,
            "bottom": null,
            "_model_module": "@jupyter-widgets/base",
            "top": null,
            "grid_column": null,
            "overflow_y": null,
            "overflow_x": null,
            "grid_auto_flow": null,
            "grid_area": null,
            "grid_template_columns": null,
            "flex": null,
            "_model_name": "LayoutModel",
            "justify_items": null,
            "grid_row": null,
            "max_height": null,
            "align_content": null,
            "visibility": null,
            "align_self": null,
            "height": null,
            "min_height": null,
            "padding": null,
            "grid_auto_rows": null,
            "grid_gap": null,
            "max_width": null,
            "order": null,
            "_view_module_version": "1.2.0",
            "grid_template_areas": null,
            "object_position": null,
            "object_fit": null,
            "grid_auto_columns": null,
            "margin": null,
            "display": null,
            "left": null
          }
        },
        "6f2cc537e636463aa49a4773dbc05e3c": {
          "model_module": "@jupyter-widgets/controls",
          "model_name": "FloatProgressModel",
          "state": {
            "_view_name": "ProgressView",
            "style": "IPY_MODEL_ec9e80e6059d4ce18c6f52effe3006a0",
            "_dom_classes": [],
            "description": "Iteration 15 | Energy = 11.834317850994266: 100%",
            "_model_name": "FloatProgressModel",
            "bar_style": "success",
            "max": 15,
            "_view_module": "@jupyter-widgets/controls",
            "_model_module_version": "1.5.0",
            "value": 15,
            "_view_count": null,
            "_view_module_version": "1.5.0",
            "orientation": "horizontal",
            "min": 0,
            "description_tooltip": null,
            "_model_module": "@jupyter-widgets/controls",
            "layout": "IPY_MODEL_ca9b52d7e92f4831b3355d66d227144c"
          }
        },
        "55706ad7e6d34a42b8894a2ac379d7fa": {
          "model_module": "@jupyter-widgets/controls",
          "model_name": "HTMLModel",
          "state": {
            "_view_name": "HTMLView",
            "style": "IPY_MODEL_61b5c63031ef449996a54582572e1b41",
            "_dom_classes": [],
            "description": "",
            "_model_name": "HTMLModel",
            "placeholder": "​",
            "_view_module": "@jupyter-widgets/controls",
            "_model_module_version": "1.5.0",
            "value": " 15/15 [00:01&lt;00:00, 13.83it/s]",
            "_view_count": null,
            "_view_module_version": "1.5.0",
            "description_tooltip": null,
            "_model_module": "@jupyter-widgets/controls",
            "layout": "IPY_MODEL_f4eeb510fe314b41842bd27f91308350"
          }
        },
        "ec9e80e6059d4ce18c6f52effe3006a0": {
          "model_module": "@jupyter-widgets/controls",
          "model_name": "ProgressStyleModel",
          "state": {
            "_view_name": "StyleView",
            "_model_name": "ProgressStyleModel",
            "description_width": "initial",
            "_view_module": "@jupyter-widgets/base",
            "_model_module_version": "1.5.0",
            "_view_count": null,
            "_view_module_version": "1.2.0",
            "bar_color": null,
            "_model_module": "@jupyter-widgets/controls"
          }
        },
        "ca9b52d7e92f4831b3355d66d227144c": {
          "model_module": "@jupyter-widgets/base",
          "model_name": "LayoutModel",
          "state": {
            "_view_name": "LayoutView",
            "grid_template_rows": null,
            "right": null,
            "justify_content": null,
            "_view_module": "@jupyter-widgets/base",
            "overflow": null,
            "_model_module_version": "1.2.0",
            "_view_count": null,
            "flex_flow": null,
            "width": null,
            "min_width": null,
            "border": null,
            "align_items": null,
            "bottom": null,
            "_model_module": "@jupyter-widgets/base",
            "top": null,
            "grid_column": null,
            "overflow_y": null,
            "overflow_x": null,
            "grid_auto_flow": null,
            "grid_area": null,
            "grid_template_columns": null,
            "flex": null,
            "_model_name": "LayoutModel",
            "justify_items": null,
            "grid_row": null,
            "max_height": null,
            "align_content": null,
            "visibility": null,
            "align_self": null,
            "height": null,
            "min_height": null,
            "padding": null,
            "grid_auto_rows": null,
            "grid_gap": null,
            "max_width": null,
            "order": null,
            "_view_module_version": "1.2.0",
            "grid_template_areas": null,
            "object_position": null,
            "object_fit": null,
            "grid_auto_columns": null,
            "margin": null,
            "display": null,
            "left": null
          }
        },
        "61b5c63031ef449996a54582572e1b41": {
          "model_module": "@jupyter-widgets/controls",
          "model_name": "DescriptionStyleModel",
          "state": {
            "_view_name": "StyleView",
            "_model_name": "DescriptionStyleModel",
            "description_width": "",
            "_view_module": "@jupyter-widgets/base",
            "_model_module_version": "1.5.0",
            "_view_count": null,
            "_view_module_version": "1.2.0",
            "_model_module": "@jupyter-widgets/controls"
          }
        },
        "f4eeb510fe314b41842bd27f91308350": {
          "model_module": "@jupyter-widgets/base",
          "model_name": "LayoutModel",
          "state": {
            "_view_name": "LayoutView",
            "grid_template_rows": null,
            "right": null,
            "justify_content": null,
            "_view_module": "@jupyter-widgets/base",
            "overflow": null,
            "_model_module_version": "1.2.0",
            "_view_count": null,
            "flex_flow": null,
            "width": null,
            "min_width": null,
            "border": null,
            "align_items": null,
            "bottom": null,
            "_model_module": "@jupyter-widgets/base",
            "top": null,
            "grid_column": null,
            "overflow_y": null,
            "overflow_x": null,
            "grid_auto_flow": null,
            "grid_area": null,
            "grid_template_columns": null,
            "flex": null,
            "_model_name": "LayoutModel",
            "justify_items": null,
            "grid_row": null,
            "max_height": null,
            "align_content": null,
            "visibility": null,
            "align_self": null,
            "height": null,
            "min_height": null,
            "padding": null,
            "grid_auto_rows": null,
            "grid_gap": null,
            "max_width": null,
            "order": null,
            "_view_module_version": "1.2.0",
            "grid_template_areas": null,
            "object_position": null,
            "object_fit": null,
            "grid_auto_columns": null,
            "margin": null,
            "display": null,
            "left": null
          }
        }
      }
    }
  },
  "cells": [
    {
      "cell_type": "markdown",
      "metadata": {
        "id": "DNq4clhCly9v"
      },
      "source": [
        "# GNEE Event Embedding\n",
        "This notebook establishes a training pipeline for our Event Embedding model."
      ]
    },
    {
      "cell_type": "markdown",
      "metadata": {
        "id": "hs6EH6Ufysax"
      },
      "source": [
        "## Installing our libraries and required scripts"
      ]
    },
    {
      "cell_type": "code",
      "metadata": {
        "id": "4EuLsjGYmA8w",
        "colab": {
          "base_uri": "https://localhost:8080/"
        },
        "outputId": "10b9e719-3453-4eab-a03e-28234fcec6c4"
      },
      "source": [
        "!git clone https://github.com/joaopedromattos/pyGAT\n",
        "!pip install --quiet spektral"
      ],
      "execution_count": null,
      "outputs": [
        {
          "output_type": "stream",
          "text": [
            "Cloning into 'pyGAT'...\n",
            "remote: Enumerating objects: 213, done.\u001b[K\n",
            "remote: Total 213 (delta 0), reused 0 (delta 0), pack-reused 213\u001b[K\n",
            "Receiving objects: 100% (213/213), 324.96 KiB | 1.08 MiB/s, done.\n",
            "Resolving deltas: 100% (117/117), done.\n",
            "\u001b[K     |████████████████████████████████| 122kB 8.6MB/s \n",
            "\u001b[?25h"
          ],
          "name": "stdout"
        }
      ]
    },
    {
      "cell_type": "code",
      "metadata": {
        "colab": {
          "base_uri": "https://localhost:8080/"
        },
        "id": "AF-BO7e-AUqA",
        "outputId": "b5a12852-2442-4de8-daed-ee229e31de99"
      },
      "source": [
        "!pip install git+https://github.com/rmarcacini/sentence-transformers\r\n",
        "!pip install gdown\r\n",
        "!gdown https://drive.google.com/uc?id=1NV5t1YhyyOzMF5zAovfbSLdZZLvqrfZ_\r\n",
        "!unzip distiluse-base-multilingual-cased.zip -d language_model\r\n",
        "from sentence_transformers import SentenceTransformer, LoggingHandler\r\n",
        "language_model = SentenceTransformer('distiluse-base-multilingual-cased')"
      ],
      "execution_count": null,
      "outputs": [
        {
          "output_type": "stream",
          "text": [
            "Collecting git+https://github.com/rmarcacini/sentence-transformers\n",
            "  Cloning https://github.com/rmarcacini/sentence-transformers to /tmp/pip-req-build-9dcev7se\n",
            "  Running command git clone -q https://github.com/rmarcacini/sentence-transformers /tmp/pip-req-build-9dcev7se\n",
            "Collecting transformers<3.2.0,>=3.1.0\n",
            "\u001b[?25l  Downloading https://files.pythonhosted.org/packages/ae/05/c8c55b600308dc04e95100dc8ad8a244dd800fe75dfafcf1d6348c6f6209/transformers-3.1.0-py3-none-any.whl (884kB)\n",
            "\u001b[K     |████████████████████████████████| 890kB 8.1MB/s \n",
            "\u001b[?25hRequirement already satisfied: tqdm in /usr/local/lib/python3.6/dist-packages (from sentence-transformers==0.3.6) (4.41.1)\n",
            "Requirement already satisfied: torch>=1.2.0 in /usr/local/lib/python3.6/dist-packages (from sentence-transformers==0.3.6) (1.7.0+cu101)\n",
            "Requirement already satisfied: numpy in /usr/local/lib/python3.6/dist-packages (from sentence-transformers==0.3.6) (1.19.5)\n",
            "Requirement already satisfied: scikit-learn in /usr/local/lib/python3.6/dist-packages (from sentence-transformers==0.3.6) (0.22.2.post1)\n",
            "Requirement already satisfied: scipy in /usr/local/lib/python3.6/dist-packages (from sentence-transformers==0.3.6) (1.4.1)\n",
            "Requirement already satisfied: nltk in /usr/local/lib/python3.6/dist-packages (from sentence-transformers==0.3.6) (3.2.5)\n",
            "Requirement already satisfied: dataclasses; python_version < \"3.7\" in /usr/local/lib/python3.6/dist-packages (from transformers<3.2.0,>=3.1.0->sentence-transformers==0.3.6) (0.8)\n",
            "Requirement already satisfied: regex!=2019.12.17 in /usr/local/lib/python3.6/dist-packages (from transformers<3.2.0,>=3.1.0->sentence-transformers==0.3.6) (2019.12.20)\n",
            "Requirement already satisfied: packaging in /usr/local/lib/python3.6/dist-packages (from transformers<3.2.0,>=3.1.0->sentence-transformers==0.3.6) (20.9)\n",
            "Requirement already satisfied: requests in /usr/local/lib/python3.6/dist-packages (from transformers<3.2.0,>=3.1.0->sentence-transformers==0.3.6) (2.23.0)\n",
            "Requirement already satisfied: filelock in /usr/local/lib/python3.6/dist-packages (from transformers<3.2.0,>=3.1.0->sentence-transformers==0.3.6) (3.0.12)\n",
            "Collecting tokenizers==0.8.1.rc2\n",
            "\u001b[?25l  Downloading https://files.pythonhosted.org/packages/80/83/8b9fccb9e48eeb575ee19179e2bdde0ee9a1904f97de5f02d19016b8804f/tokenizers-0.8.1rc2-cp36-cp36m-manylinux1_x86_64.whl (3.0MB)\n",
            "\u001b[K     |████████████████████████████████| 3.0MB 22.9MB/s \n",
            "\u001b[?25hCollecting sentencepiece!=0.1.92\n",
            "\u001b[?25l  Downloading https://files.pythonhosted.org/packages/14/67/e42bd1181472c95c8cda79305df848264f2a7f62740995a46945d9797b67/sentencepiece-0.1.95-cp36-cp36m-manylinux2014_x86_64.whl (1.2MB)\n",
            "\u001b[K     |████████████████████████████████| 1.2MB 38.6MB/s \n",
            "\u001b[?25hCollecting sacremoses\n",
            "\u001b[?25l  Downloading https://files.pythonhosted.org/packages/7d/34/09d19aff26edcc8eb2a01bed8e98f13a1537005d31e95233fd48216eed10/sacremoses-0.0.43.tar.gz (883kB)\n",
            "\u001b[K     |████████████████████████████████| 890kB 43.9MB/s \n",
            "\u001b[?25hRequirement already satisfied: future in /usr/local/lib/python3.6/dist-packages (from torch>=1.2.0->sentence-transformers==0.3.6) (0.16.0)\n",
            "Requirement already satisfied: typing-extensions in /usr/local/lib/python3.6/dist-packages (from torch>=1.2.0->sentence-transformers==0.3.6) (3.7.4.3)\n",
            "Requirement already satisfied: joblib>=0.11 in /usr/local/lib/python3.6/dist-packages (from scikit-learn->sentence-transformers==0.3.6) (1.0.0)\n",
            "Requirement already satisfied: six in /usr/local/lib/python3.6/dist-packages (from nltk->sentence-transformers==0.3.6) (1.15.0)\n",
            "Requirement already satisfied: pyparsing>=2.0.2 in /usr/local/lib/python3.6/dist-packages (from packaging->transformers<3.2.0,>=3.1.0->sentence-transformers==0.3.6) (2.4.7)\n",
            "Requirement already satisfied: certifi>=2017.4.17 in /usr/local/lib/python3.6/dist-packages (from requests->transformers<3.2.0,>=3.1.0->sentence-transformers==0.3.6) (2020.12.5)\n",
            "Requirement already satisfied: chardet<4,>=3.0.2 in /usr/local/lib/python3.6/dist-packages (from requests->transformers<3.2.0,>=3.1.0->sentence-transformers==0.3.6) (3.0.4)\n",
            "Requirement already satisfied: urllib3!=1.25.0,!=1.25.1,<1.26,>=1.21.1 in /usr/local/lib/python3.6/dist-packages (from requests->transformers<3.2.0,>=3.1.0->sentence-transformers==0.3.6) (1.24.3)\n",
            "Requirement already satisfied: idna<3,>=2.5 in /usr/local/lib/python3.6/dist-packages (from requests->transformers<3.2.0,>=3.1.0->sentence-transformers==0.3.6) (2.10)\n",
            "Requirement already satisfied: click in /usr/local/lib/python3.6/dist-packages (from sacremoses->transformers<3.2.0,>=3.1.0->sentence-transformers==0.3.6) (7.1.2)\n",
            "Building wheels for collected packages: sentence-transformers, sacremoses\n",
            "  Building wheel for sentence-transformers (setup.py) ... \u001b[?25l\u001b[?25hdone\n",
            "  Created wheel for sentence-transformers: filename=sentence_transformers-0.3.6-cp36-none-any.whl size=101875 sha256=826dccc6a47dc4f8a9dc63da09805fe0122f8b51281b3a60d495121bc400fa67\n",
            "  Stored in directory: /tmp/pip-ephem-wheel-cache-smsekkcx/wheels/88/3c/66/55ee9fb698480d5a5116a8257c15dc363323e4922fb8ad361b\n",
            "  Building wheel for sacremoses (setup.py) ... \u001b[?25l\u001b[?25hdone\n",
            "  Created wheel for sacremoses: filename=sacremoses-0.0.43-cp36-none-any.whl size=893261 sha256=67216cfa63a8d891011b2bf8f4a698b6f7a8b138c1d9d763f1436ace88b550f2\n",
            "  Stored in directory: /root/.cache/pip/wheels/29/3c/fd/7ce5c3f0666dab31a50123635e6fb5e19ceb42ce38d4e58f45\n",
            "Successfully built sentence-transformers sacremoses\n",
            "Installing collected packages: tokenizers, sentencepiece, sacremoses, transformers, sentence-transformers\n",
            "Successfully installed sacremoses-0.0.43 sentence-transformers-0.3.6 sentencepiece-0.1.95 tokenizers-0.8.1rc2 transformers-3.1.0\n",
            "Requirement already satisfied: gdown in /usr/local/lib/python3.6/dist-packages (3.6.4)\n",
            "Requirement already satisfied: requests in /usr/local/lib/python3.6/dist-packages (from gdown) (2.23.0)\n",
            "Requirement already satisfied: tqdm in /usr/local/lib/python3.6/dist-packages (from gdown) (4.41.1)\n",
            "Requirement already satisfied: six in /usr/local/lib/python3.6/dist-packages (from gdown) (1.15.0)\n",
            "Requirement already satisfied: idna<3,>=2.5 in /usr/local/lib/python3.6/dist-packages (from requests->gdown) (2.10)\n",
            "Requirement already satisfied: chardet<4,>=3.0.2 in /usr/local/lib/python3.6/dist-packages (from requests->gdown) (3.0.4)\n",
            "Requirement already satisfied: certifi>=2017.4.17 in /usr/local/lib/python3.6/dist-packages (from requests->gdown) (2020.12.5)\n",
            "Requirement already satisfied: urllib3!=1.25.0,!=1.25.1,<1.26,>=1.21.1 in /usr/local/lib/python3.6/dist-packages (from requests->gdown) (1.24.3)\n",
            "Downloading...\n",
            "From: https://drive.google.com/uc?id=1NV5t1YhyyOzMF5zAovfbSLdZZLvqrfZ_\n",
            "To: /content/distiluse-base-multilingual-cased.zip\n",
            "504MB [00:03, 127MB/s]\n",
            "Archive:  distiluse-base-multilingual-cased.zip\n",
            "   creating: language_model/0_DistilBERT/\n",
            " extracting: language_model/0_DistilBERT/added_tokens.json  \n",
            "  inflating: language_model/0_DistilBERT/config.json  \n",
            "  inflating: language_model/0_DistilBERT/pytorch_model.bin  \n",
            "  inflating: language_model/0_DistilBERT/sentence_distilbert_config.json  \n",
            "  inflating: language_model/0_DistilBERT/special_tokens_map.json  \n",
            "  inflating: language_model/0_DistilBERT/tokenizer_config.json  \n",
            "  inflating: language_model/0_DistilBERT/vocab.txt  \n",
            "   creating: language_model/1_Pooling/\n",
            "  inflating: language_model/1_Pooling/config.json  \n",
            "   creating: language_model/2_Dense/\n",
            "  inflating: language_model/2_Dense/config.json  \n",
            "  inflating: language_model/2_Dense/pytorch_model.bin  \n",
            " extracting: language_model/config.json  \n",
            "  inflating: language_model/modules.json  \n"
          ],
          "name": "stdout"
        },
        {
          "output_type": "stream",
          "text": [
            "100%|██████████| 504M/504M [00:31<00:00, 16.1MB/s]\n"
          ],
          "name": "stderr"
        }
      ]
    },
    {
      "cell_type": "code",
      "metadata": {
        "id": "7djUzxZiokMc"
      },
      "source": [
        "import os\n",
        "\n",
        "os.chdir('./pyGAT')"
      ],
      "execution_count": null,
      "outputs": []
    },
    {
      "cell_type": "code",
      "metadata": {
        "id": "IjRxJgFJmK0r"
      },
      "source": [
        "import networkx as nx\n",
        "from tqdm import tqdm\n",
        "import pandas as pd\n",
        "from google.colab import auth\n",
        "from google.cloud import bigquery\n",
        "from google.cloud import bigquery_storage\n",
        "import numpy as np\n",
        "import logging\n",
        "from sklearn.preprocessing import OneHotEncoder, MultiLabelBinarizer, LabelEncoder\n",
        "from event_graph_utils import mount_graph, regularization, process_event_dataset_from_networkx\n",
        "from train import GAT_wrapper\n",
        "\n",
        "# auth.authenticate_user()\n",
        "# print('Authenticated')"
      ],
      "execution_count": null,
      "outputs": []
    },
    {
      "cell_type": "markdown",
      "metadata": {
        "id": "r5-euv7HvyYd"
      },
      "source": [
        "## 5W1H Graph Events"
      ]
    },
    {
      "cell_type": "code",
      "metadata": {
        "colab": {
          "base_uri": "https://localhost:8080/"
        },
        "id": "qysvvsEI5xMQ",
        "outputId": "374718dd-4a14-4de0-f862-6988f720897c"
      },
      "source": [
        "!gdown --id 1RF_bIo5ndxPhu9SJw-T8HBcuHyaGQGL0"
      ],
      "execution_count": null,
      "outputs": [
        {
          "output_type": "stream",
          "text": [
            "Downloading...\n",
            "From: https://drive.google.com/uc?id=1RF_bIo5ndxPhu9SJw-T8HBcuHyaGQGL0\n",
            "To: /content/pyGAT/datasets.tar.gz\n",
            "22.7MB [00:00, 106MB/s] \n"
          ],
          "name": "stdout"
        }
      ]
    },
    {
      "cell_type": "code",
      "metadata": {
        "colab": {
          "base_uri": "https://localhost:8080/"
        },
        "id": "Ro2OXREKBTp3",
        "outputId": "36101787-e61c-4722-f392-1e0ed8d1b8a7"
      },
      "source": [
        "!tar -xzvf datasets.tar.gz"
      ],
      "execution_count": null,
      "outputs": [
        {
          "output_type": "stream",
          "text": [
            "datasets_runs/\n",
            "datasets_runs/run_1_google_news_5w1h_graph_hin.nx\n",
            "datasets_runs/run_6_40er_5w1h_graph_hin.nx\n",
            "datasets_runs/run_4_bbc_5w1h_graph_hin.nx\n",
            "datasets_runs/run_8_gold_standard_5w1h_graph_hin.nx\n",
            "datasets_runs/run_5_bbc_5w1h_graph_hin.nx\n",
            "datasets_runs/run_9_google_news_5w1h_graph_hin.nx\n",
            "datasets_runs/run_5_gold_standard_5w1h_graph_hin.nx\n",
            "datasets_runs/run_2_bbc_5w1h_graph_hin.nx\n",
            "datasets_runs/run_9_news_cluster_5w1h_graph_hin.nx\n",
            "datasets_runs/run_7_40er_5w1h_graph_hin.nx\n",
            "datasets_runs/run_9_gold_standard_5w1h_graph_hin.nx\n",
            "datasets_runs/run_8_google_news_5w1h_graph_hin.nx\n",
            "datasets_runs/run_10_bbc_5w1h_graph_hin.nx\n",
            "datasets_runs/run_8_news_cluster_5w1h_graph_hin.nx\n",
            "datasets_runs/run_2_news_cluster_5w1h_graph_hin.nx\n",
            "datasets_runs/run_8_40er_5w1h_graph_hin.nx\n",
            "datasets_runs/run_6_bbc_5w1h_graph_hin.nx\n",
            "datasets_runs/run_4_google_news_5w1h_graph_hin.nx\n",
            "datasets_runs/run_2_google_news_5w1h_graph_hin.nx\n",
            "datasets_runs/run_7_gold_standard_5w1h_graph_hin.nx\n",
            "datasets_runs/run_4_gold_standard_5w1h_graph_hin.nx\n",
            "datasets_runs/run_5_40er_5w1h_graph_hin.nx\n",
            "datasets_runs/run_3_gold_standard_5w1h_graph_hin.nx\n",
            "datasets_runs/run_4_40er_5w1h_graph_hin.nx\n",
            "datasets_runs/run_5_google_news_5w1h_graph_hin.nx\n",
            "datasets_runs/run_10_news_cluster_5w1h_graph_hin.nx\n",
            "datasets_runs/run_10_40er_5w1h_graph_hin.nx\n",
            "datasets_runs/run_9_40er_5w1h_graph_hin.nx\n",
            "datasets_runs/run_10_google_news_5w1h_graph_hin.nx\n",
            "datasets_runs/run_6_google_news_5w1h_graph_hin.nx\n",
            "datasets_runs/run_1_news_cluster_5w1h_graph_hin.nx\n",
            "datasets_runs/run_3_news_cluster_5w1h_graph_hin.nx\n",
            "datasets_runs/run_5_news_cluster_5w1h_graph_hin.nx\n",
            "datasets_runs/run_4_news_cluster_5w1h_graph_hin.nx\n",
            "datasets_runs/run_7_bbc_5w1h_graph_hin.nx\n",
            "datasets_runs/run_1_gold_standard_5w1h_graph_hin.nx\n",
            "datasets_runs/run_7_google_news_5w1h_graph_hin.nx\n",
            "datasets_runs/run_10_gold_standard_5w1h_graph_hin.nx\n",
            "datasets_runs/run_6_gold_standard_5w1h_graph_hin.nx\n",
            "datasets_runs/run_3_bbc_5w1h_graph_hin.nx\n",
            "datasets_runs/run_1_bbc_5w1h_graph_hin.nx\n",
            "datasets_runs/run_2_gold_standard_5w1h_graph_hin.nx\n",
            "datasets_runs/run_3_google_news_5w1h_graph_hin.nx\n",
            "datasets_runs/run_9_bbc_5w1h_graph_hin.nx\n",
            "datasets_runs/run_2_40er_5w1h_graph_hin.nx\n",
            "datasets_runs/run_8_bbc_5w1h_graph_hin.nx\n",
            "datasets_runs/run_6_news_cluster_5w1h_graph_hin.nx\n",
            "datasets_runs/run_1_40er_5w1h_graph_hin.nx\n",
            "datasets_runs/run_7_news_cluster_5w1h_graph_hin.nx\n",
            "datasets_runs/run_3_40er_5w1h_graph_hin.nx\n"
          ],
          "name": "stdout"
        }
      ]
    },
    {
      "cell_type": "markdown",
      "metadata": {
        "id": "ZOcBquMl0JvW"
      },
      "source": [
        "# Regularization"
      ]
    },
    {
      "cell_type": "code",
      "metadata": {
        "id": "gcHszT5YJ0mu"
      },
      "source": [
        "import numpy as np\n",
        "from tqdm.notebook import tqdm\n",
        "import random\n",
        "\n",
        "\n",
        "def regularization(G, dim, embedding_feature: str = 'embedding', iterations=15, mi=0.85):\n",
        "\n",
        "    nodes = []\n",
        "\n",
        "    # inicializando vetor f para todos os nodes\n",
        "    for node in G.nodes():\n",
        "        G.nodes[node]['f'] = np.array([0.0]*dim)\n",
        "        if embedding_feature in G.nodes[node]:\n",
        "            G.nodes[node]['f'] = G.nodes[node][embedding_feature]*1.0\n",
        "        nodes.append(node)\n",
        "\n",
        "    pbar = tqdm(range(0, iterations))\n",
        "\n",
        "    for iteration in pbar:\n",
        "        random.shuffle(nodes)\n",
        "        energy = 0.0\n",
        "\n",
        "        # percorrendo cada node\n",
        "        for node in nodes:\n",
        "            f_new = np.array([0.0]*dim)\n",
        "            f_old = np.array(G.nodes[node]['f'])*1.0\n",
        "            sum_w = 0.0\n",
        "\n",
        "            # percorrendo vizinhos do onde\n",
        "            for neighbor in G.neighbors(node):\n",
        "                w = 1.0\n",
        "                if 'weight' in G[node][neighbor]:\n",
        "                    w = G[node][neighbor]['weight']\n",
        "\n",
        "                w /= np.sqrt(G.degree[neighbor])\n",
        "\n",
        "                f_new += w*G.nodes[neighbor]['f']\n",
        "\n",
        "                sum_w += w\n",
        "\n",
        "            f_new /= sum_w\n",
        "\n",
        "            G.nodes[node]['f'] = f_new*1.0\n",
        "\n",
        "            if embedding_feature in G.nodes[node]:\n",
        "                G.nodes[node]['f'] = G.nodes[node][embedding_feature] * \\\n",
        "                    mi + G.nodes[node]['f']*(1.0-mi)\n",
        "\n",
        "            energy += np.linalg.norm(f_new-f_old)\n",
        "\n",
        "        iteration += 1\n",
        "        message = 'Iteration '+str(iteration)+' | Energy = '+str(energy)\n",
        "        pbar.set_description(message)\n",
        "\n",
        "    return G"
      ],
      "execution_count": null,
      "outputs": []
    },
    {
      "cell_type": "code",
      "metadata": {
        "id": "w5uOBWeVnaKG"
      },
      "source": [
        "import numpy as np\n",
        "import networkx as nx\n",
        "import random\n",
        "from tqdm.notebook import tqdm\n",
        "import pandas as pd\n",
        "from sklearn.preprocessing import OneHotEncoder\n",
        "import logging\n",
        "from sklearn.preprocessing import OneHotEncoder, MultiLabelBinarizer, LabelEncoder\n",
        "from sklearn.model_selection import train_test_split\n",
        "\n",
        "\n",
        "def process_event_dataset_from_networkx(G, features_attr=\"f\"):\n",
        "    \"\"\"\n",
        "    Builds an event graph dataset used in GAT model\n",
        "    Parameters:\n",
        "        G -> Graph representation of the event network (Networkx graph)\n",
        "        df_labels -> user labeled data\n",
        "        features_att -> Feature attribute of each node (str)\n",
        "        random_state -> A random seed to train_test_split\n",
        "    Returns:\n",
        "        adj -> Sparse and symmetric adjacency matrix of our graph.\n",
        "        features -> A NumPy matrix with our graph features.\n",
        "        idx_train -> A NumPy array with the indexes of the training nodes.\n",
        "        idx_val -> A NumPy array with the indexes of the validation nodes.\n",
        "        idx_test -> A NumPy array with the indexes of the test nodes.\n",
        "    \"\"\"\n",
        "\n",
        "    num_nodes = len(G.nodes)\n",
        "\n",
        "\n",
        "    \n",
        "\n",
        "    # validation_split_percentage = val_split / (1 - train_split)\n",
        "\n",
        "    # df_val, df_test = train_test_split(\n",
        "    #     df_test_and_val, train_size=validation_split_percentage, random_state=random_state)\n",
        "\n",
        "    # Organizing our feature matrix...\n",
        "    # feature_matrix = np.array([ G.nodes[i]['embedding'] if 'embedding' in G.nodes[i].keys() else G.nodes[i][features_attr] for i in G.nodes()])\n",
        "    #features = np.array([G.nodes[i][features_attr] for i in G.nodes()])\n",
        "    L_features = []\n",
        "    L_train = []\n",
        "    L_test = []\n",
        "    L_labels = []\n",
        "    label_codes = {}\n",
        "    for node in G.nodes():\n",
        "      L_features.append( (G.nodes[node]['id'], G.nodes[node]['f']) )\n",
        "      if 'train' in G.nodes[node]: L_train.append(G.nodes[node]['id'])\n",
        "      if 'test' in G.nodes[node]: L_test.append(G.nodes[node]['id'])\n",
        "      if 'label' in G.nodes[node]:\n",
        "        if G.nodes[node]['label'] not in label_codes: label_codes[G.nodes[node]['label']] = len(label_codes) \n",
        "        L_labels.append( [G.nodes[node]['id'],G.nodes[node]['label'],label_codes[G.nodes[node]['label']]] )\n",
        "    df_features = pd.DataFrame(L_features)\n",
        "    df_features.columns = ['node_id','embedding']\n",
        "    features = np.array(df_features.sort_values(by=['node_id'])['embedding'].to_list())\n",
        "\n",
        "    idx_train = L_train\n",
        "    idx_test = L_test\n",
        "    labels = [-1]*num_nodes\n",
        "    df_labels = pd.DataFrame(L_labels)\n",
        "    df_labels.columns = ['event_id','label','label_code']\n",
        "    for index,row in df_labels.iterrows():\n",
        "      labels[row['event_id']] = row['label_code']\n",
        "\n",
        "    adj = nx.adjacency_matrix(G)\n",
        "\n",
        "    return adj, features, labels, idx_train, idx_test, df_labels"
      ],
      "execution_count": null,
      "outputs": []
    },
    {
      "cell_type": "markdown",
      "metadata": {
        "id": "GRFC2tNBwBpR"
      },
      "source": [
        "## Training"
      ]
    },
    {
      "cell_type": "code",
      "metadata": {
        "id": "WBZoIrwm0mbZ"
      },
      "source": [
        "from __future__ import division\n",
        "from __future__ import print_function\n",
        "\n",
        "import os\n",
        "import glob\n",
        "import time\n",
        "import random\n",
        "import argparse\n",
        "import numpy as np\n",
        "import torch\n",
        "import torch.nn as nn\n",
        "import torch.nn.functional as F\n",
        "import torch.optim as optim\n",
        "from torch.autograd import Variable\n",
        "import scipy.sparse as sp\n",
        "\n",
        "\n",
        "from models import GAT, SpGAT\n",
        "\n",
        "\n",
        "def accuracy(output, labels):\n",
        "    preds = output.max(1)[1].type_as(labels)\n",
        "    correct = preds.eq(labels).double()\n",
        "    correct = correct.sum()\n",
        "    return correct / len(labels)\n",
        "\n",
        "\n",
        "def normalize_adj(mx):\n",
        "    \"\"\"Row-normalize sparse matrix\"\"\"\n",
        "    rowsum = np.array(mx.sum(1))\n",
        "    r_inv_sqrt = np.power(rowsum, -0.5).flatten()\n",
        "    r_inv_sqrt[np.isinf(r_inv_sqrt)] = 0.\n",
        "    r_mat_inv_sqrt = sp.diags(r_inv_sqrt)\n",
        "    return mx.dot(r_mat_inv_sqrt).transpose().dot(r_mat_inv_sqrt)\n",
        "\n",
        "class Namespace(object):\n",
        "    def __init__(self, adict):\n",
        "        self.__dict__.update(adict)\n",
        "\n",
        "class GAT_wrapper():\n",
        "    def __init__(self, args={\"alpha\": 0.2, \"cuda\": True, \"dropout\": 0.6, \"epochs\": 10, \"fastmode\": False, \"hidden\": 8, \"lr\": 0.005, \"nb_heads\": 8, \"no_cuda\": False, \"patience\": 100, \"seed\": 72, \"sparse\": False, \"weight_decay\": 0.0005}):\n",
        "\n",
        "        if (type(args) == dict):\n",
        "            args = Namespace(args)\n",
        "\n",
        "        self.args = args\n",
        "\n",
        "        self.model = None\n",
        "\n",
        "        self.loss_test = 0.0\n",
        "        self.acc_test = 0.0\n",
        "\n",
        "        self.adj = None\n",
        "        self.features = None\n",
        "        self.labels = None\n",
        "        self.idx_train = None\n",
        "        self.idx_val = None\n",
        "        self.idx_test = None\n",
        "\n",
        "    def compute_test(self):\n",
        "        self.model.eval()\n",
        "        output = self.model(self.features, self.adj)\n",
        "        loss_test = F.nll_loss(\n",
        "            output[self.idx_test], self.labels[self.idx_test])\n",
        "        acc_test = accuracy(output[self.idx_test], self.labels[self.idx_test])\n",
        "        print(\"Test set results:\",\n",
        "              \"loss= {:.4f}\".format(loss_test.item()),\n",
        "              \"accuracy= {:.4f}\".format(acc_test.item()))\n",
        "\n",
        "        self.loss_test = loss_test\n",
        "        self.acc_test = acc_test\n",
        "\n",
        "        return loss_test, acc_test, output[self.idx_test].max(1)[1]\n",
        "\n",
        "    def train_pipeline(self, adj, features, labels, idx_train, idx_val, idx_test, *args):\n",
        "\n",
        "        adj = normalize_adj(adj + sp.eye(adj.shape[0]))\n",
        "\n",
        "        if (sp.issparse(adj)):\n",
        "            adj = adj.todense()\n",
        "\n",
        "        if (sp.issparse(features)):\n",
        "            features = features.todense()\n",
        "\n",
        "        # With networkx, we no longer need to convert from one-hot encoding...\n",
        "        #labels = np.where(labels)[1]\n",
        "\n",
        "        adj = torch.FloatTensor(adj)\n",
        "        features = torch.FloatTensor(features)\n",
        "        labels = torch.LongTensor(labels)\n",
        "        idx_train = torch.LongTensor(idx_train)\n",
        "        idx_val = torch.LongTensor(idx_val)\n",
        "        idx_test = torch.LongTensor(idx_test)\n",
        "\n",
        "        random.seed(self.args.seed)\n",
        "        np.random.seed(self.args.seed)\n",
        "        torch.manual_seed(self.args.seed)\n",
        "        if self.args.cuda:\n",
        "            torch.cuda.manual_seed(self.args.seed)\n",
        "\n",
        "        # Load data\n",
        "        # adj, features, labels, idx_train, idx_val, idx_test = new_load_data(\n",
        "        #     *args, custom_function=custom_function, function=function)\n",
        "\n",
        "        # Model and optimizer\n",
        "        if self.args.sparse:\n",
        "            model = SpGAT(nfeat=features.shape[1],\n",
        "                          nhid=self.args.hidden,\n",
        "                          nclass=int(labels.max()) + 1,\n",
        "                          dropout=self.args.dropout,\n",
        "                          nheads=self.args.nb_heads,\n",
        "                          alpha=self.args.alpha)\n",
        "        else:\n",
        "            model = GAT(nfeat=features.shape[1],\n",
        "                        nhid=self.args.hidden,\n",
        "                        nclass=int(labels.max()) + 1,\n",
        "                        dropout=self.args.dropout,\n",
        "                        nheads=self.args.nb_heads,\n",
        "                        alpha=self.args.alpha)\n",
        "        optimizer = optim.Adam(model.parameters(),\n",
        "                               lr=self.args.lr,\n",
        "                               weight_decay=self.args.weight_decay)\n",
        "\n",
        "        if self.args.cuda:\n",
        "            model.cuda()\n",
        "            features = features.cuda()\n",
        "            adj = adj.cuda()\n",
        "            labels = labels.cuda()\n",
        "            idx_train = idx_train.cuda()\n",
        "            idx_val = idx_val.cuda()\n",
        "            idx_test = idx_test.cuda()\n",
        "\n",
        "        features, adj, labels = Variable(\n",
        "            features), Variable(adj), Variable(labels)\n",
        "\n",
        "        # TODO: Test if these lines could be written below line 41.\n",
        "        self.adj = adj\n",
        "        self.features = features\n",
        "        self.labels = labels\n",
        "        self.idx_train = idx_train\n",
        "        self.idx_val = idx_val\n",
        "        self.idx_test = idx_test\n",
        "\n",
        "        def train(epoch):\n",
        "            t = time.time()\n",
        "            model.train()\n",
        "            optimizer.zero_grad()\n",
        "            output = model(features, adj)\n",
        "            loss_train = F.nll_loss(output[idx_train], labels[idx_train])\n",
        "            acc_train = accuracy(output[idx_train], labels[idx_train])\n",
        "            loss_train.backward()\n",
        "            optimizer.step()\n",
        "\n",
        "            if not self.args.fastmode:\n",
        "                # Evaluate validation set performance separately,\n",
        "                # deactivates dropout during validation run.\n",
        "                model.eval()\n",
        "                output = model(features, adj)\n",
        "\n",
        "            loss_val = F.nll_loss(output[idx_val], labels[idx_val])\n",
        "            acc_val = accuracy(output[idx_val], labels[idx_val])\n",
        "            print('Epoch: {:04d}'.format(epoch+1),\n",
        "                  'loss_train: {:.4f}'.format(loss_train.data.item()),\n",
        "                  'acc_train: {:.4f}'.format(acc_train.data.item()),\n",
        "                  'loss_val: {:.4f}'.format(loss_val.data.item()),\n",
        "                  'acc_val: {:.4f}'.format(acc_val.data.item()),\n",
        "                  'time: {:.4f}s'.format(time.time() - t))\n",
        "\n",
        "            return loss_val.data.item()\n",
        "\n",
        "        # Train model\n",
        "        t_total = time.time()\n",
        "        loss_values = []\n",
        "        bad_counter = 0\n",
        "        best = self.args.epochs + 1\n",
        "        best_epoch = 0\n",
        "        for epoch in range(self.args.epochs):\n",
        "            loss_values.append(train(epoch))\n",
        "\n",
        "            torch.save(model.state_dict(), '{}.pkl'.format(epoch))\n",
        "            if loss_values[-1] < best:\n",
        "                best = loss_values[-1]\n",
        "                best_epoch = epoch\n",
        "                bad_counter = 0\n",
        "            else:\n",
        "                bad_counter += 1\n",
        "\n",
        "            if bad_counter == self.args.patience:\n",
        "                break\n",
        "\n",
        "            files = glob.glob('*.pkl')\n",
        "            for file in files:\n",
        "                epoch_nb = int(file.split('.')[0])\n",
        "                if epoch_nb < best_epoch:\n",
        "                    os.remove(file)\n",
        "\n",
        "        files = glob.glob('*.pkl')\n",
        "        for file in files:\n",
        "            epoch_nb = int(file.split('.')[0])\n",
        "            if epoch_nb > best_epoch:\n",
        "                os.remove(file)\n",
        "\n",
        "        print(\"Optimization Finished!\")\n",
        "        print(\"Total time elapsed: {:.4f}s\".format(time.time() - t_total))\n",
        "\n",
        "        # Restore best model\n",
        "        print('Loading {}th epoch'.format(best_epoch))\n",
        "        model.load_state_dict(torch.load('{}.pkl'.format(best_epoch)))\n",
        "\n",
        "        self.model = model\n",
        "\n",
        "        return model\n",
        "\n"
      ],
      "execution_count": null,
      "outputs": []
    },
    {
      "cell_type": "code",
      "metadata": {
        "colab": {
          "base_uri": "https://localhost:8080/"
        },
        "id": "KpuSQrky0srn",
        "outputId": "f6c0218c-3628-415c-e6fe-9c7e2ae3f2fe"
      },
      "source": [
        "from os import listdir\r\n",
        "from os.path import isfile, join\r\n",
        "path_datasets = 'datasets_runs/'\r\n",
        "network_files = [f for f in listdir(path_datasets) if isfile(join(path_datasets, f))]\r\n",
        "print(network_files)"
      ],
      "execution_count": null,
      "outputs": [
        {
          "output_type": "stream",
          "text": [
            "['run_3_40er_5w1h_graph_hin.nx', 'run_10_google_news_5w1h_graph_hin.nx', 'run_10_news_cluster_5w1h_graph_hin.nx', 'run_7_bbc_5w1h_graph_hin.nx', 'run_10_gold_standard_5w1h_graph_hin.nx', 'run_8_40er_5w1h_graph_hin.nx', 'run_2_bbc_5w1h_graph_hin.nx', 'run_5_bbc_5w1h_graph_hin.nx', 'run_8_gold_standard_5w1h_graph_hin.nx', 'run_5_40er_5w1h_graph_hin.nx', 'run_1_bbc_5w1h_graph_hin.nx', 'run_7_gold_standard_5w1h_graph_hin.nx', 'run_1_gold_standard_5w1h_graph_hin.nx', 'run_2_gold_standard_5w1h_graph_hin.nx', 'run_8_bbc_5w1h_graph_hin.nx', 'run_1_google_news_5w1h_graph_hin.nx', 'run_6_bbc_5w1h_graph_hin.nx', 'run_5_google_news_5w1h_graph_hin.nx', 'run_1_news_cluster_5w1h_graph_hin.nx', 'run_2_news_cluster_5w1h_graph_hin.nx', 'run_6_news_cluster_5w1h_graph_hin.nx', 'run_1_40er_5w1h_graph_hin.nx', 'run_6_gold_standard_5w1h_graph_hin.nx', 'run_6_google_news_5w1h_graph_hin.nx', 'run_4_google_news_5w1h_graph_hin.nx', 'run_5_gold_standard_5w1h_graph_hin.nx', 'run_4_bbc_5w1h_graph_hin.nx', 'run_4_40er_5w1h_graph_hin.nx', 'run_2_40er_5w1h_graph_hin.nx', 'run_2_google_news_5w1h_graph_hin.nx', 'run_7_40er_5w1h_graph_hin.nx', 'run_5_news_cluster_5w1h_graph_hin.nx', 'run_3_bbc_5w1h_graph_hin.nx', 'run_9_bbc_5w1h_graph_hin.nx', 'run_4_gold_standard_5w1h_graph_hin.nx', 'run_10_40er_5w1h_graph_hin.nx', 'run_9_google_news_5w1h_graph_hin.nx', 'run_6_40er_5w1h_graph_hin.nx', 'run_8_google_news_5w1h_graph_hin.nx', 'run_4_news_cluster_5w1h_graph_hin.nx', 'run_10_bbc_5w1h_graph_hin.nx', 'run_7_google_news_5w1h_graph_hin.nx', 'run_9_gold_standard_5w1h_graph_hin.nx', 'run_3_google_news_5w1h_graph_hin.nx', 'run_3_news_cluster_5w1h_graph_hin.nx', 'run_9_news_cluster_5w1h_graph_hin.nx', 'run_9_40er_5w1h_graph_hin.nx', 'run_8_news_cluster_5w1h_graph_hin.nx', 'run_7_news_cluster_5w1h_graph_hin.nx', 'run_3_gold_standard_5w1h_graph_hin.nx']\n"
          ],
          "name": "stdout"
        }
      ]
    },
    {
      "cell_type": "code",
      "metadata": {
        "id": "oISD6Y73nqtD"
      },
      "source": [
        "network_files = ['run_1_gold_standard_5w1h_graph_hin.nx']"
      ],
      "execution_count": null,
      "outputs": []
    },
    {
      "cell_type": "code",
      "metadata": {
        "colab": {
          "base_uri": "https://localhost:8080/"
        },
        "id": "t6fcOAgy1B9k",
        "outputId": "16ca86ef-8950-40a5-9956-50d8fe45664d"
      },
      "source": [
        "!pwd"
      ],
      "execution_count": null,
      "outputs": [
        {
          "output_type": "stream",
          "text": [
            "/content/pyGAT\n"
          ],
          "name": "stdout"
        }
      ]
    },
    {
      "cell_type": "code",
      "metadata": {
        "id": "pxsy4972pyvK",
        "colab": {
          "base_uri": "https://localhost:8080/",
          "height": 568,
          "referenced_widgets": [
            "52d27ceaf0234b10b1a4a3dee323402f",
            "5e3ddcbb6271457a83e0c93f238ec30f",
            "7cdd98a3ca0c4d118eaef1f7a192777f",
            "da2866be4874411994d26afd468fd8ec",
            "1b9857f669114f898c168d861c6b838f",
            "3d45ebfc32b9418d96d68f28a4ca68a1",
            "bbb26a7547fc4014986e45dd30a1634f",
            "9efa68809c1e4f02a4d1a65ab95b5bfe",
            "eb212a7589b244dbba6e9b8dd8aec4d3",
            "c081b19361a04275ae8fd626157d3a9c",
            "6f2cc537e636463aa49a4773dbc05e3c",
            "55706ad7e6d34a42b8894a2ac379d7fa",
            "ec9e80e6059d4ce18c6f52effe3006a0",
            "ca9b52d7e92f4831b3355d66d227144c",
            "61b5c63031ef449996a54582572e1b41",
            "f4eeb510fe314b41842bd27f91308350"
          ]
        },
        "outputId": "ddba42e7-caa6-4b92-ac9c-12e89bf459e4"
      },
      "source": [
        "from sklearn.metrics import accuracy_score\n",
        "from sklearn.metrics import f1_score\n",
        "from tqdm.notebook import tqdm\n",
        "\n",
        "experimental_results = []\n",
        "\n",
        "for network_file in tqdm(network_files):\n",
        "\n",
        "  if 'news_cluster_5w1h_graph_hin.nx' in network_file: continue # usando toda a RAM as vezes???\n",
        "  print('Networkfile',network_file)\n",
        "  \n",
        "\n",
        "  G = nx.read_gpickle(path_datasets+network_file)\n",
        "\n",
        "  regularization(G, 512, embedding_feature='features')\n",
        "  adj, features, labels, idx_train, idx_test, df_labels = process_event_dataset_from_networkx(G)\n",
        "  print(adj.shape,features.shape,len(idx_train),len(idx_test))\n",
        "  gat = GAT_wrapper({\"alpha\": 0.2, \"cuda\": False, \"dropout\": 0.5, \"epochs\": 20, \"fastmode\": False, \"hidden\": 8, \"lr\": 0.005, \"nb_heads\": 8, \"no_cuda\": False, \"patience\": 100, \"seed\": 72, \"sparse\": False, \"weight_decay\": 0.0005})\n",
        "  gat.train_pipeline(adj, features, labels, idx_train, idx_train, idx_test)\n",
        "  loss, acc, output = gat.compute_test()\n",
        "  y_pred = output.numpy()\n",
        "  y_true = []\n",
        "  for event_id in idx_test:\n",
        "    for node in G.nodes():\n",
        "      if ':event' in node:\n",
        "        if G.nodes[node]['id'] == event_id:\n",
        "          y_true.append(df_labels[df_labels.event_id==event_id].label_code.values[0])\n",
        "\n",
        "  f1_macro = f1_score(y_true, y_pred, average='macro')\n",
        "  acc = accuracy_score(y_true, y_pred)\n",
        "\n",
        "  print('--->' ,network_file,'f1_macro',f1_macro,'acc',acc)\n",
        "  experimental_results.append((network_file,'f1_macro',f1_macro,'acc',acc,y_true,y_pred))\n",
        "  # del gat\n",
        "  # del adj\n",
        "  # del features\n",
        "  # del G"
      ],
      "execution_count": null,
      "outputs": [
        {
          "output_type": "display_data",
          "data": {
            "application/vnd.jupyter.widget-view+json": {
              "model_id": "52d27ceaf0234b10b1a4a3dee323402f",
              "version_minor": 0,
              "version_major": 2
            },
            "text/plain": [
              "HBox(children=(FloatProgress(value=0.0, max=1.0), HTML(value='')))"
            ]
          },
          "metadata": {
            "tags": []
          }
        },
        {
          "output_type": "stream",
          "text": [
            "Networkfile run_1_gold_standard_5w1h_graph_hin.nx\n"
          ],
          "name": "stdout"
        },
        {
          "output_type": "display_data",
          "data": {
            "application/vnd.jupyter.widget-view+json": {
              "model_id": "eb212a7589b244dbba6e9b8dd8aec4d3",
              "version_minor": 0,
              "version_major": 2
            },
            "text/plain": [
              "HBox(children=(FloatProgress(value=0.0, max=15.0), HTML(value='')))"
            ]
          },
          "metadata": {
            "tags": []
          }
        },
        {
          "output_type": "stream",
          "text": [
            "\n",
            "(579, 579) (579, 512) 20 76\n",
            "Epoch: 0001 loss_train: 2.6240 acc_train: 0.0500 loss_val: 2.4008 acc_val: 0.5500 time: 0.8312s\n",
            "Epoch: 0002 loss_train: 2.3812 acc_train: 0.3000 loss_val: 2.2099 acc_val: 0.8000 time: 0.8060s\n",
            "Epoch: 0003 loss_train: 2.2570 acc_train: 0.7000 loss_val: 2.0337 acc_val: 0.8500 time: 0.8672s\n",
            "Epoch: 0004 loss_train: 2.1015 acc_train: 0.7000 loss_val: 1.8682 acc_val: 0.8500 time: 0.9949s\n",
            "Epoch: 0005 loss_train: 1.8695 acc_train: 0.8500 loss_val: 1.7097 acc_val: 0.8500 time: 0.9040s\n",
            "Epoch: 0006 loss_train: 1.8435 acc_train: 0.8500 loss_val: 1.5637 acc_val: 0.8500 time: 0.9255s\n",
            "Epoch: 0007 loss_train: 1.4539 acc_train: 0.8500 loss_val: 1.4259 acc_val: 0.9500 time: 0.9863s\n",
            "Epoch: 0008 loss_train: 1.4526 acc_train: 0.9000 loss_val: 1.2976 acc_val: 0.9500 time: 1.1958s\n",
            "Epoch: 0009 loss_train: 1.3843 acc_train: 0.9500 loss_val: 1.1775 acc_val: 0.9500 time: 0.8280s\n",
            "Epoch: 0010 loss_train: 1.3797 acc_train: 0.9500 loss_val: 1.0675 acc_val: 0.9500 time: 0.9502s\n",
            "Epoch: 0011 loss_train: 1.2887 acc_train: 0.9500 loss_val: 0.9672 acc_val: 0.9500 time: 0.9679s\n",
            "Epoch: 0012 loss_train: 1.1320 acc_train: 0.9500 loss_val: 0.8744 acc_val: 0.9500 time: 1.0944s\n",
            "Epoch: 0013 loss_train: 0.9072 acc_train: 0.9500 loss_val: 0.7894 acc_val: 0.9500 time: 0.8858s\n",
            "Epoch: 0014 loss_train: 0.9204 acc_train: 0.9500 loss_val: 0.7111 acc_val: 0.9500 time: 0.9933s\n",
            "Epoch: 0015 loss_train: 1.0954 acc_train: 0.9000 loss_val: 0.6427 acc_val: 0.9500 time: 1.0320s\n",
            "Epoch: 0016 loss_train: 0.9446 acc_train: 0.9000 loss_val: 0.5806 acc_val: 0.9500 time: 0.9181s\n",
            "Epoch: 0017 loss_train: 0.7641 acc_train: 0.9500 loss_val: 0.5252 acc_val: 0.9500 time: 0.9408s\n",
            "Epoch: 0018 loss_train: 0.6159 acc_train: 0.9500 loss_val: 0.4753 acc_val: 0.9500 time: 0.8189s\n",
            "Epoch: 0019 loss_train: 0.7255 acc_train: 0.9500 loss_val: 0.4306 acc_val: 0.9500 time: 0.8558s\n",
            "Epoch: 0020 loss_train: 0.7244 acc_train: 0.9500 loss_val: 0.3909 acc_val: 0.9500 time: 0.8635s\n",
            "Optimization Finished!\n",
            "Total time elapsed: 18.7956s\n",
            "Loading 19th epoch\n",
            "Test set results: loss= 1.0033 accuracy= 0.7763\n",
            "---> run_1_gold_standard_5w1h_graph_hin.nx f1_macro 0.6534722222222221 acc 0.7763157894736842\n",
            "\n"
          ],
          "name": "stdout"
        }
      ]
    },
    {
      "cell_type": "code",
      "metadata": {
        "colab": {
          "base_uri": "https://localhost:8080/",
          "height": 77
        },
        "id": "_DmibZSSI-96",
        "outputId": "41ecb310-ce09-4696-b26d-5409925720c7"
      },
      "source": [
        "df_results = pd.DataFrame(experimental_results)\r\n",
        "df_results"
      ],
      "execution_count": null,
      "outputs": [
        {
          "output_type": "execute_result",
          "data": {
            "text/html": [
              "<div>\n",
              "<style scoped>\n",
              "    .dataframe tbody tr th:only-of-type {\n",
              "        vertical-align: middle;\n",
              "    }\n",
              "\n",
              "    .dataframe tbody tr th {\n",
              "        vertical-align: top;\n",
              "    }\n",
              "\n",
              "    .dataframe thead th {\n",
              "        text-align: right;\n",
              "    }\n",
              "</style>\n",
              "<table border=\"1\" class=\"dataframe\">\n",
              "  <thead>\n",
              "    <tr style=\"text-align: right;\">\n",
              "      <th></th>\n",
              "      <th>0</th>\n",
              "      <th>1</th>\n",
              "      <th>2</th>\n",
              "      <th>3</th>\n",
              "      <th>4</th>\n",
              "      <th>5</th>\n",
              "      <th>6</th>\n",
              "    </tr>\n",
              "  </thead>\n",
              "  <tbody>\n",
              "    <tr>\n",
              "      <th>0</th>\n",
              "      <td>run_5_gold_standard_5w1h_graph_hin.nx</td>\n",
              "      <td>f1_macro</td>\n",
              "      <td>0.70537</td>\n",
              "      <td>acc</td>\n",
              "      <td>0.815789</td>\n",
              "      <td>[0, 1, 2, 3, 4, 0, 1, 6, 0, 1, 5, 7, 0, 4, 6, ...</td>\n",
              "      <td>[0, 1, 2, 3, 8, 0, 1, 6, 0, 1, 5, 1, 0, 5, 6, ...</td>\n",
              "    </tr>\n",
              "  </tbody>\n",
              "</table>\n",
              "</div>"
            ],
            "text/plain": [
              "                                       0  ...                                                  6\n",
              "0  run_5_gold_standard_5w1h_graph_hin.nx  ...  [0, 1, 2, 3, 8, 0, 1, 6, 0, 1, 5, 1, 0, 5, 6, ...\n",
              "\n",
              "[1 rows x 7 columns]"
            ]
          },
          "metadata": {
            "tags": []
          },
          "execution_count": 60
        }
      ]
    },
    {
      "cell_type": "code",
      "metadata": {
        "id": "ZHKLJPd6Mdgx"
      },
      "source": [
        "df_results.to_excel('gat_results_r1.xls')"
      ],
      "execution_count": null,
      "outputs": []
    },
    {
      "cell_type": "markdown",
      "metadata": {
        "id": "Edvkh5H0oQXE"
      },
      "source": [
        "# Embedding Visualization (t-SNE)"
      ]
    },
    {
      "cell_type": "code",
      "metadata": {
        "colab": {
          "base_uri": "https://localhost:8080/",
          "height": 265
        },
        "id": "bovwsv7ZoTt9",
        "outputId": "53ae15ab-5a53-40b0-ac5d-cad23461c0e0"
      },
      "source": [
        "embedding = gat.model.get_attention_heads_outputs(gat.features,gat.adj).detach().numpy()\r\n",
        "\r\n",
        "counter = 0\r\n",
        "X = []\r\n",
        "Y = []\r\n",
        "for node in G.nodes():\r\n",
        "  if ':event' in node:\r\n",
        "    X.append(embedding[counter])\r\n",
        "    Y.append(G.nodes[node]['label'])\r\n",
        "\r\n",
        "  counter += 1\r\n",
        "\r\n",
        "X = np.array(X)\r\n",
        "\r\n",
        "\r\n",
        "\r\n",
        "import numpy as np\r\n",
        "from sklearn.manifold import TSNE\r\n",
        "X_embedded = TSNE(n_components=2).fit_transform(X)\r\n",
        "X_embedded.shape\r\n",
        "\r\n",
        "df = pd.DataFrame(X_embedded)\r\n",
        "df['label'] = Y\r\n",
        "df = df.dropna()\r\n",
        "\r\n",
        "import pandas as pd\r\n",
        "import seaborn as sns\r\n",
        "import numpy as np\r\n",
        "import matplotlib.pyplot as plt\r\n",
        "\r\n",
        "g = sns.scatterplot(x=0, y=1, data=df, hue=\"label\", legend=False)\r\n",
        "g.set(xlabel=None)\r\n",
        "g.set(ylabel=None)\r\n",
        "\r\n",
        "plt.savefig('../gnee.pdf')"
      ],
      "execution_count": null,
      "outputs": [
        {
          "output_type": "display_data",
          "data": {
            "image/png": "[encoded data removed]",
            "text/plain": [
              "<Figure size 432x288 with 1 Axes>"
            ]
          },
          "metadata": {
            "tags": [],
            "needs_background": "light"
          }
        }
      ]
    },
    {
      "cell_type": "code",
      "metadata": {
        "id": "Kp83nFKupmTC"
      },
      "source": [],
      "execution_count": null,
      "outputs": []
    },
    {
      "cell_type": "code",
      "metadata": {
        "colab": {
          "base_uri": "https://localhost:8080/"
        },
        "id": "TNH4_II3oVWP",
        "outputId": "85f591b5-9355-41a9-efb0-1b549892cdc1"
      },
      "source": [],
      "execution_count": null,
      "outputs": [
        {
          "output_type": "execute_result",
          "data": {
            "text/plain": [
              "(96, 2)"
            ]
          },
          "metadata": {
            "tags": []
          },
          "execution_count": 29
        }
      ]
    },
    {
      "cell_type": "code",
      "metadata": {
        "colab": {
          "base_uri": "https://localhost:8080/",
          "height": 296
        },
        "id": "XyGmIkr5pN2F",
        "outputId": "075d87a4-6aaa-40ed-8ad5-12e910fef4a7"
      },
      "source": [],
      "execution_count": null,
      "outputs": [
        {
          "output_type": "execute_result",
          "data": {
            "text/plain": [
              "<matplotlib.axes._subplots.AxesSubplot at 0x7fb3aab337b8>"
            ]
          },
          "metadata": {
            "tags": []
          },
          "execution_count": 37
        },
        {
          "output_type": "display_data",
          "data": {
            "image/png": "[encoded data removed]",
            "text/plain": [
              "<Figure size 432x288 with 1 Axes>"
            ]
          },
          "metadata": {
            "tags": [],
            "needs_background": "light"
          }
        }
      ]
    },
    {
      "cell_type": "code",
      "metadata": {
        "colab": {
          "base_uri": "https://localhost:8080/",
          "height": 279
        },
        "id": "9FkOT_4zrQU6",
        "outputId": "5c43a088-68d0-4f90-d31a-8cc65e2fcea1"
      },
      "source": [],
      "execution_count": null,
      "outputs": [
        {
          "output_type": "display_data",
          "data": {
            "image/png": "[encoded data removed]",
            "text/plain": [
              "<Figure size 432x288 with 1 Axes>"
            ]
          },
          "metadata": {
            "tags": [],
            "needs_background": "light"
          }
        }
      ]
    },
    {
      "cell_type": "code",
      "metadata": {
        "id": "FVbNES8vpJhB"
      },
      "source": [],
      "execution_count": null,
      "outputs": []
    }
  ]
}