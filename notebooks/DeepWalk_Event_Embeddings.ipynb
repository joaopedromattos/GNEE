{
  "nbformat": 4,
  "nbformat_minor": 0,
  "metadata": {
    "colab": {
      "name": "DeepWalk - Event Embeddings.ipynb",
      "provenance": [],
      "toc_visible": true
    },
    "kernelspec": {
      "name": "python3",
      "display_name": "Python 3"
    },
    "widgets": {
      "application/vnd.jupyter.widget-state+json": {
        "f7c8e1da8e3441eb988712c746d02924": {
          "model_module": "@jupyter-widgets/controls",
          "model_name": "HBoxModel",
          "state": {
            "_view_name": "HBoxView",
            "_dom_classes": [],
            "_model_name": "HBoxModel",
            "_view_module": "@jupyter-widgets/controls",
            "_model_module_version": "1.5.0",
            "_view_count": null,
            "_view_module_version": "1.5.0",
            "box_style": "",
            "layout": "IPY_MODEL_c68eeafd085b4a88934561928973606a",
            "_model_module": "@jupyter-widgets/controls",
            "children": [
              "IPY_MODEL_51030626140d495b846e6430edf9a627",
              "IPY_MODEL_61ba59c96fe04aa0971b0bbde3eeb7a2"
            ]
          }
        },
        "c68eeafd085b4a88934561928973606a": {
          "model_module": "@jupyter-widgets/base",
          "model_name": "LayoutModel",
          "state": {
            "_view_name": "LayoutView",
            "grid_template_rows": null,
            "right": null,
            "justify_content": null,
            "_view_module": "@jupyter-widgets/base",
            "overflow": null,
            "_model_module_version": "1.2.0",
            "_view_count": null,
            "flex_flow": null,
            "width": null,
            "min_width": null,
            "border": null,
            "align_items": null,
            "bottom": null,
            "_model_module": "@jupyter-widgets/base",
            "top": null,
            "grid_column": null,
            "overflow_y": null,
            "overflow_x": null,
            "grid_auto_flow": null,
            "grid_area": null,
            "grid_template_columns": null,
            "flex": null,
            "_model_name": "LayoutModel",
            "justify_items": null,
            "grid_row": null,
            "max_height": null,
            "align_content": null,
            "visibility": null,
            "align_self": null,
            "height": null,
            "min_height": null,
            "padding": null,
            "grid_auto_rows": null,
            "grid_gap": null,
            "max_width": null,
            "order": null,
            "_view_module_version": "1.2.0",
            "grid_template_areas": null,
            "object_position": null,
            "object_fit": null,
            "grid_auto_columns": null,
            "margin": null,
            "display": null,
            "left": null
          }
        },
        "51030626140d495b846e6430edf9a627": {
          "model_module": "@jupyter-widgets/controls",
          "model_name": "FloatProgressModel",
          "state": {
            "_view_name": "ProgressView",
            "style": "IPY_MODEL_9f218b45929b4aa18e091046ff0c6c42",
            "_dom_classes": [],
            "description": "100%",
            "_model_name": "FloatProgressModel",
            "bar_style": "success",
            "max": 50,
            "_view_module": "@jupyter-widgets/controls",
            "_model_module_version": "1.5.0",
            "value": 50,
            "_view_count": null,
            "_view_module_version": "1.5.0",
            "orientation": "horizontal",
            "min": 0,
            "description_tooltip": null,
            "_model_module": "@jupyter-widgets/controls",
            "layout": "IPY_MODEL_b31e2bd4b96742a1ada9896e39bdd2ba"
          }
        },
        "61ba59c96fe04aa0971b0bbde3eeb7a2": {
          "model_module": "@jupyter-widgets/controls",
          "model_name": "HTMLModel",
          "state": {
            "_view_name": "HTMLView",
            "style": "IPY_MODEL_27533da3f84b4eaa844ba1a55a621c15",
            "_dom_classes": [],
            "description": "",
            "_model_name": "HTMLModel",
            "placeholder": "​",
            "_view_module": "@jupyter-widgets/controls",
            "_model_module_version": "1.5.0",
            "value": " 50/50 [06:58&lt;00:00,  8.37s/it]",
            "_view_count": null,
            "_view_module_version": "1.5.0",
            "description_tooltip": null,
            "_model_module": "@jupyter-widgets/controls",
            "layout": "IPY_MODEL_bb5b491e3c3f4e66b372b6c3242d3257"
          }
        },
        "9f218b45929b4aa18e091046ff0c6c42": {
          "model_module": "@jupyter-widgets/controls",
          "model_name": "ProgressStyleModel",
          "state": {
            "_view_name": "StyleView",
            "_model_name": "ProgressStyleModel",
            "description_width": "initial",
            "_view_module": "@jupyter-widgets/base",
            "_model_module_version": "1.5.0",
            "_view_count": null,
            "_view_module_version": "1.2.0",
            "bar_color": null,
            "_model_module": "@jupyter-widgets/controls"
          }
        },
        "b31e2bd4b96742a1ada9896e39bdd2ba": {
          "model_module": "@jupyter-widgets/base",
          "model_name": "LayoutModel",
          "state": {
            "_view_name": "LayoutView",
            "grid_template_rows": null,
            "right": null,
            "justify_content": null,
            "_view_module": "@jupyter-widgets/base",
            "overflow": null,
            "_model_module_version": "1.2.0",
            "_view_count": null,
            "flex_flow": null,
            "width": null,
            "min_width": null,
            "border": null,
            "align_items": null,
            "bottom": null,
            "_model_module": "@jupyter-widgets/base",
            "top": null,
            "grid_column": null,
            "overflow_y": null,
            "overflow_x": null,
            "grid_auto_flow": null,
            "grid_area": null,
            "grid_template_columns": null,
            "flex": null,
            "_model_name": "LayoutModel",
            "justify_items": null,
            "grid_row": null,
            "max_height": null,
            "align_content": null,
            "visibility": null,
            "align_self": null,
            "height": null,
            "min_height": null,
            "padding": null,
            "grid_auto_rows": null,
            "grid_gap": null,
            "max_width": null,
            "order": null,
            "_view_module_version": "1.2.0",
            "grid_template_areas": null,
            "object_position": null,
            "object_fit": null,
            "grid_auto_columns": null,
            "margin": null,
            "display": null,
            "left": null
          }
        },
        "27533da3f84b4eaa844ba1a55a621c15": {
          "model_module": "@jupyter-widgets/controls",
          "model_name": "DescriptionStyleModel",
          "state": {
            "_view_name": "StyleView",
            "_model_name": "DescriptionStyleModel",
            "description_width": "",
            "_view_module": "@jupyter-widgets/base",
            "_model_module_version": "1.5.0",
            "_view_count": null,
            "_view_module_version": "1.2.0",
            "_model_module": "@jupyter-widgets/controls"
          }
        },
        "bb5b491e3c3f4e66b372b6c3242d3257": {
          "model_module": "@jupyter-widgets/base",
          "model_name": "LayoutModel",
          "state": {
            "_view_name": "LayoutView",
            "grid_template_rows": null,
            "right": null,
            "justify_content": null,
            "_view_module": "@jupyter-widgets/base",
            "overflow": null,
            "_model_module_version": "1.2.0",
            "_view_count": null,
            "flex_flow": null,
            "width": null,
            "min_width": null,
            "border": null,
            "align_items": null,
            "bottom": null,
            "_model_module": "@jupyter-widgets/base",
            "top": null,
            "grid_column": null,
            "overflow_y": null,
            "overflow_x": null,
            "grid_auto_flow": null,
            "grid_area": null,
            "grid_template_columns": null,
            "flex": null,
            "_model_name": "LayoutModel",
            "justify_items": null,
            "grid_row": null,
            "max_height": null,
            "align_content": null,
            "visibility": null,
            "align_self": null,
            "height": null,
            "min_height": null,
            "padding": null,
            "grid_auto_rows": null,
            "grid_gap": null,
            "max_width": null,
            "order": null,
            "_view_module_version": "1.2.0",
            "grid_template_areas": null,
            "object_position": null,
            "object_fit": null,
            "grid_auto_columns": null,
            "margin": null,
            "display": null,
            "left": null
          }
        }
      }
    }
  },
  "cells": [
    {
      "cell_type": "markdown",
      "metadata": {
        "id": "LUXEb00M7c2D"
      },
      "source": [
        "# DeepWalk"
      ]
    },
    {
      "cell_type": "code",
      "metadata": {
        "id": "x1wdaRfKVDli"
      },
      "source": [
        "%reload_ext autoreload\r\n",
        "%autoreload 2\r\n",
        "%matplotlib inline\r\n",
        "import os\r\n",
        "os.environ[\"CUDA_DEVICE_ORDER\"]=\"PCI_BUS_ID\";\r\n",
        "os.environ[\"CUDA_VISIBLE_DEVICES\"]=\"0\"; "
      ],
      "execution_count": null,
      "outputs": []
    },
    {
      "cell_type": "markdown",
      "metadata": {
        "id": "5o9SfsQ07tFG"
      },
      "source": [
        "## Baixando e instalando bibliotecas"
      ]
    },
    {
      "cell_type": "code",
      "metadata": {
        "id": "XCHBwCmIBm5Z",
        "colab": {
          "base_uri": "https://localhost:8080/"
        },
        "outputId": "fb48a8bb-2d59-45ac-8226-e3e535b7c884"
      },
      "source": [
        "!git clone https://github.com/shenweichen/GraphEmbedding"
      ],
      "execution_count": null,
      "outputs": [
        {
          "output_type": "stream",
          "text": [
            "Cloning into 'GraphEmbedding'...\n",
            "remote: Enumerating objects: 18, done.\u001b[K\n",
            "remote: Counting objects: 100% (18/18), done.\u001b[K\n",
            "remote: Compressing objects: 100% (17/17), done.\u001b[K\n",
            "remote: Total 164 (delta 4), reused 10 (delta 1), pack-reused 146\u001b[K\n",
            "Receiving objects: 100% (164/164), 669.54 KiB | 11.54 MiB/s, done.\n",
            "Resolving deltas: 100% (69/69), done.\n"
          ],
          "name": "stdout"
        }
      ]
    },
    {
      "cell_type": "code",
      "metadata": {
        "id": "luFJAiMiBy1O",
        "colab": {
          "base_uri": "https://localhost:8080/",
          "height": 777
        },
        "outputId": "ce5ec4db-a8d4-4ebe-84f6-bbe4660bbfc8"
      },
      "source": [
        "!pip install tensorflow==1.4.0"
      ],
      "execution_count": null,
      "outputs": [
        {
          "output_type": "stream",
          "text": [
            "Collecting tensorflow==1.4.0\n",
            "\u001b[?25l  Downloading https://files.pythonhosted.org/packages/86/9f/be0165c6eefd841e6928e54d3d083fa174f92d640fdc52f73a33dc9c54d1/tensorflow-1.4.0-cp36-cp36m-manylinux1_x86_64.whl (41.2MB)\n",
            "\u001b[K     |████████████████████████████████| 41.2MB 110kB/s \n",
            "\u001b[?25hRequirement already satisfied: protobuf>=3.3.0 in /usr/local/lib/python3.6/dist-packages (from tensorflow==1.4.0) (3.12.4)\n",
            "Requirement already satisfied: numpy>=1.12.1 in /usr/local/lib/python3.6/dist-packages (from tensorflow==1.4.0) (1.19.4)\n",
            "Requirement already satisfied: six>=1.10.0 in /usr/local/lib/python3.6/dist-packages (from tensorflow==1.4.0) (1.15.0)\n",
            "Collecting tensorflow-tensorboard<0.5.0,>=0.4.0rc1\n",
            "\u001b[?25l  Downloading https://files.pythonhosted.org/packages/e9/9f/5845c18f9df5e7ea638ecf3a272238f0e7671e454faa396b5188c6e6fc0a/tensorflow_tensorboard-0.4.0-py3-none-any.whl (1.7MB)\n",
            "\u001b[K     |████████████████████████████████| 1.7MB 47.8MB/s \n",
            "\u001b[?25hCollecting enum34>=1.1.6\n",
            "  Downloading https://files.pythonhosted.org/packages/63/f6/ccb1c83687756aeabbf3ca0f213508fcfb03883ff200d201b3a4c60cedcc/enum34-1.1.10-py3-none-any.whl\n",
            "Requirement already satisfied: wheel>=0.26 in /usr/local/lib/python3.6/dist-packages (from tensorflow==1.4.0) (0.36.2)\n",
            "Requirement already satisfied: setuptools in /usr/local/lib/python3.6/dist-packages (from protobuf>=3.3.0->tensorflow==1.4.0) (51.0.0)\n",
            "Collecting html5lib==0.9999999\n",
            "\u001b[?25l  Downloading https://files.pythonhosted.org/packages/ae/ae/bcb60402c60932b32dfaf19bb53870b29eda2cd17551ba5639219fb5ebf9/html5lib-0.9999999.tar.gz (889kB)\n",
            "\u001b[K     |████████████████████████████████| 890kB 63.1MB/s \n",
            "\u001b[?25hRequirement already satisfied: werkzeug>=0.11.10 in /usr/local/lib/python3.6/dist-packages (from tensorflow-tensorboard<0.5.0,>=0.4.0rc1->tensorflow==1.4.0) (1.0.1)\n",
            "Collecting bleach==1.5.0\n",
            "  Downloading https://files.pythonhosted.org/packages/33/70/86c5fec937ea4964184d4d6c4f0b9551564f821e1c3575907639036d9b90/bleach-1.5.0-py2.py3-none-any.whl\n",
            "Requirement already satisfied: markdown>=2.6.8 in /usr/local/lib/python3.6/dist-packages (from tensorflow-tensorboard<0.5.0,>=0.4.0rc1->tensorflow==1.4.0) (3.3.3)\n",
            "Requirement already satisfied: importlib-metadata; python_version < \"3.8\" in /usr/local/lib/python3.6/dist-packages (from markdown>=2.6.8->tensorflow-tensorboard<0.5.0,>=0.4.0rc1->tensorflow==1.4.0) (3.3.0)\n",
            "Requirement already satisfied: zipp>=0.5 in /usr/local/lib/python3.6/dist-packages (from importlib-metadata; python_version < \"3.8\"->markdown>=2.6.8->tensorflow-tensorboard<0.5.0,>=0.4.0rc1->tensorflow==1.4.0) (3.4.0)\n",
            "Requirement already satisfied: typing-extensions>=3.6.4; python_version < \"3.8\" in /usr/local/lib/python3.6/dist-packages (from importlib-metadata; python_version < \"3.8\"->markdown>=2.6.8->tensorflow-tensorboard<0.5.0,>=0.4.0rc1->tensorflow==1.4.0) (3.7.4.3)\n",
            "Building wheels for collected packages: html5lib\n",
            "  Building wheel for html5lib (setup.py) ... \u001b[?25l\u001b[?25hdone\n",
            "  Created wheel for html5lib: filename=html5lib-0.9999999-cp36-none-any.whl size=107222 sha256=43e44ef15f33702e4e9ebb8b45e91734726551f18764b2ff714e7bdbf01bb68a\n",
            "  Stored in directory: /root/.cache/pip/wheels/50/ae/f9/d2b189788efcf61d1ee0e36045476735c838898eef1cad6e29\n",
            "Successfully built html5lib\n",
            "Installing collected packages: html5lib, bleach, tensorflow-tensorboard, enum34, tensorflow\n",
            "  Found existing installation: html5lib 1.0.1\n",
            "    Uninstalling html5lib-1.0.1:\n",
            "      Successfully uninstalled html5lib-1.0.1\n",
            "  Found existing installation: bleach 3.2.1\n",
            "    Uninstalling bleach-3.2.1:\n",
            "      Successfully uninstalled bleach-3.2.1\n",
            "  Found existing installation: tensorflow 2.4.0\n",
            "    Uninstalling tensorflow-2.4.0:\n",
            "      Successfully uninstalled tensorflow-2.4.0\n",
            "Successfully installed bleach-1.5.0 enum34-1.1.10 html5lib-0.9999999 tensorflow-1.4.0 tensorflow-tensorboard-0.4.0\n"
          ],
          "name": "stdout"
        },
        {
          "output_type": "display_data",
          "data": {
            "application/vnd.colab-display-data+json": {
              "pip_warning": {
                "packages": [
                  "enum"
                ]
              }
            }
          },
          "metadata": {
            "tags": []
          }
        }
      ]
    },
    {
      "cell_type": "code",
      "metadata": {
        "id": "38rXkMBMCfhW",
        "colab": {
          "base_uri": "https://localhost:8080/"
        },
        "outputId": "09ae73b5-f833-4263-df35-46f0eddd200c"
      },
      "source": [
        "!cd GraphEmbedding; python setup.py install"
      ],
      "execution_count": null,
      "outputs": [
        {
          "output_type": "stream",
          "text": [
            "running install\n",
            "running bdist_egg\n",
            "running egg_info\n",
            "creating ge.egg-info\n",
            "writing ge.egg-info/PKG-INFO\n",
            "writing dependency_links to ge.egg-info/dependency_links.txt\n",
            "writing requirements to ge.egg-info/requires.txt\n",
            "writing top-level names to ge.egg-info/top_level.txt\n",
            "writing manifest file 'ge.egg-info/SOURCES.txt'\n",
            "writing manifest file 'ge.egg-info/SOURCES.txt'\n",
            "installing library code to build/bdist.linux-x86_64/egg\n",
            "running install_lib\n",
            "running build_py\n",
            "creating build\n",
            "creating build/lib\n",
            "creating build/lib/ge\n",
            "copying ge/alias.py -> build/lib/ge\n",
            "copying ge/utils.py -> build/lib/ge\n",
            "copying ge/walker.py -> build/lib/ge\n",
            "copying ge/__init__.py -> build/lib/ge\n",
            "copying ge/classify.py -> build/lib/ge\n",
            "creating build/lib/ge/models\n",
            "copying ge/models/line.py -> build/lib/ge/models\n",
            "copying ge/models/struc2vec.py -> build/lib/ge/models\n",
            "copying ge/models/node2vec.py -> build/lib/ge/models\n",
            "copying ge/models/sdne.py -> build/lib/ge/models\n",
            "copying ge/models/deepwalk.py -> build/lib/ge/models\n",
            "copying ge/models/__init__.py -> build/lib/ge/models\n",
            "creating build/bdist.linux-x86_64\n",
            "creating build/bdist.linux-x86_64/egg\n",
            "creating build/bdist.linux-x86_64/egg/ge\n",
            "copying build/lib/ge/alias.py -> build/bdist.linux-x86_64/egg/ge\n",
            "copying build/lib/ge/utils.py -> build/bdist.linux-x86_64/egg/ge\n",
            "copying build/lib/ge/walker.py -> build/bdist.linux-x86_64/egg/ge\n",
            "creating build/bdist.linux-x86_64/egg/ge/models\n",
            "copying build/lib/ge/models/line.py -> build/bdist.linux-x86_64/egg/ge/models\n",
            "copying build/lib/ge/models/struc2vec.py -> build/bdist.linux-x86_64/egg/ge/models\n",
            "copying build/lib/ge/models/node2vec.py -> build/bdist.linux-x86_64/egg/ge/models\n",
            "copying build/lib/ge/models/sdne.py -> build/bdist.linux-x86_64/egg/ge/models\n",
            "copying build/lib/ge/models/deepwalk.py -> build/bdist.linux-x86_64/egg/ge/models\n",
            "copying build/lib/ge/models/__init__.py -> build/bdist.linux-x86_64/egg/ge/models\n",
            "copying build/lib/ge/__init__.py -> build/bdist.linux-x86_64/egg/ge\n",
            "copying build/lib/ge/classify.py -> build/bdist.linux-x86_64/egg/ge\n",
            "byte-compiling build/bdist.linux-x86_64/egg/ge/alias.py to alias.cpython-36.pyc\n",
            "byte-compiling build/bdist.linux-x86_64/egg/ge/utils.py to utils.cpython-36.pyc\n",
            "byte-compiling build/bdist.linux-x86_64/egg/ge/walker.py to walker.cpython-36.pyc\n",
            "byte-compiling build/bdist.linux-x86_64/egg/ge/models/line.py to line.cpython-36.pyc\n",
            "byte-compiling build/bdist.linux-x86_64/egg/ge/models/struc2vec.py to struc2vec.cpython-36.pyc\n",
            "byte-compiling build/bdist.linux-x86_64/egg/ge/models/node2vec.py to node2vec.cpython-36.pyc\n",
            "byte-compiling build/bdist.linux-x86_64/egg/ge/models/sdne.py to sdne.cpython-36.pyc\n",
            "byte-compiling build/bdist.linux-x86_64/egg/ge/models/deepwalk.py to deepwalk.cpython-36.pyc\n",
            "byte-compiling build/bdist.linux-x86_64/egg/ge/models/__init__.py to __init__.cpython-36.pyc\n",
            "byte-compiling build/bdist.linux-x86_64/egg/ge/__init__.py to __init__.cpython-36.pyc\n",
            "byte-compiling build/bdist.linux-x86_64/egg/ge/classify.py to classify.cpython-36.pyc\n",
            "creating build/bdist.linux-x86_64/egg/EGG-INFO\n",
            "copying ge.egg-info/PKG-INFO -> build/bdist.linux-x86_64/egg/EGG-INFO\n",
            "copying ge.egg-info/SOURCES.txt -> build/bdist.linux-x86_64/egg/EGG-INFO\n",
            "copying ge.egg-info/dependency_links.txt -> build/bdist.linux-x86_64/egg/EGG-INFO\n",
            "copying ge.egg-info/requires.txt -> build/bdist.linux-x86_64/egg/EGG-INFO\n",
            "copying ge.egg-info/top_level.txt -> build/bdist.linux-x86_64/egg/EGG-INFO\n",
            "zip_safe flag not set; analyzing archive contents...\n",
            "creating dist\n",
            "creating 'dist/ge-0.0.0-py3.6.egg' and adding 'build/bdist.linux-x86_64/egg' to it\n",
            "removing 'build/bdist.linux-x86_64/egg' (and everything under it)\n",
            "Processing ge-0.0.0-py3.6.egg\n",
            "Copying ge-0.0.0-py3.6.egg to /usr/local/lib/python3.6/dist-packages\n",
            "Adding ge 0.0.0 to easy-install.pth file\n",
            "\n",
            "Installed /usr/local/lib/python3.6/dist-packages/ge-0.0.0-py3.6.egg\n",
            "Processing dependencies for ge==0.0.0\n",
            "Searching for fastdtw==0.3.2\n",
            "Reading https://pypi.org/simple/fastdtw/\n",
            "Downloading https://files.pythonhosted.org/packages/fa/ef/a4cf2d72518b5fccd30284ba4d431fdb6266f72e75702ff05fd7c00b0b63/fastdtw-0.3.2.tar.gz#sha256=09a24d62a8eb72f87c03692dffae4b8d8499b53f503e9abce5e717c5b705dff9\n",
            "Best match: fastdtw 0.3.2\n",
            "Processing fastdtw-0.3.2.tar.gz\n",
            "Writing /tmp/easy_install-yz9vha1z/fastdtw-0.3.2/setup.cfg\n",
            "Running fastdtw-0.3.2/setup.py -q bdist_egg --dist-dir /tmp/easy_install-yz9vha1z/fastdtw-0.3.2/egg-dist-tmp-vtkm7mti\n",
            "Compiling fastdtw/_fastdtw.pyx because it depends on /usr/local/lib/python3.6/dist-packages/Cython/Includes/numpy/math.pxd.\n",
            "[1/1] Cythonizing fastdtw/_fastdtw.pyx\n",
            "/usr/local/lib/python3.6/dist-packages/Cython/Compiler/Main.py:369: FutureWarning: Cython directive 'language_level' not set, using 2 for now (Py2). This will change in a later release! File: /tmp/easy_install-yz9vha1z/fastdtw-0.3.2/fastdtw/_fastdtw.pyx\n",
            "  tree = Parsing.p_module(s, pxd, full_module_name)\n",
            "zip_safe flag not set; analyzing archive contents...\n",
            "fastdtw.__pycache__._fastdtw.cpython-36: module references __file__\n",
            "creating /usr/local/lib/python3.6/dist-packages/fastdtw-0.3.2-py3.6-linux-x86_64.egg\n",
            "Extracting fastdtw-0.3.2-py3.6-linux-x86_64.egg to /usr/local/lib/python3.6/dist-packages\n",
            "Adding fastdtw 0.3.2 to easy-install.pth file\n",
            "\n",
            "Installed /usr/local/lib/python3.6/dist-packages/fastdtw-0.3.2-py3.6-linux-x86_64.egg\n",
            "Searching for joblib==0.13.0\n",
            "Reading https://pypi.org/simple/joblib/\n",
            "Downloading https://files.pythonhosted.org/packages/0d/1b/995167f6c66848d4eb7eabc386aebe07a1571b397629b2eac3b7bebdc343/joblib-0.13.0-py2.py3-none-any.whl#sha256=9002b53b88ae0adb3872164e0846a489b7e112c50087c5e3e1bcee35f18424c4\n",
            "Best match: joblib 0.13.0\n",
            "Processing joblib-0.13.0-py2.py3-none-any.whl\n",
            "Installing joblib-0.13.0-py2.py3-none-any.whl to /usr/local/lib/python3.6/dist-packages\n",
            "Adding joblib 0.13.0 to easy-install.pth file\n",
            "\n",
            "Installed /usr/local/lib/python3.6/dist-packages/joblib-0.13.0-py3.6.egg\n",
            "Searching for networkx==2.1\n",
            "Reading https://pypi.org/simple/networkx/\n",
            "Downloading https://files.pythonhosted.org/packages/11/42/f951cc6838a4dff6ce57211c4d7f8444809ccbe2134179950301e5c4c83c/networkx-2.1.zip#sha256=64272ca418972b70a196cb15d9c85a5a6041f09a2f32e0d30c0255f25d458bb1\n",
            "Best match: networkx 2.1\n",
            "Processing networkx-2.1.zip\n",
            "Writing /tmp/easy_install-rla2u1sk/networkx-2.1/setup.cfg\n",
            "Running networkx-2.1/setup.py -q bdist_egg --dist-dir /tmp/easy_install-rla2u1sk/networkx-2.1/egg-dist-tmp-_qtebmh9\n",
            "warning: no files found matching '*.html' under directory 'doc'\n",
            "warning: no files found matching '*.css' under directory 'doc'\n",
            "warning: no previously-included files matching '*~' found anywhere in distribution\n",
            "warning: no previously-included files matching '*.pyc' found anywhere in distribution\n",
            "warning: no previously-included files matching '.svn' found anywhere in distribution\n",
            "no previously-included directories found matching 'doc/build'\n",
            "no previously-included directories found matching 'doc/auto_examples'\n",
            "no previously-included directories found matching 'doc/modules'\n",
            "no previously-included directories found matching 'doc/reference/generated'\n",
            "no previously-included directories found matching 'doc/reference/algorithms/generated'\n",
            "no previously-included directories found matching 'doc/reference/classes/generated'\n",
            "no previously-included directories found matching 'doc/reference/readwrite/generated'\n",
            "creating /usr/local/lib/python3.6/dist-packages/networkx-2.1-py3.6.egg\n",
            "Extracting networkx-2.1-py3.6.egg to /usr/local/lib/python3.6/dist-packages\n",
            "Adding networkx 2.1 to easy-install.pth file\n",
            "\n",
            "Installed /usr/local/lib/python3.6/dist-packages/networkx-2.1-py3.6.egg\n",
            "Searching for matplotlib==3.2.2\n",
            "Best match: matplotlib 3.2.2\n",
            "Adding matplotlib 3.2.2 to easy-install.pth file\n",
            "\n",
            "Using /usr/local/lib/python3.6/dist-packages\n",
            "Searching for pandas==1.1.5\n",
            "Best match: pandas 1.1.5\n",
            "Adding pandas 1.1.5 to easy-install.pth file\n",
            "\n",
            "Using /usr/local/lib/python3.6/dist-packages\n",
            "Searching for scikit-learn==0.22.2.post1\n",
            "Best match: scikit-learn 0.22.2.post1\n",
            "Adding scikit-learn 0.22.2.post1 to easy-install.pth file\n",
            "\n",
            "Using /usr/local/lib/python3.6/dist-packages\n",
            "Searching for numpy==1.19.4\n",
            "Best match: numpy 1.19.4\n",
            "Adding numpy 1.19.4 to easy-install.pth file\n",
            "Installing f2py script to /usr/local/bin\n",
            "Installing f2py3 script to /usr/local/bin\n",
            "Installing f2py3.6 script to /usr/local/bin\n",
            "\n",
            "Using /usr/local/lib/python3.6/dist-packages\n",
            "Searching for tqdm==4.41.1\n",
            "Best match: tqdm 4.41.1\n",
            "Adding tqdm 4.41.1 to easy-install.pth file\n",
            "Installing tqdm script to /usr/local/bin\n",
            "\n",
            "Using /usr/local/lib/python3.6/dist-packages\n",
            "Searching for gensim==3.6.0\n",
            "Best match: gensim 3.6.0\n",
            "Adding gensim 3.6.0 to easy-install.pth file\n",
            "\n",
            "Using /usr/local/lib/python3.6/dist-packages\n",
            "Searching for kiwisolver==1.3.1\n",
            "Best match: kiwisolver 1.3.1\n",
            "Adding kiwisolver 1.3.1 to easy-install.pth file\n",
            "\n",
            "Using /usr/local/lib/python3.6/dist-packages\n",
            "Searching for cycler==0.10.0\n",
            "Best match: cycler 0.10.0\n",
            "Adding cycler 0.10.0 to easy-install.pth file\n",
            "\n",
            "Using /usr/local/lib/python3.6/dist-packages\n",
            "Searching for python-dateutil==2.8.1\n",
            "Best match: python-dateutil 2.8.1\n",
            "Adding python-dateutil 2.8.1 to easy-install.pth file\n",
            "\n",
            "Using /usr/local/lib/python3.6/dist-packages\n",
            "Searching for pyparsing==2.4.7\n",
            "Best match: pyparsing 2.4.7\n",
            "Adding pyparsing 2.4.7 to easy-install.pth file\n",
            "\n",
            "Using /usr/local/lib/python3.6/dist-packages\n",
            "Searching for pytz==2018.9\n",
            "Best match: pytz 2018.9\n",
            "Adding pytz 2018.9 to easy-install.pth file\n",
            "\n",
            "Using /usr/local/lib/python3.6/dist-packages\n",
            "Searching for scipy==1.4.1\n",
            "Best match: scipy 1.4.1\n",
            "Adding scipy 1.4.1 to easy-install.pth file\n",
            "\n",
            "Using /usr/local/lib/python3.6/dist-packages\n",
            "Searching for decorator==4.4.2\n",
            "Best match: decorator 4.4.2\n",
            "Adding decorator 4.4.2 to easy-install.pth file\n",
            "\n",
            "Using /usr/local/lib/python3.6/dist-packages\n",
            "Searching for six==1.15.0\n",
            "Best match: six 1.15.0\n",
            "Adding six 1.15.0 to easy-install.pth file\n",
            "\n",
            "Using /usr/local/lib/python3.6/dist-packages\n",
            "Searching for smart-open==4.0.1\n",
            "Best match: smart-open 4.0.1\n",
            "Adding smart-open 4.0.1 to easy-install.pth file\n",
            "\n",
            "Using /usr/local/lib/python3.6/dist-packages\n",
            "Finished processing dependencies for ge==0.0.0\n"
          ],
          "name": "stdout"
        }
      ]
    },
    {
      "cell_type": "code",
      "metadata": {
        "id": "mVNT9AxaCn2R"
      },
      "source": [
        "!mv GraphEmbedding/* ."
      ],
      "execution_count": null,
      "outputs": []
    },
    {
      "cell_type": "markdown",
      "metadata": {
        "id": "bzaCy33NDd3w"
      },
      "source": [
        "# Carregando as Redes"
      ]
    },
    {
      "cell_type": "code",
      "metadata": {
        "colab": {
          "base_uri": "https://localhost:8080/"
        },
        "id": "03ON12PtM3My",
        "outputId": "64a24816-5863-4571-ffb3-4859fafe859a"
      },
      "source": [
        "!gdown --id 1RF_bIo5ndxPhu9SJw-T8HBcuHyaGQGL0"
      ],
      "execution_count": null,
      "outputs": [
        {
          "output_type": "stream",
          "text": [
            "Downloading...\n",
            "From: https://drive.google.com/uc?id=1RF_bIo5ndxPhu9SJw-T8HBcuHyaGQGL0\n",
            "To: /content/datasets.tar.gz\n",
            "\r0.00B [00:00, ?B/s]\r8.91MB [00:00, 87.7MB/s]\r22.7MB [00:00, 138MB/s] \n"
          ],
          "name": "stdout"
        }
      ]
    },
    {
      "cell_type": "code",
      "metadata": {
        "colab": {
          "base_uri": "https://localhost:8080/"
        },
        "id": "zrzzUlveM7qW",
        "outputId": "ee9e6434-e7fc-4c53-cf66-9f0e326dd0a9"
      },
      "source": [
        "!tar -xzvf datasets.tar.gz"
      ],
      "execution_count": null,
      "outputs": [
        {
          "output_type": "stream",
          "text": [
            "datasets_runs/\n",
            "datasets_runs/run_1_google_news_5w1h_graph_hin.nx\n",
            "datasets_runs/run_6_40er_5w1h_graph_hin.nx\n",
            "datasets_runs/run_4_bbc_5w1h_graph_hin.nx\n",
            "datasets_runs/run_8_gold_standard_5w1h_graph_hin.nx\n",
            "datasets_runs/run_5_bbc_5w1h_graph_hin.nx\n",
            "datasets_runs/run_9_google_news_5w1h_graph_hin.nx\n",
            "datasets_runs/run_5_gold_standard_5w1h_graph_hin.nx\n",
            "datasets_runs/run_2_bbc_5w1h_graph_hin.nx\n",
            "datasets_runs/run_9_news_cluster_5w1h_graph_hin.nx\n",
            "datasets_runs/run_7_40er_5w1h_graph_hin.nx\n",
            "datasets_runs/run_9_gold_standard_5w1h_graph_hin.nx\n",
            "datasets_runs/run_8_google_news_5w1h_graph_hin.nx\n",
            "datasets_runs/run_10_bbc_5w1h_graph_hin.nx\n",
            "datasets_runs/run_8_news_cluster_5w1h_graph_hin.nx\n",
            "datasets_runs/run_2_news_cluster_5w1h_graph_hin.nx\n",
            "datasets_runs/run_8_40er_5w1h_graph_hin.nx\n",
            "datasets_runs/run_6_bbc_5w1h_graph_hin.nx\n",
            "datasets_runs/run_4_google_news_5w1h_graph_hin.nx\n",
            "datasets_runs/run_2_google_news_5w1h_graph_hin.nx\n",
            "datasets_runs/run_7_gold_standard_5w1h_graph_hin.nx\n",
            "datasets_runs/run_4_gold_standard_5w1h_graph_hin.nx\n",
            "datasets_runs/run_5_40er_5w1h_graph_hin.nx\n",
            "datasets_runs/run_3_gold_standard_5w1h_graph_hin.nx\n",
            "datasets_runs/run_4_40er_5w1h_graph_hin.nx\n",
            "datasets_runs/run_5_google_news_5w1h_graph_hin.nx\n",
            "datasets_runs/run_10_news_cluster_5w1h_graph_hin.nx\n",
            "datasets_runs/run_10_40er_5w1h_graph_hin.nx\n",
            "datasets_runs/run_9_40er_5w1h_graph_hin.nx\n",
            "datasets_runs/run_10_google_news_5w1h_graph_hin.nx\n",
            "datasets_runs/run_6_google_news_5w1h_graph_hin.nx\n",
            "datasets_runs/run_1_news_cluster_5w1h_graph_hin.nx\n",
            "datasets_runs/run_3_news_cluster_5w1h_graph_hin.nx\n",
            "datasets_runs/run_5_news_cluster_5w1h_graph_hin.nx\n",
            "datasets_runs/run_4_news_cluster_5w1h_graph_hin.nx\n",
            "datasets_runs/run_7_bbc_5w1h_graph_hin.nx\n",
            "datasets_runs/run_1_gold_standard_5w1h_graph_hin.nx\n",
            "datasets_runs/run_7_google_news_5w1h_graph_hin.nx\n",
            "datasets_runs/run_10_gold_standard_5w1h_graph_hin.nx\n",
            "datasets_runs/run_6_gold_standard_5w1h_graph_hin.nx\n",
            "datasets_runs/run_3_bbc_5w1h_graph_hin.nx\n",
            "datasets_runs/run_1_bbc_5w1h_graph_hin.nx\n",
            "datasets_runs/run_2_gold_standard_5w1h_graph_hin.nx\n",
            "datasets_runs/run_3_google_news_5w1h_graph_hin.nx\n",
            "datasets_runs/run_9_bbc_5w1h_graph_hin.nx\n",
            "datasets_runs/run_2_40er_5w1h_graph_hin.nx\n",
            "datasets_runs/run_8_bbc_5w1h_graph_hin.nx\n",
            "datasets_runs/run_6_news_cluster_5w1h_graph_hin.nx\n",
            "datasets_runs/run_1_40er_5w1h_graph_hin.nx\n",
            "datasets_runs/run_7_news_cluster_5w1h_graph_hin.nx\n",
            "datasets_runs/run_3_40er_5w1h_graph_hin.nx\n"
          ],
          "name": "stdout"
        }
      ]
    },
    {
      "cell_type": "code",
      "metadata": {
        "colab": {
          "base_uri": "https://localhost:8080/"
        },
        "id": "ga_09m2ENBW-",
        "outputId": "aed9674c-cde5-4fd7-f4fc-3cbde369b153"
      },
      "source": [
        "from os import listdir\r\n",
        "from os.path import isfile, join\r\n",
        "path_datasets = 'datasets_runs/'\r\n",
        "network_files = [f for f in listdir(path_datasets) if isfile(join(path_datasets, f))]\r\n",
        "print(network_files)"
      ],
      "execution_count": null,
      "outputs": [
        {
          "output_type": "stream",
          "text": [
            "['run_1_google_news_5w1h_graph_hin.nx', 'run_6_40er_5w1h_graph_hin.nx', 'run_4_bbc_5w1h_graph_hin.nx', 'run_8_gold_standard_5w1h_graph_hin.nx', 'run_5_bbc_5w1h_graph_hin.nx', 'run_9_google_news_5w1h_graph_hin.nx', 'run_5_gold_standard_5w1h_graph_hin.nx', 'run_2_bbc_5w1h_graph_hin.nx', 'run_9_news_cluster_5w1h_graph_hin.nx', 'run_7_40er_5w1h_graph_hin.nx', 'run_9_gold_standard_5w1h_graph_hin.nx', 'run_8_google_news_5w1h_graph_hin.nx', 'run_10_bbc_5w1h_graph_hin.nx', 'run_8_news_cluster_5w1h_graph_hin.nx', 'run_2_news_cluster_5w1h_graph_hin.nx', 'run_8_40er_5w1h_graph_hin.nx', 'run_6_bbc_5w1h_graph_hin.nx', 'run_4_google_news_5w1h_graph_hin.nx', 'run_2_google_news_5w1h_graph_hin.nx', 'run_7_gold_standard_5w1h_graph_hin.nx', 'run_4_gold_standard_5w1h_graph_hin.nx', 'run_5_40er_5w1h_graph_hin.nx', 'run_3_gold_standard_5w1h_graph_hin.nx', 'run_4_40er_5w1h_graph_hin.nx', 'run_5_google_news_5w1h_graph_hin.nx', 'run_10_news_cluster_5w1h_graph_hin.nx', 'run_10_40er_5w1h_graph_hin.nx', 'run_9_40er_5w1h_graph_hin.nx', 'run_10_google_news_5w1h_graph_hin.nx', 'run_6_google_news_5w1h_graph_hin.nx', 'run_1_news_cluster_5w1h_graph_hin.nx', 'run_3_news_cluster_5w1h_graph_hin.nx', 'run_5_news_cluster_5w1h_graph_hin.nx', 'run_4_news_cluster_5w1h_graph_hin.nx', 'run_7_bbc_5w1h_graph_hin.nx', 'run_1_gold_standard_5w1h_graph_hin.nx', 'run_7_google_news_5w1h_graph_hin.nx', 'run_10_gold_standard_5w1h_graph_hin.nx', 'run_6_gold_standard_5w1h_graph_hin.nx', 'run_3_bbc_5w1h_graph_hin.nx', 'run_1_bbc_5w1h_graph_hin.nx', 'run_2_gold_standard_5w1h_graph_hin.nx', 'run_3_google_news_5w1h_graph_hin.nx', 'run_9_bbc_5w1h_graph_hin.nx', 'run_2_40er_5w1h_graph_hin.nx', 'run_8_bbc_5w1h_graph_hin.nx', 'run_6_news_cluster_5w1h_graph_hin.nx', 'run_1_40er_5w1h_graph_hin.nx', 'run_7_news_cluster_5w1h_graph_hin.nx', 'run_3_40er_5w1h_graph_hin.nx']\n"
          ],
          "name": "stdout"
        }
      ]
    },
    {
      "cell_type": "markdown",
      "metadata": {
        "id": "r30mh1szDjDt"
      },
      "source": [
        "# Treinando e avaliando o DeepWalk"
      ]
    },
    {
      "cell_type": "code",
      "metadata": {
        "id": "fWMXb_98CRpO",
        "colab": {
          "base_uri": "https://localhost:8080/",
          "height": 1000,
          "referenced_widgets": [
            "f7c8e1da8e3441eb988712c746d02924",
            "c68eeafd085b4a88934561928973606a",
            "51030626140d495b846e6430edf9a627",
            "61ba59c96fe04aa0971b0bbde3eeb7a2",
            "9f218b45929b4aa18e091046ff0c6c42",
            "b31e2bd4b96742a1ada9896e39bdd2ba",
            "27533da3f84b4eaa844ba1a55a621c15",
            "bb5b491e3c3f4e66b372b6c3242d3257"
          ]
        },
        "outputId": "27c80a23-068d-41df-e4f7-2b6611ac2cfe"
      },
      "source": [
        "from ge import DeepWalk\n",
        "import numpy as np\n",
        "import networkx as nx\n",
        "from tqdm.notebook import tqdm\n",
        "from sklearn.metrics import accuracy_score\n",
        "from sklearn.metrics import f1_score\n",
        "from sklearn.svm import LinearSVC\n",
        "\n",
        "\n",
        "experimental_results = []\n",
        "emb_sizes = [ 64 ]\n",
        "\n",
        "for network_file in tqdm(network_files):\n",
        "\n",
        "  for emb_size in emb_sizes:\n",
        "\n",
        "    G = nx.read_gpickle(path_datasets+network_file)\n",
        "    model = DeepWalk(G,walk_length=10,num_walks=80,workers=1)\n",
        "    model.train(window_size=5,iter=3,embed_size=64)# train model\n",
        "    embeddings = model.get_embeddings()# get embedding vectors    \n",
        "\n",
        "\n",
        "    # gerando features e classificando\n",
        "    X_train = []\n",
        "    Y_train = []\n",
        "    X_test = []\n",
        "    Y_test = []\n",
        "\n",
        "    for node in G.nodes():\n",
        "      if ':event' in node:\n",
        "        \n",
        "        if 'train' in G.nodes[node]:\n",
        "          X_train.append(embeddings[node])\n",
        "          Y_train.append(G.nodes[node]['label'])\n",
        "        if 'test' in G.nodes[node]:\n",
        "          X_test.append(embeddings[node])\n",
        "          Y_test.append(G.nodes[node]['label'])\n",
        "\n",
        "\n",
        "    X_train = np.array(X_train)\n",
        "    X_test = np.array(X_test)\n",
        "\n",
        "    clf = LinearSVC(tol=1e-5).fit(X_train, Y_train)\n",
        "    y_pred = clf.predict(X_test)\n",
        "\n",
        "\n",
        "    f1_macro = f1_score(Y_test, y_pred, average='macro')\n",
        "    acc = accuracy_score(Y_test, y_pred)\n",
        "\n",
        "    print('--->' ,network_file,emb_size,'f1_macro',f1_macro,'acc',acc)\n",
        "    experimental_results.append((network_file,emb_size,'f1_macro',f1_macro,'acc',acc,Y_test,y_pred))\n"
      ],
      "execution_count": null,
      "outputs": [
        {
          "output_type": "display_data",
          "data": {
            "application/vnd.jupyter.widget-view+json": {
              "model_id": "f7c8e1da8e3441eb988712c746d02924",
              "version_minor": 0,
              "version_major": 2
            },
            "text/plain": [
              "HBox(children=(FloatProgress(value=0.0, max=50.0), HTML(value='')))"
            ]
          },
          "metadata": {
            "tags": []
          }
        },
        {
          "output_type": "stream",
          "text": [
            "[Parallel(n_jobs=1)]: Using backend SequentialBackend with 1 concurrent workers.\n",
            "[Parallel(n_jobs=1)]: Done   1 out of   1 | elapsed:    0.3s finished\n"
          ],
          "name": "stderr"
        },
        {
          "output_type": "stream",
          "text": [
            "Learning embedding vectors...\n",
            "Learning embedding vectors done!\n",
            "---> run_1_google_news_5w1h_graph_hin.nx 64 f1_macro 0.656959706959707 acc 0.68\n"
          ],
          "name": "stdout"
        },
        {
          "output_type": "stream",
          "text": [
            "[Parallel(n_jobs=1)]: Using backend SequentialBackend with 1 concurrent workers.\n",
            "[Parallel(n_jobs=1)]: Done   1 out of   1 | elapsed:    0.3s finished\n"
          ],
          "name": "stderr"
        },
        {
          "output_type": "stream",
          "text": [
            "Learning embedding vectors...\n",
            "Learning embedding vectors done!\n",
            "---> run_6_40er_5w1h_graph_hin.nx 64 f1_macro 0.7510822510822511 acc 0.8125\n"
          ],
          "name": "stdout"
        },
        {
          "output_type": "stream",
          "text": [
            "[Parallel(n_jobs=1)]: Using backend SequentialBackend with 1 concurrent workers.\n",
            "[Parallel(n_jobs=1)]: Done   1 out of   1 | elapsed:    0.4s finished\n"
          ],
          "name": "stderr"
        },
        {
          "output_type": "stream",
          "text": [
            "Learning embedding vectors...\n",
            "Learning embedding vectors done!\n",
            "---> run_4_bbc_5w1h_graph_hin.nx 64 f1_macro 0.44598039215686275 acc 0.45454545454545453\n"
          ],
          "name": "stdout"
        },
        {
          "output_type": "stream",
          "text": [
            "[Parallel(n_jobs=1)]: Using backend SequentialBackend with 1 concurrent workers.\n",
            "[Parallel(n_jobs=1)]: Done   1 out of   1 | elapsed:    0.8s finished\n"
          ],
          "name": "stderr"
        },
        {
          "output_type": "stream",
          "text": [
            "Learning embedding vectors...\n",
            "Learning embedding vectors done!\n",
            "---> run_8_gold_standard_5w1h_graph_hin.nx 64 f1_macro 0.5002829643696517 acc 0.6447368421052632\n"
          ],
          "name": "stdout"
        },
        {
          "output_type": "stream",
          "text": [
            "[Parallel(n_jobs=1)]: Using backend SequentialBackend with 1 concurrent workers.\n",
            "[Parallel(n_jobs=1)]: Done   1 out of   1 | elapsed:    0.4s finished\n"
          ],
          "name": "stderr"
        },
        {
          "output_type": "stream",
          "text": [
            "Learning embedding vectors...\n",
            "Learning embedding vectors done!\n",
            "---> run_5_bbc_5w1h_graph_hin.nx 64 f1_macro 0.4733014354066986 acc 0.4772727272727273\n"
          ],
          "name": "stdout"
        },
        {
          "output_type": "stream",
          "text": [
            "[Parallel(n_jobs=1)]: Using backend SequentialBackend with 1 concurrent workers.\n",
            "[Parallel(n_jobs=1)]: Done   1 out of   1 | elapsed:    0.2s finished\n"
          ],
          "name": "stderr"
        },
        {
          "output_type": "stream",
          "text": [
            "Learning embedding vectors...\n",
            "Learning embedding vectors done!\n",
            "---> run_9_google_news_5w1h_graph_hin.nx 64 f1_macro 0.6865079365079365 acc 0.68\n"
          ],
          "name": "stdout"
        },
        {
          "output_type": "stream",
          "text": [
            "[Parallel(n_jobs=1)]: Using backend SequentialBackend with 1 concurrent workers.\n",
            "[Parallel(n_jobs=1)]: Done   1 out of   1 | elapsed:    0.7s finished\n"
          ],
          "name": "stderr"
        },
        {
          "output_type": "stream",
          "text": [
            "Learning embedding vectors...\n",
            "Learning embedding vectors done!\n",
            "---> run_5_gold_standard_5w1h_graph_hin.nx 64 f1_macro 0.46642992502721015 acc 0.5921052631578947\n"
          ],
          "name": "stdout"
        },
        {
          "output_type": "stream",
          "text": [
            "[Parallel(n_jobs=1)]: Using backend SequentialBackend with 1 concurrent workers.\n",
            "[Parallel(n_jobs=1)]: Done   1 out of   1 | elapsed:    0.4s finished\n"
          ],
          "name": "stderr"
        },
        {
          "output_type": "stream",
          "text": [
            "Learning embedding vectors...\n",
            "Learning embedding vectors done!\n",
            "---> run_2_bbc_5w1h_graph_hin.nx 64 f1_macro 0.36882786676837015 acc 0.4090909090909091\n"
          ],
          "name": "stdout"
        },
        {
          "output_type": "stream",
          "text": [
            "[Parallel(n_jobs=1)]: Using backend SequentialBackend with 1 concurrent workers.\n",
            "[Parallel(n_jobs=1)]: Done   1 out of   1 | elapsed:    2.8s finished\n"
          ],
          "name": "stderr"
        },
        {
          "output_type": "stream",
          "text": [
            "Learning embedding vectors...\n",
            "Learning embedding vectors done!\n",
            "---> run_9_news_cluster_5w1h_graph_hin.nx 64 f1_macro 0.4698644114245137 acc 0.5882352941176471\n"
          ],
          "name": "stdout"
        },
        {
          "output_type": "stream",
          "text": [
            "[Parallel(n_jobs=1)]: Using backend SequentialBackend with 1 concurrent workers.\n",
            "[Parallel(n_jobs=1)]: Done   1 out of   1 | elapsed:    0.3s finished\n"
          ],
          "name": "stderr"
        },
        {
          "output_type": "stream",
          "text": [
            "Learning embedding vectors...\n",
            "Learning embedding vectors done!\n",
            "---> run_7_40er_5w1h_graph_hin.nx 64 f1_macro 0.5913185913185913 acc 0.8125\n"
          ],
          "name": "stdout"
        },
        {
          "output_type": "stream",
          "text": [
            "[Parallel(n_jobs=1)]: Using backend SequentialBackend with 1 concurrent workers.\n",
            "[Parallel(n_jobs=1)]: Done   1 out of   1 | elapsed:    0.6s finished\n"
          ],
          "name": "stderr"
        },
        {
          "output_type": "stream",
          "text": [
            "Learning embedding vectors...\n",
            "Learning embedding vectors done!\n",
            "---> run_9_gold_standard_5w1h_graph_hin.nx 64 f1_macro 0.5076119786646102 acc 0.6447368421052632\n"
          ],
          "name": "stdout"
        },
        {
          "output_type": "stream",
          "text": [
            "[Parallel(n_jobs=1)]: Using backend SequentialBackend with 1 concurrent workers.\n",
            "[Parallel(n_jobs=1)]: Done   1 out of   1 | elapsed:    0.3s finished\n"
          ],
          "name": "stderr"
        },
        {
          "output_type": "stream",
          "text": [
            "Learning embedding vectors...\n",
            "Learning embedding vectors done!\n",
            "---> run_8_google_news_5w1h_graph_hin.nx 64 f1_macro 0.6134199134199134 acc 0.64\n"
          ],
          "name": "stdout"
        },
        {
          "output_type": "stream",
          "text": [
            "[Parallel(n_jobs=1)]: Using backend SequentialBackend with 1 concurrent workers.\n",
            "[Parallel(n_jobs=1)]: Done   1 out of   1 | elapsed:    0.4s finished\n"
          ],
          "name": "stderr"
        },
        {
          "output_type": "stream",
          "text": [
            "Learning embedding vectors...\n",
            "Learning embedding vectors done!\n",
            "---> run_10_bbc_5w1h_graph_hin.nx 64 f1_macro 0.4518614718614719 acc 0.4772727272727273\n"
          ],
          "name": "stdout"
        },
        {
          "output_type": "stream",
          "text": [
            "[Parallel(n_jobs=1)]: Using backend SequentialBackend with 1 concurrent workers.\n",
            "[Parallel(n_jobs=1)]: Done   1 out of   1 | elapsed:    2.9s finished\n"
          ],
          "name": "stderr"
        },
        {
          "output_type": "stream",
          "text": [
            "Learning embedding vectors...\n",
            "Learning embedding vectors done!\n",
            "---> run_8_news_cluster_5w1h_graph_hin.nx 64 f1_macro 0.4762681834331271 acc 0.5849673202614379\n"
          ],
          "name": "stdout"
        },
        {
          "output_type": "stream",
          "text": [
            "[Parallel(n_jobs=1)]: Using backend SequentialBackend with 1 concurrent workers.\n",
            "[Parallel(n_jobs=1)]: Done   1 out of   1 | elapsed:    2.8s finished\n"
          ],
          "name": "stderr"
        },
        {
          "output_type": "stream",
          "text": [
            "Learning embedding vectors...\n",
            "Learning embedding vectors done!\n",
            "---> run_2_news_cluster_5w1h_graph_hin.nx 64 f1_macro 0.4901770555075271 acc 0.5947712418300654\n"
          ],
          "name": "stdout"
        },
        {
          "output_type": "stream",
          "text": [
            "[Parallel(n_jobs=1)]: Using backend SequentialBackend with 1 concurrent workers.\n",
            "[Parallel(n_jobs=1)]: Done   1 out of   1 | elapsed:    0.3s finished\n"
          ],
          "name": "stderr"
        },
        {
          "output_type": "stream",
          "text": [
            "Learning embedding vectors...\n",
            "Learning embedding vectors done!\n",
            "---> run_8_40er_5w1h_graph_hin.nx 64 f1_macro 0.7287477954144621 acc 0.78125\n"
          ],
          "name": "stdout"
        },
        {
          "output_type": "stream",
          "text": [
            "[Parallel(n_jobs=1)]: Using backend SequentialBackend with 1 concurrent workers.\n",
            "[Parallel(n_jobs=1)]: Done   1 out of   1 | elapsed:    0.4s finished\n"
          ],
          "name": "stderr"
        },
        {
          "output_type": "stream",
          "text": [
            "Learning embedding vectors...\n",
            "Learning embedding vectors done!\n",
            "---> run_6_bbc_5w1h_graph_hin.nx 64 f1_macro 0.40530381211495764 acc 0.4318181818181818\n"
          ],
          "name": "stdout"
        },
        {
          "output_type": "stream",
          "text": [
            "[Parallel(n_jobs=1)]: Using backend SequentialBackend with 1 concurrent workers.\n",
            "[Parallel(n_jobs=1)]: Done   1 out of   1 | elapsed:    0.2s finished\n"
          ],
          "name": "stderr"
        },
        {
          "output_type": "stream",
          "text": [
            "Learning embedding vectors...\n",
            "Learning embedding vectors done!\n",
            "---> run_4_google_news_5w1h_graph_hin.nx 64 f1_macro 0.48460111317254173 acc 0.48\n"
          ],
          "name": "stdout"
        },
        {
          "output_type": "stream",
          "text": [
            "[Parallel(n_jobs=1)]: Using backend SequentialBackend with 1 concurrent workers.\n",
            "[Parallel(n_jobs=1)]: Done   1 out of   1 | elapsed:    0.4s finished\n"
          ],
          "name": "stderr"
        },
        {
          "output_type": "stream",
          "text": [
            "Learning embedding vectors...\n",
            "Learning embedding vectors done!\n",
            "---> run_2_google_news_5w1h_graph_hin.nx 64 f1_macro 0.6475468975468975 acc 0.64\n"
          ],
          "name": "stdout"
        },
        {
          "output_type": "stream",
          "text": [
            "[Parallel(n_jobs=1)]: Using backend SequentialBackend with 1 concurrent workers.\n",
            "[Parallel(n_jobs=1)]: Done   1 out of   1 | elapsed:    0.6s finished\n"
          ],
          "name": "stderr"
        },
        {
          "output_type": "stream",
          "text": [
            "Learning embedding vectors...\n",
            "Learning embedding vectors done!\n",
            "---> run_7_gold_standard_5w1h_graph_hin.nx 64 f1_macro 0.49946556711262596 acc 0.6447368421052632\n"
          ],
          "name": "stdout"
        },
        {
          "output_type": "stream",
          "text": [
            "[Parallel(n_jobs=1)]: Using backend SequentialBackend with 1 concurrent workers.\n",
            "[Parallel(n_jobs=1)]: Done   1 out of   1 | elapsed:    0.8s finished\n"
          ],
          "name": "stderr"
        },
        {
          "output_type": "stream",
          "text": [
            "Learning embedding vectors...\n",
            "Learning embedding vectors done!\n",
            "---> run_4_gold_standard_5w1h_graph_hin.nx 64 f1_macro 0.45777457836281366 acc 0.5789473684210527\n"
          ],
          "name": "stdout"
        },
        {
          "output_type": "stream",
          "text": [
            "[Parallel(n_jobs=1)]: Using backend SequentialBackend with 1 concurrent workers.\n",
            "[Parallel(n_jobs=1)]: Done   1 out of   1 | elapsed:    0.3s finished\n"
          ],
          "name": "stderr"
        },
        {
          "output_type": "stream",
          "text": [
            "Learning embedding vectors...\n",
            "Learning embedding vectors done!\n",
            "---> run_5_40er_5w1h_graph_hin.nx 64 f1_macro 0.6458333333333334 acc 0.6875\n"
          ],
          "name": "stdout"
        },
        {
          "output_type": "stream",
          "text": [
            "[Parallel(n_jobs=1)]: Using backend SequentialBackend with 1 concurrent workers.\n",
            "[Parallel(n_jobs=1)]: Done   1 out of   1 | elapsed:    0.6s finished\n"
          ],
          "name": "stderr"
        },
        {
          "output_type": "stream",
          "text": [
            "Learning embedding vectors...\n",
            "Learning embedding vectors done!\n",
            "---> run_3_gold_standard_5w1h_graph_hin.nx 64 f1_macro 0.4995347432594397 acc 0.6578947368421053\n"
          ],
          "name": "stdout"
        },
        {
          "output_type": "stream",
          "text": [
            "[Parallel(n_jobs=1)]: Using backend SequentialBackend with 1 concurrent workers.\n",
            "[Parallel(n_jobs=1)]: Done   1 out of   1 | elapsed:    0.3s finished\n"
          ],
          "name": "stderr"
        },
        {
          "output_type": "stream",
          "text": [
            "Learning embedding vectors...\n",
            "Learning embedding vectors done!\n",
            "---> run_4_40er_5w1h_graph_hin.nx 64 f1_macro 0.6302294197031039 acc 0.75\n"
          ],
          "name": "stdout"
        },
        {
          "output_type": "stream",
          "text": [
            "[Parallel(n_jobs=1)]: Using backend SequentialBackend with 1 concurrent workers.\n",
            "[Parallel(n_jobs=1)]: Done   1 out of   1 | elapsed:    0.2s finished\n"
          ],
          "name": "stderr"
        },
        {
          "output_type": "stream",
          "text": [
            "Learning embedding vectors...\n",
            "Learning embedding vectors done!\n",
            "---> run_5_google_news_5w1h_graph_hin.nx 64 f1_macro 0.6095238095238095 acc 0.64\n"
          ],
          "name": "stdout"
        },
        {
          "output_type": "stream",
          "text": [
            "[Parallel(n_jobs=1)]: Using backend SequentialBackend with 1 concurrent workers.\n",
            "[Parallel(n_jobs=1)]: Done   1 out of   1 | elapsed:    2.8s finished\n"
          ],
          "name": "stderr"
        },
        {
          "output_type": "stream",
          "text": [
            "Learning embedding vectors...\n",
            "Learning embedding vectors done!\n",
            "---> run_10_news_cluster_5w1h_graph_hin.nx 64 f1_macro 0.5362833174479513 acc 0.6241830065359477\n"
          ],
          "name": "stdout"
        },
        {
          "output_type": "stream",
          "text": [
            "[Parallel(n_jobs=1)]: Using backend SequentialBackend with 1 concurrent workers.\n",
            "[Parallel(n_jobs=1)]: Done   1 out of   1 | elapsed:    0.3s finished\n"
          ],
          "name": "stderr"
        },
        {
          "output_type": "stream",
          "text": [
            "Learning embedding vectors...\n",
            "Learning embedding vectors done!\n",
            "---> run_10_40er_5w1h_graph_hin.nx 64 f1_macro 0.5391812865497077 acc 0.625\n"
          ],
          "name": "stdout"
        },
        {
          "output_type": "stream",
          "text": [
            "[Parallel(n_jobs=1)]: Using backend SequentialBackend with 1 concurrent workers.\n",
            "[Parallel(n_jobs=1)]: Done   1 out of   1 | elapsed:    0.3s finished\n"
          ],
          "name": "stderr"
        },
        {
          "output_type": "stream",
          "text": [
            "Learning embedding vectors...\n",
            "Learning embedding vectors done!\n",
            "---> run_9_40er_5w1h_graph_hin.nx 64 f1_macro 0.7847222222222222 acc 0.875\n"
          ],
          "name": "stdout"
        },
        {
          "output_type": "stream",
          "text": [
            "[Parallel(n_jobs=1)]: Using backend SequentialBackend with 1 concurrent workers.\n",
            "[Parallel(n_jobs=1)]: Done   1 out of   1 | elapsed:    0.3s finished\n"
          ],
          "name": "stderr"
        },
        {
          "output_type": "stream",
          "text": [
            "Learning embedding vectors...\n",
            "Learning embedding vectors done!\n",
            "---> run_10_google_news_5w1h_graph_hin.nx 64 f1_macro 0.7914244485673058 acc 0.76\n"
          ],
          "name": "stdout"
        },
        {
          "output_type": "stream",
          "text": [
            "[Parallel(n_jobs=1)]: Using backend SequentialBackend with 1 concurrent workers.\n",
            "[Parallel(n_jobs=1)]: Done   1 out of   1 | elapsed:    0.4s finished\n"
          ],
          "name": "stderr"
        },
        {
          "output_type": "stream",
          "text": [
            "Learning embedding vectors...\n",
            "Learning embedding vectors done!\n",
            "---> run_6_google_news_5w1h_graph_hin.nx 64 f1_macro 0.6093382807668523 acc 0.6\n"
          ],
          "name": "stdout"
        },
        {
          "output_type": "stream",
          "text": [
            "[Parallel(n_jobs=1)]: Using backend SequentialBackend with 1 concurrent workers.\n",
            "[Parallel(n_jobs=1)]: Done   1 out of   1 | elapsed:    2.8s finished\n"
          ],
          "name": "stderr"
        },
        {
          "output_type": "stream",
          "text": [
            "Learning embedding vectors...\n",
            "Learning embedding vectors done!\n",
            "---> run_1_news_cluster_5w1h_graph_hin.nx 64 f1_macro 0.5067621250713247 acc 0.6241830065359477\n"
          ],
          "name": "stdout"
        },
        {
          "output_type": "stream",
          "text": [
            "[Parallel(n_jobs=1)]: Using backend SequentialBackend with 1 concurrent workers.\n",
            "[Parallel(n_jobs=1)]: Done   1 out of   1 | elapsed:    2.9s finished\n"
          ],
          "name": "stderr"
        },
        {
          "output_type": "stream",
          "text": [
            "Learning embedding vectors...\n",
            "Learning embedding vectors done!\n",
            "---> run_3_news_cluster_5w1h_graph_hin.nx 64 f1_macro 0.5337998060142696 acc 0.630718954248366\n"
          ],
          "name": "stdout"
        },
        {
          "output_type": "stream",
          "text": [
            "[Parallel(n_jobs=1)]: Using backend SequentialBackend with 1 concurrent workers.\n",
            "[Parallel(n_jobs=1)]: Done   1 out of   1 | elapsed:    2.8s finished\n"
          ],
          "name": "stderr"
        },
        {
          "output_type": "stream",
          "text": [
            "Learning embedding vectors...\n",
            "Learning embedding vectors done!\n",
            "---> run_5_news_cluster_5w1h_graph_hin.nx 64 f1_macro 0.5208186274185634 acc 0.6176470588235294\n"
          ],
          "name": "stdout"
        },
        {
          "output_type": "stream",
          "text": [
            "[Parallel(n_jobs=1)]: Using backend SequentialBackend with 1 concurrent workers.\n",
            "[Parallel(n_jobs=1)]: Done   1 out of   1 | elapsed:    3.0s finished\n"
          ],
          "name": "stderr"
        },
        {
          "output_type": "stream",
          "text": [
            "Learning embedding vectors...\n",
            "Learning embedding vectors done!\n",
            "---> run_4_news_cluster_5w1h_graph_hin.nx 64 f1_macro 0.497858923338975 acc 0.5980392156862745\n"
          ],
          "name": "stdout"
        },
        {
          "output_type": "stream",
          "text": [
            "[Parallel(n_jobs=1)]: Using backend SequentialBackend with 1 concurrent workers.\n",
            "[Parallel(n_jobs=1)]: Done   1 out of   1 | elapsed:    0.5s finished\n"
          ],
          "name": "stderr"
        },
        {
          "output_type": "stream",
          "text": [
            "Learning embedding vectors...\n",
            "Learning embedding vectors done!\n",
            "---> run_7_bbc_5w1h_graph_hin.nx 64 f1_macro 0.418974358974359 acc 0.45454545454545453\n"
          ],
          "name": "stdout"
        },
        {
          "output_type": "stream",
          "text": [
            "[Parallel(n_jobs=1)]: Using backend SequentialBackend with 1 concurrent workers.\n",
            "[Parallel(n_jobs=1)]: Done   1 out of   1 | elapsed:    0.6s finished\n"
          ],
          "name": "stderr"
        },
        {
          "output_type": "stream",
          "text": [
            "Learning embedding vectors...\n",
            "Learning embedding vectors done!\n",
            "---> run_1_gold_standard_5w1h_graph_hin.nx 64 f1_macro 0.570678152917972 acc 0.6973684210526315\n"
          ],
          "name": "stdout"
        },
        {
          "output_type": "stream",
          "text": [
            "[Parallel(n_jobs=1)]: Using backend SequentialBackend with 1 concurrent workers.\n"
          ],
          "name": "stderr"
        },
        {
          "output_type": "stream",
          "text": [
            "Learning embedding vectors...\n",
            "Learning embedding vectors done!\n",
            "---> run_7_google_news_5w1h_graph_hin.nx 64 f1_macro 0.5119047619047619 acc 0.48\n"
          ],
          "name": "stdout"
        },
        {
          "output_type": "stream",
          "text": [
            "[Parallel(n_jobs=1)]: Done   1 out of   1 | elapsed:    0.3s finished\n",
            "[Parallel(n_jobs=1)]: Using backend SequentialBackend with 1 concurrent workers.\n",
            "[Parallel(n_jobs=1)]: Done   1 out of   1 | elapsed:    0.6s finished\n"
          ],
          "name": "stderr"
        },
        {
          "output_type": "stream",
          "text": [
            "Learning embedding vectors...\n",
            "Learning embedding vectors done!\n",
            "---> run_10_gold_standard_5w1h_graph_hin.nx 64 f1_macro 0.499050024050024 acc 0.5921052631578947\n"
          ],
          "name": "stdout"
        },
        {
          "output_type": "stream",
          "text": [
            "[Parallel(n_jobs=1)]: Using backend SequentialBackend with 1 concurrent workers.\n",
            "[Parallel(n_jobs=1)]: Done   1 out of   1 | elapsed:    0.8s finished\n"
          ],
          "name": "stderr"
        },
        {
          "output_type": "stream",
          "text": [
            "Learning embedding vectors...\n",
            "Learning embedding vectors done!\n",
            "---> run_6_gold_standard_5w1h_graph_hin.nx 64 f1_macro 0.568076091831748 acc 0.7236842105263158\n"
          ],
          "name": "stdout"
        },
        {
          "output_type": "stream",
          "text": [
            "[Parallel(n_jobs=1)]: Using backend SequentialBackend with 1 concurrent workers.\n",
            "[Parallel(n_jobs=1)]: Done   1 out of   1 | elapsed:    0.4s finished\n"
          ],
          "name": "stderr"
        },
        {
          "output_type": "stream",
          "text": [
            "Learning embedding vectors...\n",
            "Learning embedding vectors done!\n",
            "---> run_3_bbc_5w1h_graph_hin.nx 64 f1_macro 0.33229428523546173 acc 0.38636363636363635\n"
          ],
          "name": "stdout"
        },
        {
          "output_type": "stream",
          "text": [
            "[Parallel(n_jobs=1)]: Using backend SequentialBackend with 1 concurrent workers.\n",
            "[Parallel(n_jobs=1)]: Done   1 out of   1 | elapsed:    0.4s finished\n"
          ],
          "name": "stderr"
        },
        {
          "output_type": "stream",
          "text": [
            "Learning embedding vectors...\n",
            "Learning embedding vectors done!\n",
            "---> run_1_bbc_5w1h_graph_hin.nx 64 f1_macro 0.4841652774470112 acc 0.4772727272727273\n"
          ],
          "name": "stdout"
        },
        {
          "output_type": "stream",
          "text": [
            "[Parallel(n_jobs=1)]: Using backend SequentialBackend with 1 concurrent workers.\n",
            "[Parallel(n_jobs=1)]: Done   1 out of   1 | elapsed:    0.7s finished\n"
          ],
          "name": "stderr"
        },
        {
          "output_type": "stream",
          "text": [
            "Learning embedding vectors...\n",
            "Learning embedding vectors done!\n",
            "---> run_2_gold_standard_5w1h_graph_hin.nx 64 f1_macro 0.5114062051309015 acc 0.618421052631579\n"
          ],
          "name": "stdout"
        },
        {
          "output_type": "stream",
          "text": [
            "[Parallel(n_jobs=1)]: Using backend SequentialBackend with 1 concurrent workers.\n",
            "[Parallel(n_jobs=1)]: Done   1 out of   1 | elapsed:    0.5s finished\n"
          ],
          "name": "stderr"
        },
        {
          "output_type": "stream",
          "text": [
            "Learning embedding vectors...\n",
            "Learning embedding vectors done!\n",
            "---> run_3_google_news_5w1h_graph_hin.nx 64 f1_macro 0.6252112966398682 acc 0.64\n"
          ],
          "name": "stdout"
        },
        {
          "output_type": "stream",
          "text": [
            "[Parallel(n_jobs=1)]: Using backend SequentialBackend with 1 concurrent workers.\n",
            "[Parallel(n_jobs=1)]: Done   1 out of   1 | elapsed:    0.8s finished\n"
          ],
          "name": "stderr"
        },
        {
          "output_type": "stream",
          "text": [
            "Learning embedding vectors...\n",
            "Learning embedding vectors done!\n",
            "---> run_9_bbc_5w1h_graph_hin.nx 64 f1_macro 0.40405542842613784 acc 0.4090909090909091\n"
          ],
          "name": "stdout"
        },
        {
          "output_type": "stream",
          "text": [
            "[Parallel(n_jobs=1)]: Using backend SequentialBackend with 1 concurrent workers.\n",
            "[Parallel(n_jobs=1)]: Done   1 out of   1 | elapsed:    0.3s finished\n"
          ],
          "name": "stderr"
        },
        {
          "output_type": "stream",
          "text": [
            "Learning embedding vectors...\n",
            "Learning embedding vectors done!\n",
            "---> run_2_40er_5w1h_graph_hin.nx 64 f1_macro 0.4823848238482384 acc 0.6875\n"
          ],
          "name": "stdout"
        },
        {
          "output_type": "stream",
          "text": [
            "[Parallel(n_jobs=1)]: Using backend SequentialBackend with 1 concurrent workers.\n",
            "[Parallel(n_jobs=1)]: Done   1 out of   1 | elapsed:    0.6s finished\n"
          ],
          "name": "stderr"
        },
        {
          "output_type": "stream",
          "text": [
            "Learning embedding vectors...\n",
            "Learning embedding vectors done!\n",
            "---> run_8_bbc_5w1h_graph_hin.nx 64 f1_macro 0.36960997082700936 acc 0.36363636363636365\n"
          ],
          "name": "stdout"
        },
        {
          "output_type": "stream",
          "text": [
            "[Parallel(n_jobs=1)]: Using backend SequentialBackend with 1 concurrent workers.\n",
            "[Parallel(n_jobs=1)]: Done   1 out of   1 | elapsed:    2.7s finished\n"
          ],
          "name": "stderr"
        },
        {
          "output_type": "stream",
          "text": [
            "Learning embedding vectors...\n",
            "Learning embedding vectors done!\n",
            "---> run_6_news_cluster_5w1h_graph_hin.nx 64 f1_macro 0.518857753332959 acc 0.6111111111111112\n"
          ],
          "name": "stdout"
        },
        {
          "output_type": "stream",
          "text": [
            "[Parallel(n_jobs=1)]: Using backend SequentialBackend with 1 concurrent workers.\n",
            "[Parallel(n_jobs=1)]: Done   1 out of   1 | elapsed:    0.3s finished\n"
          ],
          "name": "stderr"
        },
        {
          "output_type": "stream",
          "text": [
            "Learning embedding vectors...\n",
            "Learning embedding vectors done!\n",
            "---> run_1_40er_5w1h_graph_hin.nx 64 f1_macro 0.5446775446775446 acc 0.75\n"
          ],
          "name": "stdout"
        },
        {
          "output_type": "stream",
          "text": [
            "[Parallel(n_jobs=1)]: Using backend SequentialBackend with 1 concurrent workers.\n",
            "[Parallel(n_jobs=1)]: Done   1 out of   1 | elapsed:    2.8s finished\n"
          ],
          "name": "stderr"
        },
        {
          "output_type": "stream",
          "text": [
            "Learning embedding vectors...\n",
            "Learning embedding vectors done!\n",
            "---> run_7_news_cluster_5w1h_graph_hin.nx 64 f1_macro 0.524977985828696 acc 0.6176470588235294\n"
          ],
          "name": "stdout"
        },
        {
          "output_type": "stream",
          "text": [
            "[Parallel(n_jobs=1)]: Using backend SequentialBackend with 1 concurrent workers.\n",
            "[Parallel(n_jobs=1)]: Done   1 out of   1 | elapsed:    0.3s finished\n"
          ],
          "name": "stderr"
        },
        {
          "output_type": "stream",
          "text": [
            "Learning embedding vectors...\n",
            "Learning embedding vectors done!\n",
            "---> run_3_40er_5w1h_graph_hin.nx 64 f1_macro 0.6383547008547009 acc 0.75\n",
            "\n"
          ],
          "name": "stdout"
        }
      ]
    },
    {
      "cell_type": "code",
      "metadata": {
        "id": "SkJygOKqO805",
        "colab": {
          "base_uri": "https://localhost:8080/",
          "height": 1000
        },
        "outputId": "e56c3afb-724f-4973-da71-7d4e907ce89d"
      },
      "source": [
        "import pandas as pd\r\n",
        "df_results = pd.DataFrame(experimental_results)\r\n",
        "df_results"
      ],
      "execution_count": null,
      "outputs": [
        {
          "output_type": "execute_result",
          "data": {
            "text/html": [
              "<div>\n",
              "<style scoped>\n",
              "    .dataframe tbody tr th:only-of-type {\n",
              "        vertical-align: middle;\n",
              "    }\n",
              "\n",
              "    .dataframe tbody tr th {\n",
              "        vertical-align: top;\n",
              "    }\n",
              "\n",
              "    .dataframe thead th {\n",
              "        text-align: right;\n",
              "    }\n",
              "</style>\n",
              "<table border=\"1\" class=\"dataframe\">\n",
              "  <thead>\n",
              "    <tr style=\"text-align: right;\">\n",
              "      <th></th>\n",
              "      <th>0</th>\n",
              "      <th>1</th>\n",
              "      <th>2</th>\n",
              "      <th>3</th>\n",
              "      <th>4</th>\n",
              "      <th>5</th>\n",
              "      <th>6</th>\n",
              "      <th>7</th>\n",
              "    </tr>\n",
              "  </thead>\n",
              "  <tbody>\n",
              "    <tr>\n",
              "      <th>0</th>\n",
              "      <td>run_1_google_news_5w1h_graph_hin.nx</td>\n",
              "      <td>64</td>\n",
              "      <td>f1_macro</td>\n",
              "      <td>0.656960</td>\n",
              "      <td>acc</td>\n",
              "      <td>0.680000</td>\n",
              "      <td>[Equifax breach, IPhone-X Green-Line, Star War...</td>\n",
              "      <td>[Zimbabwe, IPhone-X Green-Line, Dieselgate, Ve...</td>\n",
              "    </tr>\n",
              "    <tr>\n",
              "      <th>1</th>\n",
              "      <td>run_6_40er_5w1h_graph_hin.nx</td>\n",
              "      <td>64</td>\n",
              "      <td>f1_macro</td>\n",
              "      <td>0.751082</td>\n",
              "      <td>acc</td>\n",
              "      <td>0.812500</td>\n",
              "      <td>[business, world, world, business, business, t...</td>\n",
              "      <td>[business, world, world, business, business, w...</td>\n",
              "    </tr>\n",
              "    <tr>\n",
              "      <th>2</th>\n",
              "      <td>run_4_bbc_5w1h_graph_hin.nx</td>\n",
              "      <td>64</td>\n",
              "      <td>f1_macro</td>\n",
              "      <td>0.445980</td>\n",
              "      <td>acc</td>\n",
              "      <td>0.454545</td>\n",
              "      <td>[business, politics, sport, business, politics...</td>\n",
              "      <td>[business, politics, sport, business, entertai...</td>\n",
              "    </tr>\n",
              "    <tr>\n",
              "      <th>3</th>\n",
              "      <td>run_8_gold_standard_5w1h_graph_hin.nx</td>\n",
              "      <td>64</td>\n",
              "      <td>f1_macro</td>\n",
              "      <td>0.500283</td>\n",
              "      <td>acc</td>\n",
              "      <td>0.644737</td>\n",
              "      <td>[toberone-gate, clinton blames comey, cubs win...</td>\n",
              "      <td>[toberone-gate, clinton blames comey, china we...</td>\n",
              "    </tr>\n",
              "    <tr>\n",
              "      <th>4</th>\n",
              "      <td>run_5_bbc_5w1h_graph_hin.nx</td>\n",
              "      <td>64</td>\n",
              "      <td>f1_macro</td>\n",
              "      <td>0.473301</td>\n",
              "      <td>acc</td>\n",
              "      <td>0.477273</td>\n",
              "      <td>[business, politics, sport, business, politics...</td>\n",
              "      <td>[business, entertainment, sport, business, spo...</td>\n",
              "    </tr>\n",
              "    <tr>\n",
              "      <th>5</th>\n",
              "      <td>run_9_google_news_5w1h_graph_hin.nx</td>\n",
              "      <td>64</td>\n",
              "      <td>f1_macro</td>\n",
              "      <td>0.686508</td>\n",
              "      <td>acc</td>\n",
              "      <td>0.680000</td>\n",
              "      <td>[IPhone-X Green-Line, Dieselgate, IPhone-X Gre...</td>\n",
              "      <td>[IPhone-X Green-Line, North Korea Missile, IPh...</td>\n",
              "    </tr>\n",
              "    <tr>\n",
              "      <th>6</th>\n",
              "      <td>run_5_gold_standard_5w1h_graph_hin.nx</td>\n",
              "      <td>64</td>\n",
              "      <td>f1_macro</td>\n",
              "      <td>0.466430</td>\n",
              "      <td>acc</td>\n",
              "      <td>0.592105</td>\n",
              "      <td>[toberone-gate, clinton blames comey, china we...</td>\n",
              "      <td>[toberone-gate, clinton blames comey, f1, tobe...</td>\n",
              "    </tr>\n",
              "    <tr>\n",
              "      <th>7</th>\n",
              "      <td>run_2_bbc_5w1h_graph_hin.nx</td>\n",
              "      <td>64</td>\n",
              "      <td>f1_macro</td>\n",
              "      <td>0.368828</td>\n",
              "      <td>acc</td>\n",
              "      <td>0.409091</td>\n",
              "      <td>[business, politics, politics, sport, business...</td>\n",
              "      <td>[tech, politics, politics, politics, tech, spo...</td>\n",
              "    </tr>\n",
              "    <tr>\n",
              "      <th>8</th>\n",
              "      <td>run_9_news_cluster_5w1h_graph_hin.nx</td>\n",
              "      <td>64</td>\n",
              "      <td>f1_macro</td>\n",
              "      <td>0.469864</td>\n",
              "      <td>acc</td>\n",
              "      <td>0.588235</td>\n",
              "      <td>[harambe, The_New_Infinity_War_Trailer, elon_m...</td>\n",
              "      <td>[harambe, thousands_flee_fireworks_explosion_a...</td>\n",
              "    </tr>\n",
              "    <tr>\n",
              "      <th>9</th>\n",
              "      <td>run_7_40er_5w1h_graph_hin.nx</td>\n",
              "      <td>64</td>\n",
              "      <td>f1_macro</td>\n",
              "      <td>0.591319</td>\n",
              "      <td>acc</td>\n",
              "      <td>0.812500</td>\n",
              "      <td>[business, business, world, business, business...</td>\n",
              "      <td>[business, business, world, business, business...</td>\n",
              "    </tr>\n",
              "    <tr>\n",
              "      <th>10</th>\n",
              "      <td>run_9_gold_standard_5w1h_graph_hin.nx</td>\n",
              "      <td>64</td>\n",
              "      <td>f1_macro</td>\n",
              "      <td>0.507612</td>\n",
              "      <td>acc</td>\n",
              "      <td>0.644737</td>\n",
              "      <td>[toberone-gate, toberone-gate, china well, cub...</td>\n",
              "      <td>[trump and obama, toberone-gate, nan, nan, con...</td>\n",
              "    </tr>\n",
              "    <tr>\n",
              "      <th>11</th>\n",
              "      <td>run_8_google_news_5w1h_graph_hin.nx</td>\n",
              "      <td>64</td>\n",
              "      <td>f1_macro</td>\n",
              "      <td>0.613420</td>\n",
              "      <td>acc</td>\n",
              "      <td>0.640000</td>\n",
              "      <td>[IPhone-X Green-Line, Equifax breach, Dieselga...</td>\n",
              "      <td>[IPhone-X Green-Line, IPhone-X Green-Line, Die...</td>\n",
              "    </tr>\n",
              "    <tr>\n",
              "      <th>12</th>\n",
              "      <td>run_10_bbc_5w1h_graph_hin.nx</td>\n",
              "      <td>64</td>\n",
              "      <td>f1_macro</td>\n",
              "      <td>0.451861</td>\n",
              "      <td>acc</td>\n",
              "      <td>0.477273</td>\n",
              "      <td>[tech, business, politics, politics, sport, bu...</td>\n",
              "      <td>[tech, business, politics, politics, tech, pol...</td>\n",
              "    </tr>\n",
              "    <tr>\n",
              "      <th>13</th>\n",
              "      <td>run_8_news_cluster_5w1h_graph_hin.nx</td>\n",
              "      <td>64</td>\n",
              "      <td>f1_macro</td>\n",
              "      <td>0.476268</td>\n",
              "      <td>acc</td>\n",
              "      <td>0.584967</td>\n",
              "      <td>[harambe, The_New_Infinity_War_Trailer, pittsb...</td>\n",
              "      <td>[harambe, thousands_flee_fireworks_explosion_a...</td>\n",
              "    </tr>\n",
              "    <tr>\n",
              "      <th>14</th>\n",
              "      <td>run_2_news_cluster_5w1h_graph_hin.nx</td>\n",
              "      <td>64</td>\n",
              "      <td>f1_macro</td>\n",
              "      <td>0.490177</td>\n",
              "      <td>acc</td>\n",
              "      <td>0.594771</td>\n",
              "      <td>[harambe, The_New_Infinity_War_Trailer, pittsb...</td>\n",
              "      <td>[harambe, thousands_flee_fireworks_explosion_a...</td>\n",
              "    </tr>\n",
              "    <tr>\n",
              "      <th>15</th>\n",
              "      <td>run_8_40er_5w1h_graph_hin.nx</td>\n",
              "      <td>64</td>\n",
              "      <td>f1_macro</td>\n",
              "      <td>0.728748</td>\n",
              "      <td>acc</td>\n",
              "      <td>0.781250</td>\n",
              "      <td>[business, business, world, world, business, t...</td>\n",
              "      <td>[business, business, world, world, business, w...</td>\n",
              "    </tr>\n",
              "    <tr>\n",
              "      <th>16</th>\n",
              "      <td>run_6_bbc_5w1h_graph_hin.nx</td>\n",
              "      <td>64</td>\n",
              "      <td>f1_macro</td>\n",
              "      <td>0.405304</td>\n",
              "      <td>acc</td>\n",
              "      <td>0.431818</td>\n",
              "      <td>[tech, business, politics, sport, business, po...</td>\n",
              "      <td>[tech, business, entertainment, politics, tech...</td>\n",
              "    </tr>\n",
              "    <tr>\n",
              "      <th>17</th>\n",
              "      <td>run_4_google_news_5w1h_graph_hin.nx</td>\n",
              "      <td>64</td>\n",
              "      <td>f1_macro</td>\n",
              "      <td>0.484601</td>\n",
              "      <td>acc</td>\n",
              "      <td>0.480000</td>\n",
              "      <td>[IPhone-X Green-Line, Equifax breach, Dieselga...</td>\n",
              "      <td>[IPhone-X Green-Line, Star Wars: Battlefront I...</td>\n",
              "    </tr>\n",
              "    <tr>\n",
              "      <th>18</th>\n",
              "      <td>run_2_google_news_5w1h_graph_hin.nx</td>\n",
              "      <td>64</td>\n",
              "      <td>f1_macro</td>\n",
              "      <td>0.647547</td>\n",
              "      <td>acc</td>\n",
              "      <td>0.640000</td>\n",
              "      <td>[Equifax breach, Dieselgate, IPhone-X Green-Li...</td>\n",
              "      <td>[Equifax breach, Equifax breach, IPhone-X Gree...</td>\n",
              "    </tr>\n",
              "    <tr>\n",
              "      <th>19</th>\n",
              "      <td>run_7_gold_standard_5w1h_graph_hin.nx</td>\n",
              "      <td>64</td>\n",
              "      <td>f1_macro</td>\n",
              "      <td>0.499466</td>\n",
              "      <td>acc</td>\n",
              "      <td>0.644737</td>\n",
              "      <td>[toberone-gate, toberone-gate, clinton blames ...</td>\n",
              "      <td>[toberone-gate, toberone-gate, clinton blames ...</td>\n",
              "    </tr>\n",
              "    <tr>\n",
              "      <th>20</th>\n",
              "      <td>run_4_gold_standard_5w1h_graph_hin.nx</td>\n",
              "      <td>64</td>\n",
              "      <td>f1_macro</td>\n",
              "      <td>0.457775</td>\n",
              "      <td>acc</td>\n",
              "      <td>0.578947</td>\n",
              "      <td>[toberone-gate, clinton blames comey, china we...</td>\n",
              "      <td>[toberone-gate, clinton blames comey, tram, to...</td>\n",
              "    </tr>\n",
              "    <tr>\n",
              "      <th>21</th>\n",
              "      <td>run_5_40er_5w1h_graph_hin.nx</td>\n",
              "      <td>64</td>\n",
              "      <td>f1_macro</td>\n",
              "      <td>0.645833</td>\n",
              "      <td>acc</td>\n",
              "      <td>0.687500</td>\n",
              "      <td>[business, business, world, business, business...</td>\n",
              "      <td>[business, business, world, business, business...</td>\n",
              "    </tr>\n",
              "    <tr>\n",
              "      <th>22</th>\n",
              "      <td>run_3_gold_standard_5w1h_graph_hin.nx</td>\n",
              "      <td>64</td>\n",
              "      <td>f1_macro</td>\n",
              "      <td>0.499535</td>\n",
              "      <td>acc</td>\n",
              "      <td>0.657895</td>\n",
              "      <td>[toberone-gate, clinton blames comey, cubs win...</td>\n",
              "      <td>[toberone-gate, clinton blames comey, nan, con...</td>\n",
              "    </tr>\n",
              "    <tr>\n",
              "      <th>23</th>\n",
              "      <td>run_4_40er_5w1h_graph_hin.nx</td>\n",
              "      <td>64</td>\n",
              "      <td>f1_macro</td>\n",
              "      <td>0.630229</td>\n",
              "      <td>acc</td>\n",
              "      <td>0.750000</td>\n",
              "      <td>[world, world, business, business, world, tech...</td>\n",
              "      <td>[world, world, world, business, world, busines...</td>\n",
              "    </tr>\n",
              "    <tr>\n",
              "      <th>24</th>\n",
              "      <td>run_5_google_news_5w1h_graph_hin.nx</td>\n",
              "      <td>64</td>\n",
              "      <td>f1_macro</td>\n",
              "      <td>0.609524</td>\n",
              "      <td>acc</td>\n",
              "      <td>0.640000</td>\n",
              "      <td>[IPhone-X Green-Line, Dieselgate, IPhone-X Gre...</td>\n",
              "      <td>[IPhone-X Green-Line, Dieselgate, IPhone-X Gre...</td>\n",
              "    </tr>\n",
              "    <tr>\n",
              "      <th>25</th>\n",
              "      <td>run_10_news_cluster_5w1h_graph_hin.nx</td>\n",
              "      <td>64</td>\n",
              "      <td>f1_macro</td>\n",
              "      <td>0.536283</td>\n",
              "      <td>acc</td>\n",
              "      <td>0.624183</td>\n",
              "      <td>[The_New_Infinity_War_Trailer, pittsburgh_stee...</td>\n",
              "      <td>[thousands_flee_fireworks_explosion_at_austral...</td>\n",
              "    </tr>\n",
              "    <tr>\n",
              "      <th>26</th>\n",
              "      <td>run_10_40er_5w1h_graph_hin.nx</td>\n",
              "      <td>64</td>\n",
              "      <td>f1_macro</td>\n",
              "      <td>0.539181</td>\n",
              "      <td>acc</td>\n",
              "      <td>0.625000</td>\n",
              "      <td>[business, business, world, world, business, w...</td>\n",
              "      <td>[business, business, business, world, world, w...</td>\n",
              "    </tr>\n",
              "    <tr>\n",
              "      <th>27</th>\n",
              "      <td>run_9_40er_5w1h_graph_hin.nx</td>\n",
              "      <td>64</td>\n",
              "      <td>f1_macro</td>\n",
              "      <td>0.784722</td>\n",
              "      <td>acc</td>\n",
              "      <td>0.875000</td>\n",
              "      <td>[business, world, business, business, world, t...</td>\n",
              "      <td>[business, world, business, business, technolo...</td>\n",
              "    </tr>\n",
              "    <tr>\n",
              "      <th>28</th>\n",
              "      <td>run_10_google_news_5w1h_graph_hin.nx</td>\n",
              "      <td>64</td>\n",
              "      <td>f1_macro</td>\n",
              "      <td>0.791424</td>\n",
              "      <td>acc</td>\n",
              "      <td>0.760000</td>\n",
              "      <td>[Dieselgate, IPhone-X Green-Line, Zimbabwe, St...</td>\n",
              "      <td>[Dieselgate, IPhone-X Green-Line, Zimbabwe, St...</td>\n",
              "    </tr>\n",
              "    <tr>\n",
              "      <th>29</th>\n",
              "      <td>run_6_google_news_5w1h_graph_hin.nx</td>\n",
              "      <td>64</td>\n",
              "      <td>f1_macro</td>\n",
              "      <td>0.609338</td>\n",
              "      <td>acc</td>\n",
              "      <td>0.600000</td>\n",
              "      <td>[IPhone-X Green-Line, Dieselgate, IPhone-X Gre...</td>\n",
              "      <td>[IPhone-X Green-Line, IPhone-X Green-Line, IPh...</td>\n",
              "    </tr>\n",
              "    <tr>\n",
              "      <th>30</th>\n",
              "      <td>run_1_news_cluster_5w1h_graph_hin.nx</td>\n",
              "      <td>64</td>\n",
              "      <td>f1_macro</td>\n",
              "      <td>0.506762</td>\n",
              "      <td>acc</td>\n",
              "      <td>0.624183</td>\n",
              "      <td>[harambe, The_New_Infinity_War_Trailer, pittsb...</td>\n",
              "      <td>[harambe, Bitcoin_drops, pittsburgh_steelers_c...</td>\n",
              "    </tr>\n",
              "    <tr>\n",
              "      <th>31</th>\n",
              "      <td>run_3_news_cluster_5w1h_graph_hin.nx</td>\n",
              "      <td>64</td>\n",
              "      <td>f1_macro</td>\n",
              "      <td>0.533800</td>\n",
              "      <td>acc</td>\n",
              "      <td>0.630719</td>\n",
              "      <td>[harambe, The_New_Infinity_War_Trailer, elon_m...</td>\n",
              "      <td>[harambe, Bitcoin_drops, elon_musk_reveals_red...</td>\n",
              "    </tr>\n",
              "    <tr>\n",
              "      <th>32</th>\n",
              "      <td>run_5_news_cluster_5w1h_graph_hin.nx</td>\n",
              "      <td>64</td>\n",
              "      <td>f1_macro</td>\n",
              "      <td>0.520819</td>\n",
              "      <td>acc</td>\n",
              "      <td>0.617647</td>\n",
              "      <td>[The_New_Infinity_War_Trailer, pittsburgh_stee...</td>\n",
              "      <td>[hack_equifax_breach, pittsburgh_steelers_crui...</td>\n",
              "    </tr>\n",
              "    <tr>\n",
              "      <th>33</th>\n",
              "      <td>run_4_news_cluster_5w1h_graph_hin.nx</td>\n",
              "      <td>64</td>\n",
              "      <td>f1_macro</td>\n",
              "      <td>0.497859</td>\n",
              "      <td>acc</td>\n",
              "      <td>0.598039</td>\n",
              "      <td>[harambe, The_New_Infinity_War_Trailer, pittsb...</td>\n",
              "      <td>[harambe, thousands_flee_fireworks_explosion_a...</td>\n",
              "    </tr>\n",
              "    <tr>\n",
              "      <th>34</th>\n",
              "      <td>run_7_bbc_5w1h_graph_hin.nx</td>\n",
              "      <td>64</td>\n",
              "      <td>f1_macro</td>\n",
              "      <td>0.418974</td>\n",
              "      <td>acc</td>\n",
              "      <td>0.454545</td>\n",
              "      <td>[politics, politics, business, politics, tech,...</td>\n",
              "      <td>[business, sport, entertainment, business, tec...</td>\n",
              "    </tr>\n",
              "    <tr>\n",
              "      <th>35</th>\n",
              "      <td>run_1_gold_standard_5w1h_graph_hin.nx</td>\n",
              "      <td>64</td>\n",
              "      <td>f1_macro</td>\n",
              "      <td>0.570678</td>\n",
              "      <td>acc</td>\n",
              "      <td>0.697368</td>\n",
              "      <td>[toberone-gate, clinton blames comey, china we...</td>\n",
              "      <td>[toberone-gate, cubs win championship, clinton...</td>\n",
              "    </tr>\n",
              "    <tr>\n",
              "      <th>36</th>\n",
              "      <td>run_7_google_news_5w1h_graph_hin.nx</td>\n",
              "      <td>64</td>\n",
              "      <td>f1_macro</td>\n",
              "      <td>0.511905</td>\n",
              "      <td>acc</td>\n",
              "      <td>0.480000</td>\n",
              "      <td>[IPhone-X Green-Line, Equifax breach, Dieselga...</td>\n",
              "      <td>[IPhone-X Green-Line, Dieselgate, Equifax brea...</td>\n",
              "    </tr>\n",
              "    <tr>\n",
              "      <th>37</th>\n",
              "      <td>run_10_gold_standard_5w1h_graph_hin.nx</td>\n",
              "      <td>64</td>\n",
              "      <td>f1_macro</td>\n",
              "      <td>0.499050</td>\n",
              "      <td>acc</td>\n",
              "      <td>0.592105</td>\n",
              "      <td>[toberone-gate, clinton blames comey, china we...</td>\n",
              "      <td>[toberone-gate, tram, trump and obama, clinton...</td>\n",
              "    </tr>\n",
              "    <tr>\n",
              "      <th>38</th>\n",
              "      <td>run_6_gold_standard_5w1h_graph_hin.nx</td>\n",
              "      <td>64</td>\n",
              "      <td>f1_macro</td>\n",
              "      <td>0.568076</td>\n",
              "      <td>acc</td>\n",
              "      <td>0.723684</td>\n",
              "      <td>[toberone-gate, china well, cubs win champions...</td>\n",
              "      <td>[toberone-gate, nan, cubs win championship, co...</td>\n",
              "    </tr>\n",
              "    <tr>\n",
              "      <th>39</th>\n",
              "      <td>run_3_bbc_5w1h_graph_hin.nx</td>\n",
              "      <td>64</td>\n",
              "      <td>f1_macro</td>\n",
              "      <td>0.332294</td>\n",
              "      <td>acc</td>\n",
              "      <td>0.386364</td>\n",
              "      <td>[business, politics, politics, sport, business...</td>\n",
              "      <td>[tech, sport, politics, sport, tech, tech, tec...</td>\n",
              "    </tr>\n",
              "    <tr>\n",
              "      <th>40</th>\n",
              "      <td>run_1_bbc_5w1h_graph_hin.nx</td>\n",
              "      <td>64</td>\n",
              "      <td>f1_macro</td>\n",
              "      <td>0.484165</td>\n",
              "      <td>acc</td>\n",
              "      <td>0.477273</td>\n",
              "      <td>[tech, business, politics, politics, sport, bu...</td>\n",
              "      <td>[tech, business, business, politics, politics,...</td>\n",
              "    </tr>\n",
              "    <tr>\n",
              "      <th>41</th>\n",
              "      <td>run_2_gold_standard_5w1h_graph_hin.nx</td>\n",
              "      <td>64</td>\n",
              "      <td>f1_macro</td>\n",
              "      <td>0.511406</td>\n",
              "      <td>acc</td>\n",
              "      <td>0.618421</td>\n",
              "      <td>[toberone-gate, toberone-gate, china well, cub...</td>\n",
              "      <td>[toberone-gate, toberone-gate, toberone-gate, ...</td>\n",
              "    </tr>\n",
              "    <tr>\n",
              "      <th>42</th>\n",
              "      <td>run_3_google_news_5w1h_graph_hin.nx</td>\n",
              "      <td>64</td>\n",
              "      <td>f1_macro</td>\n",
              "      <td>0.625211</td>\n",
              "      <td>acc</td>\n",
              "      <td>0.640000</td>\n",
              "      <td>[IPhone-X Green-Line, Dieselgate, IPhone-X Gre...</td>\n",
              "      <td>[IPhone-X Green-Line, Dieselgate, IPhone-X Gre...</td>\n",
              "    </tr>\n",
              "    <tr>\n",
              "      <th>43</th>\n",
              "      <td>run_9_bbc_5w1h_graph_hin.nx</td>\n",
              "      <td>64</td>\n",
              "      <td>f1_macro</td>\n",
              "      <td>0.404055</td>\n",
              "      <td>acc</td>\n",
              "      <td>0.409091</td>\n",
              "      <td>[business, politics, politics, sport, business...</td>\n",
              "      <td>[entertainment, tech, politics, sport, busines...</td>\n",
              "    </tr>\n",
              "    <tr>\n",
              "      <th>44</th>\n",
              "      <td>run_2_40er_5w1h_graph_hin.nx</td>\n",
              "      <td>64</td>\n",
              "      <td>f1_macro</td>\n",
              "      <td>0.482385</td>\n",
              "      <td>acc</td>\n",
              "      <td>0.687500</td>\n",
              "      <td>[business, world, world, business, business, t...</td>\n",
              "      <td>[business, world, world, world, business, worl...</td>\n",
              "    </tr>\n",
              "    <tr>\n",
              "      <th>45</th>\n",
              "      <td>run_8_bbc_5w1h_graph_hin.nx</td>\n",
              "      <td>64</td>\n",
              "      <td>f1_macro</td>\n",
              "      <td>0.369610</td>\n",
              "      <td>acc</td>\n",
              "      <td>0.363636</td>\n",
              "      <td>[tech, business, politics, politics, sport, bu...</td>\n",
              "      <td>[tech, entertainment, entertainment, politics,...</td>\n",
              "    </tr>\n",
              "    <tr>\n",
              "      <th>46</th>\n",
              "      <td>run_6_news_cluster_5w1h_graph_hin.nx</td>\n",
              "      <td>64</td>\n",
              "      <td>f1_macro</td>\n",
              "      <td>0.518858</td>\n",
              "      <td>acc</td>\n",
              "      <td>0.611111</td>\n",
              "      <td>[harambe, The_New_Infinity_War_Trailer, pittsb...</td>\n",
              "      <td>[harambe, israel_indicts_palestinian_teenage_g...</td>\n",
              "    </tr>\n",
              "    <tr>\n",
              "      <th>47</th>\n",
              "      <td>run_1_40er_5w1h_graph_hin.nx</td>\n",
              "      <td>64</td>\n",
              "      <td>f1_macro</td>\n",
              "      <td>0.544678</td>\n",
              "      <td>acc</td>\n",
              "      <td>0.750000</td>\n",
              "      <td>[business, business, world, business, business...</td>\n",
              "      <td>[business, business, world, business, business...</td>\n",
              "    </tr>\n",
              "    <tr>\n",
              "      <th>48</th>\n",
              "      <td>run_7_news_cluster_5w1h_graph_hin.nx</td>\n",
              "      <td>64</td>\n",
              "      <td>f1_macro</td>\n",
              "      <td>0.524978</td>\n",
              "      <td>acc</td>\n",
              "      <td>0.617647</td>\n",
              "      <td>[harambe, The_New_Infinity_War_Trailer, pittsb...</td>\n",
              "      <td>[harambe, thousands_flee_fireworks_explosion_a...</td>\n",
              "    </tr>\n",
              "    <tr>\n",
              "      <th>49</th>\n",
              "      <td>run_3_40er_5w1h_graph_hin.nx</td>\n",
              "      <td>64</td>\n",
              "      <td>f1_macro</td>\n",
              "      <td>0.638355</td>\n",
              "      <td>acc</td>\n",
              "      <td>0.750000</td>\n",
              "      <td>[business, world, world, business, technology,...</td>\n",
              "      <td>[business, world, world, business, business, b...</td>\n",
              "    </tr>\n",
              "  </tbody>\n",
              "</table>\n",
              "</div>"
            ],
            "text/plain": [
              "                                         0  ...                                                  7\n",
              "0      run_1_google_news_5w1h_graph_hin.nx  ...  [Zimbabwe, IPhone-X Green-Line, Dieselgate, Ve...\n",
              "1             run_6_40er_5w1h_graph_hin.nx  ...  [business, world, world, business, business, w...\n",
              "2              run_4_bbc_5w1h_graph_hin.nx  ...  [business, politics, sport, business, entertai...\n",
              "3    run_8_gold_standard_5w1h_graph_hin.nx  ...  [toberone-gate, clinton blames comey, china we...\n",
              "4              run_5_bbc_5w1h_graph_hin.nx  ...  [business, entertainment, sport, business, spo...\n",
              "5      run_9_google_news_5w1h_graph_hin.nx  ...  [IPhone-X Green-Line, North Korea Missile, IPh...\n",
              "6    run_5_gold_standard_5w1h_graph_hin.nx  ...  [toberone-gate, clinton blames comey, f1, tobe...\n",
              "7              run_2_bbc_5w1h_graph_hin.nx  ...  [tech, politics, politics, politics, tech, spo...\n",
              "8     run_9_news_cluster_5w1h_graph_hin.nx  ...  [harambe, thousands_flee_fireworks_explosion_a...\n",
              "9             run_7_40er_5w1h_graph_hin.nx  ...  [business, business, world, business, business...\n",
              "10   run_9_gold_standard_5w1h_graph_hin.nx  ...  [trump and obama, toberone-gate, nan, nan, con...\n",
              "11     run_8_google_news_5w1h_graph_hin.nx  ...  [IPhone-X Green-Line, IPhone-X Green-Line, Die...\n",
              "12            run_10_bbc_5w1h_graph_hin.nx  ...  [tech, business, politics, politics, tech, pol...\n",
              "13    run_8_news_cluster_5w1h_graph_hin.nx  ...  [harambe, thousands_flee_fireworks_explosion_a...\n",
              "14    run_2_news_cluster_5w1h_graph_hin.nx  ...  [harambe, thousands_flee_fireworks_explosion_a...\n",
              "15            run_8_40er_5w1h_graph_hin.nx  ...  [business, business, world, world, business, w...\n",
              "16             run_6_bbc_5w1h_graph_hin.nx  ...  [tech, business, entertainment, politics, tech...\n",
              "17     run_4_google_news_5w1h_graph_hin.nx  ...  [IPhone-X Green-Line, Star Wars: Battlefront I...\n",
              "18     run_2_google_news_5w1h_graph_hin.nx  ...  [Equifax breach, Equifax breach, IPhone-X Gree...\n",
              "19   run_7_gold_standard_5w1h_graph_hin.nx  ...  [toberone-gate, toberone-gate, clinton blames ...\n",
              "20   run_4_gold_standard_5w1h_graph_hin.nx  ...  [toberone-gate, clinton blames comey, tram, to...\n",
              "21            run_5_40er_5w1h_graph_hin.nx  ...  [business, business, world, business, business...\n",
              "22   run_3_gold_standard_5w1h_graph_hin.nx  ...  [toberone-gate, clinton blames comey, nan, con...\n",
              "23            run_4_40er_5w1h_graph_hin.nx  ...  [world, world, world, business, world, busines...\n",
              "24     run_5_google_news_5w1h_graph_hin.nx  ...  [IPhone-X Green-Line, Dieselgate, IPhone-X Gre...\n",
              "25   run_10_news_cluster_5w1h_graph_hin.nx  ...  [thousands_flee_fireworks_explosion_at_austral...\n",
              "26           run_10_40er_5w1h_graph_hin.nx  ...  [business, business, business, world, world, w...\n",
              "27            run_9_40er_5w1h_graph_hin.nx  ...  [business, world, business, business, technolo...\n",
              "28    run_10_google_news_5w1h_graph_hin.nx  ...  [Dieselgate, IPhone-X Green-Line, Zimbabwe, St...\n",
              "29     run_6_google_news_5w1h_graph_hin.nx  ...  [IPhone-X Green-Line, IPhone-X Green-Line, IPh...\n",
              "30    run_1_news_cluster_5w1h_graph_hin.nx  ...  [harambe, Bitcoin_drops, pittsburgh_steelers_c...\n",
              "31    run_3_news_cluster_5w1h_graph_hin.nx  ...  [harambe, Bitcoin_drops, elon_musk_reveals_red...\n",
              "32    run_5_news_cluster_5w1h_graph_hin.nx  ...  [hack_equifax_breach, pittsburgh_steelers_crui...\n",
              "33    run_4_news_cluster_5w1h_graph_hin.nx  ...  [harambe, thousands_flee_fireworks_explosion_a...\n",
              "34             run_7_bbc_5w1h_graph_hin.nx  ...  [business, sport, entertainment, business, tec...\n",
              "35   run_1_gold_standard_5w1h_graph_hin.nx  ...  [toberone-gate, cubs win championship, clinton...\n",
              "36     run_7_google_news_5w1h_graph_hin.nx  ...  [IPhone-X Green-Line, Dieselgate, Equifax brea...\n",
              "37  run_10_gold_standard_5w1h_graph_hin.nx  ...  [toberone-gate, tram, trump and obama, clinton...\n",
              "38   run_6_gold_standard_5w1h_graph_hin.nx  ...  [toberone-gate, nan, cubs win championship, co...\n",
              "39             run_3_bbc_5w1h_graph_hin.nx  ...  [tech, sport, politics, sport, tech, tech, tec...\n",
              "40             run_1_bbc_5w1h_graph_hin.nx  ...  [tech, business, business, politics, politics,...\n",
              "41   run_2_gold_standard_5w1h_graph_hin.nx  ...  [toberone-gate, toberone-gate, toberone-gate, ...\n",
              "42     run_3_google_news_5w1h_graph_hin.nx  ...  [IPhone-X Green-Line, Dieselgate, IPhone-X Gre...\n",
              "43             run_9_bbc_5w1h_graph_hin.nx  ...  [entertainment, tech, politics, sport, busines...\n",
              "44            run_2_40er_5w1h_graph_hin.nx  ...  [business, world, world, world, business, worl...\n",
              "45             run_8_bbc_5w1h_graph_hin.nx  ...  [tech, entertainment, entertainment, politics,...\n",
              "46    run_6_news_cluster_5w1h_graph_hin.nx  ...  [harambe, israel_indicts_palestinian_teenage_g...\n",
              "47            run_1_40er_5w1h_graph_hin.nx  ...  [business, business, world, business, business...\n",
              "48    run_7_news_cluster_5w1h_graph_hin.nx  ...  [harambe, thousands_flee_fireworks_explosion_a...\n",
              "49            run_3_40er_5w1h_graph_hin.nx  ...  [business, world, world, business, business, b...\n",
              "\n",
              "[50 rows x 8 columns]"
            ]
          },
          "metadata": {
            "tags": []
          },
          "execution_count": 12
        }
      ]
    },
    {
      "cell_type": "code",
      "metadata": {
        "id": "a6C6GpfPUgSQ"
      },
      "source": [
        "df_results.to_excel('deepwalk_results_r1.xls')"
      ],
      "execution_count": null,
      "outputs": []
    }
  ]
}