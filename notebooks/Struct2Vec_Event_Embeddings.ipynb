{
  "nbformat": 4,
  "nbformat_minor": 0,
  "metadata": {
    "colab": {
      "name": "Struct2Vec - Event Embeddings.ipynb",
      "provenance": [],
      "toc_visible": true
    },
    "kernelspec": {
      "name": "python3",
      "display_name": "Python 3"
    },
    "widgets": {
      "application/vnd.jupyter.widget-state+json": {
        "df90b026e20241cab05c993f8790748a": {
          "model_module": "@jupyter-widgets/controls",
          "model_name": "HBoxModel",
          "state": {
            "_view_name": "HBoxView",
            "_dom_classes": [],
            "_model_name": "HBoxModel",
            "_view_module": "@jupyter-widgets/controls",
            "_model_module_version": "1.5.0",
            "_view_count": null,
            "_view_module_version": "1.5.0",
            "box_style": "",
            "layout": "IPY_MODEL_d483cf66832649d592690d65b4864558",
            "_model_module": "@jupyter-widgets/controls",
            "children": [
              "IPY_MODEL_e1e711b72adf44d7bc714ae125d43129",
              "IPY_MODEL_071ce9428db7452a9c08a0378732a91c"
            ]
          }
        },
        "d483cf66832649d592690d65b4864558": {
          "model_module": "@jupyter-widgets/base",
          "model_name": "LayoutModel",
          "state": {
            "_view_name": "LayoutView",
            "grid_template_rows": null,
            "right": null,
            "justify_content": null,
            "_view_module": "@jupyter-widgets/base",
            "overflow": null,
            "_model_module_version": "1.2.0",
            "_view_count": null,
            "flex_flow": null,
            "width": null,
            "min_width": null,
            "border": null,
            "align_items": null,
            "bottom": null,
            "_model_module": "@jupyter-widgets/base",
            "top": null,
            "grid_column": null,
            "overflow_y": null,
            "overflow_x": null,
            "grid_auto_flow": null,
            "grid_area": null,
            "grid_template_columns": null,
            "flex": null,
            "_model_name": "LayoutModel",
            "justify_items": null,
            "grid_row": null,
            "max_height": null,
            "align_content": null,
            "visibility": null,
            "align_self": null,
            "height": null,
            "min_height": null,
            "padding": null,
            "grid_auto_rows": null,
            "grid_gap": null,
            "max_width": null,
            "order": null,
            "_view_module_version": "1.2.0",
            "grid_template_areas": null,
            "object_position": null,
            "object_fit": null,
            "grid_auto_columns": null,
            "margin": null,
            "display": null,
            "left": null
          }
        },
        "e1e711b72adf44d7bc714ae125d43129": {
          "model_module": "@jupyter-widgets/controls",
          "model_name": "FloatProgressModel",
          "state": {
            "_view_name": "ProgressView",
            "style": "IPY_MODEL_95170f80a2af4b8c84d8228d4e41de71",
            "_dom_classes": [],
            "description": "100%",
            "_model_name": "FloatProgressModel",
            "bar_style": "success",
            "max": 50,
            "_view_module": "@jupyter-widgets/controls",
            "_model_module_version": "1.5.0",
            "value": 50,
            "_view_count": null,
            "_view_module_version": "1.5.0",
            "orientation": "horizontal",
            "min": 0,
            "description_tooltip": null,
            "_model_module": "@jupyter-widgets/controls",
            "layout": "IPY_MODEL_004d00e127564df8969eb02a1dc0e0cc"
          }
        },
        "071ce9428db7452a9c08a0378732a91c": {
          "model_module": "@jupyter-widgets/controls",
          "model_name": "HTMLModel",
          "state": {
            "_view_name": "HTMLView",
            "style": "IPY_MODEL_72230969ed904dc785d7b53c8e429519",
            "_dom_classes": [],
            "description": "",
            "_model_name": "HTMLModel",
            "placeholder": "​",
            "_view_module": "@jupyter-widgets/controls",
            "_model_module_version": "1.5.0",
            "value": " 50/50 [28:36&lt;00:00, 34.34s/it]",
            "_view_count": null,
            "_view_module_version": "1.5.0",
            "description_tooltip": null,
            "_model_module": "@jupyter-widgets/controls",
            "layout": "IPY_MODEL_19278175eedb4ce0986dcb6043e1e8c5"
          }
        },
        "95170f80a2af4b8c84d8228d4e41de71": {
          "model_module": "@jupyter-widgets/controls",
          "model_name": "ProgressStyleModel",
          "state": {
            "_view_name": "StyleView",
            "_model_name": "ProgressStyleModel",
            "description_width": "initial",
            "_view_module": "@jupyter-widgets/base",
            "_model_module_version": "1.5.0",
            "_view_count": null,
            "_view_module_version": "1.2.0",
            "bar_color": null,
            "_model_module": "@jupyter-widgets/controls"
          }
        },
        "004d00e127564df8969eb02a1dc0e0cc": {
          "model_module": "@jupyter-widgets/base",
          "model_name": "LayoutModel",
          "state": {
            "_view_name": "LayoutView",
            "grid_template_rows": null,
            "right": null,
            "justify_content": null,
            "_view_module": "@jupyter-widgets/base",
            "overflow": null,
            "_model_module_version": "1.2.0",
            "_view_count": null,
            "flex_flow": null,
            "width": null,
            "min_width": null,
            "border": null,
            "align_items": null,
            "bottom": null,
            "_model_module": "@jupyter-widgets/base",
            "top": null,
            "grid_column": null,
            "overflow_y": null,
            "overflow_x": null,
            "grid_auto_flow": null,
            "grid_area": null,
            "grid_template_columns": null,
            "flex": null,
            "_model_name": "LayoutModel",
            "justify_items": null,
            "grid_row": null,
            "max_height": null,
            "align_content": null,
            "visibility": null,
            "align_self": null,
            "height": null,
            "min_height": null,
            "padding": null,
            "grid_auto_rows": null,
            "grid_gap": null,
            "max_width": null,
            "order": null,
            "_view_module_version": "1.2.0",
            "grid_template_areas": null,
            "object_position": null,
            "object_fit": null,
            "grid_auto_columns": null,
            "margin": null,
            "display": null,
            "left": null
          }
        },
        "72230969ed904dc785d7b53c8e429519": {
          "model_module": "@jupyter-widgets/controls",
          "model_name": "DescriptionStyleModel",
          "state": {
            "_view_name": "StyleView",
            "_model_name": "DescriptionStyleModel",
            "description_width": "",
            "_view_module": "@jupyter-widgets/base",
            "_model_module_version": "1.5.0",
            "_view_count": null,
            "_view_module_version": "1.2.0",
            "_model_module": "@jupyter-widgets/controls"
          }
        },
        "19278175eedb4ce0986dcb6043e1e8c5": {
          "model_module": "@jupyter-widgets/base",
          "model_name": "LayoutModel",
          "state": {
            "_view_name": "LayoutView",
            "grid_template_rows": null,
            "right": null,
            "justify_content": null,
            "_view_module": "@jupyter-widgets/base",
            "overflow": null,
            "_model_module_version": "1.2.0",
            "_view_count": null,
            "flex_flow": null,
            "width": null,
            "min_width": null,
            "border": null,
            "align_items": null,
            "bottom": null,
            "_model_module": "@jupyter-widgets/base",
            "top": null,
            "grid_column": null,
            "overflow_y": null,
            "overflow_x": null,
            "grid_auto_flow": null,
            "grid_area": null,
            "grid_template_columns": null,
            "flex": null,
            "_model_name": "LayoutModel",
            "justify_items": null,
            "grid_row": null,
            "max_height": null,
            "align_content": null,
            "visibility": null,
            "align_self": null,
            "height": null,
            "min_height": null,
            "padding": null,
            "grid_auto_rows": null,
            "grid_gap": null,
            "max_width": null,
            "order": null,
            "_view_module_version": "1.2.0",
            "grid_template_areas": null,
            "object_position": null,
            "object_fit": null,
            "grid_auto_columns": null,
            "margin": null,
            "display": null,
            "left": null
          }
        }
      }
    }
  },
  "cells": [
    {
      "cell_type": "markdown",
      "metadata": {
        "id": "LUXEb00M7c2D"
      },
      "source": [
        "# Struct2Vec"
      ]
    },
    {
      "cell_type": "code",
      "metadata": {
        "id": "x1wdaRfKVDli"
      },
      "source": [
        "%reload_ext autoreload\r\n",
        "%autoreload 2\r\n",
        "%matplotlib inline\r\n",
        "import os\r\n",
        "os.environ[\"CUDA_DEVICE_ORDER\"]=\"PCI_BUS_ID\";\r\n",
        "os.environ[\"CUDA_VISIBLE_DEVICES\"]=\"0\"; "
      ],
      "execution_count": null,
      "outputs": []
    },
    {
      "cell_type": "markdown",
      "metadata": {
        "id": "5o9SfsQ07tFG"
      },
      "source": [
        "## Baixando e instalando bibliotecas"
      ]
    },
    {
      "cell_type": "code",
      "metadata": {
        "id": "XCHBwCmIBm5Z",
        "colab": {
          "base_uri": "https://localhost:8080/"
        },
        "outputId": "91b615dd-ae22-478d-8601-889c4e6360dc"
      },
      "source": [
        "!git clone https://github.com/shenweichen/GraphEmbedding"
      ],
      "execution_count": null,
      "outputs": [
        {
          "output_type": "stream",
          "text": [
            "Cloning into 'GraphEmbedding'...\n",
            "remote: Enumerating objects: 18, done.\u001b[K\n",
            "remote: Counting objects: 100% (18/18), done.\u001b[K\n",
            "remote: Compressing objects: 100% (17/17), done.\u001b[K\n",
            "remote: Total 164 (delta 4), reused 10 (delta 1), pack-reused 146\u001b[K\n",
            "Receiving objects: 100% (164/164), 669.54 KiB | 12.88 MiB/s, done.\n",
            "Resolving deltas: 100% (69/69), done.\n"
          ],
          "name": "stdout"
        }
      ]
    },
    {
      "cell_type": "code",
      "metadata": {
        "id": "luFJAiMiBy1O",
        "colab": {
          "base_uri": "https://localhost:8080/",
          "height": 777
        },
        "outputId": "6e7c1965-3d2f-4c79-8c99-ffe2b571fcbb"
      },
      "source": [
        "!pip install tensorflow==1.4.0"
      ],
      "execution_count": null,
      "outputs": [
        {
          "output_type": "stream",
          "text": [
            "Collecting tensorflow==1.4.0\n",
            "\u001b[?25l  Downloading https://files.pythonhosted.org/packages/86/9f/be0165c6eefd841e6928e54d3d083fa174f92d640fdc52f73a33dc9c54d1/tensorflow-1.4.0-cp36-cp36m-manylinux1_x86_64.whl (41.2MB)\n",
            "\u001b[K     |████████████████████████████████| 41.2MB 101kB/s \n",
            "\u001b[?25hRequirement already satisfied: numpy>=1.12.1 in /usr/local/lib/python3.6/dist-packages (from tensorflow==1.4.0) (1.19.4)\n",
            "Collecting enum34>=1.1.6\n",
            "  Downloading https://files.pythonhosted.org/packages/63/f6/ccb1c83687756aeabbf3ca0f213508fcfb03883ff200d201b3a4c60cedcc/enum34-1.1.10-py3-none-any.whl\n",
            "Requirement already satisfied: wheel>=0.26 in /usr/local/lib/python3.6/dist-packages (from tensorflow==1.4.0) (0.36.2)\n",
            "Requirement already satisfied: six>=1.10.0 in /usr/local/lib/python3.6/dist-packages (from tensorflow==1.4.0) (1.15.0)\n",
            "Requirement already satisfied: protobuf>=3.3.0 in /usr/local/lib/python3.6/dist-packages (from tensorflow==1.4.0) (3.12.4)\n",
            "Collecting tensorflow-tensorboard<0.5.0,>=0.4.0rc1\n",
            "\u001b[?25l  Downloading https://files.pythonhosted.org/packages/e9/9f/5845c18f9df5e7ea638ecf3a272238f0e7671e454faa396b5188c6e6fc0a/tensorflow_tensorboard-0.4.0-py3-none-any.whl (1.7MB)\n",
            "\u001b[K     |████████████████████████████████| 1.7MB 57.1MB/s \n",
            "\u001b[?25hRequirement already satisfied: setuptools in /usr/local/lib/python3.6/dist-packages (from protobuf>=3.3.0->tensorflow==1.4.0) (51.0.0)\n",
            "Collecting bleach==1.5.0\n",
            "  Downloading https://files.pythonhosted.org/packages/33/70/86c5fec937ea4964184d4d6c4f0b9551564f821e1c3575907639036d9b90/bleach-1.5.0-py2.py3-none-any.whl\n",
            "Requirement already satisfied: werkzeug>=0.11.10 in /usr/local/lib/python3.6/dist-packages (from tensorflow-tensorboard<0.5.0,>=0.4.0rc1->tensorflow==1.4.0) (1.0.1)\n",
            "Collecting html5lib==0.9999999\n",
            "\u001b[?25l  Downloading https://files.pythonhosted.org/packages/ae/ae/bcb60402c60932b32dfaf19bb53870b29eda2cd17551ba5639219fb5ebf9/html5lib-0.9999999.tar.gz (889kB)\n",
            "\u001b[K     |████████████████████████████████| 890kB 46.7MB/s \n",
            "\u001b[?25hRequirement already satisfied: markdown>=2.6.8 in /usr/local/lib/python3.6/dist-packages (from tensorflow-tensorboard<0.5.0,>=0.4.0rc1->tensorflow==1.4.0) (3.3.3)\n",
            "Requirement already satisfied: importlib-metadata; python_version < \"3.8\" in /usr/local/lib/python3.6/dist-packages (from markdown>=2.6.8->tensorflow-tensorboard<0.5.0,>=0.4.0rc1->tensorflow==1.4.0) (3.3.0)\n",
            "Requirement already satisfied: typing-extensions>=3.6.4; python_version < \"3.8\" in /usr/local/lib/python3.6/dist-packages (from importlib-metadata; python_version < \"3.8\"->markdown>=2.6.8->tensorflow-tensorboard<0.5.0,>=0.4.0rc1->tensorflow==1.4.0) (3.7.4.3)\n",
            "Requirement already satisfied: zipp>=0.5 in /usr/local/lib/python3.6/dist-packages (from importlib-metadata; python_version < \"3.8\"->markdown>=2.6.8->tensorflow-tensorboard<0.5.0,>=0.4.0rc1->tensorflow==1.4.0) (3.4.0)\n",
            "Building wheels for collected packages: html5lib\n",
            "  Building wheel for html5lib (setup.py) ... \u001b[?25l\u001b[?25hdone\n",
            "  Created wheel for html5lib: filename=html5lib-0.9999999-cp36-none-any.whl size=107222 sha256=99a492409bacd69397c14302b86030f4349f0fd7cf692ea13be276229c6e80b5\n",
            "  Stored in directory: /root/.cache/pip/wheels/50/ae/f9/d2b189788efcf61d1ee0e36045476735c838898eef1cad6e29\n",
            "Successfully built html5lib\n",
            "Installing collected packages: enum34, html5lib, bleach, tensorflow-tensorboard, tensorflow\n",
            "  Found existing installation: html5lib 1.0.1\n",
            "    Uninstalling html5lib-1.0.1:\n",
            "      Successfully uninstalled html5lib-1.0.1\n",
            "  Found existing installation: bleach 3.2.1\n",
            "    Uninstalling bleach-3.2.1:\n",
            "      Successfully uninstalled bleach-3.2.1\n",
            "  Found existing installation: tensorflow 2.4.0\n",
            "    Uninstalling tensorflow-2.4.0:\n",
            "      Successfully uninstalled tensorflow-2.4.0\n",
            "Successfully installed bleach-1.5.0 enum34-1.1.10 html5lib-0.9999999 tensorflow-1.4.0 tensorflow-tensorboard-0.4.0\n"
          ],
          "name": "stdout"
        },
        {
          "output_type": "display_data",
          "data": {
            "application/vnd.colab-display-data+json": {
              "pip_warning": {
                "packages": [
                  "enum"
                ]
              }
            }
          },
          "metadata": {
            "tags": []
          }
        }
      ]
    },
    {
      "cell_type": "code",
      "metadata": {
        "id": "38rXkMBMCfhW",
        "colab": {
          "base_uri": "https://localhost:8080/"
        },
        "outputId": "f9466126-15af-455c-8483-3183da6866b3"
      },
      "source": [
        "!cd GraphEmbedding; python setup.py install"
      ],
      "execution_count": null,
      "outputs": [
        {
          "output_type": "stream",
          "text": [
            "running install\n",
            "running bdist_egg\n",
            "running egg_info\n",
            "creating ge.egg-info\n",
            "writing ge.egg-info/PKG-INFO\n",
            "writing dependency_links to ge.egg-info/dependency_links.txt\n",
            "writing requirements to ge.egg-info/requires.txt\n",
            "writing top-level names to ge.egg-info/top_level.txt\n",
            "writing manifest file 'ge.egg-info/SOURCES.txt'\n",
            "writing manifest file 'ge.egg-info/SOURCES.txt'\n",
            "installing library code to build/bdist.linux-x86_64/egg\n",
            "running install_lib\n",
            "running build_py\n",
            "creating build\n",
            "creating build/lib\n",
            "creating build/lib/ge\n",
            "copying ge/alias.py -> build/lib/ge\n",
            "copying ge/utils.py -> build/lib/ge\n",
            "copying ge/walker.py -> build/lib/ge\n",
            "copying ge/__init__.py -> build/lib/ge\n",
            "copying ge/classify.py -> build/lib/ge\n",
            "creating build/lib/ge/models\n",
            "copying ge/models/line.py -> build/lib/ge/models\n",
            "copying ge/models/struc2vec.py -> build/lib/ge/models\n",
            "copying ge/models/node2vec.py -> build/lib/ge/models\n",
            "copying ge/models/sdne.py -> build/lib/ge/models\n",
            "copying ge/models/deepwalk.py -> build/lib/ge/models\n",
            "copying ge/models/__init__.py -> build/lib/ge/models\n",
            "creating build/bdist.linux-x86_64\n",
            "creating build/bdist.linux-x86_64/egg\n",
            "creating build/bdist.linux-x86_64/egg/ge\n",
            "copying build/lib/ge/alias.py -> build/bdist.linux-x86_64/egg/ge\n",
            "copying build/lib/ge/utils.py -> build/bdist.linux-x86_64/egg/ge\n",
            "copying build/lib/ge/walker.py -> build/bdist.linux-x86_64/egg/ge\n",
            "creating build/bdist.linux-x86_64/egg/ge/models\n",
            "copying build/lib/ge/models/line.py -> build/bdist.linux-x86_64/egg/ge/models\n",
            "copying build/lib/ge/models/struc2vec.py -> build/bdist.linux-x86_64/egg/ge/models\n",
            "copying build/lib/ge/models/node2vec.py -> build/bdist.linux-x86_64/egg/ge/models\n",
            "copying build/lib/ge/models/sdne.py -> build/bdist.linux-x86_64/egg/ge/models\n",
            "copying build/lib/ge/models/deepwalk.py -> build/bdist.linux-x86_64/egg/ge/models\n",
            "copying build/lib/ge/models/__init__.py -> build/bdist.linux-x86_64/egg/ge/models\n",
            "copying build/lib/ge/__init__.py -> build/bdist.linux-x86_64/egg/ge\n",
            "copying build/lib/ge/classify.py -> build/bdist.linux-x86_64/egg/ge\n",
            "byte-compiling build/bdist.linux-x86_64/egg/ge/alias.py to alias.cpython-36.pyc\n",
            "byte-compiling build/bdist.linux-x86_64/egg/ge/utils.py to utils.cpython-36.pyc\n",
            "byte-compiling build/bdist.linux-x86_64/egg/ge/walker.py to walker.cpython-36.pyc\n",
            "byte-compiling build/bdist.linux-x86_64/egg/ge/models/line.py to line.cpython-36.pyc\n",
            "byte-compiling build/bdist.linux-x86_64/egg/ge/models/struc2vec.py to struc2vec.cpython-36.pyc\n",
            "byte-compiling build/bdist.linux-x86_64/egg/ge/models/node2vec.py to node2vec.cpython-36.pyc\n",
            "byte-compiling build/bdist.linux-x86_64/egg/ge/models/sdne.py to sdne.cpython-36.pyc\n",
            "byte-compiling build/bdist.linux-x86_64/egg/ge/models/deepwalk.py to deepwalk.cpython-36.pyc\n",
            "byte-compiling build/bdist.linux-x86_64/egg/ge/models/__init__.py to __init__.cpython-36.pyc\n",
            "byte-compiling build/bdist.linux-x86_64/egg/ge/__init__.py to __init__.cpython-36.pyc\n",
            "byte-compiling build/bdist.linux-x86_64/egg/ge/classify.py to classify.cpython-36.pyc\n",
            "creating build/bdist.linux-x86_64/egg/EGG-INFO\n",
            "copying ge.egg-info/PKG-INFO -> build/bdist.linux-x86_64/egg/EGG-INFO\n",
            "copying ge.egg-info/SOURCES.txt -> build/bdist.linux-x86_64/egg/EGG-INFO\n",
            "copying ge.egg-info/dependency_links.txt -> build/bdist.linux-x86_64/egg/EGG-INFO\n",
            "copying ge.egg-info/requires.txt -> build/bdist.linux-x86_64/egg/EGG-INFO\n",
            "copying ge.egg-info/top_level.txt -> build/bdist.linux-x86_64/egg/EGG-INFO\n",
            "zip_safe flag not set; analyzing archive contents...\n",
            "creating dist\n",
            "creating 'dist/ge-0.0.0-py3.6.egg' and adding 'build/bdist.linux-x86_64/egg' to it\n",
            "removing 'build/bdist.linux-x86_64/egg' (and everything under it)\n",
            "Processing ge-0.0.0-py3.6.egg\n",
            "Copying ge-0.0.0-py3.6.egg to /usr/local/lib/python3.6/dist-packages\n",
            "Adding ge 0.0.0 to easy-install.pth file\n",
            "\n",
            "Installed /usr/local/lib/python3.6/dist-packages/ge-0.0.0-py3.6.egg\n",
            "Processing dependencies for ge==0.0.0\n",
            "Searching for fastdtw==0.3.2\n",
            "Reading https://pypi.org/simple/fastdtw/\n",
            "Downloading https://files.pythonhosted.org/packages/fa/ef/a4cf2d72518b5fccd30284ba4d431fdb6266f72e75702ff05fd7c00b0b63/fastdtw-0.3.2.tar.gz#sha256=09a24d62a8eb72f87c03692dffae4b8d8499b53f503e9abce5e717c5b705dff9\n",
            "Best match: fastdtw 0.3.2\n",
            "Processing fastdtw-0.3.2.tar.gz\n",
            "Writing /tmp/easy_install-j_676wqu/fastdtw-0.3.2/setup.cfg\n",
            "Running fastdtw-0.3.2/setup.py -q bdist_egg --dist-dir /tmp/easy_install-j_676wqu/fastdtw-0.3.2/egg-dist-tmp-r1383z8o\n",
            "Compiling fastdtw/_fastdtw.pyx because it depends on /usr/local/lib/python3.6/dist-packages/Cython/Includes/numpy/math.pxd.\n",
            "[1/1] Cythonizing fastdtw/_fastdtw.pyx\n",
            "/usr/local/lib/python3.6/dist-packages/Cython/Compiler/Main.py:369: FutureWarning: Cython directive 'language_level' not set, using 2 for now (Py2). This will change in a later release! File: /tmp/easy_install-j_676wqu/fastdtw-0.3.2/fastdtw/_fastdtw.pyx\n",
            "  tree = Parsing.p_module(s, pxd, full_module_name)\n",
            "zip_safe flag not set; analyzing archive contents...\n",
            "fastdtw.__pycache__._fastdtw.cpython-36: module references __file__\n",
            "creating /usr/local/lib/python3.6/dist-packages/fastdtw-0.3.2-py3.6-linux-x86_64.egg\n",
            "Extracting fastdtw-0.3.2-py3.6-linux-x86_64.egg to /usr/local/lib/python3.6/dist-packages\n",
            "Adding fastdtw 0.3.2 to easy-install.pth file\n",
            "\n",
            "Installed /usr/local/lib/python3.6/dist-packages/fastdtw-0.3.2-py3.6-linux-x86_64.egg\n",
            "Searching for joblib==0.13.0\n",
            "Reading https://pypi.org/simple/joblib/\n",
            "Downloading https://files.pythonhosted.org/packages/0d/1b/995167f6c66848d4eb7eabc386aebe07a1571b397629b2eac3b7bebdc343/joblib-0.13.0-py2.py3-none-any.whl#sha256=9002b53b88ae0adb3872164e0846a489b7e112c50087c5e3e1bcee35f18424c4\n",
            "Best match: joblib 0.13.0\n",
            "Processing joblib-0.13.0-py2.py3-none-any.whl\n",
            "Installing joblib-0.13.0-py2.py3-none-any.whl to /usr/local/lib/python3.6/dist-packages\n",
            "Adding joblib 0.13.0 to easy-install.pth file\n",
            "\n",
            "Installed /usr/local/lib/python3.6/dist-packages/joblib-0.13.0-py3.6.egg\n",
            "Searching for networkx==2.1\n",
            "Reading https://pypi.org/simple/networkx/\n",
            "Downloading https://files.pythonhosted.org/packages/11/42/f951cc6838a4dff6ce57211c4d7f8444809ccbe2134179950301e5c4c83c/networkx-2.1.zip#sha256=64272ca418972b70a196cb15d9c85a5a6041f09a2f32e0d30c0255f25d458bb1\n",
            "Best match: networkx 2.1\n",
            "Processing networkx-2.1.zip\n",
            "Writing /tmp/easy_install-8zxmc7ip/networkx-2.1/setup.cfg\n",
            "Running networkx-2.1/setup.py -q bdist_egg --dist-dir /tmp/easy_install-8zxmc7ip/networkx-2.1/egg-dist-tmp-e61enn__\n",
            "warning: no files found matching '*.html' under directory 'doc'\n",
            "warning: no files found matching '*.css' under directory 'doc'\n",
            "warning: no previously-included files matching '*~' found anywhere in distribution\n",
            "warning: no previously-included files matching '*.pyc' found anywhere in distribution\n",
            "warning: no previously-included files matching '.svn' found anywhere in distribution\n",
            "no previously-included directories found matching 'doc/build'\n",
            "no previously-included directories found matching 'doc/auto_examples'\n",
            "no previously-included directories found matching 'doc/modules'\n",
            "no previously-included directories found matching 'doc/reference/generated'\n",
            "no previously-included directories found matching 'doc/reference/algorithms/generated'\n",
            "no previously-included directories found matching 'doc/reference/classes/generated'\n",
            "no previously-included directories found matching 'doc/reference/readwrite/generated'\n",
            "creating /usr/local/lib/python3.6/dist-packages/networkx-2.1-py3.6.egg\n",
            "Extracting networkx-2.1-py3.6.egg to /usr/local/lib/python3.6/dist-packages\n",
            "Adding networkx 2.1 to easy-install.pth file\n",
            "\n",
            "Installed /usr/local/lib/python3.6/dist-packages/networkx-2.1-py3.6.egg\n",
            "Searching for matplotlib==3.2.2\n",
            "Best match: matplotlib 3.2.2\n",
            "Adding matplotlib 3.2.2 to easy-install.pth file\n",
            "\n",
            "Using /usr/local/lib/python3.6/dist-packages\n",
            "Searching for pandas==1.1.5\n",
            "Best match: pandas 1.1.5\n",
            "Adding pandas 1.1.5 to easy-install.pth file\n",
            "\n",
            "Using /usr/local/lib/python3.6/dist-packages\n",
            "Searching for scikit-learn==0.22.2.post1\n",
            "Best match: scikit-learn 0.22.2.post1\n",
            "Adding scikit-learn 0.22.2.post1 to easy-install.pth file\n",
            "\n",
            "Using /usr/local/lib/python3.6/dist-packages\n",
            "Searching for numpy==1.19.4\n",
            "Best match: numpy 1.19.4\n",
            "Adding numpy 1.19.4 to easy-install.pth file\n",
            "Installing f2py script to /usr/local/bin\n",
            "Installing f2py3 script to /usr/local/bin\n",
            "Installing f2py3.6 script to /usr/local/bin\n",
            "\n",
            "Using /usr/local/lib/python3.6/dist-packages\n",
            "Searching for tqdm==4.41.1\n",
            "Best match: tqdm 4.41.1\n",
            "Adding tqdm 4.41.1 to easy-install.pth file\n",
            "Installing tqdm script to /usr/local/bin\n",
            "\n",
            "Using /usr/local/lib/python3.6/dist-packages\n",
            "Searching for gensim==3.6.0\n",
            "Best match: gensim 3.6.0\n",
            "Adding gensim 3.6.0 to easy-install.pth file\n",
            "\n",
            "Using /usr/local/lib/python3.6/dist-packages\n",
            "Searching for cycler==0.10.0\n",
            "Best match: cycler 0.10.0\n",
            "Adding cycler 0.10.0 to easy-install.pth file\n",
            "\n",
            "Using /usr/local/lib/python3.6/dist-packages\n",
            "Searching for pyparsing==2.4.7\n",
            "Best match: pyparsing 2.4.7\n",
            "Adding pyparsing 2.4.7 to easy-install.pth file\n",
            "\n",
            "Using /usr/local/lib/python3.6/dist-packages\n",
            "Searching for kiwisolver==1.3.1\n",
            "Best match: kiwisolver 1.3.1\n",
            "Adding kiwisolver 1.3.1 to easy-install.pth file\n",
            "\n",
            "Using /usr/local/lib/python3.6/dist-packages\n",
            "Searching for python-dateutil==2.8.1\n",
            "Best match: python-dateutil 2.8.1\n",
            "Adding python-dateutil 2.8.1 to easy-install.pth file\n",
            "\n",
            "Using /usr/local/lib/python3.6/dist-packages\n",
            "Searching for pytz==2018.9\n",
            "Best match: pytz 2018.9\n",
            "Adding pytz 2018.9 to easy-install.pth file\n",
            "\n",
            "Using /usr/local/lib/python3.6/dist-packages\n",
            "Searching for scipy==1.4.1\n",
            "Best match: scipy 1.4.1\n",
            "Adding scipy 1.4.1 to easy-install.pth file\n",
            "\n",
            "Using /usr/local/lib/python3.6/dist-packages\n",
            "Searching for decorator==4.4.2\n",
            "Best match: decorator 4.4.2\n",
            "Adding decorator 4.4.2 to easy-install.pth file\n",
            "\n",
            "Using /usr/local/lib/python3.6/dist-packages\n",
            "Searching for six==1.15.0\n",
            "Best match: six 1.15.0\n",
            "Adding six 1.15.0 to easy-install.pth file\n",
            "\n",
            "Using /usr/local/lib/python3.6/dist-packages\n",
            "Searching for smart-open==4.0.1\n",
            "Best match: smart-open 4.0.1\n",
            "Adding smart-open 4.0.1 to easy-install.pth file\n",
            "\n",
            "Using /usr/local/lib/python3.6/dist-packages\n",
            "Finished processing dependencies for ge==0.0.0\n"
          ],
          "name": "stdout"
        }
      ]
    },
    {
      "cell_type": "code",
      "metadata": {
        "id": "mVNT9AxaCn2R"
      },
      "source": [
        "!mv GraphEmbedding/* ."
      ],
      "execution_count": null,
      "outputs": []
    },
    {
      "cell_type": "markdown",
      "metadata": {
        "id": "bzaCy33NDd3w"
      },
      "source": [
        "# Carregando as Redes"
      ]
    },
    {
      "cell_type": "code",
      "metadata": {
        "colab": {
          "base_uri": "https://localhost:8080/"
        },
        "id": "03ON12PtM3My",
        "outputId": "58b3062b-bd35-4228-cb1d-ec5455c4f5c1"
      },
      "source": [
        "!gdown --id 1RF_bIo5ndxPhu9SJw-T8HBcuHyaGQGL0"
      ],
      "execution_count": null,
      "outputs": [
        {
          "output_type": "stream",
          "text": [
            "Downloading...\n",
            "From: https://drive.google.com/uc?id=1RF_bIo5ndxPhu9SJw-T8HBcuHyaGQGL0\n",
            "To: /content/datasets.tar.gz\n",
            "22.7MB [00:00, 48.9MB/s]\n"
          ],
          "name": "stdout"
        }
      ]
    },
    {
      "cell_type": "code",
      "metadata": {
        "colab": {
          "base_uri": "https://localhost:8080/"
        },
        "id": "zrzzUlveM7qW",
        "outputId": "fd9f2341-09e9-40ac-ab7f-621ea3938791"
      },
      "source": [
        "!tar -xzvf datasets.tar.gz"
      ],
      "execution_count": null,
      "outputs": [
        {
          "output_type": "stream",
          "text": [
            "datasets_runs/\n",
            "datasets_runs/run_1_google_news_5w1h_graph_hin.nx\n",
            "datasets_runs/run_6_40er_5w1h_graph_hin.nx\n",
            "datasets_runs/run_4_bbc_5w1h_graph_hin.nx\n",
            "datasets_runs/run_8_gold_standard_5w1h_graph_hin.nx\n",
            "datasets_runs/run_5_bbc_5w1h_graph_hin.nx\n",
            "datasets_runs/run_9_google_news_5w1h_graph_hin.nx\n",
            "datasets_runs/run_5_gold_standard_5w1h_graph_hin.nx\n",
            "datasets_runs/run_2_bbc_5w1h_graph_hin.nx\n",
            "datasets_runs/run_9_news_cluster_5w1h_graph_hin.nx\n",
            "datasets_runs/run_7_40er_5w1h_graph_hin.nx\n",
            "datasets_runs/run_9_gold_standard_5w1h_graph_hin.nx\n",
            "datasets_runs/run_8_google_news_5w1h_graph_hin.nx\n",
            "datasets_runs/run_10_bbc_5w1h_graph_hin.nx\n",
            "datasets_runs/run_8_news_cluster_5w1h_graph_hin.nx\n",
            "datasets_runs/run_2_news_cluster_5w1h_graph_hin.nx\n",
            "datasets_runs/run_8_40er_5w1h_graph_hin.nx\n",
            "datasets_runs/run_6_bbc_5w1h_graph_hin.nx\n",
            "datasets_runs/run_4_google_news_5w1h_graph_hin.nx\n",
            "datasets_runs/run_2_google_news_5w1h_graph_hin.nx\n",
            "datasets_runs/run_7_gold_standard_5w1h_graph_hin.nx\n",
            "datasets_runs/run_4_gold_standard_5w1h_graph_hin.nx\n",
            "datasets_runs/run_5_40er_5w1h_graph_hin.nx\n",
            "datasets_runs/run_3_gold_standard_5w1h_graph_hin.nx\n",
            "datasets_runs/run_4_40er_5w1h_graph_hin.nx\n",
            "datasets_runs/run_5_google_news_5w1h_graph_hin.nx\n",
            "datasets_runs/run_10_news_cluster_5w1h_graph_hin.nx\n",
            "datasets_runs/run_10_40er_5w1h_graph_hin.nx\n",
            "datasets_runs/run_9_40er_5w1h_graph_hin.nx\n",
            "datasets_runs/run_10_google_news_5w1h_graph_hin.nx\n",
            "datasets_runs/run_6_google_news_5w1h_graph_hin.nx\n",
            "datasets_runs/run_1_news_cluster_5w1h_graph_hin.nx\n",
            "datasets_runs/run_3_news_cluster_5w1h_graph_hin.nx\n",
            "datasets_runs/run_5_news_cluster_5w1h_graph_hin.nx\n",
            "datasets_runs/run_4_news_cluster_5w1h_graph_hin.nx\n",
            "datasets_runs/run_7_bbc_5w1h_graph_hin.nx\n",
            "datasets_runs/run_1_gold_standard_5w1h_graph_hin.nx\n",
            "datasets_runs/run_7_google_news_5w1h_graph_hin.nx\n",
            "datasets_runs/run_10_gold_standard_5w1h_graph_hin.nx\n",
            "datasets_runs/run_6_gold_standard_5w1h_graph_hin.nx\n",
            "datasets_runs/run_3_bbc_5w1h_graph_hin.nx\n",
            "datasets_runs/run_1_bbc_5w1h_graph_hin.nx\n",
            "datasets_runs/run_2_gold_standard_5w1h_graph_hin.nx\n",
            "datasets_runs/run_3_google_news_5w1h_graph_hin.nx\n",
            "datasets_runs/run_9_bbc_5w1h_graph_hin.nx\n",
            "datasets_runs/run_2_40er_5w1h_graph_hin.nx\n",
            "datasets_runs/run_8_bbc_5w1h_graph_hin.nx\n",
            "datasets_runs/run_6_news_cluster_5w1h_graph_hin.nx\n",
            "datasets_runs/run_1_40er_5w1h_graph_hin.nx\n",
            "datasets_runs/run_7_news_cluster_5w1h_graph_hin.nx\n",
            "datasets_runs/run_3_40er_5w1h_graph_hin.nx\n"
          ],
          "name": "stdout"
        }
      ]
    },
    {
      "cell_type": "code",
      "metadata": {
        "colab": {
          "base_uri": "https://localhost:8080/"
        },
        "id": "ga_09m2ENBW-",
        "outputId": "04dff868-490b-4b67-a4c7-a12171fc830e"
      },
      "source": [
        "from os import listdir\r\n",
        "from os.path import isfile, join\r\n",
        "path_datasets = 'datasets_runs/'\r\n",
        "network_files = [f for f in listdir(path_datasets) if isfile(join(path_datasets, f))]\r\n",
        "print(network_files)"
      ],
      "execution_count": null,
      "outputs": [
        {
          "output_type": "stream",
          "text": [
            "['run_1_google_news_5w1h_graph_hin.nx', 'run_6_40er_5w1h_graph_hin.nx', 'run_4_bbc_5w1h_graph_hin.nx', 'run_8_gold_standard_5w1h_graph_hin.nx', 'run_5_bbc_5w1h_graph_hin.nx', 'run_9_google_news_5w1h_graph_hin.nx', 'run_5_gold_standard_5w1h_graph_hin.nx', 'run_2_bbc_5w1h_graph_hin.nx', 'run_9_news_cluster_5w1h_graph_hin.nx', 'run_7_40er_5w1h_graph_hin.nx', 'run_9_gold_standard_5w1h_graph_hin.nx', 'run_8_google_news_5w1h_graph_hin.nx', 'run_10_bbc_5w1h_graph_hin.nx', 'run_8_news_cluster_5w1h_graph_hin.nx', 'run_2_news_cluster_5w1h_graph_hin.nx', 'run_8_40er_5w1h_graph_hin.nx', 'run_6_bbc_5w1h_graph_hin.nx', 'run_4_google_news_5w1h_graph_hin.nx', 'run_2_google_news_5w1h_graph_hin.nx', 'run_7_gold_standard_5w1h_graph_hin.nx', 'run_4_gold_standard_5w1h_graph_hin.nx', 'run_5_40er_5w1h_graph_hin.nx', 'run_3_gold_standard_5w1h_graph_hin.nx', 'run_4_40er_5w1h_graph_hin.nx', 'run_5_google_news_5w1h_graph_hin.nx', 'run_10_news_cluster_5w1h_graph_hin.nx', 'run_10_40er_5w1h_graph_hin.nx', 'run_9_40er_5w1h_graph_hin.nx', 'run_10_google_news_5w1h_graph_hin.nx', 'run_6_google_news_5w1h_graph_hin.nx', 'run_1_news_cluster_5w1h_graph_hin.nx', 'run_3_news_cluster_5w1h_graph_hin.nx', 'run_5_news_cluster_5w1h_graph_hin.nx', 'run_4_news_cluster_5w1h_graph_hin.nx', 'run_7_bbc_5w1h_graph_hin.nx', 'run_1_gold_standard_5w1h_graph_hin.nx', 'run_7_google_news_5w1h_graph_hin.nx', 'run_10_gold_standard_5w1h_graph_hin.nx', 'run_6_gold_standard_5w1h_graph_hin.nx', 'run_3_bbc_5w1h_graph_hin.nx', 'run_1_bbc_5w1h_graph_hin.nx', 'run_2_gold_standard_5w1h_graph_hin.nx', 'run_3_google_news_5w1h_graph_hin.nx', 'run_9_bbc_5w1h_graph_hin.nx', 'run_2_40er_5w1h_graph_hin.nx', 'run_8_bbc_5w1h_graph_hin.nx', 'run_6_news_cluster_5w1h_graph_hin.nx', 'run_1_40er_5w1h_graph_hin.nx', 'run_7_news_cluster_5w1h_graph_hin.nx', 'run_3_40er_5w1h_graph_hin.nx']\n"
          ],
          "name": "stdout"
        }
      ]
    },
    {
      "cell_type": "markdown",
      "metadata": {
        "id": "r30mh1szDjDt"
      },
      "source": [
        "# Treinando e avaliando o Struct2Vec"
      ]
    },
    {
      "cell_type": "code",
      "metadata": {
        "id": "fWMXb_98CRpO",
        "colab": {
          "base_uri": "https://localhost:8080/",
          "height": 1000,
          "referenced_widgets": [
            "df90b026e20241cab05c993f8790748a",
            "d483cf66832649d592690d65b4864558",
            "e1e711b72adf44d7bc714ae125d43129",
            "071ce9428db7452a9c08a0378732a91c",
            "95170f80a2af4b8c84d8228d4e41de71",
            "004d00e127564df8969eb02a1dc0e0cc",
            "72230969ed904dc785d7b53c8e429519",
            "19278175eedb4ce0986dcb6043e1e8c5"
          ]
        },
        "outputId": "2ed418bb-e396-4d49-8960-1c932c0b6ad9"
      },
      "source": [
        "from ge import Struc2Vec\n",
        "import numpy as np\n",
        "import networkx as nx\n",
        "from tqdm.notebook import tqdm\n",
        "from sklearn.metrics import accuracy_score\n",
        "from sklearn.metrics import f1_score\n",
        "from sklearn.svm import LinearSVC\n",
        "\n",
        "\n",
        "experimental_results = []\n",
        "emb_sizes = [ 64 ]\n",
        "\n",
        "for network_file in tqdm(network_files):\n",
        "\n",
        "  for emb_size in emb_sizes:\n",
        "\n",
        "    G = nx.read_gpickle(path_datasets+network_file)\n",
        "\n",
        "    model = Struc2Vec(G, 10, 80, workers=2, verbose=40) #init model\n",
        "    model.train(window_size = 5, iter = 3, embed_size=emb_size)# train model\n",
        "    embeddings = model.get_embeddings()# get embedding vectors\n",
        "\n",
        "    # gerando features e classificando\n",
        "    X_train = []\n",
        "    Y_train = []\n",
        "    X_test = []\n",
        "    Y_test = []\n",
        "\n",
        "    for node in G.nodes():\n",
        "      if ':event' in node:\n",
        "        \n",
        "        if 'train' in G.nodes[node]:\n",
        "          X_train.append(embeddings[node])\n",
        "          Y_train.append(G.nodes[node]['label'])\n",
        "        if 'test' in G.nodes[node]:\n",
        "          X_test.append(embeddings[node])\n",
        "          Y_test.append(G.nodes[node]['label'])\n",
        "\n",
        "\n",
        "    X_train = np.array(X_train)\n",
        "    X_test = np.array(X_test)\n",
        "\n",
        "    clf = LinearSVC(tol=1e-5).fit(X_train, Y_train)\n",
        "    y_pred = clf.predict(X_test)\n",
        "\n",
        "\n",
        "    f1_macro = f1_score(Y_test, y_pred, average='macro')\n",
        "    acc = accuracy_score(Y_test, y_pred)\n",
        "\n",
        "    print('--->' ,network_file,emb_size,'f1_macro',f1_macro,'acc',acc)\n",
        "    experimental_results.append((network_file,emb_size,'f1_macro',f1_macro,'acc',acc,Y_test,y_pred))\n"
      ],
      "execution_count": null,
      "outputs": [
        {
          "output_type": "display_data",
          "data": {
            "application/vnd.jupyter.widget-view+json": {
              "model_id": "df90b026e20241cab05c993f8790748a",
              "version_minor": 0,
              "version_major": 2
            },
            "text/plain": [
              "HBox(children=(FloatProgress(value=0.0, max=50.0), HTML(value='')))"
            ]
          },
          "metadata": {
            "tags": []
          }
        },
        {
          "output_type": "stream",
          "text": [
            "[Parallel(n_jobs=2)]: Using backend LokyBackend with 2 concurrent workers.\n",
            "[Parallel(n_jobs=2)]: Done   1 tasks      | elapsed:    3.9s\n",
            "[Parallel(n_jobs=2)]: Done   2 out of   2 | elapsed:    3.9s remaining:    0.0s\n",
            "[Parallel(n_jobs=2)]: Done   2 out of   2 | elapsed:    3.9s finished\n",
            "/content/ge/models/struc2vec.py:299: RuntimeWarning: invalid value encountered in double_scalars\n",
            "  e_list = [x / sum_w for x in e_list]\n",
            "[Parallel(n_jobs=2)]: Using backend LokyBackend with 2 concurrent workers.\n",
            "[Parallel(n_jobs=2)]: Done   1 tasks      | elapsed:    1.4s\n",
            "[Parallel(n_jobs=2)]: Done   2 out of   2 | elapsed:    1.9s remaining:    0.0s\n",
            "[Parallel(n_jobs=2)]: Done   2 out of   2 | elapsed:    1.9s finished\n"
          ],
          "name": "stderr"
        },
        {
          "output_type": "stream",
          "text": [
            "Learning representation...\n",
            "Learning representation done!\n",
            "---> run_1_google_news_5w1h_graph_hin.nx 64 f1_macro 0.2649659863945578 acc 0.36\n"
          ],
          "name": "stdout"
        },
        {
          "output_type": "stream",
          "text": [
            "[Parallel(n_jobs=2)]: Using backend LokyBackend with 2 concurrent workers.\n",
            "[Parallel(n_jobs=2)]: Done   1 tasks      | elapsed:    1.9s\n",
            "[Parallel(n_jobs=2)]: Done   2 out of   2 | elapsed:    1.9s remaining:    0.0s\n",
            "[Parallel(n_jobs=2)]: Done   2 out of   2 | elapsed:    1.9s finished\n",
            "/content/ge/models/struc2vec.py:299: RuntimeWarning: invalid value encountered in double_scalars\n",
            "  e_list = [x / sum_w for x in e_list]\n",
            "[Parallel(n_jobs=2)]: Using backend LokyBackend with 2 concurrent workers.\n",
            "[Parallel(n_jobs=2)]: Done   1 tasks      | elapsed:    1.6s\n",
            "[Parallel(n_jobs=2)]: Done   2 out of   2 | elapsed:    2.3s remaining:    0.0s\n",
            "[Parallel(n_jobs=2)]: Done   2 out of   2 | elapsed:    2.3s finished\n"
          ],
          "name": "stderr"
        },
        {
          "output_type": "stream",
          "text": [
            "Learning representation...\n",
            "Learning representation done!\n",
            "---> run_6_40er_5w1h_graph_hin.nx 64 f1_macro 0.40100250626566414 acc 0.5625\n"
          ],
          "name": "stdout"
        },
        {
          "output_type": "stream",
          "text": [
            "[Parallel(n_jobs=2)]: Using backend LokyBackend with 2 concurrent workers.\n",
            "[Parallel(n_jobs=2)]: Done   1 tasks      | elapsed:    3.3s\n",
            "[Parallel(n_jobs=2)]: Done   2 out of   2 | elapsed:    3.4s remaining:    0.0s\n",
            "[Parallel(n_jobs=2)]: Done   2 out of   2 | elapsed:    3.4s finished\n",
            "/content/ge/models/struc2vec.py:299: RuntimeWarning: invalid value encountered in double_scalars\n",
            "  e_list = [x / sum_w for x in e_list]\n",
            "[Parallel(n_jobs=2)]: Using backend LokyBackend with 2 concurrent workers.\n",
            "[Parallel(n_jobs=2)]: Done   1 tasks      | elapsed:    2.6s\n",
            "[Parallel(n_jobs=2)]: Done   2 out of   2 | elapsed:    3.8s remaining:    0.0s\n",
            "[Parallel(n_jobs=2)]: Done   2 out of   2 | elapsed:    3.8s finished\n"
          ],
          "name": "stderr"
        },
        {
          "output_type": "stream",
          "text": [
            "Learning representation...\n",
            "Learning representation done!\n",
            "---> run_4_bbc_5w1h_graph_hin.nx 64 f1_macro 0.22884057971014493 acc 0.25\n"
          ],
          "name": "stdout"
        },
        {
          "output_type": "stream",
          "text": [
            "[Parallel(n_jobs=2)]: Using backend LokyBackend with 2 concurrent workers.\n",
            "[Parallel(n_jobs=2)]: Done   1 tasks      | elapsed:    6.8s\n",
            "[Parallel(n_jobs=2)]: Done   2 out of   2 | elapsed:    6.9s remaining:    0.0s\n",
            "[Parallel(n_jobs=2)]: Done   2 out of   2 | elapsed:    6.9s finished\n",
            "/content/ge/models/struc2vec.py:299: RuntimeWarning: invalid value encountered in double_scalars\n",
            "  e_list = [x / sum_w for x in e_list]\n",
            "[Parallel(n_jobs=2)]: Using backend LokyBackend with 2 concurrent workers.\n",
            "[Parallel(n_jobs=2)]: Done   1 tasks      | elapsed:    4.2s\n",
            "[Parallel(n_jobs=2)]: Done   2 out of   2 | elapsed:    5.9s remaining:    0.0s\n",
            "[Parallel(n_jobs=2)]: Done   2 out of   2 | elapsed:    5.9s finished\n"
          ],
          "name": "stderr"
        },
        {
          "output_type": "stream",
          "text": [
            "Learning representation...\n",
            "Learning representation done!\n",
            "---> run_8_gold_standard_5w1h_graph_hin.nx 64 f1_macro 0.08096041385515068 acc 0.13157894736842105\n"
          ],
          "name": "stdout"
        },
        {
          "output_type": "stream",
          "text": [
            "[Parallel(n_jobs=2)]: Using backend LokyBackend with 2 concurrent workers.\n",
            "[Parallel(n_jobs=2)]: Done   1 tasks      | elapsed:    3.2s\n",
            "[Parallel(n_jobs=2)]: Done   2 out of   2 | elapsed:    3.3s remaining:    0.0s\n",
            "[Parallel(n_jobs=2)]: Done   2 out of   2 | elapsed:    3.3s finished\n",
            "/content/ge/models/struc2vec.py:299: RuntimeWarning: invalid value encountered in double_scalars\n",
            "  e_list = [x / sum_w for x in e_list]\n",
            "[Parallel(n_jobs=2)]: Using backend LokyBackend with 2 concurrent workers.\n",
            "[Parallel(n_jobs=2)]: Done   1 tasks      | elapsed:    2.8s\n",
            "[Parallel(n_jobs=2)]: Done   2 out of   2 | elapsed:    3.9s remaining:    0.0s\n",
            "[Parallel(n_jobs=2)]: Done   2 out of   2 | elapsed:    3.9s finished\n"
          ],
          "name": "stderr"
        },
        {
          "output_type": "stream",
          "text": [
            "Learning representation...\n",
            "Learning representation done!\n",
            "---> run_5_bbc_5w1h_graph_hin.nx 64 f1_macro 0.20935730935730934 acc 0.22727272727272727\n"
          ],
          "name": "stdout"
        },
        {
          "output_type": "stream",
          "text": [
            "[Parallel(n_jobs=2)]: Using backend LokyBackend with 2 concurrent workers.\n",
            "[Parallel(n_jobs=2)]: Done   1 tasks      | elapsed:    1.4s\n",
            "[Parallel(n_jobs=2)]: Done   2 out of   2 | elapsed:    1.5s remaining:    0.0s\n",
            "[Parallel(n_jobs=2)]: Done   2 out of   2 | elapsed:    1.5s finished\n",
            "/content/ge/models/struc2vec.py:299: RuntimeWarning: invalid value encountered in double_scalars\n",
            "  e_list = [x / sum_w for x in e_list]\n",
            "[Parallel(n_jobs=2)]: Using backend LokyBackend with 2 concurrent workers.\n",
            "[Parallel(n_jobs=2)]: Done   1 tasks      | elapsed:    1.6s\n",
            "[Parallel(n_jobs=2)]: Done   2 out of   2 | elapsed:    2.1s remaining:    0.0s\n",
            "[Parallel(n_jobs=2)]: Done   2 out of   2 | elapsed:    2.1s finished\n"
          ],
          "name": "stderr"
        },
        {
          "output_type": "stream",
          "text": [
            "Learning representation...\n",
            "Learning representation done!\n",
            "---> run_9_google_news_5w1h_graph_hin.nx 64 f1_macro 0.2800453514739229 acc 0.36\n"
          ],
          "name": "stdout"
        },
        {
          "output_type": "stream",
          "text": [
            "[Parallel(n_jobs=2)]: Using backend LokyBackend with 2 concurrent workers.\n",
            "[Parallel(n_jobs=2)]: Done   1 tasks      | elapsed:    6.7s\n",
            "[Parallel(n_jobs=2)]: Done   2 out of   2 | elapsed:    6.8s remaining:    0.0s\n",
            "[Parallel(n_jobs=2)]: Done   2 out of   2 | elapsed:    6.8s finished\n",
            "/content/ge/models/struc2vec.py:299: RuntimeWarning: invalid value encountered in double_scalars\n",
            "  e_list = [x / sum_w for x in e_list]\n",
            "[Parallel(n_jobs=2)]: Using backend LokyBackend with 2 concurrent workers.\n",
            "[Parallel(n_jobs=2)]: Done   1 tasks      | elapsed:    4.0s\n",
            "[Parallel(n_jobs=2)]: Done   2 out of   2 | elapsed:    5.7s remaining:    0.0s\n",
            "[Parallel(n_jobs=2)]: Done   2 out of   2 | elapsed:    5.7s finished\n"
          ],
          "name": "stderr"
        },
        {
          "output_type": "stream",
          "text": [
            "Learning representation...\n",
            "Learning representation done!\n",
            "---> run_5_gold_standard_5w1h_graph_hin.nx 64 f1_macro 0.11794258373205742 acc 0.14473684210526316\n"
          ],
          "name": "stdout"
        },
        {
          "output_type": "stream",
          "text": [
            "[Parallel(n_jobs=2)]: Using backend LokyBackend with 2 concurrent workers.\n",
            "[Parallel(n_jobs=2)]: Done   1 tasks      | elapsed:    3.2s\n",
            "[Parallel(n_jobs=2)]: Done   2 out of   2 | elapsed:    3.2s remaining:    0.0s\n",
            "[Parallel(n_jobs=2)]: Done   2 out of   2 | elapsed:    3.2s finished\n",
            "/content/ge/models/struc2vec.py:299: RuntimeWarning: invalid value encountered in double_scalars\n",
            "  e_list = [x / sum_w for x in e_list]\n",
            "[Parallel(n_jobs=2)]: Using backend LokyBackend with 2 concurrent workers.\n",
            "[Parallel(n_jobs=2)]: Done   1 tasks      | elapsed:    2.7s\n",
            "[Parallel(n_jobs=2)]: Done   2 out of   2 | elapsed:    3.8s remaining:    0.0s\n",
            "[Parallel(n_jobs=2)]: Done   2 out of   2 | elapsed:    3.8s finished\n"
          ],
          "name": "stderr"
        },
        {
          "output_type": "stream",
          "text": [
            "Learning representation...\n",
            "Learning representation done!\n",
            "---> run_2_bbc_5w1h_graph_hin.nx 64 f1_macro 0.1433333333333333 acc 0.18181818181818182\n"
          ],
          "name": "stdout"
        },
        {
          "output_type": "stream",
          "text": [
            "[Parallel(n_jobs=2)]: Using backend LokyBackend with 2 concurrent workers.\n",
            "[Parallel(n_jobs=2)]: Done   1 tasks      | elapsed:   58.4s\n",
            "[Parallel(n_jobs=2)]: Done   2 out of   2 | elapsed:   59.0s remaining:    0.0s\n",
            "[Parallel(n_jobs=2)]: Done   2 out of   2 | elapsed:   59.0s finished\n",
            "[Parallel(n_jobs=2)]: Using backend LokyBackend with 2 concurrent workers.\n",
            "[Parallel(n_jobs=2)]: Done   1 tasks      | elapsed:   17.7s\n",
            "[Parallel(n_jobs=2)]: Done   2 out of   2 | elapsed:   25.6s remaining:    0.0s\n",
            "[Parallel(n_jobs=2)]: Done   2 out of   2 | elapsed:   25.6s finished\n"
          ],
          "name": "stderr"
        },
        {
          "output_type": "stream",
          "text": [
            "Learning representation...\n",
            "Learning representation done!\n",
            "---> run_9_news_cluster_5w1h_graph_hin.nx 64 f1_macro 0.0695857707271782 acc 0.08496732026143791\n"
          ],
          "name": "stdout"
        },
        {
          "output_type": "stream",
          "text": [
            "[Parallel(n_jobs=2)]: Using backend LokyBackend with 2 concurrent workers.\n",
            "[Parallel(n_jobs=2)]: Done   1 tasks      | elapsed:    1.9s\n",
            "[Parallel(n_jobs=2)]: Done   2 out of   2 | elapsed:    1.9s remaining:    0.0s\n",
            "[Parallel(n_jobs=2)]: Done   2 out of   2 | elapsed:    1.9s finished\n",
            "/content/ge/models/struc2vec.py:299: RuntimeWarning: invalid value encountered in double_scalars\n",
            "  e_list = [x / sum_w for x in e_list]\n",
            "[Parallel(n_jobs=2)]: Using backend LokyBackend with 2 concurrent workers.\n",
            "[Parallel(n_jobs=2)]: Done   1 tasks      | elapsed:    1.6s\n",
            "[Parallel(n_jobs=2)]: Done   2 out of   2 | elapsed:    2.3s remaining:    0.0s\n",
            "[Parallel(n_jobs=2)]: Done   2 out of   2 | elapsed:    2.3s finished\n"
          ],
          "name": "stderr"
        },
        {
          "output_type": "stream",
          "text": [
            "Learning representation...\n",
            "Learning representation done!\n",
            "---> run_7_40er_5w1h_graph_hin.nx 64 f1_macro 0.38537634408602156 acc 0.5\n"
          ],
          "name": "stdout"
        },
        {
          "output_type": "stream",
          "text": [
            "[Parallel(n_jobs=2)]: Using backend LokyBackend with 2 concurrent workers.\n",
            "[Parallel(n_jobs=2)]: Done   1 tasks      | elapsed:    6.8s\n",
            "[Parallel(n_jobs=2)]: Done   2 out of   2 | elapsed:    7.0s remaining:    0.0s\n",
            "[Parallel(n_jobs=2)]: Done   2 out of   2 | elapsed:    7.0s finished\n",
            "/content/ge/models/struc2vec.py:299: RuntimeWarning: invalid value encountered in double_scalars\n",
            "  e_list = [x / sum_w for x in e_list]\n",
            "[Parallel(n_jobs=2)]: Using backend LokyBackend with 2 concurrent workers.\n",
            "[Parallel(n_jobs=2)]: Done   1 tasks      | elapsed:    4.2s\n",
            "[Parallel(n_jobs=2)]: Done   2 out of   2 | elapsed:    5.9s remaining:    0.0s\n",
            "[Parallel(n_jobs=2)]: Done   2 out of   2 | elapsed:    5.9s finished\n"
          ],
          "name": "stderr"
        },
        {
          "output_type": "stream",
          "text": [
            "Learning representation...\n",
            "Learning representation done!\n",
            "---> run_9_gold_standard_5w1h_graph_hin.nx 64 f1_macro 0.09763099219620959 acc 0.10526315789473684\n"
          ],
          "name": "stdout"
        },
        {
          "output_type": "stream",
          "text": [
            "[Parallel(n_jobs=2)]: Using backend LokyBackend with 2 concurrent workers.\n",
            "[Parallel(n_jobs=2)]: Done   1 tasks      | elapsed:    1.4s\n",
            "[Parallel(n_jobs=2)]: Done   2 out of   2 | elapsed:    1.4s remaining:    0.0s\n",
            "[Parallel(n_jobs=2)]: Done   2 out of   2 | elapsed:    1.4s finished\n",
            "/content/ge/models/struc2vec.py:299: RuntimeWarning: invalid value encountered in double_scalars\n",
            "  e_list = [x / sum_w for x in e_list]\n",
            "[Parallel(n_jobs=2)]: Using backend LokyBackend with 2 concurrent workers.\n",
            "[Parallel(n_jobs=2)]: Done   1 tasks      | elapsed:    1.4s\n",
            "[Parallel(n_jobs=2)]: Done   2 out of   2 | elapsed:    2.0s remaining:    0.0s\n",
            "[Parallel(n_jobs=2)]: Done   2 out of   2 | elapsed:    2.0s finished\n"
          ],
          "name": "stderr"
        },
        {
          "output_type": "stream",
          "text": [
            "Learning representation...\n",
            "Learning representation done!\n",
            "---> run_8_google_news_5w1h_graph_hin.nx 64 f1_macro 0.32059369202226345 acc 0.4\n"
          ],
          "name": "stdout"
        },
        {
          "output_type": "stream",
          "text": [
            "[Parallel(n_jobs=2)]: Using backend LokyBackend with 2 concurrent workers.\n",
            "[Parallel(n_jobs=2)]: Done   1 tasks      | elapsed:    3.1s\n",
            "[Parallel(n_jobs=2)]: Done   2 out of   2 | elapsed:    3.3s remaining:    0.0s\n",
            "[Parallel(n_jobs=2)]: Done   2 out of   2 | elapsed:    3.3s finished\n",
            "/content/ge/models/struc2vec.py:299: RuntimeWarning: invalid value encountered in double_scalars\n",
            "  e_list = [x / sum_w for x in e_list]\n",
            "[Parallel(n_jobs=2)]: Using backend LokyBackend with 2 concurrent workers.\n",
            "[Parallel(n_jobs=2)]: Done   1 tasks      | elapsed:    2.7s\n",
            "[Parallel(n_jobs=2)]: Done   2 out of   2 | elapsed:    3.9s remaining:    0.0s\n",
            "[Parallel(n_jobs=2)]: Done   2 out of   2 | elapsed:    3.9s finished\n"
          ],
          "name": "stderr"
        },
        {
          "output_type": "stream",
          "text": [
            "Learning representation...\n",
            "Learning representation done!\n",
            "---> run_10_bbc_5w1h_graph_hin.nx 64 f1_macro 0.23076923076923075 acc 0.2727272727272727\n"
          ],
          "name": "stdout"
        },
        {
          "output_type": "stream",
          "text": [
            "[Parallel(n_jobs=2)]: Using backend LokyBackend with 2 concurrent workers.\n",
            "[Parallel(n_jobs=2)]: Done   1 tasks      | elapsed:  1.0min\n",
            "[Parallel(n_jobs=2)]: Done   2 out of   2 | elapsed:  1.0min remaining:    0.0s\n",
            "[Parallel(n_jobs=2)]: Done   2 out of   2 | elapsed:  1.0min finished\n",
            "[Parallel(n_jobs=2)]: Using backend LokyBackend with 2 concurrent workers.\n",
            "[Parallel(n_jobs=2)]: Done   1 tasks      | elapsed:   18.0s\n",
            "[Parallel(n_jobs=2)]: Done   2 out of   2 | elapsed:   26.0s remaining:    0.0s\n",
            "[Parallel(n_jobs=2)]: Done   2 out of   2 | elapsed:   26.0s finished\n"
          ],
          "name": "stderr"
        },
        {
          "output_type": "stream",
          "text": [
            "Learning representation...\n",
            "Learning representation done!\n",
            "---> run_8_news_cluster_5w1h_graph_hin.nx 64 f1_macro 0.06255440748194371 acc 0.06209150326797386\n"
          ],
          "name": "stdout"
        },
        {
          "output_type": "stream",
          "text": [
            "[Parallel(n_jobs=2)]: Using backend LokyBackend with 2 concurrent workers.\n",
            "[Parallel(n_jobs=2)]: Done   1 tasks      | elapsed:   59.8s\n",
            "[Parallel(n_jobs=2)]: Done   2 out of   2 | elapsed:  1.0min remaining:    0.0s\n",
            "[Parallel(n_jobs=2)]: Done   2 out of   2 | elapsed:  1.0min finished\n",
            "[Parallel(n_jobs=2)]: Using backend LokyBackend with 2 concurrent workers.\n",
            "[Parallel(n_jobs=2)]: Done   1 tasks      | elapsed:   18.2s\n",
            "[Parallel(n_jobs=2)]: Done   2 out of   2 | elapsed:   26.0s remaining:    0.0s\n",
            "[Parallel(n_jobs=2)]: Done   2 out of   2 | elapsed:   26.0s finished\n"
          ],
          "name": "stderr"
        },
        {
          "output_type": "stream",
          "text": [
            "Learning representation...\n",
            "Learning representation done!\n",
            "---> run_2_news_cluster_5w1h_graph_hin.nx 64 f1_macro 0.06136780117127406 acc 0.08169934640522876\n"
          ],
          "name": "stdout"
        },
        {
          "output_type": "stream",
          "text": [
            "[Parallel(n_jobs=2)]: Using backend LokyBackend with 2 concurrent workers.\n",
            "[Parallel(n_jobs=2)]: Done   1 tasks      | elapsed:    1.9s\n",
            "[Parallel(n_jobs=2)]: Done   2 out of   2 | elapsed:    1.9s remaining:    0.0s\n",
            "[Parallel(n_jobs=2)]: Done   2 out of   2 | elapsed:    1.9s finished\n",
            "/content/ge/models/struc2vec.py:299: RuntimeWarning: invalid value encountered in double_scalars\n",
            "  e_list = [x / sum_w for x in e_list]\n",
            "[Parallel(n_jobs=2)]: Using backend LokyBackend with 2 concurrent workers.\n",
            "[Parallel(n_jobs=2)]: Done   1 tasks      | elapsed:    1.7s\n",
            "[Parallel(n_jobs=2)]: Done   2 out of   2 | elapsed:    2.3s remaining:    0.0s\n",
            "[Parallel(n_jobs=2)]: Done   2 out of   2 | elapsed:    2.3s finished\n"
          ],
          "name": "stderr"
        },
        {
          "output_type": "stream",
          "text": [
            "Learning representation...\n",
            "Learning representation done!\n",
            "---> run_8_40er_5w1h_graph_hin.nx 64 f1_macro 0.5369509043927648 acc 0.65625\n"
          ],
          "name": "stdout"
        },
        {
          "output_type": "stream",
          "text": [
            "[Parallel(n_jobs=2)]: Using backend LokyBackend with 2 concurrent workers.\n",
            "[Parallel(n_jobs=2)]: Done   1 tasks      | elapsed:    3.2s\n",
            "[Parallel(n_jobs=2)]: Done   2 out of   2 | elapsed:    3.3s remaining:    0.0s\n",
            "[Parallel(n_jobs=2)]: Done   2 out of   2 | elapsed:    3.3s finished\n",
            "/content/ge/models/struc2vec.py:299: RuntimeWarning: invalid value encountered in double_scalars\n",
            "  e_list = [x / sum_w for x in e_list]\n",
            "[Parallel(n_jobs=2)]: Using backend LokyBackend with 2 concurrent workers.\n",
            "[Parallel(n_jobs=2)]: Done   1 tasks      | elapsed:    2.8s\n",
            "[Parallel(n_jobs=2)]: Done   2 out of   2 | elapsed:    4.0s remaining:    0.0s\n",
            "[Parallel(n_jobs=2)]: Done   2 out of   2 | elapsed:    4.0s finished\n"
          ],
          "name": "stderr"
        },
        {
          "output_type": "stream",
          "text": [
            "Learning representation...\n",
            "Learning representation done!\n",
            "---> run_6_bbc_5w1h_graph_hin.nx 64 f1_macro 0.22974983096686952 acc 0.25\n"
          ],
          "name": "stdout"
        },
        {
          "output_type": "stream",
          "text": [
            "[Parallel(n_jobs=2)]: Using backend LokyBackend with 2 concurrent workers.\n",
            "[Parallel(n_jobs=2)]: Done   1 tasks      | elapsed:    1.4s\n",
            "[Parallel(n_jobs=2)]: Done   2 out of   2 | elapsed:    1.4s remaining:    0.0s\n",
            "[Parallel(n_jobs=2)]: Done   2 out of   2 | elapsed:    1.4s finished\n",
            "/content/ge/models/struc2vec.py:299: RuntimeWarning: invalid value encountered in double_scalars\n",
            "  e_list = [x / sum_w for x in e_list]\n",
            "[Parallel(n_jobs=2)]: Using backend LokyBackend with 2 concurrent workers.\n",
            "[Parallel(n_jobs=2)]: Done   1 tasks      | elapsed:    1.4s\n",
            "[Parallel(n_jobs=2)]: Done   2 out of   2 | elapsed:    2.0s remaining:    0.0s\n",
            "[Parallel(n_jobs=2)]: Done   2 out of   2 | elapsed:    2.0s finished\n"
          ],
          "name": "stderr"
        },
        {
          "output_type": "stream",
          "text": [
            "Learning representation...\n",
            "Learning representation done!\n",
            "---> run_4_google_news_5w1h_graph_hin.nx 64 f1_macro 0.061821219715956555 acc 0.12\n"
          ],
          "name": "stdout"
        },
        {
          "output_type": "stream",
          "text": [
            "[Parallel(n_jobs=2)]: Using backend LokyBackend with 2 concurrent workers.\n",
            "[Parallel(n_jobs=2)]: Done   1 tasks      | elapsed:    1.4s\n",
            "[Parallel(n_jobs=2)]: Done   2 out of   2 | elapsed:    1.4s remaining:    0.0s\n",
            "[Parallel(n_jobs=2)]: Done   2 out of   2 | elapsed:    1.4s finished\n",
            "/content/ge/models/struc2vec.py:299: RuntimeWarning: invalid value encountered in double_scalars\n",
            "  e_list = [x / sum_w for x in e_list]\n",
            "[Parallel(n_jobs=2)]: Using backend LokyBackend with 2 concurrent workers.\n",
            "[Parallel(n_jobs=2)]: Done   1 tasks      | elapsed:    1.4s\n",
            "[Parallel(n_jobs=2)]: Done   2 out of   2 | elapsed:    2.1s remaining:    0.0s\n",
            "[Parallel(n_jobs=2)]: Done   2 out of   2 | elapsed:    2.1s finished\n"
          ],
          "name": "stderr"
        },
        {
          "output_type": "stream",
          "text": [
            "Learning representation...\n",
            "Learning representation done!\n",
            "---> run_2_google_news_5w1h_graph_hin.nx 64 f1_macro 0.1976190476190476 acc 0.2\n"
          ],
          "name": "stdout"
        },
        {
          "output_type": "stream",
          "text": [
            "[Parallel(n_jobs=2)]: Using backend LokyBackend with 2 concurrent workers.\n",
            "[Parallel(n_jobs=2)]: Done   1 tasks      | elapsed:    6.9s\n",
            "[Parallel(n_jobs=2)]: Done   2 out of   2 | elapsed:    7.0s remaining:    0.0s\n",
            "[Parallel(n_jobs=2)]: Done   2 out of   2 | elapsed:    7.0s finished\n",
            "/content/ge/models/struc2vec.py:299: RuntimeWarning: invalid value encountered in double_scalars\n",
            "  e_list = [x / sum_w for x in e_list]\n",
            "[Parallel(n_jobs=2)]: Using backend LokyBackend with 2 concurrent workers.\n",
            "[Parallel(n_jobs=2)]: Done   1 tasks      | elapsed:    4.1s\n",
            "[Parallel(n_jobs=2)]: Done   2 out of   2 | elapsed:    5.9s remaining:    0.0s\n",
            "[Parallel(n_jobs=2)]: Done   2 out of   2 | elapsed:    5.9s finished\n"
          ],
          "name": "stderr"
        },
        {
          "output_type": "stream",
          "text": [
            "Learning representation...\n",
            "Learning representation done!\n",
            "---> run_7_gold_standard_5w1h_graph_hin.nx 64 f1_macro 0.06428187197417967 acc 0.11842105263157894\n"
          ],
          "name": "stdout"
        },
        {
          "output_type": "stream",
          "text": [
            "[Parallel(n_jobs=2)]: Using backend LokyBackend with 2 concurrent workers.\n",
            "[Parallel(n_jobs=2)]: Done   1 tasks      | elapsed:    6.8s\n",
            "[Parallel(n_jobs=2)]: Done   2 out of   2 | elapsed:    6.9s remaining:    0.0s\n",
            "[Parallel(n_jobs=2)]: Done   2 out of   2 | elapsed:    6.9s finished\n",
            "/content/ge/models/struc2vec.py:299: RuntimeWarning: invalid value encountered in double_scalars\n",
            "  e_list = [x / sum_w for x in e_list]\n",
            "[Parallel(n_jobs=2)]: Using backend LokyBackend with 2 concurrent workers.\n",
            "[Parallel(n_jobs=2)]: Done   1 tasks      | elapsed:    4.2s\n",
            "[Parallel(n_jobs=2)]: Done   2 out of   2 | elapsed:    5.9s remaining:    0.0s\n",
            "[Parallel(n_jobs=2)]: Done   2 out of   2 | elapsed:    5.9s finished\n"
          ],
          "name": "stderr"
        },
        {
          "output_type": "stream",
          "text": [
            "Learning representation...\n",
            "Learning representation done!\n",
            "---> run_4_gold_standard_5w1h_graph_hin.nx 64 f1_macro 0.04422897364073834 acc 0.06578947368421052\n"
          ],
          "name": "stdout"
        },
        {
          "output_type": "stream",
          "text": [
            "[Parallel(n_jobs=2)]: Using backend LokyBackend with 2 concurrent workers.\n",
            "[Parallel(n_jobs=2)]: Done   1 tasks      | elapsed:    1.9s\n",
            "[Parallel(n_jobs=2)]: Done   2 out of   2 | elapsed:    1.9s remaining:    0.0s\n",
            "[Parallel(n_jobs=2)]: Done   2 out of   2 | elapsed:    1.9s finished\n",
            "/content/ge/models/struc2vec.py:299: RuntimeWarning: invalid value encountered in double_scalars\n",
            "  e_list = [x / sum_w for x in e_list]\n",
            "[Parallel(n_jobs=2)]: Using backend LokyBackend with 2 concurrent workers.\n",
            "[Parallel(n_jobs=2)]: Done   1 tasks      | elapsed:    1.6s\n",
            "[Parallel(n_jobs=2)]: Done   2 out of   2 | elapsed:    2.2s remaining:    0.0s\n",
            "[Parallel(n_jobs=2)]: Done   2 out of   2 | elapsed:    2.2s finished\n"
          ],
          "name": "stderr"
        },
        {
          "output_type": "stream",
          "text": [
            "Learning representation...\n",
            "Learning representation done!\n",
            "---> run_5_40er_5w1h_graph_hin.nx 64 f1_macro 0.4082251082251082 acc 0.46875\n"
          ],
          "name": "stdout"
        },
        {
          "output_type": "stream",
          "text": [
            "[Parallel(n_jobs=2)]: Using backend LokyBackend with 2 concurrent workers.\n",
            "[Parallel(n_jobs=2)]: Done   1 tasks      | elapsed:    6.9s\n",
            "[Parallel(n_jobs=2)]: Done   2 out of   2 | elapsed:    7.0s remaining:    0.0s\n",
            "[Parallel(n_jobs=2)]: Done   2 out of   2 | elapsed:    7.0s finished\n",
            "/content/ge/models/struc2vec.py:299: RuntimeWarning: invalid value encountered in double_scalars\n",
            "  e_list = [x / sum_w for x in e_list]\n",
            "[Parallel(n_jobs=2)]: Using backend LokyBackend with 2 concurrent workers.\n",
            "[Parallel(n_jobs=2)]: Done   1 tasks      | elapsed:    4.1s\n",
            "[Parallel(n_jobs=2)]: Done   2 out of   2 | elapsed:    5.9s remaining:    0.0s\n",
            "[Parallel(n_jobs=2)]: Done   2 out of   2 | elapsed:    5.9s finished\n"
          ],
          "name": "stderr"
        },
        {
          "output_type": "stream",
          "text": [
            "Learning representation...\n",
            "Learning representation done!\n",
            "---> run_3_gold_standard_5w1h_graph_hin.nx 64 f1_macro 0.1135770027074375 acc 0.15789473684210525\n"
          ],
          "name": "stdout"
        },
        {
          "output_type": "stream",
          "text": [
            "[Parallel(n_jobs=2)]: Using backend LokyBackend with 2 concurrent workers.\n",
            "[Parallel(n_jobs=2)]: Done   1 tasks      | elapsed:    1.9s\n",
            "[Parallel(n_jobs=2)]: Done   2 out of   2 | elapsed:    1.9s remaining:    0.0s\n",
            "[Parallel(n_jobs=2)]: Done   2 out of   2 | elapsed:    1.9s finished\n",
            "/content/ge/models/struc2vec.py:299: RuntimeWarning: invalid value encountered in double_scalars\n",
            "  e_list = [x / sum_w for x in e_list]\n",
            "[Parallel(n_jobs=2)]: Using backend LokyBackend with 2 concurrent workers.\n",
            "[Parallel(n_jobs=2)]: Done   1 tasks      | elapsed:    1.6s\n",
            "[Parallel(n_jobs=2)]: Done   2 out of   2 | elapsed:    2.2s remaining:    0.0s\n",
            "[Parallel(n_jobs=2)]: Done   2 out of   2 | elapsed:    2.2s finished\n"
          ],
          "name": "stderr"
        },
        {
          "output_type": "stream",
          "text": [
            "Learning representation...\n",
            "Learning representation done!\n",
            "---> run_4_40er_5w1h_graph_hin.nx 64 f1_macro 0.4824242424242424 acc 0.65625\n"
          ],
          "name": "stdout"
        },
        {
          "output_type": "stream",
          "text": [
            "[Parallel(n_jobs=2)]: Using backend LokyBackend with 2 concurrent workers.\n",
            "[Parallel(n_jobs=2)]: Done   1 tasks      | elapsed:    1.4s\n",
            "[Parallel(n_jobs=2)]: Done   2 out of   2 | elapsed:    1.4s remaining:    0.0s\n",
            "[Parallel(n_jobs=2)]: Done   2 out of   2 | elapsed:    1.4s finished\n",
            "/content/ge/models/struc2vec.py:299: RuntimeWarning: invalid value encountered in double_scalars\n",
            "  e_list = [x / sum_w for x in e_list]\n",
            "[Parallel(n_jobs=2)]: Using backend LokyBackend with 2 concurrent workers.\n",
            "[Parallel(n_jobs=2)]: Done   1 tasks      | elapsed:    1.5s\n",
            "[Parallel(n_jobs=2)]: Done   2 out of   2 | elapsed:    2.2s remaining:    0.0s\n",
            "[Parallel(n_jobs=2)]: Done   2 out of   2 | elapsed:    2.2s finished\n"
          ],
          "name": "stderr"
        },
        {
          "output_type": "stream",
          "text": [
            "Learning representation...\n",
            "Learning representation done!\n",
            "---> run_5_google_news_5w1h_graph_hin.nx 64 f1_macro 0.36507936507936506 acc 0.4\n"
          ],
          "name": "stdout"
        },
        {
          "output_type": "stream",
          "text": [
            "[Parallel(n_jobs=2)]: Using backend LokyBackend with 2 concurrent workers.\n",
            "[Parallel(n_jobs=2)]: Done   1 tasks      | elapsed:   59.3s\n",
            "[Parallel(n_jobs=2)]: Done   2 out of   2 | elapsed:   59.6s remaining:    0.0s\n",
            "[Parallel(n_jobs=2)]: Done   2 out of   2 | elapsed:   59.6s finished\n",
            "[Parallel(n_jobs=2)]: Using backend LokyBackend with 2 concurrent workers.\n",
            "[Parallel(n_jobs=2)]: Done   1 tasks      | elapsed:   17.8s\n",
            "[Parallel(n_jobs=2)]: Done   2 out of   2 | elapsed:   26.0s remaining:    0.0s\n",
            "[Parallel(n_jobs=2)]: Done   2 out of   2 | elapsed:   26.0s finished\n"
          ],
          "name": "stderr"
        },
        {
          "output_type": "stream",
          "text": [
            "Learning representation...\n",
            "Learning representation done!\n",
            "---> run_10_news_cluster_5w1h_graph_hin.nx 64 f1_macro 0.0815875587614718 acc 0.10457516339869281\n"
          ],
          "name": "stdout"
        },
        {
          "output_type": "stream",
          "text": [
            "[Parallel(n_jobs=2)]: Using backend LokyBackend with 2 concurrent workers.\n",
            "[Parallel(n_jobs=2)]: Done   1 tasks      | elapsed:    1.9s\n",
            "[Parallel(n_jobs=2)]: Done   2 out of   2 | elapsed:    1.9s remaining:    0.0s\n",
            "[Parallel(n_jobs=2)]: Done   2 out of   2 | elapsed:    1.9s finished\n",
            "/content/ge/models/struc2vec.py:299: RuntimeWarning: invalid value encountered in double_scalars\n",
            "  e_list = [x / sum_w for x in e_list]\n",
            "[Parallel(n_jobs=2)]: Using backend LokyBackend with 2 concurrent workers.\n",
            "[Parallel(n_jobs=2)]: Done   1 tasks      | elapsed:    1.6s\n",
            "[Parallel(n_jobs=2)]: Done   2 out of   2 | elapsed:    2.3s remaining:    0.0s\n",
            "[Parallel(n_jobs=2)]: Done   2 out of   2 | elapsed:    2.3s finished\n"
          ],
          "name": "stderr"
        },
        {
          "output_type": "stream",
          "text": [
            "Learning representation...\n",
            "Learning representation done!\n",
            "---> run_10_40er_5w1h_graph_hin.nx 64 f1_macro 0.3481481481481481 acc 0.46875\n"
          ],
          "name": "stdout"
        },
        {
          "output_type": "stream",
          "text": [
            "[Parallel(n_jobs=2)]: Using backend LokyBackend with 2 concurrent workers.\n",
            "[Parallel(n_jobs=2)]: Done   1 tasks      | elapsed:    1.9s\n",
            "[Parallel(n_jobs=2)]: Done   2 out of   2 | elapsed:    1.9s remaining:    0.0s\n",
            "[Parallel(n_jobs=2)]: Done   2 out of   2 | elapsed:    1.9s finished\n",
            "/content/ge/models/struc2vec.py:299: RuntimeWarning: invalid value encountered in double_scalars\n",
            "  e_list = [x / sum_w for x in e_list]\n",
            "[Parallel(n_jobs=2)]: Using backend LokyBackend with 2 concurrent workers.\n",
            "[Parallel(n_jobs=2)]: Done   1 tasks      | elapsed:    1.6s\n",
            "[Parallel(n_jobs=2)]: Done   2 out of   2 | elapsed:    2.2s remaining:    0.0s\n",
            "[Parallel(n_jobs=2)]: Done   2 out of   2 | elapsed:    2.2s finished\n"
          ],
          "name": "stderr"
        },
        {
          "output_type": "stream",
          "text": [
            "Learning representation...\n",
            "Learning representation done!\n",
            "---> run_9_40er_5w1h_graph_hin.nx 64 f1_macro 0.38632872503840243 acc 0.53125\n"
          ],
          "name": "stdout"
        },
        {
          "output_type": "stream",
          "text": [
            "[Parallel(n_jobs=2)]: Using backend LokyBackend with 2 concurrent workers.\n",
            "[Parallel(n_jobs=2)]: Done   1 tasks      | elapsed:    1.4s\n",
            "[Parallel(n_jobs=2)]: Done   2 out of   2 | elapsed:    1.5s remaining:    0.0s\n",
            "[Parallel(n_jobs=2)]: Done   2 out of   2 | elapsed:    1.5s finished\n",
            "/content/ge/models/struc2vec.py:299: RuntimeWarning: invalid value encountered in double_scalars\n",
            "  e_list = [x / sum_w for x in e_list]\n",
            "[Parallel(n_jobs=2)]: Using backend LokyBackend with 2 concurrent workers.\n",
            "[Parallel(n_jobs=2)]: Done   1 tasks      | elapsed:    1.5s\n",
            "[Parallel(n_jobs=2)]: Done   2 out of   2 | elapsed:    2.0s remaining:    0.0s\n",
            "[Parallel(n_jobs=2)]: Done   2 out of   2 | elapsed:    2.0s finished\n"
          ],
          "name": "stderr"
        },
        {
          "output_type": "stream",
          "text": [
            "Learning representation...\n",
            "Learning representation done!\n",
            "---> run_10_google_news_5w1h_graph_hin.nx 64 f1_macro 0.4174603174603174 acc 0.4\n"
          ],
          "name": "stdout"
        },
        {
          "output_type": "stream",
          "text": [
            "[Parallel(n_jobs=2)]: Using backend LokyBackend with 2 concurrent workers.\n",
            "[Parallel(n_jobs=2)]: Done   1 tasks      | elapsed:    1.4s\n",
            "[Parallel(n_jobs=2)]: Done   2 out of   2 | elapsed:    1.4s remaining:    0.0s\n",
            "[Parallel(n_jobs=2)]: Done   2 out of   2 | elapsed:    1.4s finished\n",
            "/content/ge/models/struc2vec.py:299: RuntimeWarning: invalid value encountered in double_scalars\n",
            "  e_list = [x / sum_w for x in e_list]\n",
            "[Parallel(n_jobs=2)]: Using backend LokyBackend with 2 concurrent workers.\n",
            "[Parallel(n_jobs=2)]: Done   1 tasks      | elapsed:    1.6s\n",
            "[Parallel(n_jobs=2)]: Done   2 out of   2 | elapsed:    2.2s remaining:    0.0s\n",
            "[Parallel(n_jobs=2)]: Done   2 out of   2 | elapsed:    2.2s finished\n"
          ],
          "name": "stderr"
        },
        {
          "output_type": "stream",
          "text": [
            "Learning representation...\n",
            "Learning representation done!\n",
            "---> run_6_google_news_5w1h_graph_hin.nx 64 f1_macro 0.3800865800865801 acc 0.44\n"
          ],
          "name": "stdout"
        },
        {
          "output_type": "stream",
          "text": [
            "[Parallel(n_jobs=2)]: Using backend LokyBackend with 2 concurrent workers.\n",
            "[Parallel(n_jobs=2)]: Done   1 tasks      | elapsed:   58.8s\n",
            "[Parallel(n_jobs=2)]: Done   2 out of   2 | elapsed:   59.3s remaining:    0.0s\n",
            "[Parallel(n_jobs=2)]: Done   2 out of   2 | elapsed:   59.3s finished\n",
            "[Parallel(n_jobs=2)]: Using backend LokyBackend with 2 concurrent workers.\n",
            "[Parallel(n_jobs=2)]: Done   1 tasks      | elapsed:   17.9s\n",
            "[Parallel(n_jobs=2)]: Done   2 out of   2 | elapsed:   26.0s remaining:    0.0s\n",
            "[Parallel(n_jobs=2)]: Done   2 out of   2 | elapsed:   26.0s finished\n"
          ],
          "name": "stderr"
        },
        {
          "output_type": "stream",
          "text": [
            "Learning representation...\n",
            "Learning representation done!\n",
            "---> run_1_news_cluster_5w1h_graph_hin.nx 64 f1_macro 0.06770010170529202 acc 0.08496732026143791\n"
          ],
          "name": "stdout"
        },
        {
          "output_type": "stream",
          "text": [
            "[Parallel(n_jobs=2)]: Using backend LokyBackend with 2 concurrent workers.\n",
            "[Parallel(n_jobs=2)]: Done   1 tasks      | elapsed:   59.1s\n",
            "[Parallel(n_jobs=2)]: Done   2 out of   2 | elapsed:   59.6s remaining:    0.0s\n",
            "[Parallel(n_jobs=2)]: Done   2 out of   2 | elapsed:   59.6s finished\n",
            "[Parallel(n_jobs=2)]: Using backend LokyBackend with 2 concurrent workers.\n",
            "[Parallel(n_jobs=2)]: Done   1 tasks      | elapsed:   18.3s\n",
            "[Parallel(n_jobs=2)]: Done   2 out of   2 | elapsed:   26.3s remaining:    0.0s\n",
            "[Parallel(n_jobs=2)]: Done   2 out of   2 | elapsed:   26.3s finished\n"
          ],
          "name": "stderr"
        },
        {
          "output_type": "stream",
          "text": [
            "Learning representation...\n",
            "Learning representation done!\n",
            "---> run_3_news_cluster_5w1h_graph_hin.nx 64 f1_macro 0.06027014873301944 acc 0.0784313725490196\n"
          ],
          "name": "stdout"
        },
        {
          "output_type": "stream",
          "text": [
            "[Parallel(n_jobs=2)]: Using backend LokyBackend with 2 concurrent workers.\n",
            "[Parallel(n_jobs=2)]: Done   1 tasks      | elapsed:   59.1s\n",
            "[Parallel(n_jobs=2)]: Done   2 out of   2 | elapsed:   59.8s remaining:    0.0s\n",
            "[Parallel(n_jobs=2)]: Done   2 out of   2 | elapsed:   59.8s finished\n",
            "[Parallel(n_jobs=2)]: Using backend LokyBackend with 2 concurrent workers.\n",
            "[Parallel(n_jobs=2)]: Done   1 tasks      | elapsed:   17.6s\n",
            "[Parallel(n_jobs=2)]: Done   2 out of   2 | elapsed:   25.7s remaining:    0.0s\n",
            "[Parallel(n_jobs=2)]: Done   2 out of   2 | elapsed:   25.7s finished\n"
          ],
          "name": "stderr"
        },
        {
          "output_type": "stream",
          "text": [
            "Learning representation...\n",
            "Learning representation done!\n",
            "---> run_5_news_cluster_5w1h_graph_hin.nx 64 f1_macro 0.08001302570939249 acc 0.08496732026143791\n"
          ],
          "name": "stdout"
        },
        {
          "output_type": "stream",
          "text": [
            "[Parallel(n_jobs=2)]: Using backend LokyBackend with 2 concurrent workers.\n",
            "[Parallel(n_jobs=2)]: Done   1 tasks      | elapsed:   58.5s\n",
            "[Parallel(n_jobs=2)]: Done   2 out of   2 | elapsed:   59.1s remaining:    0.0s\n",
            "[Parallel(n_jobs=2)]: Done   2 out of   2 | elapsed:   59.1s finished\n",
            "[Parallel(n_jobs=2)]: Using backend LokyBackend with 2 concurrent workers.\n",
            "[Parallel(n_jobs=2)]: Done   1 tasks      | elapsed:   18.5s\n",
            "[Parallel(n_jobs=2)]: Done   2 out of   2 | elapsed:   26.6s remaining:    0.0s\n",
            "[Parallel(n_jobs=2)]: Done   2 out of   2 | elapsed:   26.6s finished\n"
          ],
          "name": "stderr"
        },
        {
          "output_type": "stream",
          "text": [
            "Learning representation...\n",
            "Learning representation done!\n",
            "---> run_4_news_cluster_5w1h_graph_hin.nx 64 f1_macro 0.058210246250803115 acc 0.06535947712418301\n"
          ],
          "name": "stdout"
        },
        {
          "output_type": "stream",
          "text": [
            "[Parallel(n_jobs=2)]: Using backend LokyBackend with 2 concurrent workers.\n",
            "[Parallel(n_jobs=2)]: Done   1 tasks      | elapsed:    3.3s\n",
            "[Parallel(n_jobs=2)]: Done   2 out of   2 | elapsed:    3.5s remaining:    0.0s\n",
            "[Parallel(n_jobs=2)]: Done   2 out of   2 | elapsed:    3.5s finished\n",
            "/content/ge/models/struc2vec.py:299: RuntimeWarning: invalid value encountered in double_scalars\n",
            "  e_list = [x / sum_w for x in e_list]\n",
            "[Parallel(n_jobs=2)]: Using backend LokyBackend with 2 concurrent workers.\n",
            "[Parallel(n_jobs=2)]: Done   1 tasks      | elapsed:    2.8s\n",
            "[Parallel(n_jobs=2)]: Done   2 out of   2 | elapsed:    3.9s remaining:    0.0s\n",
            "[Parallel(n_jobs=2)]: Done   2 out of   2 | elapsed:    3.9s finished\n"
          ],
          "name": "stderr"
        },
        {
          "output_type": "stream",
          "text": [
            "Learning representation...\n",
            "Learning representation done!\n",
            "---> run_7_bbc_5w1h_graph_hin.nx 64 f1_macro 0.2228124248584607 acc 0.22727272727272727\n"
          ],
          "name": "stdout"
        },
        {
          "output_type": "stream",
          "text": [
            "[Parallel(n_jobs=2)]: Using backend LokyBackend with 2 concurrent workers.\n",
            "[Parallel(n_jobs=2)]: Done   1 tasks      | elapsed:    7.0s\n",
            "[Parallel(n_jobs=2)]: Done   2 out of   2 | elapsed:    7.1s remaining:    0.0s\n",
            "[Parallel(n_jobs=2)]: Done   2 out of   2 | elapsed:    7.1s finished\n",
            "/content/ge/models/struc2vec.py:299: RuntimeWarning: invalid value encountered in double_scalars\n",
            "  e_list = [x / sum_w for x in e_list]\n",
            "[Parallel(n_jobs=2)]: Using backend LokyBackend with 2 concurrent workers.\n",
            "[Parallel(n_jobs=2)]: Done   1 tasks      | elapsed:    4.4s\n",
            "[Parallel(n_jobs=2)]: Done   2 out of   2 | elapsed:    6.1s remaining:    0.0s\n",
            "[Parallel(n_jobs=2)]: Done   2 out of   2 | elapsed:    6.1s finished\n"
          ],
          "name": "stderr"
        },
        {
          "output_type": "stream",
          "text": [
            "Learning representation...\n",
            "Learning representation done!\n",
            "---> run_1_gold_standard_5w1h_graph_hin.nx 64 f1_macro 0.09689199689199689 acc 0.11842105263157894\n"
          ],
          "name": "stdout"
        },
        {
          "output_type": "stream",
          "text": [
            "[Parallel(n_jobs=2)]: Using backend LokyBackend with 2 concurrent workers.\n",
            "[Parallel(n_jobs=2)]: Done   1 tasks      | elapsed:    1.4s\n",
            "[Parallel(n_jobs=2)]: Done   2 out of   2 | elapsed:    1.5s remaining:    0.0s\n",
            "[Parallel(n_jobs=2)]: Done   2 out of   2 | elapsed:    1.5s finished\n",
            "/content/ge/models/struc2vec.py:299: RuntimeWarning: invalid value encountered in double_scalars\n",
            "  e_list = [x / sum_w for x in e_list]\n",
            "[Parallel(n_jobs=2)]: Using backend LokyBackend with 2 concurrent workers.\n",
            "[Parallel(n_jobs=2)]: Done   1 tasks      | elapsed:    1.6s\n",
            "[Parallel(n_jobs=2)]: Done   2 out of   2 | elapsed:    2.3s remaining:    0.0s\n",
            "[Parallel(n_jobs=2)]: Done   2 out of   2 | elapsed:    2.3s finished\n"
          ],
          "name": "stderr"
        },
        {
          "output_type": "stream",
          "text": [
            "Learning representation...\n",
            "Learning representation done!\n",
            "---> run_7_google_news_5w1h_graph_hin.nx 64 f1_macro 0.36122448979591837 acc 0.36\n"
          ],
          "name": "stdout"
        },
        {
          "output_type": "stream",
          "text": [
            "[Parallel(n_jobs=2)]: Using backend LokyBackend with 2 concurrent workers.\n",
            "[Parallel(n_jobs=2)]: Done   1 tasks      | elapsed:    6.9s\n",
            "[Parallel(n_jobs=2)]: Done   2 out of   2 | elapsed:    7.0s remaining:    0.0s\n",
            "[Parallel(n_jobs=2)]: Done   2 out of   2 | elapsed:    7.0s finished\n",
            "/content/ge/models/struc2vec.py:299: RuntimeWarning: invalid value encountered in double_scalars\n",
            "  e_list = [x / sum_w for x in e_list]\n",
            "[Parallel(n_jobs=2)]: Using backend LokyBackend with 2 concurrent workers.\n",
            "[Parallel(n_jobs=2)]: Done   1 tasks      | elapsed:    4.3s\n",
            "[Parallel(n_jobs=2)]: Done   2 out of   2 | elapsed:    6.0s remaining:    0.0s\n",
            "[Parallel(n_jobs=2)]: Done   2 out of   2 | elapsed:    6.0s finished\n"
          ],
          "name": "stderr"
        },
        {
          "output_type": "stream",
          "text": [
            "Learning representation...\n",
            "Learning representation done!\n",
            "---> run_10_gold_standard_5w1h_graph_hin.nx 64 f1_macro 0.09964479964479965 acc 0.11842105263157894\n"
          ],
          "name": "stdout"
        },
        {
          "output_type": "stream",
          "text": [
            "[Parallel(n_jobs=2)]: Using backend LokyBackend with 2 concurrent workers.\n",
            "[Parallel(n_jobs=2)]: Done   1 tasks      | elapsed:    7.0s\n",
            "[Parallel(n_jobs=2)]: Done   2 out of   2 | elapsed:    7.1s remaining:    0.0s\n",
            "[Parallel(n_jobs=2)]: Done   2 out of   2 | elapsed:    7.1s finished\n",
            "/content/ge/models/struc2vec.py:299: RuntimeWarning: invalid value encountered in double_scalars\n",
            "  e_list = [x / sum_w for x in e_list]\n",
            "[Parallel(n_jobs=2)]: Using backend LokyBackend with 2 concurrent workers.\n",
            "[Parallel(n_jobs=2)]: Done   1 tasks      | elapsed:    4.3s\n",
            "[Parallel(n_jobs=2)]: Done   2 out of   2 | elapsed:    6.1s remaining:    0.0s\n",
            "[Parallel(n_jobs=2)]: Done   2 out of   2 | elapsed:    6.1s finished\n"
          ],
          "name": "stderr"
        },
        {
          "output_type": "stream",
          "text": [
            "Learning representation...\n",
            "Learning representation done!\n",
            "---> run_6_gold_standard_5w1h_graph_hin.nx 64 f1_macro 0.06917389627915944 acc 0.07894736842105263\n"
          ],
          "name": "stdout"
        },
        {
          "output_type": "stream",
          "text": [
            "[Parallel(n_jobs=2)]: Using backend LokyBackend with 2 concurrent workers.\n",
            "[Parallel(n_jobs=2)]: Done   1 tasks      | elapsed:    3.3s\n",
            "[Parallel(n_jobs=2)]: Done   2 out of   2 | elapsed:    3.4s remaining:    0.0s\n",
            "[Parallel(n_jobs=2)]: Done   2 out of   2 | elapsed:    3.4s finished\n",
            "/content/ge/models/struc2vec.py:299: RuntimeWarning: invalid value encountered in double_scalars\n",
            "  e_list = [x / sum_w for x in e_list]\n",
            "[Parallel(n_jobs=2)]: Using backend LokyBackend with 2 concurrent workers.\n",
            "[Parallel(n_jobs=2)]: Done   1 tasks      | elapsed:    2.7s\n",
            "[Parallel(n_jobs=2)]: Done   2 out of   2 | elapsed:    3.9s remaining:    0.0s\n",
            "[Parallel(n_jobs=2)]: Done   2 out of   2 | elapsed:    3.9s finished\n"
          ],
          "name": "stderr"
        },
        {
          "output_type": "stream",
          "text": [
            "Learning representation...\n",
            "Learning representation done!\n",
            "---> run_3_bbc_5w1h_graph_hin.nx 64 f1_macro 0.12410526315789475 acc 0.13636363636363635\n"
          ],
          "name": "stdout"
        },
        {
          "output_type": "stream",
          "text": [
            "[Parallel(n_jobs=2)]: Using backend LokyBackend with 2 concurrent workers.\n",
            "[Parallel(n_jobs=2)]: Done   1 tasks      | elapsed:    3.3s\n",
            "[Parallel(n_jobs=2)]: Done   2 out of   2 | elapsed:    3.4s remaining:    0.0s\n",
            "[Parallel(n_jobs=2)]: Done   2 out of   2 | elapsed:    3.4s finished\n",
            "/content/ge/models/struc2vec.py:299: RuntimeWarning: invalid value encountered in double_scalars\n",
            "  e_list = [x / sum_w for x in e_list]\n",
            "[Parallel(n_jobs=2)]: Using backend LokyBackend with 2 concurrent workers.\n",
            "[Parallel(n_jobs=2)]: Done   1 tasks      | elapsed:    2.8s\n",
            "[Parallel(n_jobs=2)]: Done   2 out of   2 | elapsed:    4.0s remaining:    0.0s\n",
            "[Parallel(n_jobs=2)]: Done   2 out of   2 | elapsed:    4.0s finished\n"
          ],
          "name": "stderr"
        },
        {
          "output_type": "stream",
          "text": [
            "Learning representation...\n",
            "Learning representation done!\n",
            "---> run_1_bbc_5w1h_graph_hin.nx 64 f1_macro 0.2226330532212885 acc 0.25\n"
          ],
          "name": "stdout"
        },
        {
          "output_type": "stream",
          "text": [
            "[Parallel(n_jobs=2)]: Using backend LokyBackend with 2 concurrent workers.\n",
            "[Parallel(n_jobs=2)]: Done   1 tasks      | elapsed:    7.0s\n",
            "[Parallel(n_jobs=2)]: Done   2 out of   2 | elapsed:    7.1s remaining:    0.0s\n",
            "[Parallel(n_jobs=2)]: Done   2 out of   2 | elapsed:    7.1s finished\n",
            "/content/ge/models/struc2vec.py:299: RuntimeWarning: invalid value encountered in double_scalars\n",
            "  e_list = [x / sum_w for x in e_list]\n",
            "[Parallel(n_jobs=2)]: Using backend LokyBackend with 2 concurrent workers.\n",
            "[Parallel(n_jobs=2)]: Done   1 tasks      | elapsed:    4.3s\n",
            "[Parallel(n_jobs=2)]: Done   2 out of   2 | elapsed:    6.0s remaining:    0.0s\n",
            "[Parallel(n_jobs=2)]: Done   2 out of   2 | elapsed:    6.0s finished\n"
          ],
          "name": "stderr"
        },
        {
          "output_type": "stream",
          "text": [
            "Learning representation...\n",
            "Learning representation done!\n",
            "---> run_2_gold_standard_5w1h_graph_hin.nx 64 f1_macro 0.1126984126984127 acc 0.10526315789473684\n"
          ],
          "name": "stdout"
        },
        {
          "output_type": "stream",
          "text": [
            "[Parallel(n_jobs=2)]: Using backend LokyBackend with 2 concurrent workers.\n",
            "[Parallel(n_jobs=2)]: Done   1 tasks      | elapsed:    1.4s\n",
            "[Parallel(n_jobs=2)]: Done   2 out of   2 | elapsed:    1.5s remaining:    0.0s\n",
            "[Parallel(n_jobs=2)]: Done   2 out of   2 | elapsed:    1.5s finished\n",
            "/content/ge/models/struc2vec.py:299: RuntimeWarning: invalid value encountered in double_scalars\n",
            "  e_list = [x / sum_w for x in e_list]\n",
            "[Parallel(n_jobs=2)]: Using backend LokyBackend with 2 concurrent workers.\n",
            "[Parallel(n_jobs=2)]: Done   1 tasks      | elapsed:    1.5s\n",
            "[Parallel(n_jobs=2)]: Done   2 out of   2 | elapsed:    2.2s remaining:    0.0s\n",
            "[Parallel(n_jobs=2)]: Done   2 out of   2 | elapsed:    2.2s finished\n"
          ],
          "name": "stderr"
        },
        {
          "output_type": "stream",
          "text": [
            "Learning representation...\n",
            "Learning representation done!\n",
            "---> run_3_google_news_5w1h_graph_hin.nx 64 f1_macro 0.4619047619047619 acc 0.48\n"
          ],
          "name": "stdout"
        },
        {
          "output_type": "stream",
          "text": [
            "[Parallel(n_jobs=2)]: Using backend LokyBackend with 2 concurrent workers.\n",
            "[Parallel(n_jobs=2)]: Done   1 tasks      | elapsed:    3.3s\n",
            "[Parallel(n_jobs=2)]: Done   2 out of   2 | elapsed:    3.4s remaining:    0.0s\n",
            "[Parallel(n_jobs=2)]: Done   2 out of   2 | elapsed:    3.4s finished\n",
            "/content/ge/models/struc2vec.py:299: RuntimeWarning: invalid value encountered in double_scalars\n",
            "  e_list = [x / sum_w for x in e_list]\n",
            "[Parallel(n_jobs=2)]: Using backend LokyBackend with 2 concurrent workers.\n",
            "[Parallel(n_jobs=2)]: Done   1 tasks      | elapsed:    2.7s\n",
            "[Parallel(n_jobs=2)]: Done   2 out of   2 | elapsed:    4.0s remaining:    0.0s\n",
            "[Parallel(n_jobs=2)]: Done   2 out of   2 | elapsed:    4.0s finished\n"
          ],
          "name": "stderr"
        },
        {
          "output_type": "stream",
          "text": [
            "Learning representation...\n",
            "Learning representation done!\n",
            "---> run_9_bbc_5w1h_graph_hin.nx 64 f1_macro 0.10837789661319072 acc 0.11363636363636363\n"
          ],
          "name": "stdout"
        },
        {
          "output_type": "stream",
          "text": [
            "[Parallel(n_jobs=2)]: Using backend LokyBackend with 2 concurrent workers.\n",
            "[Parallel(n_jobs=2)]: Done   1 tasks      | elapsed:    1.9s\n",
            "[Parallel(n_jobs=2)]: Done   2 out of   2 | elapsed:    1.9s remaining:    0.0s\n",
            "[Parallel(n_jobs=2)]: Done   2 out of   2 | elapsed:    1.9s finished\n",
            "/content/ge/models/struc2vec.py:299: RuntimeWarning: invalid value encountered in double_scalars\n",
            "  e_list = [x / sum_w for x in e_list]\n",
            "[Parallel(n_jobs=2)]: Using backend LokyBackend with 2 concurrent workers.\n",
            "[Parallel(n_jobs=2)]: Done   1 tasks      | elapsed:    1.7s\n",
            "[Parallel(n_jobs=2)]: Done   2 out of   2 | elapsed:    2.3s remaining:    0.0s\n",
            "[Parallel(n_jobs=2)]: Done   2 out of   2 | elapsed:    2.3s finished\n"
          ],
          "name": "stderr"
        },
        {
          "output_type": "stream",
          "text": [
            "Learning representation...\n",
            "Learning representation done!\n",
            "---> run_2_40er_5w1h_graph_hin.nx 64 f1_macro 0.35521885521885527 acc 0.5\n"
          ],
          "name": "stdout"
        },
        {
          "output_type": "stream",
          "text": [
            "[Parallel(n_jobs=2)]: Using backend LokyBackend with 2 concurrent workers.\n",
            "[Parallel(n_jobs=2)]: Done   1 tasks      | elapsed:    3.3s\n",
            "[Parallel(n_jobs=2)]: Done   2 out of   2 | elapsed:    3.4s remaining:    0.0s\n",
            "[Parallel(n_jobs=2)]: Done   2 out of   2 | elapsed:    3.4s finished\n",
            "/content/ge/models/struc2vec.py:299: RuntimeWarning: invalid value encountered in double_scalars\n",
            "  e_list = [x / sum_w for x in e_list]\n",
            "[Parallel(n_jobs=2)]: Using backend LokyBackend with 2 concurrent workers.\n",
            "[Parallel(n_jobs=2)]: Done   1 tasks      | elapsed:    2.8s\n",
            "[Parallel(n_jobs=2)]: Done   2 out of   2 | elapsed:    4.0s remaining:    0.0s\n",
            "[Parallel(n_jobs=2)]: Done   2 out of   2 | elapsed:    4.0s finished\n"
          ],
          "name": "stderr"
        },
        {
          "output_type": "stream",
          "text": [
            "Learning representation...\n",
            "Learning representation done!\n",
            "---> run_8_bbc_5w1h_graph_hin.nx 64 f1_macro 0.2778011204481793 acc 0.2727272727272727\n"
          ],
          "name": "stdout"
        },
        {
          "output_type": "stream",
          "text": [
            "[Parallel(n_jobs=2)]: Using backend LokyBackend with 2 concurrent workers.\n",
            "[Parallel(n_jobs=2)]: Done   1 tasks      | elapsed:   59.6s\n",
            "[Parallel(n_jobs=2)]: Done   2 out of   2 | elapsed:  1.0min remaining:    0.0s\n",
            "[Parallel(n_jobs=2)]: Done   2 out of   2 | elapsed:  1.0min finished\n",
            "[Parallel(n_jobs=2)]: Using backend LokyBackend with 2 concurrent workers.\n",
            "[Parallel(n_jobs=2)]: Done   1 tasks      | elapsed:   19.5s\n",
            "[Parallel(n_jobs=2)]: Done   2 out of   2 | elapsed:   27.7s remaining:    0.0s\n",
            "[Parallel(n_jobs=2)]: Done   2 out of   2 | elapsed:   27.7s finished\n"
          ],
          "name": "stderr"
        },
        {
          "output_type": "stream",
          "text": [
            "Learning representation...\n",
            "Learning representation done!\n",
            "---> run_6_news_cluster_5w1h_graph_hin.nx 64 f1_macro 0.06701290270038185 acc 0.08496732026143791\n"
          ],
          "name": "stdout"
        },
        {
          "output_type": "stream",
          "text": [
            "[Parallel(n_jobs=2)]: Using backend LokyBackend with 2 concurrent workers.\n",
            "[Parallel(n_jobs=2)]: Done   1 tasks      | elapsed:    1.9s\n",
            "[Parallel(n_jobs=2)]: Done   2 out of   2 | elapsed:    2.0s remaining:    0.0s\n",
            "[Parallel(n_jobs=2)]: Done   2 out of   2 | elapsed:    2.0s finished\n",
            "/content/ge/models/struc2vec.py:299: RuntimeWarning: invalid value encountered in double_scalars\n",
            "  e_list = [x / sum_w for x in e_list]\n",
            "[Parallel(n_jobs=2)]: Using backend LokyBackend with 2 concurrent workers.\n",
            "[Parallel(n_jobs=2)]: Done   1 tasks      | elapsed:    1.6s\n",
            "[Parallel(n_jobs=2)]: Done   2 out of   2 | elapsed:    2.2s remaining:    0.0s\n",
            "[Parallel(n_jobs=2)]: Done   2 out of   2 | elapsed:    2.2s finished\n"
          ],
          "name": "stderr"
        },
        {
          "output_type": "stream",
          "text": [
            "Learning representation...\n",
            "Learning representation done!\n",
            "---> run_1_40er_5w1h_graph_hin.nx 64 f1_macro 0.3730355665839537 acc 0.5\n"
          ],
          "name": "stdout"
        },
        {
          "output_type": "stream",
          "text": [
            "[Parallel(n_jobs=2)]: Using backend LokyBackend with 2 concurrent workers.\n",
            "[Parallel(n_jobs=2)]: Done   1 tasks      | elapsed:   59.7s\n",
            "[Parallel(n_jobs=2)]: Done   2 out of   2 | elapsed:  1.0min remaining:    0.0s\n",
            "[Parallel(n_jobs=2)]: Done   2 out of   2 | elapsed:  1.0min finished\n",
            "[Parallel(n_jobs=2)]: Using backend LokyBackend with 2 concurrent workers.\n",
            "[Parallel(n_jobs=2)]: Done   1 tasks      | elapsed:   18.6s\n",
            "[Parallel(n_jobs=2)]: Done   2 out of   2 | elapsed:   26.8s remaining:    0.0s\n",
            "[Parallel(n_jobs=2)]: Done   2 out of   2 | elapsed:   26.8s finished\n"
          ],
          "name": "stderr"
        },
        {
          "output_type": "stream",
          "text": [
            "Learning representation...\n",
            "Learning representation done!\n",
            "---> run_7_news_cluster_5w1h_graph_hin.nx 64 f1_macro 0.0526984935317147 acc 0.06862745098039216\n"
          ],
          "name": "stdout"
        },
        {
          "output_type": "stream",
          "text": [
            "[Parallel(n_jobs=2)]: Using backend LokyBackend with 2 concurrent workers.\n",
            "[Parallel(n_jobs=2)]: Done   1 tasks      | elapsed:    1.9s\n",
            "[Parallel(n_jobs=2)]: Done   2 out of   2 | elapsed:    1.9s remaining:    0.0s\n",
            "[Parallel(n_jobs=2)]: Done   2 out of   2 | elapsed:    1.9s finished\n",
            "/content/ge/models/struc2vec.py:299: RuntimeWarning: invalid value encountered in double_scalars\n",
            "  e_list = [x / sum_w for x in e_list]\n",
            "[Parallel(n_jobs=2)]: Using backend LokyBackend with 2 concurrent workers.\n",
            "[Parallel(n_jobs=2)]: Done   1 tasks      | elapsed:    1.7s\n",
            "[Parallel(n_jobs=2)]: Done   2 out of   2 | elapsed:    2.5s remaining:    0.0s\n",
            "[Parallel(n_jobs=2)]: Done   2 out of   2 | elapsed:    2.5s finished\n"
          ],
          "name": "stderr"
        },
        {
          "output_type": "stream",
          "text": [
            "Learning representation...\n",
            "Learning representation done!\n",
            "---> run_3_40er_5w1h_graph_hin.nx 64 f1_macro 0.31111111111111106 acc 0.46875\n",
            "\n"
          ],
          "name": "stdout"
        }
      ]
    },
    {
      "cell_type": "code",
      "metadata": {
        "id": "SkJygOKqO805",
        "colab": {
          "base_uri": "https://localhost:8080/",
          "height": 1000
        },
        "outputId": "c00c5250-5883-4bd8-bdc3-d30788e0b3ad"
      },
      "source": [
        "import pandas as pd\r\n",
        "df_results = pd.DataFrame(experimental_results)\r\n",
        "df_results"
      ],
      "execution_count": null,
      "outputs": [
        {
          "output_type": "execute_result",
          "data": {
            "text/html": [
              "<div>\n",
              "<style scoped>\n",
              "    .dataframe tbody tr th:only-of-type {\n",
              "        vertical-align: middle;\n",
              "    }\n",
              "\n",
              "    .dataframe tbody tr th {\n",
              "        vertical-align: top;\n",
              "    }\n",
              "\n",
              "    .dataframe thead th {\n",
              "        text-align: right;\n",
              "    }\n",
              "</style>\n",
              "<table border=\"1\" class=\"dataframe\">\n",
              "  <thead>\n",
              "    <tr style=\"text-align: right;\">\n",
              "      <th></th>\n",
              "      <th>0</th>\n",
              "      <th>1</th>\n",
              "      <th>2</th>\n",
              "      <th>3</th>\n",
              "      <th>4</th>\n",
              "      <th>5</th>\n",
              "      <th>6</th>\n",
              "      <th>7</th>\n",
              "    </tr>\n",
              "  </thead>\n",
              "  <tbody>\n",
              "    <tr>\n",
              "      <th>0</th>\n",
              "      <td>run_1_google_news_5w1h_graph_hin.nx</td>\n",
              "      <td>64</td>\n",
              "      <td>f1_macro</td>\n",
              "      <td>0.264966</td>\n",
              "      <td>acc</td>\n",
              "      <td>0.360000</td>\n",
              "      <td>[Equifax breach, IPhone-X Green-Line, Star War...</td>\n",
              "      <td>[Equifax breach, IPhone-X Green-Line, Dieselga...</td>\n",
              "    </tr>\n",
              "    <tr>\n",
              "      <th>1</th>\n",
              "      <td>run_6_40er_5w1h_graph_hin.nx</td>\n",
              "      <td>64</td>\n",
              "      <td>f1_macro</td>\n",
              "      <td>0.401003</td>\n",
              "      <td>acc</td>\n",
              "      <td>0.562500</td>\n",
              "      <td>[business, world, world, business, business, t...</td>\n",
              "      <td>[world, world, world, business, world, world, ...</td>\n",
              "    </tr>\n",
              "    <tr>\n",
              "      <th>2</th>\n",
              "      <td>run_4_bbc_5w1h_graph_hin.nx</td>\n",
              "      <td>64</td>\n",
              "      <td>f1_macro</td>\n",
              "      <td>0.228841</td>\n",
              "      <td>acc</td>\n",
              "      <td>0.250000</td>\n",
              "      <td>[business, politics, sport, business, politics...</td>\n",
              "      <td>[politics, politics, politics, politics, polit...</td>\n",
              "    </tr>\n",
              "    <tr>\n",
              "      <th>3</th>\n",
              "      <td>run_8_gold_standard_5w1h_graph_hin.nx</td>\n",
              "      <td>64</td>\n",
              "      <td>f1_macro</td>\n",
              "      <td>0.080960</td>\n",
              "      <td>acc</td>\n",
              "      <td>0.131579</td>\n",
              "      <td>[toberone-gate, clinton blames comey, cubs win...</td>\n",
              "      <td>[cubs win championship, consulate attack, tram...</td>\n",
              "    </tr>\n",
              "    <tr>\n",
              "      <th>4</th>\n",
              "      <td>run_5_bbc_5w1h_graph_hin.nx</td>\n",
              "      <td>64</td>\n",
              "      <td>f1_macro</td>\n",
              "      <td>0.209357</td>\n",
              "      <td>acc</td>\n",
              "      <td>0.227273</td>\n",
              "      <td>[business, politics, sport, business, politics...</td>\n",
              "      <td>[politics, business, politics, politics, tech,...</td>\n",
              "    </tr>\n",
              "    <tr>\n",
              "      <th>5</th>\n",
              "      <td>run_9_google_news_5w1h_graph_hin.nx</td>\n",
              "      <td>64</td>\n",
              "      <td>f1_macro</td>\n",
              "      <td>0.280045</td>\n",
              "      <td>acc</td>\n",
              "      <td>0.360000</td>\n",
              "      <td>[IPhone-X Green-Line, Dieselgate, IPhone-X Gre...</td>\n",
              "      <td>[IPhone-X Green-Line, North Korea Missile, IPh...</td>\n",
              "    </tr>\n",
              "    <tr>\n",
              "      <th>6</th>\n",
              "      <td>run_5_gold_standard_5w1h_graph_hin.nx</td>\n",
              "      <td>64</td>\n",
              "      <td>f1_macro</td>\n",
              "      <td>0.117943</td>\n",
              "      <td>acc</td>\n",
              "      <td>0.144737</td>\n",
              "      <td>[toberone-gate, clinton blames comey, china we...</td>\n",
              "      <td>[clinton blames comey, toberone-gate, nan, tob...</td>\n",
              "    </tr>\n",
              "    <tr>\n",
              "      <th>7</th>\n",
              "      <td>run_2_bbc_5w1h_graph_hin.nx</td>\n",
              "      <td>64</td>\n",
              "      <td>f1_macro</td>\n",
              "      <td>0.143333</td>\n",
              "      <td>acc</td>\n",
              "      <td>0.181818</td>\n",
              "      <td>[business, politics, politics, sport, business...</td>\n",
              "      <td>[entertainment, sport, entertainment, entertai...</td>\n",
              "    </tr>\n",
              "    <tr>\n",
              "      <th>8</th>\n",
              "      <td>run_9_news_cluster_5w1h_graph_hin.nx</td>\n",
              "      <td>64</td>\n",
              "      <td>f1_macro</td>\n",
              "      <td>0.069586</td>\n",
              "      <td>acc</td>\n",
              "      <td>0.084967</td>\n",
              "      <td>[harambe, The_New_Infinity_War_Trailer, elon_m...</td>\n",
              "      <td>[erie_smashes_snowfall_record_with_flakes_stil...</td>\n",
              "    </tr>\n",
              "    <tr>\n",
              "      <th>9</th>\n",
              "      <td>run_7_40er_5w1h_graph_hin.nx</td>\n",
              "      <td>64</td>\n",
              "      <td>f1_macro</td>\n",
              "      <td>0.385376</td>\n",
              "      <td>acc</td>\n",
              "      <td>0.500000</td>\n",
              "      <td>[business, business, world, business, business...</td>\n",
              "      <td>[business, technology, business, business, wor...</td>\n",
              "    </tr>\n",
              "    <tr>\n",
              "      <th>10</th>\n",
              "      <td>run_9_gold_standard_5w1h_graph_hin.nx</td>\n",
              "      <td>64</td>\n",
              "      <td>f1_macro</td>\n",
              "      <td>0.097631</td>\n",
              "      <td>acc</td>\n",
              "      <td>0.105263</td>\n",
              "      <td>[toberone-gate, toberone-gate, china well, cub...</td>\n",
              "      <td>[consulate attack, clinton clear, cubs win cha...</td>\n",
              "    </tr>\n",
              "    <tr>\n",
              "      <th>11</th>\n",
              "      <td>run_8_google_news_5w1h_graph_hin.nx</td>\n",
              "      <td>64</td>\n",
              "      <td>f1_macro</td>\n",
              "      <td>0.320594</td>\n",
              "      <td>acc</td>\n",
              "      <td>0.400000</td>\n",
              "      <td>[IPhone-X Green-Line, Equifax breach, Dieselga...</td>\n",
              "      <td>[IPhone-X Green-Line, IPhone-X Green-Line, Veg...</td>\n",
              "    </tr>\n",
              "    <tr>\n",
              "      <th>12</th>\n",
              "      <td>run_10_bbc_5w1h_graph_hin.nx</td>\n",
              "      <td>64</td>\n",
              "      <td>f1_macro</td>\n",
              "      <td>0.230769</td>\n",
              "      <td>acc</td>\n",
              "      <td>0.272727</td>\n",
              "      <td>[tech, business, politics, politics, sport, bu...</td>\n",
              "      <td>[tech, business, entertainment, business, tech...</td>\n",
              "    </tr>\n",
              "    <tr>\n",
              "      <th>13</th>\n",
              "      <td>run_8_news_cluster_5w1h_graph_hin.nx</td>\n",
              "      <td>64</td>\n",
              "      <td>f1_macro</td>\n",
              "      <td>0.062554</td>\n",
              "      <td>acc</td>\n",
              "      <td>0.062092</td>\n",
              "      <td>[harambe, The_New_Infinity_War_Trailer, pittsb...</td>\n",
              "      <td>[erie_smashes_snowfall_record_with_flakes_stil...</td>\n",
              "    </tr>\n",
              "    <tr>\n",
              "      <th>14</th>\n",
              "      <td>run_2_news_cluster_5w1h_graph_hin.nx</td>\n",
              "      <td>64</td>\n",
              "      <td>f1_macro</td>\n",
              "      <td>0.061368</td>\n",
              "      <td>acc</td>\n",
              "      <td>0.081699</td>\n",
              "      <td>[harambe, The_New_Infinity_War_Trailer, pittsb...</td>\n",
              "      <td>[harambe, how_astros_first_base_coach_rich_dau...</td>\n",
              "    </tr>\n",
              "    <tr>\n",
              "      <th>15</th>\n",
              "      <td>run_8_40er_5w1h_graph_hin.nx</td>\n",
              "      <td>64</td>\n",
              "      <td>f1_macro</td>\n",
              "      <td>0.536951</td>\n",
              "      <td>acc</td>\n",
              "      <td>0.656250</td>\n",
              "      <td>[business, business, world, world, business, t...</td>\n",
              "      <td>[business, world, world, world, world, world, ...</td>\n",
              "    </tr>\n",
              "    <tr>\n",
              "      <th>16</th>\n",
              "      <td>run_6_bbc_5w1h_graph_hin.nx</td>\n",
              "      <td>64</td>\n",
              "      <td>f1_macro</td>\n",
              "      <td>0.229750</td>\n",
              "      <td>acc</td>\n",
              "      <td>0.250000</td>\n",
              "      <td>[tech, business, politics, sport, business, po...</td>\n",
              "      <td>[tech, business, tech, entertainment, politics...</td>\n",
              "    </tr>\n",
              "    <tr>\n",
              "      <th>17</th>\n",
              "      <td>run_4_google_news_5w1h_graph_hin.nx</td>\n",
              "      <td>64</td>\n",
              "      <td>f1_macro</td>\n",
              "      <td>0.061821</td>\n",
              "      <td>acc</td>\n",
              "      <td>0.120000</td>\n",
              "      <td>[IPhone-X Green-Line, Equifax breach, Dieselga...</td>\n",
              "      <td>[Equifax breach, Dieselgate, IPhone-X Green-Li...</td>\n",
              "    </tr>\n",
              "    <tr>\n",
              "      <th>18</th>\n",
              "      <td>run_2_google_news_5w1h_graph_hin.nx</td>\n",
              "      <td>64</td>\n",
              "      <td>f1_macro</td>\n",
              "      <td>0.197619</td>\n",
              "      <td>acc</td>\n",
              "      <td>0.200000</td>\n",
              "      <td>[Equifax breach, Dieselgate, IPhone-X Green-Li...</td>\n",
              "      <td>[Dieselgate, Equifax breach, Zimbabwe, Dieselg...</td>\n",
              "    </tr>\n",
              "    <tr>\n",
              "      <th>19</th>\n",
              "      <td>run_7_gold_standard_5w1h_graph_hin.nx</td>\n",
              "      <td>64</td>\n",
              "      <td>f1_macro</td>\n",
              "      <td>0.064282</td>\n",
              "      <td>acc</td>\n",
              "      <td>0.118421</td>\n",
              "      <td>[toberone-gate, toberone-gate, clinton blames ...</td>\n",
              "      <td>[f1, clinton blames comey, tram, toberone-gate...</td>\n",
              "    </tr>\n",
              "    <tr>\n",
              "      <th>20</th>\n",
              "      <td>run_4_gold_standard_5w1h_graph_hin.nx</td>\n",
              "      <td>64</td>\n",
              "      <td>f1_macro</td>\n",
              "      <td>0.044229</td>\n",
              "      <td>acc</td>\n",
              "      <td>0.065789</td>\n",
              "      <td>[toberone-gate, clinton blames comey, china we...</td>\n",
              "      <td>[consulate attack, trump and obama, trump and ...</td>\n",
              "    </tr>\n",
              "    <tr>\n",
              "      <th>21</th>\n",
              "      <td>run_5_40er_5w1h_graph_hin.nx</td>\n",
              "      <td>64</td>\n",
              "      <td>f1_macro</td>\n",
              "      <td>0.408225</td>\n",
              "      <td>acc</td>\n",
              "      <td>0.468750</td>\n",
              "      <td>[business, business, world, business, business...</td>\n",
              "      <td>[business, business, business, business, busin...</td>\n",
              "    </tr>\n",
              "    <tr>\n",
              "      <th>22</th>\n",
              "      <td>run_3_gold_standard_5w1h_graph_hin.nx</td>\n",
              "      <td>64</td>\n",
              "      <td>f1_macro</td>\n",
              "      <td>0.113577</td>\n",
              "      <td>acc</td>\n",
              "      <td>0.157895</td>\n",
              "      <td>[toberone-gate, clinton blames comey, cubs win...</td>\n",
              "      <td>[clinton blames comey, toberone-gate, toberone...</td>\n",
              "    </tr>\n",
              "    <tr>\n",
              "      <th>23</th>\n",
              "      <td>run_4_40er_5w1h_graph_hin.nx</td>\n",
              "      <td>64</td>\n",
              "      <td>f1_macro</td>\n",
              "      <td>0.482424</td>\n",
              "      <td>acc</td>\n",
              "      <td>0.656250</td>\n",
              "      <td>[world, world, business, business, world, tech...</td>\n",
              "      <td>[world, world, business, business, world, worl...</td>\n",
              "    </tr>\n",
              "    <tr>\n",
              "      <th>24</th>\n",
              "      <td>run_5_google_news_5w1h_graph_hin.nx</td>\n",
              "      <td>64</td>\n",
              "      <td>f1_macro</td>\n",
              "      <td>0.365079</td>\n",
              "      <td>acc</td>\n",
              "      <td>0.400000</td>\n",
              "      <td>[IPhone-X Green-Line, Dieselgate, IPhone-X Gre...</td>\n",
              "      <td>[IPhone-X Green-Line, Zimbabwe, IPhone-X Green...</td>\n",
              "    </tr>\n",
              "    <tr>\n",
              "      <th>25</th>\n",
              "      <td>run_10_news_cluster_5w1h_graph_hin.nx</td>\n",
              "      <td>64</td>\n",
              "      <td>f1_macro</td>\n",
              "      <td>0.081588</td>\n",
              "      <td>acc</td>\n",
              "      <td>0.104575</td>\n",
              "      <td>[The_New_Infinity_War_Trailer, pittsburgh_stee...</td>\n",
              "      <td>[elon_musk_reveals_red_tesla_roadster_bound_fo...</td>\n",
              "    </tr>\n",
              "    <tr>\n",
              "      <th>26</th>\n",
              "      <td>run_10_40er_5w1h_graph_hin.nx</td>\n",
              "      <td>64</td>\n",
              "      <td>f1_macro</td>\n",
              "      <td>0.348148</td>\n",
              "      <td>acc</td>\n",
              "      <td>0.468750</td>\n",
              "      <td>[business, business, world, world, business, w...</td>\n",
              "      <td>[business, technology, business, business, bus...</td>\n",
              "    </tr>\n",
              "    <tr>\n",
              "      <th>27</th>\n",
              "      <td>run_9_40er_5w1h_graph_hin.nx</td>\n",
              "      <td>64</td>\n",
              "      <td>f1_macro</td>\n",
              "      <td>0.386329</td>\n",
              "      <td>acc</td>\n",
              "      <td>0.531250</td>\n",
              "      <td>[business, world, business, business, world, t...</td>\n",
              "      <td>[business, business, business, world, world, w...</td>\n",
              "    </tr>\n",
              "    <tr>\n",
              "      <th>28</th>\n",
              "      <td>run_10_google_news_5w1h_graph_hin.nx</td>\n",
              "      <td>64</td>\n",
              "      <td>f1_macro</td>\n",
              "      <td>0.417460</td>\n",
              "      <td>acc</td>\n",
              "      <td>0.400000</td>\n",
              "      <td>[Dieselgate, IPhone-X Green-Line, Zimbabwe, St...</td>\n",
              "      <td>[Zimbabwe, IPhone-X Green-Line, Vegas Shooting...</td>\n",
              "    </tr>\n",
              "    <tr>\n",
              "      <th>29</th>\n",
              "      <td>run_6_google_news_5w1h_graph_hin.nx</td>\n",
              "      <td>64</td>\n",
              "      <td>f1_macro</td>\n",
              "      <td>0.380087</td>\n",
              "      <td>acc</td>\n",
              "      <td>0.440000</td>\n",
              "      <td>[IPhone-X Green-Line, Dieselgate, IPhone-X Gre...</td>\n",
              "      <td>[IPhone-X Green-Line, Zimbabwe, IPhone-X Green...</td>\n",
              "    </tr>\n",
              "    <tr>\n",
              "      <th>30</th>\n",
              "      <td>run_1_news_cluster_5w1h_graph_hin.nx</td>\n",
              "      <td>64</td>\n",
              "      <td>f1_macro</td>\n",
              "      <td>0.067700</td>\n",
              "      <td>acc</td>\n",
              "      <td>0.084967</td>\n",
              "      <td>[harambe, The_New_Infinity_War_Trailer, pittsb...</td>\n",
              "      <td>[erie_smashes_snowfall_record_with_flakes_stil...</td>\n",
              "    </tr>\n",
              "    <tr>\n",
              "      <th>31</th>\n",
              "      <td>run_3_news_cluster_5w1h_graph_hin.nx</td>\n",
              "      <td>64</td>\n",
              "      <td>f1_macro</td>\n",
              "      <td>0.060270</td>\n",
              "      <td>acc</td>\n",
              "      <td>0.078431</td>\n",
              "      <td>[harambe, The_New_Infinity_War_Trailer, elon_m...</td>\n",
              "      <td>[harambe, israel_approves_transfer_of_11_milli...</td>\n",
              "    </tr>\n",
              "    <tr>\n",
              "      <th>32</th>\n",
              "      <td>run_5_news_cluster_5w1h_graph_hin.nx</td>\n",
              "      <td>64</td>\n",
              "      <td>f1_macro</td>\n",
              "      <td>0.080013</td>\n",
              "      <td>acc</td>\n",
              "      <td>0.084967</td>\n",
              "      <td>[The_New_Infinity_War_Trailer, pittsburgh_stee...</td>\n",
              "      <td>[north_korea_received_oil_from_russia_in_viola...</td>\n",
              "    </tr>\n",
              "    <tr>\n",
              "      <th>33</th>\n",
              "      <td>run_4_news_cluster_5w1h_graph_hin.nx</td>\n",
              "      <td>64</td>\n",
              "      <td>f1_macro</td>\n",
              "      <td>0.058210</td>\n",
              "      <td>acc</td>\n",
              "      <td>0.065359</td>\n",
              "      <td>[harambe, The_New_Infinity_War_Trailer, pittsb...</td>\n",
              "      <td>[hack_equifax_breach, israel_indicts_palestini...</td>\n",
              "    </tr>\n",
              "    <tr>\n",
              "      <th>34</th>\n",
              "      <td>run_7_bbc_5w1h_graph_hin.nx</td>\n",
              "      <td>64</td>\n",
              "      <td>f1_macro</td>\n",
              "      <td>0.222812</td>\n",
              "      <td>acc</td>\n",
              "      <td>0.227273</td>\n",
              "      <td>[politics, politics, business, politics, tech,...</td>\n",
              "      <td>[entertainment, business, politics, business, ...</td>\n",
              "    </tr>\n",
              "    <tr>\n",
              "      <th>35</th>\n",
              "      <td>run_1_gold_standard_5w1h_graph_hin.nx</td>\n",
              "      <td>64</td>\n",
              "      <td>f1_macro</td>\n",
              "      <td>0.096892</td>\n",
              "      <td>acc</td>\n",
              "      <td>0.118421</td>\n",
              "      <td>[toberone-gate, clinton blames comey, china we...</td>\n",
              "      <td>[toberone-gate, toberone-gate, f1, toberone-ga...</td>\n",
              "    </tr>\n",
              "    <tr>\n",
              "      <th>36</th>\n",
              "      <td>run_7_google_news_5w1h_graph_hin.nx</td>\n",
              "      <td>64</td>\n",
              "      <td>f1_macro</td>\n",
              "      <td>0.361224</td>\n",
              "      <td>acc</td>\n",
              "      <td>0.360000</td>\n",
              "      <td>[IPhone-X Green-Line, Equifax breach, Dieselga...</td>\n",
              "      <td>[IPhone-X Green-Line, Dieselgate, Equifax brea...</td>\n",
              "    </tr>\n",
              "    <tr>\n",
              "      <th>37</th>\n",
              "      <td>run_10_gold_standard_5w1h_graph_hin.nx</td>\n",
              "      <td>64</td>\n",
              "      <td>f1_macro</td>\n",
              "      <td>0.099645</td>\n",
              "      <td>acc</td>\n",
              "      <td>0.118421</td>\n",
              "      <td>[toberone-gate, clinton blames comey, china we...</td>\n",
              "      <td>[consulate attack, tram, f1, toberone-gate, co...</td>\n",
              "    </tr>\n",
              "    <tr>\n",
              "      <th>38</th>\n",
              "      <td>run_6_gold_standard_5w1h_graph_hin.nx</td>\n",
              "      <td>64</td>\n",
              "      <td>f1_macro</td>\n",
              "      <td>0.069174</td>\n",
              "      <td>acc</td>\n",
              "      <td>0.078947</td>\n",
              "      <td>[toberone-gate, china well, cubs win champions...</td>\n",
              "      <td>[cubs win championship, toberone-gate, toberon...</td>\n",
              "    </tr>\n",
              "    <tr>\n",
              "      <th>39</th>\n",
              "      <td>run_3_bbc_5w1h_graph_hin.nx</td>\n",
              "      <td>64</td>\n",
              "      <td>f1_macro</td>\n",
              "      <td>0.124105</td>\n",
              "      <td>acc</td>\n",
              "      <td>0.136364</td>\n",
              "      <td>[business, politics, politics, sport, business...</td>\n",
              "      <td>[politics, business, entertainment, entertainm...</td>\n",
              "    </tr>\n",
              "    <tr>\n",
              "      <th>40</th>\n",
              "      <td>run_1_bbc_5w1h_graph_hin.nx</td>\n",
              "      <td>64</td>\n",
              "      <td>f1_macro</td>\n",
              "      <td>0.222633</td>\n",
              "      <td>acc</td>\n",
              "      <td>0.250000</td>\n",
              "      <td>[tech, business, politics, politics, sport, bu...</td>\n",
              "      <td>[business, entertainment, politics, tech, tech...</td>\n",
              "    </tr>\n",
              "    <tr>\n",
              "      <th>41</th>\n",
              "      <td>run_2_gold_standard_5w1h_graph_hin.nx</td>\n",
              "      <td>64</td>\n",
              "      <td>f1_macro</td>\n",
              "      <td>0.112698</td>\n",
              "      <td>acc</td>\n",
              "      <td>0.105263</td>\n",
              "      <td>[toberone-gate, toberone-gate, china well, cub...</td>\n",
              "      <td>[toberone-gate, toberone-gate, tram, tram, tob...</td>\n",
              "    </tr>\n",
              "    <tr>\n",
              "      <th>42</th>\n",
              "      <td>run_3_google_news_5w1h_graph_hin.nx</td>\n",
              "      <td>64</td>\n",
              "      <td>f1_macro</td>\n",
              "      <td>0.461905</td>\n",
              "      <td>acc</td>\n",
              "      <td>0.480000</td>\n",
              "      <td>[IPhone-X Green-Line, Dieselgate, IPhone-X Gre...</td>\n",
              "      <td>[IPhone-X Green-Line, Zimbabwe, IPhone-X Green...</td>\n",
              "    </tr>\n",
              "    <tr>\n",
              "      <th>43</th>\n",
              "      <td>run_9_bbc_5w1h_graph_hin.nx</td>\n",
              "      <td>64</td>\n",
              "      <td>f1_macro</td>\n",
              "      <td>0.108378</td>\n",
              "      <td>acc</td>\n",
              "      <td>0.113636</td>\n",
              "      <td>[business, politics, politics, sport, business...</td>\n",
              "      <td>[tech, entertainment, sport, entertainment, sp...</td>\n",
              "    </tr>\n",
              "    <tr>\n",
              "      <th>44</th>\n",
              "      <td>run_2_40er_5w1h_graph_hin.nx</td>\n",
              "      <td>64</td>\n",
              "      <td>f1_macro</td>\n",
              "      <td>0.355219</td>\n",
              "      <td>acc</td>\n",
              "      <td>0.500000</td>\n",
              "      <td>[business, world, world, business, business, t...</td>\n",
              "      <td>[world, world, world, business, world, world, ...</td>\n",
              "    </tr>\n",
              "    <tr>\n",
              "      <th>45</th>\n",
              "      <td>run_8_bbc_5w1h_graph_hin.nx</td>\n",
              "      <td>64</td>\n",
              "      <td>f1_macro</td>\n",
              "      <td>0.277801</td>\n",
              "      <td>acc</td>\n",
              "      <td>0.272727</td>\n",
              "      <td>[tech, business, politics, politics, sport, bu...</td>\n",
              "      <td>[entertainment, politics, entertainment, enter...</td>\n",
              "    </tr>\n",
              "    <tr>\n",
              "      <th>46</th>\n",
              "      <td>run_6_news_cluster_5w1h_graph_hin.nx</td>\n",
              "      <td>64</td>\n",
              "      <td>f1_macro</td>\n",
              "      <td>0.067013</td>\n",
              "      <td>acc</td>\n",
              "      <td>0.084967</td>\n",
              "      <td>[harambe, The_New_Infinity_War_Trailer, pittsb...</td>\n",
              "      <td>[erie_smashes_snowfall_record_with_flakes_stil...</td>\n",
              "    </tr>\n",
              "    <tr>\n",
              "      <th>47</th>\n",
              "      <td>run_1_40er_5w1h_graph_hin.nx</td>\n",
              "      <td>64</td>\n",
              "      <td>f1_macro</td>\n",
              "      <td>0.373036</td>\n",
              "      <td>acc</td>\n",
              "      <td>0.500000</td>\n",
              "      <td>[business, business, world, business, business...</td>\n",
              "      <td>[world, business, business, business, business...</td>\n",
              "    </tr>\n",
              "    <tr>\n",
              "      <th>48</th>\n",
              "      <td>run_7_news_cluster_5w1h_graph_hin.nx</td>\n",
              "      <td>64</td>\n",
              "      <td>f1_macro</td>\n",
              "      <td>0.052698</td>\n",
              "      <td>acc</td>\n",
              "      <td>0.068627</td>\n",
              "      <td>[harambe, The_New_Infinity_War_Trailer, pittsb...</td>\n",
              "      <td>[truck_attack_in_nice, israel_approves_transfe...</td>\n",
              "    </tr>\n",
              "    <tr>\n",
              "      <th>49</th>\n",
              "      <td>run_3_40er_5w1h_graph_hin.nx</td>\n",
              "      <td>64</td>\n",
              "      <td>f1_macro</td>\n",
              "      <td>0.311111</td>\n",
              "      <td>acc</td>\n",
              "      <td>0.468750</td>\n",
              "      <td>[business, world, world, business, technology,...</td>\n",
              "      <td>[world, world, world, world, world, business, ...</td>\n",
              "    </tr>\n",
              "  </tbody>\n",
              "</table>\n",
              "</div>"
            ],
            "text/plain": [
              "                                         0  ...                                                  7\n",
              "0      run_1_google_news_5w1h_graph_hin.nx  ...  [Equifax breach, IPhone-X Green-Line, Dieselga...\n",
              "1             run_6_40er_5w1h_graph_hin.nx  ...  [world, world, world, business, world, world, ...\n",
              "2              run_4_bbc_5w1h_graph_hin.nx  ...  [politics, politics, politics, politics, polit...\n",
              "3    run_8_gold_standard_5w1h_graph_hin.nx  ...  [cubs win championship, consulate attack, tram...\n",
              "4              run_5_bbc_5w1h_graph_hin.nx  ...  [politics, business, politics, politics, tech,...\n",
              "5      run_9_google_news_5w1h_graph_hin.nx  ...  [IPhone-X Green-Line, North Korea Missile, IPh...\n",
              "6    run_5_gold_standard_5w1h_graph_hin.nx  ...  [clinton blames comey, toberone-gate, nan, tob...\n",
              "7              run_2_bbc_5w1h_graph_hin.nx  ...  [entertainment, sport, entertainment, entertai...\n",
              "8     run_9_news_cluster_5w1h_graph_hin.nx  ...  [erie_smashes_snowfall_record_with_flakes_stil...\n",
              "9             run_7_40er_5w1h_graph_hin.nx  ...  [business, technology, business, business, wor...\n",
              "10   run_9_gold_standard_5w1h_graph_hin.nx  ...  [consulate attack, clinton clear, cubs win cha...\n",
              "11     run_8_google_news_5w1h_graph_hin.nx  ...  [IPhone-X Green-Line, IPhone-X Green-Line, Veg...\n",
              "12            run_10_bbc_5w1h_graph_hin.nx  ...  [tech, business, entertainment, business, tech...\n",
              "13    run_8_news_cluster_5w1h_graph_hin.nx  ...  [erie_smashes_snowfall_record_with_flakes_stil...\n",
              "14    run_2_news_cluster_5w1h_graph_hin.nx  ...  [harambe, how_astros_first_base_coach_rich_dau...\n",
              "15            run_8_40er_5w1h_graph_hin.nx  ...  [business, world, world, world, world, world, ...\n",
              "16             run_6_bbc_5w1h_graph_hin.nx  ...  [tech, business, tech, entertainment, politics...\n",
              "17     run_4_google_news_5w1h_graph_hin.nx  ...  [Equifax breach, Dieselgate, IPhone-X Green-Li...\n",
              "18     run_2_google_news_5w1h_graph_hin.nx  ...  [Dieselgate, Equifax breach, Zimbabwe, Dieselg...\n",
              "19   run_7_gold_standard_5w1h_graph_hin.nx  ...  [f1, clinton blames comey, tram, toberone-gate...\n",
              "20   run_4_gold_standard_5w1h_graph_hin.nx  ...  [consulate attack, trump and obama, trump and ...\n",
              "21            run_5_40er_5w1h_graph_hin.nx  ...  [business, business, business, business, busin...\n",
              "22   run_3_gold_standard_5w1h_graph_hin.nx  ...  [clinton blames comey, toberone-gate, toberone...\n",
              "23            run_4_40er_5w1h_graph_hin.nx  ...  [world, world, business, business, world, worl...\n",
              "24     run_5_google_news_5w1h_graph_hin.nx  ...  [IPhone-X Green-Line, Zimbabwe, IPhone-X Green...\n",
              "25   run_10_news_cluster_5w1h_graph_hin.nx  ...  [elon_musk_reveals_red_tesla_roadster_bound_fo...\n",
              "26           run_10_40er_5w1h_graph_hin.nx  ...  [business, technology, business, business, bus...\n",
              "27            run_9_40er_5w1h_graph_hin.nx  ...  [business, business, business, world, world, w...\n",
              "28    run_10_google_news_5w1h_graph_hin.nx  ...  [Zimbabwe, IPhone-X Green-Line, Vegas Shooting...\n",
              "29     run_6_google_news_5w1h_graph_hin.nx  ...  [IPhone-X Green-Line, Zimbabwe, IPhone-X Green...\n",
              "30    run_1_news_cluster_5w1h_graph_hin.nx  ...  [erie_smashes_snowfall_record_with_flakes_stil...\n",
              "31    run_3_news_cluster_5w1h_graph_hin.nx  ...  [harambe, israel_approves_transfer_of_11_milli...\n",
              "32    run_5_news_cluster_5w1h_graph_hin.nx  ...  [north_korea_received_oil_from_russia_in_viola...\n",
              "33    run_4_news_cluster_5w1h_graph_hin.nx  ...  [hack_equifax_breach, israel_indicts_palestini...\n",
              "34             run_7_bbc_5w1h_graph_hin.nx  ...  [entertainment, business, politics, business, ...\n",
              "35   run_1_gold_standard_5w1h_graph_hin.nx  ...  [toberone-gate, toberone-gate, f1, toberone-ga...\n",
              "36     run_7_google_news_5w1h_graph_hin.nx  ...  [IPhone-X Green-Line, Dieselgate, Equifax brea...\n",
              "37  run_10_gold_standard_5w1h_graph_hin.nx  ...  [consulate attack, tram, f1, toberone-gate, co...\n",
              "38   run_6_gold_standard_5w1h_graph_hin.nx  ...  [cubs win championship, toberone-gate, toberon...\n",
              "39             run_3_bbc_5w1h_graph_hin.nx  ...  [politics, business, entertainment, entertainm...\n",
              "40             run_1_bbc_5w1h_graph_hin.nx  ...  [business, entertainment, politics, tech, tech...\n",
              "41   run_2_gold_standard_5w1h_graph_hin.nx  ...  [toberone-gate, toberone-gate, tram, tram, tob...\n",
              "42     run_3_google_news_5w1h_graph_hin.nx  ...  [IPhone-X Green-Line, Zimbabwe, IPhone-X Green...\n",
              "43             run_9_bbc_5w1h_graph_hin.nx  ...  [tech, entertainment, sport, entertainment, sp...\n",
              "44            run_2_40er_5w1h_graph_hin.nx  ...  [world, world, world, business, world, world, ...\n",
              "45             run_8_bbc_5w1h_graph_hin.nx  ...  [entertainment, politics, entertainment, enter...\n",
              "46    run_6_news_cluster_5w1h_graph_hin.nx  ...  [erie_smashes_snowfall_record_with_flakes_stil...\n",
              "47            run_1_40er_5w1h_graph_hin.nx  ...  [world, business, business, business, business...\n",
              "48    run_7_news_cluster_5w1h_graph_hin.nx  ...  [truck_attack_in_nice, israel_approves_transfe...\n",
              "49            run_3_40er_5w1h_graph_hin.nx  ...  [world, world, world, world, world, business, ...\n",
              "\n",
              "[50 rows x 8 columns]"
            ]
          },
          "metadata": {
            "tags": []
          },
          "execution_count": 20
        }
      ]
    },
    {
      "cell_type": "code",
      "metadata": {
        "id": "a6C6GpfPUgSQ"
      },
      "source": [
        "df_results.to_excel('struct2vec_results_r1.xls')"
      ],
      "execution_count": null,
      "outputs": []
    },
    {
      "cell_type": "code",
      "metadata": {
        "id": "jZC-CdhAmvQK"
      },
      "source": [
        ""
      ],
      "execution_count": null,
      "outputs": []
    }
  ]
}